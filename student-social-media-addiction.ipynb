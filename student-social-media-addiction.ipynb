{
 "cells": [
  {
   "cell_type": "markdown",
   "id": "31f17fe2",
   "metadata": {},
   "source": [
    "# Investigating the Correlation Between Daily Social Media Usage and Sleep Time in Graduate, Undergraduate, and Highschool Students"
   ]
  },
  {
   "cell_type": "markdown",
   "id": "d72ed29f",
   "metadata": {},
   "source": [
    "## Introduction"
   ]
  },
  {
   "cell_type": "markdown",
   "id": "729918fc",
   "metadata": {},
   "source": [
    "In recent years, the ever-increasing use of social media has raised growing concerns regarding mental health, sleep patterns and its addictive nature. Students, in particular, make up the largest demographic on many social media platforms and thus also suffer the most from their harmful side effects. During the formative years of high school students, mental health, restful sleep and self regulation are especially important, as they often have lasting impacts into adulthood. \n",
    "\n",
    "This project investigates the relationship between the time spent on social media on a daily basis and sleep duration among high school, undergraduate and graduate students. By means of analyzing survey data, the project aims to determine if high social media usage is associated with reduced sleep time and how this relationship manifests itself differently across academic levels. The purpose of this study is to inform students, teachers and professors, as well as policy makers about the possible harmful effects of excessive social media usage on student's well-being and academic success."
   ]
  },
  {
   "cell_type": "markdown",
   "id": "865c060f-ecb3-428b-a0d8-2784ded65a7a",
   "metadata": {},
   "source": [
    "## Dataset"
   ]
  },
  {
   "cell_type": "markdown",
   "id": "32c13bc0-ec6f-44ee-bd56-08d5fdbd651a",
   "metadata": {},
   "source": [
    "“Social Media Addiction & Relationships”\n",
    "Creator: Adil Shamim\n",
    "© Adil Shamim, licensed under [Creative Commons Attribution 4.0 International License (CC BY 4.0)](https://creativecommons.org/licenses/by/4.0/)\n",
    "Dataset link: https://www.kaggle.com/datasets/adilshamim8/social-media-addiction-vs-relationships/data"
   ]
  },
  {
   "cell_type": "markdown",
   "id": "337a43ed",
   "metadata": {},
   "source": [
    "## Code"
   ]
  },
  {
   "cell_type": "markdown",
   "id": "becfe146",
   "metadata": {},
   "source": [
    "### Importing Packages"
   ]
  },
  {
   "cell_type": "markdown",
   "id": "3eba7b4b",
   "metadata": {},
   "source": [
    "All required libraries for data analysis, preprocessing, modeling, and visualization are imported. Includes tools for:\n",
    "- Data manipulation (`pandas`, `numpy`)\n",
    "- Statistical analysis (`scipy.stats`)\n",
    "- Machine learning models and metrics (`sklearn`, `RandomForestRegressor`, `LinearRegression`)\n",
    "- Deep learning (`TensorFlow Keras`)\n",
    "- Data preprocessing (`LabelEncoder`, `StandardScaler`)\n",
    "- Country name conversion (`country_converter`)\n",
    "- Plotting and visualization (`plotly`, `seaborn`, `matplotlib`)"
   ]
  },
  {
   "cell_type": "code",
   "execution_count": 4,
   "id": "8b499f34",
   "metadata": {
    "execution": {
     "iopub.execute_input": "2025-05-31T21:07:11.984897Z",
     "iopub.status.busy": "2025-05-31T21:07:11.984566Z",
     "iopub.status.idle": "2025-05-31T21:07:36.111219Z",
     "shell.execute_reply": "2025-05-31T21:07:36.110253Z",
     "shell.execute_reply.started": "2025-05-31T21:07:11.984866Z"
    },
    "trusted": true
   },
   "outputs": [],
   "source": [
    "import pandas as pd\n",
    "import numpy as np\n",
    "from scipy import stats\n",
    "from sklearn.metrics import r2_score, mean_squared_error, mean_absolute_percentage_error\n",
    "from sklearn.linear_model import LinearRegression\n",
    "from sklearn.ensemble import RandomForestRegressor\n",
    "from sklearn.model_selection import GridSearchCV\n",
    "from sklearn.model_selection import cross_val_score\n",
    "from tensorflow.keras.models import Sequential\n",
    "from tensorflow.keras.layers import Dense, Dropout, Input\n",
    "from tensorflow.keras.optimizers import Adam\n",
    "from tensorflow.keras.callbacks import EarlyStopping\n",
    "from tensorflow.keras.metrics import R2Score\n",
    "from sklearn.preprocessing import LabelEncoder\n",
    "import plotly.graph_objects as go\n",
    "from sklearn.preprocessing import StandardScaler\n",
    "import plotly.express as px\n",
    "import seaborn as sns\n",
    "import matplotlib.pyplot as plt\n",
    "from sklearn import tree"
   ]
  },
  {
   "cell_type": "markdown",
   "id": "77510b3b",
   "metadata": {},
   "source": [
    "### Loading data into pandas"
   ]
  },
  {
   "cell_type": "markdown",
   "id": "cba62036",
   "metadata": {},
   "source": [
    "The data is loaded into pandas, and the first five rows are displayed. An extensive amount of variables is included, ranging from Age, Gender, and Academic Level to Relationship Status."
   ]
  },
  {
   "cell_type": "code",
   "execution_count": 5,
   "id": "40943063",
   "metadata": {
    "execution": {
     "iopub.execute_input": "2025-05-31T21:07:36.113088Z",
     "iopub.status.busy": "2025-05-31T21:07:36.112120Z",
     "iopub.status.idle": "2025-05-31T21:07:36.161973Z",
     "shell.execute_reply": "2025-05-31T21:07:36.161044Z",
     "shell.execute_reply.started": "2025-05-31T21:07:36.113053Z"
    },
    "trusted": true
   },
   "outputs": [
    {
     "data": {
      "application/vnd.microsoft.datawrangler.viewer.v0+json": {
       "columns": [
        {
         "name": "index",
         "rawType": "int64",
         "type": "integer"
        },
        {
         "name": "Student_ID",
         "rawType": "int64",
         "type": "integer"
        },
        {
         "name": "Age",
         "rawType": "int64",
         "type": "integer"
        },
        {
         "name": "Gender",
         "rawType": "object",
         "type": "string"
        },
        {
         "name": "Academic_Level",
         "rawType": "object",
         "type": "string"
        },
        {
         "name": "Country",
         "rawType": "object",
         "type": "string"
        },
        {
         "name": "Avg_Daily_Usage_Hours",
         "rawType": "float64",
         "type": "float"
        },
        {
         "name": "Most_Used_Platform",
         "rawType": "object",
         "type": "string"
        },
        {
         "name": "Affects_Academic_Performance",
         "rawType": "object",
         "type": "string"
        },
        {
         "name": "Sleep_Hours_Per_Night",
         "rawType": "float64",
         "type": "float"
        },
        {
         "name": "Mental_Health_Score",
         "rawType": "int64",
         "type": "integer"
        },
        {
         "name": "Relationship_Status",
         "rawType": "object",
         "type": "string"
        },
        {
         "name": "Conflicts_Over_Social_Media",
         "rawType": "int64",
         "type": "integer"
        },
        {
         "name": "Addicted_Score",
         "rawType": "int64",
         "type": "integer"
        }
       ],
       "ref": "7d7b15a7-55e5-4b6c-a60c-df6938dc2889",
       "rows": [
        [
         "0",
         "1",
         "19",
         "Female",
         "Undergraduate",
         "Bangladesh",
         "5.2",
         "Instagram",
         "Yes",
         "6.5",
         "6",
         "In Relationship",
         "3",
         "8"
        ],
        [
         "1",
         "2",
         "22",
         "Male",
         "Graduate",
         "India",
         "2.1",
         "Twitter",
         "No",
         "7.5",
         "8",
         "Single",
         "0",
         "3"
        ],
        [
         "2",
         "3",
         "20",
         "Female",
         "Undergraduate",
         "USA",
         "6.0",
         "TikTok",
         "Yes",
         "5.0",
         "5",
         "Complicated",
         "4",
         "9"
        ],
        [
         "3",
         "4",
         "18",
         "Male",
         "High School",
         "UK",
         "3.0",
         "YouTube",
         "No",
         "7.0",
         "7",
         "Single",
         "1",
         "4"
        ],
        [
         "4",
         "5",
         "21",
         "Male",
         "Graduate",
         "Canada",
         "4.5",
         "Facebook",
         "Yes",
         "6.0",
         "6",
         "In Relationship",
         "2",
         "7"
        ]
       ],
       "shape": {
        "columns": 13,
        "rows": 5
       }
      },
      "text/html": [
       "<div>\n",
       "<style scoped>\n",
       "    .dataframe tbody tr th:only-of-type {\n",
       "        vertical-align: middle;\n",
       "    }\n",
       "\n",
       "    .dataframe tbody tr th {\n",
       "        vertical-align: top;\n",
       "    }\n",
       "\n",
       "    .dataframe thead th {\n",
       "        text-align: right;\n",
       "    }\n",
       "</style>\n",
       "<table border=\"1\" class=\"dataframe\">\n",
       "  <thead>\n",
       "    <tr style=\"text-align: right;\">\n",
       "      <th></th>\n",
       "      <th>Student_ID</th>\n",
       "      <th>Age</th>\n",
       "      <th>Gender</th>\n",
       "      <th>Academic_Level</th>\n",
       "      <th>Country</th>\n",
       "      <th>Avg_Daily_Usage_Hours</th>\n",
       "      <th>Most_Used_Platform</th>\n",
       "      <th>Affects_Academic_Performance</th>\n",
       "      <th>Sleep_Hours_Per_Night</th>\n",
       "      <th>Mental_Health_Score</th>\n",
       "      <th>Relationship_Status</th>\n",
       "      <th>Conflicts_Over_Social_Media</th>\n",
       "      <th>Addicted_Score</th>\n",
       "    </tr>\n",
       "  </thead>\n",
       "  <tbody>\n",
       "    <tr>\n",
       "      <th>0</th>\n",
       "      <td>1</td>\n",
       "      <td>19</td>\n",
       "      <td>Female</td>\n",
       "      <td>Undergraduate</td>\n",
       "      <td>Bangladesh</td>\n",
       "      <td>5.2</td>\n",
       "      <td>Instagram</td>\n",
       "      <td>Yes</td>\n",
       "      <td>6.5</td>\n",
       "      <td>6</td>\n",
       "      <td>In Relationship</td>\n",
       "      <td>3</td>\n",
       "      <td>8</td>\n",
       "    </tr>\n",
       "    <tr>\n",
       "      <th>1</th>\n",
       "      <td>2</td>\n",
       "      <td>22</td>\n",
       "      <td>Male</td>\n",
       "      <td>Graduate</td>\n",
       "      <td>India</td>\n",
       "      <td>2.1</td>\n",
       "      <td>Twitter</td>\n",
       "      <td>No</td>\n",
       "      <td>7.5</td>\n",
       "      <td>8</td>\n",
       "      <td>Single</td>\n",
       "      <td>0</td>\n",
       "      <td>3</td>\n",
       "    </tr>\n",
       "    <tr>\n",
       "      <th>2</th>\n",
       "      <td>3</td>\n",
       "      <td>20</td>\n",
       "      <td>Female</td>\n",
       "      <td>Undergraduate</td>\n",
       "      <td>USA</td>\n",
       "      <td>6.0</td>\n",
       "      <td>TikTok</td>\n",
       "      <td>Yes</td>\n",
       "      <td>5.0</td>\n",
       "      <td>5</td>\n",
       "      <td>Complicated</td>\n",
       "      <td>4</td>\n",
       "      <td>9</td>\n",
       "    </tr>\n",
       "    <tr>\n",
       "      <th>3</th>\n",
       "      <td>4</td>\n",
       "      <td>18</td>\n",
       "      <td>Male</td>\n",
       "      <td>High School</td>\n",
       "      <td>UK</td>\n",
       "      <td>3.0</td>\n",
       "      <td>YouTube</td>\n",
       "      <td>No</td>\n",
       "      <td>7.0</td>\n",
       "      <td>7</td>\n",
       "      <td>Single</td>\n",
       "      <td>1</td>\n",
       "      <td>4</td>\n",
       "    </tr>\n",
       "    <tr>\n",
       "      <th>4</th>\n",
       "      <td>5</td>\n",
       "      <td>21</td>\n",
       "      <td>Male</td>\n",
       "      <td>Graduate</td>\n",
       "      <td>Canada</td>\n",
       "      <td>4.5</td>\n",
       "      <td>Facebook</td>\n",
       "      <td>Yes</td>\n",
       "      <td>6.0</td>\n",
       "      <td>6</td>\n",
       "      <td>In Relationship</td>\n",
       "      <td>2</td>\n",
       "      <td>7</td>\n",
       "    </tr>\n",
       "  </tbody>\n",
       "</table>\n",
       "</div>"
      ],
      "text/plain": [
       "   Student_ID  Age  Gender Academic_Level     Country  Avg_Daily_Usage_Hours  \\\n",
       "0           1   19  Female  Undergraduate  Bangladesh                    5.2   \n",
       "1           2   22    Male       Graduate       India                    2.1   \n",
       "2           3   20  Female  Undergraduate         USA                    6.0   \n",
       "3           4   18    Male    High School          UK                    3.0   \n",
       "4           5   21    Male       Graduate      Canada                    4.5   \n",
       "\n",
       "  Most_Used_Platform Affects_Academic_Performance  Sleep_Hours_Per_Night  \\\n",
       "0          Instagram                          Yes                    6.5   \n",
       "1            Twitter                           No                    7.5   \n",
       "2             TikTok                          Yes                    5.0   \n",
       "3            YouTube                           No                    7.0   \n",
       "4           Facebook                          Yes                    6.0   \n",
       "\n",
       "   Mental_Health_Score Relationship_Status  Conflicts_Over_Social_Media  \\\n",
       "0                    6     In Relationship                            3   \n",
       "1                    8              Single                            0   \n",
       "2                    5         Complicated                            4   \n",
       "3                    7              Single                            1   \n",
       "4                    6     In Relationship                            2   \n",
       "\n",
       "   Addicted_Score  \n",
       "0               8  \n",
       "1               3  \n",
       "2               9  \n",
       "3               4  \n",
       "4               7  "
      ]
     },
     "execution_count": 5,
     "metadata": {},
     "output_type": "execute_result"
    }
   ],
   "source": [
    "df = pd.read_csv(\"/kaggle/input/social-media-addiction-vs-relationships/Students Social Media Addiction.csv\")\n",
    "df.head(5)"
   ]
  },
  {
   "cell_type": "markdown",
   "id": "9f40051b",
   "metadata": {},
   "source": [
    "### Analyzing The Data"
   ]
  },
  {
   "cell_type": "markdown",
   "id": "7d0dadcd",
   "metadata": {},
   "source": [
    "The `.describe()` method shows important statistics for all numerical variables in the dataset. This includes row counts, means, standard deviations and quantiles. For instance, it shows that a total of 705 different students have participated in the survey. It is also visible that average daily usage hours range from 1.5 hours up to 8.5 hours."
   ]
  },
  {
   "cell_type": "code",
   "execution_count": 6,
   "id": "d1918bd2",
   "metadata": {
    "execution": {
     "iopub.execute_input": "2025-05-31T21:07:36.164784Z",
     "iopub.status.busy": "2025-05-31T21:07:36.164381Z",
     "iopub.status.idle": "2025-05-31T21:07:36.199802Z",
     "shell.execute_reply": "2025-05-31T21:07:36.198166Z",
     "shell.execute_reply.started": "2025-05-31T21:07:36.164755Z"
    },
    "trusted": true
   },
   "outputs": [
    {
     "data": {
      "application/vnd.microsoft.datawrangler.viewer.v0+json": {
       "columns": [
        {
         "name": "index",
         "rawType": "object",
         "type": "string"
        },
        {
         "name": "Student_ID",
         "rawType": "float64",
         "type": "float"
        },
        {
         "name": "Age",
         "rawType": "float64",
         "type": "float"
        },
        {
         "name": "Avg_Daily_Usage_Hours",
         "rawType": "float64",
         "type": "float"
        },
        {
         "name": "Sleep_Hours_Per_Night",
         "rawType": "float64",
         "type": "float"
        },
        {
         "name": "Mental_Health_Score",
         "rawType": "float64",
         "type": "float"
        },
        {
         "name": "Conflicts_Over_Social_Media",
         "rawType": "float64",
         "type": "float"
        },
        {
         "name": "Addicted_Score",
         "rawType": "float64",
         "type": "float"
        }
       ],
       "ref": "822212c6-6a89-4ce4-a72a-c6a98377fe3f",
       "rows": [
        [
         "count",
         "705.0",
         "705.0",
         "705.0",
         "705.0",
         "705.0",
         "705.0",
         "705.0"
        ],
        [
         "mean",
         "353.0",
         "20.659574468085108",
         "4.918723404255319",
         "6.868936170212766",
         "6.226950354609929",
         "2.849645390070922",
         "6.436879432624114"
        ],
        [
         "std",
         "203.6602563093742",
         "1.3992174519195673",
         "1.257394521073143",
         "1.1268480415318038",
         "1.1050554948415765",
         "0.9579677911317821",
         "1.587164931868841"
        ],
        [
         "min",
         "1.0",
         "18.0",
         "1.5",
         "3.8",
         "4.0",
         "0.0",
         "2.0"
        ],
        [
         "25%",
         "177.0",
         "19.0",
         "4.1",
         "6.0",
         "5.0",
         "2.0",
         "5.0"
        ],
        [
         "50%",
         "353.0",
         "21.0",
         "4.8",
         "6.9",
         "6.0",
         "3.0",
         "7.0"
        ],
        [
         "75%",
         "529.0",
         "22.0",
         "5.8",
         "7.7",
         "7.0",
         "4.0",
         "8.0"
        ],
        [
         "max",
         "705.0",
         "24.0",
         "8.5",
         "9.6",
         "9.0",
         "5.0",
         "9.0"
        ]
       ],
       "shape": {
        "columns": 7,
        "rows": 8
       }
      },
      "text/html": [
       "<div>\n",
       "<style scoped>\n",
       "    .dataframe tbody tr th:only-of-type {\n",
       "        vertical-align: middle;\n",
       "    }\n",
       "\n",
       "    .dataframe tbody tr th {\n",
       "        vertical-align: top;\n",
       "    }\n",
       "\n",
       "    .dataframe thead th {\n",
       "        text-align: right;\n",
       "    }\n",
       "</style>\n",
       "<table border=\"1\" class=\"dataframe\">\n",
       "  <thead>\n",
       "    <tr style=\"text-align: right;\">\n",
       "      <th></th>\n",
       "      <th>Student_ID</th>\n",
       "      <th>Age</th>\n",
       "      <th>Avg_Daily_Usage_Hours</th>\n",
       "      <th>Sleep_Hours_Per_Night</th>\n",
       "      <th>Mental_Health_Score</th>\n",
       "      <th>Conflicts_Over_Social_Media</th>\n",
       "      <th>Addicted_Score</th>\n",
       "    </tr>\n",
       "  </thead>\n",
       "  <tbody>\n",
       "    <tr>\n",
       "      <th>count</th>\n",
       "      <td>705.000000</td>\n",
       "      <td>705.000000</td>\n",
       "      <td>705.000000</td>\n",
       "      <td>705.000000</td>\n",
       "      <td>705.000000</td>\n",
       "      <td>705.000000</td>\n",
       "      <td>705.000000</td>\n",
       "    </tr>\n",
       "    <tr>\n",
       "      <th>mean</th>\n",
       "      <td>353.000000</td>\n",
       "      <td>20.659574</td>\n",
       "      <td>4.918723</td>\n",
       "      <td>6.868936</td>\n",
       "      <td>6.226950</td>\n",
       "      <td>2.849645</td>\n",
       "      <td>6.436879</td>\n",
       "    </tr>\n",
       "    <tr>\n",
       "      <th>std</th>\n",
       "      <td>203.660256</td>\n",
       "      <td>1.399217</td>\n",
       "      <td>1.257395</td>\n",
       "      <td>1.126848</td>\n",
       "      <td>1.105055</td>\n",
       "      <td>0.957968</td>\n",
       "      <td>1.587165</td>\n",
       "    </tr>\n",
       "    <tr>\n",
       "      <th>min</th>\n",
       "      <td>1.000000</td>\n",
       "      <td>18.000000</td>\n",
       "      <td>1.500000</td>\n",
       "      <td>3.800000</td>\n",
       "      <td>4.000000</td>\n",
       "      <td>0.000000</td>\n",
       "      <td>2.000000</td>\n",
       "    </tr>\n",
       "    <tr>\n",
       "      <th>25%</th>\n",
       "      <td>177.000000</td>\n",
       "      <td>19.000000</td>\n",
       "      <td>4.100000</td>\n",
       "      <td>6.000000</td>\n",
       "      <td>5.000000</td>\n",
       "      <td>2.000000</td>\n",
       "      <td>5.000000</td>\n",
       "    </tr>\n",
       "    <tr>\n",
       "      <th>50%</th>\n",
       "      <td>353.000000</td>\n",
       "      <td>21.000000</td>\n",
       "      <td>4.800000</td>\n",
       "      <td>6.900000</td>\n",
       "      <td>6.000000</td>\n",
       "      <td>3.000000</td>\n",
       "      <td>7.000000</td>\n",
       "    </tr>\n",
       "    <tr>\n",
       "      <th>75%</th>\n",
       "      <td>529.000000</td>\n",
       "      <td>22.000000</td>\n",
       "      <td>5.800000</td>\n",
       "      <td>7.700000</td>\n",
       "      <td>7.000000</td>\n",
       "      <td>4.000000</td>\n",
       "      <td>8.000000</td>\n",
       "    </tr>\n",
       "    <tr>\n",
       "      <th>max</th>\n",
       "      <td>705.000000</td>\n",
       "      <td>24.000000</td>\n",
       "      <td>8.500000</td>\n",
       "      <td>9.600000</td>\n",
       "      <td>9.000000</td>\n",
       "      <td>5.000000</td>\n",
       "      <td>9.000000</td>\n",
       "    </tr>\n",
       "  </tbody>\n",
       "</table>\n",
       "</div>"
      ],
      "text/plain": [
       "       Student_ID         Age  Avg_Daily_Usage_Hours  Sleep_Hours_Per_Night  \\\n",
       "count  705.000000  705.000000             705.000000             705.000000   \n",
       "mean   353.000000   20.659574               4.918723               6.868936   \n",
       "std    203.660256    1.399217               1.257395               1.126848   \n",
       "min      1.000000   18.000000               1.500000               3.800000   \n",
       "25%    177.000000   19.000000               4.100000               6.000000   \n",
       "50%    353.000000   21.000000               4.800000               6.900000   \n",
       "75%    529.000000   22.000000               5.800000               7.700000   \n",
       "max    705.000000   24.000000               8.500000               9.600000   \n",
       "\n",
       "       Mental_Health_Score  Conflicts_Over_Social_Media  Addicted_Score  \n",
       "count           705.000000                   705.000000      705.000000  \n",
       "mean              6.226950                     2.849645        6.436879  \n",
       "std               1.105055                     0.957968        1.587165  \n",
       "min               4.000000                     0.000000        2.000000  \n",
       "25%               5.000000                     2.000000        5.000000  \n",
       "50%               6.000000                     3.000000        7.000000  \n",
       "75%               7.000000                     4.000000        8.000000  \n",
       "max               9.000000                     5.000000        9.000000  "
      ]
     },
     "execution_count": 6,
     "metadata": {},
     "output_type": "execute_result"
    }
   ],
   "source": [
    "df.describe()"
   ]
  },
  {
   "cell_type": "markdown",
   "id": "6c52f4d7",
   "metadata": {},
   "source": [
    "Checking for missing values (NAs) shows that there are no empty values for any of the rows."
   ]
  },
  {
   "cell_type": "code",
   "execution_count": 7,
   "id": "907c3175",
   "metadata": {
    "execution": {
     "iopub.execute_input": "2025-05-31T21:07:36.201209Z",
     "iopub.status.busy": "2025-05-31T21:07:36.200832Z",
     "iopub.status.idle": "2025-05-31T21:07:36.210487Z",
     "shell.execute_reply": "2025-05-31T21:07:36.209401Z",
     "shell.execute_reply.started": "2025-05-31T21:07:36.201172Z"
    },
    "trusted": true
   },
   "outputs": [
    {
     "data": {
      "text/plain": [
       "False"
      ]
     },
     "execution_count": 7,
     "metadata": {},
     "output_type": "execute_result"
    }
   ],
   "source": [
    "df.isnull().values.any()"
   ]
  },
  {
   "cell_type": "markdown",
   "id": "1ad5083d",
   "metadata": {},
   "source": [
    "### Visualizing the data"
   ]
  },
  {
   "cell_type": "markdown",
   "id": "c7bcc0db",
   "metadata": {},
   "source": [
    "Setting up Seaborn for data visualizations"
   ]
  },
  {
   "cell_type": "code",
   "execution_count": 8,
   "id": "1a3fa4bf",
   "metadata": {
    "execution": {
     "iopub.execute_input": "2025-05-31T21:07:36.212222Z",
     "iopub.status.busy": "2025-05-31T21:07:36.211853Z",
     "iopub.status.idle": "2025-05-31T21:07:36.241510Z",
     "shell.execute_reply": "2025-05-31T21:07:36.239892Z",
     "shell.execute_reply.started": "2025-05-31T21:07:36.212190Z"
    },
    "trusted": true
   },
   "outputs": [],
   "source": [
    "sns.set_style(\"darkgrid\")\n",
    "sns.set_palette(\"Set2\")"
   ]
  },
  {
   "cell_type": "markdown",
   "id": "b042c74a",
   "metadata": {},
   "source": [
    "#### Age and Academic Level distributions of participants"
   ]
  },
  {
   "cell_type": "code",
   "execution_count": 9,
   "id": "194ba1fa",
   "metadata": {
    "execution": {
     "iopub.execute_input": "2025-05-31T21:30:29.884436Z",
     "iopub.status.busy": "2025-05-31T21:30:29.882856Z",
     "iopub.status.idle": "2025-05-31T21:30:30.244289Z",
     "shell.execute_reply": "2025-05-31T21:30:30.243314Z",
     "shell.execute_reply.started": "2025-05-31T21:30:29.884389Z"
    },
    "trusted": true
   },
   "outputs": [
    {
     "data": {
      "text/plain": [
       "<Axes: xlabel='Age', ylabel='Count'>"
      ]
     },
     "execution_count": 9,
     "metadata": {},
     "output_type": "execute_result"
    },
    {
     "data": {
      "image/png": "[encoded data removed]",
      "text/plain": [
       "<Figure size 640x480 with 1 Axes>"
      ]
     },
     "metadata": {},
     "output_type": "display_data"
    }
   ],
   "source": [
    "sns.histplot(data=df, x=\"Age\", bins=range(df[\"Age\"].min(), df[\"Age\"].max() + 2))"
   ]
  },
  {
   "cell_type": "code",
   "execution_count": 10,
   "id": "f0b53977",
   "metadata": {
    "execution": {
     "iopub.execute_input": "2025-05-31T21:07:36.793874Z",
     "iopub.status.busy": "2025-05-31T21:07:36.793605Z",
     "iopub.status.idle": "2025-05-31T21:07:37.014342Z",
     "shell.execute_reply": "2025-05-31T21:07:37.013347Z",
     "shell.execute_reply.started": "2025-05-31T21:07:36.793853Z"
    },
    "trusted": true
   },
   "outputs": [
    {
     "data": {
      "text/plain": [
       "<Axes: xlabel='Academic_Level', ylabel='Count'>"
      ]
     },
     "execution_count": 10,
     "metadata": {},
     "output_type": "execute_result"
    },
    {
     "data": {
      "image/png": "[encoded data removed]",
      "text/plain": [
       "<Figure size 640x480 with 1 Axes>"
      ]
     },
     "metadata": {},
     "output_type": "display_data"
    }
   ],
   "source": [
    "sns.histplot(data=df, x=\"Academic_Level\")"
   ]
  },
  {
   "cell_type": "markdown",
   "id": "30b35816",
   "metadata": {},
   "source": [
    "#### Visualizing the average daily social media usage (Y-axis) by academic level (X-axis). \n",
    "\n",
    "The image shows that the daily usage varies widely among undergraduate students, ranging from approximately 2 hours to up to more than 8 hours. The median here is 4.8 hours per day and most undergraduates tend to spend between 4.1 to 5.9 hours daily on social media. \n",
    "\n",
    "Furthermore, graduate students vary slightly less in terms of daily usage, as their values range from 2 hours up to 7.5 hours daily. Their median is approximately 4.75 hours per day, with most spending between 4 and 5.6 hours on social media each day. One outlier in this group presented a value of approximately 1.5 hours.\n",
    "\n",
    "Lastly, high school students have the least variability in daily usage out of the three groups, their median however is at about 5.6 hours per day, which is significantly higher than the other two groups (approx. 1 hour more per day). They tend to spend between 5.5 and 5.8 hours of their day on social media. Three outliers are present, two of which consume significantly less social media content daily than the central tendency. Note that the high school students group has significantly less samples than the other two groups, results could thus be skewed."
   ]
  },
  {
   "cell_type": "code",
   "execution_count": 11,
   "id": "d390e55c",
   "metadata": {
    "execution": {
     "iopub.execute_input": "2025-05-31T21:31:42.130907Z",
     "iopub.status.busy": "2025-05-31T21:31:42.130073Z",
     "iopub.status.idle": "2025-05-31T21:31:42.376933Z",
     "shell.execute_reply": "2025-05-31T21:31:42.375618Z",
     "shell.execute_reply.started": "2025-05-31T21:31:42.130876Z"
    },
    "trusted": true
   },
   "outputs": [
    {
     "data": {
      "image/png": "[encoded data removed]",
      "text/plain": [
       "<Figure size 640x480 with 1 Axes>"
      ]
     },
     "metadata": {},
     "output_type": "display_data"
    }
   ],
   "source": [
    "sns.boxplot(x=\"Academic_Level\", y=\"Avg_Daily_Usage_Hours\", data=df, hue=\"Academic_Level\", legend=False)\n",
    "plt.title(\"Daily Social Media Use by Academic Level\")\n",
    "plt.xlabel(\"Academic Level\", fontsize=12)\n",
    "plt.ylabel(\"Avg Daily Usage (Hours)\", fontsize=12)\n",
    "plt.show()"
   ]
  },
  {
   "cell_type": "markdown",
   "id": "aec362c4",
   "metadata": {},
   "source": [
    "#### Visualizing addiction scale (Y-axis) by academic level (X-axis). \n",
    "\n",
    "Addiction scores vary greatly among undergraduates, most presenting scores between 5 and 8. Graduates typically show scores between 5 and 7, while almost all high schooler students surveyed have reported their addiction scale to be 8 or 9. There are only two outliers in the high school students' group, those reporting an addiction score of 4 and 5 respectively. "
   ]
  },
  {
   "cell_type": "code",
   "execution_count": 12,
   "id": "acb9f4d8",
   "metadata": {
    "execution": {
     "iopub.status.busy": "2025-05-31T21:07:37.924712Z",
     "iopub.status.idle": "2025-05-31T21:07:37.925007Z",
     "shell.execute_reply": "2025-05-31T21:07:37.924881Z",
     "shell.execute_reply.started": "2025-05-31T21:07:37.924869Z"
    },
    "trusted": true
   },
   "outputs": [
    {
     "data": {
      "image/png": "[encoded data removed]",
      "text/plain": [
       "<Figure size 640x480 with 1 Axes>"
      ]
     },
     "metadata": {},
     "output_type": "display_data"
    }
   ],
   "source": [
    "sns.boxplot(x=\"Academic_Level\", y=\"Addicted_Score\", data=df, hue=\"Academic_Level\", legend=False)\n",
    "plt.title(\"Addiction on a scale of 1 to 10 by Academic Level\")\n",
    "plt.xlabel(\"Academic Level\", fontsize=12)\n",
    "plt.ylabel(\"Addiction Score\", fontsize=12)\n",
    "plt.show()"
   ]
  },
  {
   "cell_type": "markdown",
   "id": "3a7884ce",
   "metadata": {},
   "source": [
    "#### Visualizing the average daily social media usage (Y-axis) by age (X-axis).\n",
    "\n",
    "The visualization below shows that most ages have a similar median regarding daily social media usage. Interestingly, 18 and 24 year old students have a similar median. Note that these two age groups are underrepresented in the survey in comparison to other ages, as these have the lowest participant counts."
   ]
  },
  {
   "cell_type": "code",
   "execution_count": 13,
   "id": "f113ff1a",
   "metadata": {
    "execution": {
     "iopub.status.busy": "2025-05-31T21:07:37.926529Z",
     "iopub.status.idle": "2025-05-31T21:07:37.926839Z",
     "shell.execute_reply": "2025-05-31T21:07:37.926720Z",
     "shell.execute_reply.started": "2025-05-31T21:07:37.926707Z"
    },
    "trusted": true
   },
   "outputs": [
    {
     "data": {
      "image/png": "[encoded data removed]",
      "text/plain": [
       "<Figure size 640x480 with 1 Axes>"
      ]
     },
     "metadata": {},
     "output_type": "display_data"
    }
   ],
   "source": [
    "sns.boxplot(x=\"Age\", y=\"Avg_Daily_Usage_Hours\", data=df, hue=\"Age\", legend=False)\n",
    "plt.title(\"Daily Social Media Use by Age\")\n",
    "plt.xlabel(\"Age\", fontsize=12)\n",
    "plt.ylabel(\"Avg Daily Usage (Hours)\", fontsize=12)\n",
    "plt.show()"
   ]
  },
  {
   "cell_type": "markdown",
   "id": "f387992c",
   "metadata": {},
   "source": [
    "#### Visualizing addiction score (Y-axis) by age (X-axis). \n",
    "\n",
    "Most age groups have a similar median addiction score of 7. 18 year old students have the highest median with an addiction score of 8. Interestingly, 23 year olds strongly differ from the norm, having a median score of 5, while 24 year olds again conform to it. Note that the data amount of 23 and 24 year olds that participated in the study is significantly lower than the rest, thus their results may be underrepresented."
   ]
  },
  {
   "cell_type": "code",
   "execution_count": 14,
   "id": "2d996456",
   "metadata": {
    "execution": {
     "iopub.status.busy": "2025-05-31T21:07:37.927775Z",
     "iopub.status.idle": "2025-05-31T21:07:37.928214Z",
     "shell.execute_reply": "2025-05-31T21:07:37.928009Z",
     "shell.execute_reply.started": "2025-05-31T21:07:37.927990Z"
    },
    "trusted": true
   },
   "outputs": [
    {
     "data": {
      "image/png": "[encoded data removed]",
      "text/plain": [
       "<Figure size 640x480 with 1 Axes>"
      ]
     },
     "metadata": {},
     "output_type": "display_data"
    }
   ],
   "source": [
    "sns.boxplot(x=\"Age\", y=\"Addicted_Score\", data=df, hue=\"Age\", legend=False)\n",
    "plt.title(\"Addiction on a scale of 1 to 10 by Age\")\n",
    "plt.xlabel(\"Age\", fontsize=12)\n",
    "plt.ylabel(\"Addiction Score\", fontsize=12)\n",
    "plt.show()"
   ]
  },
  {
   "cell_type": "markdown",
   "id": "ff1c62bf",
   "metadata": {},
   "source": [
    "#### Visualizing hours of sleep (Y-axis) by academic level (X-axis). \n",
    "\n",
    "The image below shows the amount of sleep that the students get per night by academic level. The medians for undergraduate and graduate students are similar, at approximately \n",
    "6.9 and 7.1 hours respectively. High school students on the other hand get a median of 5.5 hours per night, significantly less than the other groups."
   ]
  },
  {
   "cell_type": "code",
   "execution_count": 15,
   "id": "a4d61c74",
   "metadata": {
    "execution": {
     "iopub.status.busy": "2025-05-31T21:07:37.930965Z",
     "iopub.status.idle": "2025-05-31T21:07:37.931451Z",
     "shell.execute_reply": "2025-05-31T21:07:37.931258Z",
     "shell.execute_reply.started": "2025-05-31T21:07:37.931237Z"
    },
    "trusted": true
   },
   "outputs": [
    {
     "data": {
      "image/png": "[encoded data removed]",
      "text/plain": [
       "<Figure size 640x480 with 1 Axes>"
      ]
     },
     "metadata": {},
     "output_type": "display_data"
    }
   ],
   "source": [
    "sns.boxplot(x=\"Academic_Level\", y=\"Sleep_Hours_Per_Night\", data=df, hue=\"Academic_Level\", legend=False)\n",
    "plt.title(\"Hours of Sleep per Night by Academic Level\")\n",
    "plt.xlabel(\"Academic Level\", fontsize=12)\n",
    "plt.ylabel(\"Avg Sleep per Night (Hours)\", fontsize=12)\n",
    "plt.show()"
   ]
  },
  {
   "cell_type": "markdown",
   "id": "2369bb0b",
   "metadata": {},
   "source": [
    "#### Visualizing counts affected academic performance (Y-axis) by academic level (X-axis). "
   ]
  },
  {
   "cell_type": "code",
   "execution_count": 16,
   "id": "95016b66",
   "metadata": {
    "execution": {
     "iopub.status.busy": "2025-05-31T21:07:37.933236Z",
     "iopub.status.idle": "2025-05-31T21:07:37.935530Z",
     "shell.execute_reply": "2025-05-31T21:07:37.935216Z",
     "shell.execute_reply.started": "2025-05-31T21:07:37.935191Z"
    },
    "trusted": true
   },
   "outputs": [
    {
     "data": {
      "image/png": "[encoded data removed]",
      "text/plain": [
       "<Figure size 640x480 with 1 Axes>"
      ]
     },
     "metadata": {},
     "output_type": "display_data"
    }
   ],
   "source": [
    "sns.countplot(data=df, x='Academic_Level', hue=\"Affects_Academic_Performance\")\n",
    "plt.title(\"Count of Yes/No\")\n",
    "plt.show()"
   ]
  },
  {
   "cell_type": "markdown",
   "id": "eae1bbcf",
   "metadata": {},
   "source": [
    "#### Visualizing sleep time (Y-axis) by addiction score (X-axis)\n",
    "\n",
    "The plot below shows a clear negative relationship between the addiction score and the amount of sleep students get. The higher the addiction score, the less the student sleeps per night."
   ]
  },
  {
   "cell_type": "code",
   "execution_count": 17,
   "id": "bda747c6",
   "metadata": {
    "execution": {
     "iopub.status.busy": "2025-05-31T21:07:37.936808Z",
     "iopub.status.idle": "2025-05-31T21:07:37.937364Z",
     "shell.execute_reply": "2025-05-31T21:07:37.937148Z",
     "shell.execute_reply.started": "2025-05-31T21:07:37.937047Z"
    },
    "trusted": true
   },
   "outputs": [
    {
     "data": {
      "image/png": "[encoded data removed]",
      "text/plain": [
       "<Figure size 800x600 with 1 Axes>"
      ]
     },
     "metadata": {},
     "output_type": "display_data"
    }
   ],
   "source": [
    "plt.subplots(figsize=(8,6))\n",
    "sns.boxplot(x=\"Addicted_Score\", y=\"Sleep_Hours_Per_Night\", hue=\"Addicted_Score\",data=df)\n",
    "plt.show()"
   ]
  },
  {
   "cell_type": "markdown",
   "id": "e7452db6",
   "metadata": {},
   "source": [
    "#### Visualizing Addiction Score (Y-axis) by Social Media Platform (X-axis)"
   ]
  },
  {
   "cell_type": "code",
   "execution_count": 18,
   "id": "a3a3fb00",
   "metadata": {
    "execution": {
     "iopub.status.busy": "2025-05-31T21:07:37.940442Z",
     "iopub.status.idle": "2025-05-31T21:07:37.940784Z",
     "shell.execute_reply": "2025-05-31T21:07:37.940655Z",
     "shell.execute_reply.started": "2025-05-31T21:07:37.940642Z"
    },
    "trusted": true
   },
   "outputs": [
    {
     "data": {
      "image/png": "[encoded data removed]",
      "text/plain": [
       "<Figure size 1200x800 with 1 Axes>"
      ]
     },
     "metadata": {},
     "output_type": "display_data"
    }
   ],
   "source": [
    "plt.subplots(figsize=(12,8))\n",
    "sns.boxplot(x=\"Most_Used_Platform\", y=\"Addicted_Score\", data=df)\n",
    "plt.show()"
   ]
  },
  {
   "cell_type": "markdown",
   "id": "129d0ee6",
   "metadata": {},
   "source": [
    "#### Correlation Strength between Addicted Score and Sleep Hours per Night"
   ]
  },
  {
   "cell_type": "code",
   "execution_count": 19,
   "id": "30c269bf",
   "metadata": {
    "execution": {
     "iopub.status.busy": "2025-05-31T21:07:37.941875Z",
     "iopub.status.idle": "2025-05-31T21:07:37.942384Z",
     "shell.execute_reply": "2025-05-31T21:07:37.942229Z",
     "shell.execute_reply.started": "2025-05-31T21:07:37.942206Z"
    },
    "trusted": true
   },
   "outputs": [
    {
     "data": {
      "text/plain": [
       "-0.7879750806654222"
      ]
     },
     "execution_count": 19,
     "metadata": {},
     "output_type": "execute_result"
    }
   ],
   "source": [
    "df[\"Addicted_Score\"].corr(df[\"Sleep_Hours_Per_Night\"], method=\"spearman\")"
   ]
  },
  {
   "cell_type": "code",
   "execution_count": 20,
   "id": "9964fd3e",
   "metadata": {
    "execution": {
     "iopub.status.busy": "2025-05-31T21:07:37.944479Z",
     "iopub.status.idle": "2025-05-31T21:07:37.944918Z",
     "shell.execute_reply": "2025-05-31T21:07:37.944728Z",
     "shell.execute_reply.started": "2025-05-31T21:07:37.944710Z"
    },
    "trusted": true
   },
   "outputs": [
    {
     "data": {
      "text/plain": [
       "<Axes: xlabel='Addicted_Score', ylabel='Sleep_Hours_Per_Night'>"
      ]
     },
     "execution_count": 20,
     "metadata": {},
     "output_type": "execute_result"
    },
    {
     "data": {
      "image/png": "[encoded data removed]",
      "text/plain": [
       "<Figure size 640x480 with 1 Axes>"
      ]
     },
     "metadata": {},
     "output_type": "display_data"
    }
   ],
   "source": [
    "sns.regplot(x=\"Addicted_Score\", y=\"Sleep_Hours_Per_Night\", data=df, line_kws={\"color\":\"red\"})"
   ]
  },
  {
   "cell_type": "markdown",
   "id": "e7b25273",
   "metadata": {},
   "source": [
    "#### Correlation Strength between Average daily usage hours and Sleep Hours per Night"
   ]
  },
  {
   "cell_type": "code",
   "execution_count": 21,
   "id": "01179bfb",
   "metadata": {
    "execution": {
     "iopub.status.busy": "2025-05-31T21:07:37.947653Z",
     "iopub.status.idle": "2025-05-31T21:07:37.948115Z",
     "shell.execute_reply": "2025-05-31T21:07:37.947907Z",
     "shell.execute_reply.started": "2025-05-31T21:07:37.947890Z"
    },
    "trusted": true
   },
   "outputs": [
    {
     "data": {
      "text/plain": [
       "-0.8144747507422089"
      ]
     },
     "execution_count": 21,
     "metadata": {},
     "output_type": "execute_result"
    }
   ],
   "source": [
    "df[\"Sleep_Hours_Per_Night\"].corr(df[\"Avg_Daily_Usage_Hours\"], method=\"spearman\")"
   ]
  },
  {
   "cell_type": "code",
   "execution_count": 22,
   "id": "b742ec0b",
   "metadata": {
    "execution": {
     "iopub.status.busy": "2025-05-31T21:07:37.950009Z",
     "iopub.status.idle": "2025-05-31T21:07:37.950886Z",
     "shell.execute_reply": "2025-05-31T21:07:37.950651Z",
     "shell.execute_reply.started": "2025-05-31T21:07:37.950622Z"
    },
    "trusted": true
   },
   "outputs": [
    {
     "data": {
      "text/plain": [
       "<Axes: xlabel='Avg_Daily_Usage_Hours', ylabel='Sleep_Hours_Per_Night'>"
      ]
     },
     "execution_count": 22,
     "metadata": {},
     "output_type": "execute_result"
    },
    {
     "data": {
      "image/png": "[encoded data removed]",
      "text/plain": [
       "<Figure size 640x480 with 1 Axes>"
      ]
     },
     "metadata": {},
     "output_type": "display_data"
    }
   ],
   "source": [
    "sns.regplot(x=\"Avg_Daily_Usage_Hours\", y=\"Sleep_Hours_Per_Night\", data=df, line_kws={\"color\":\"red\"})"
   ]
  },
  {
   "cell_type": "markdown",
   "id": "64f9f26c",
   "metadata": {},
   "source": [
    "### Converting Categorical Variable Labels into Numerical Variables For Regression"
   ]
  },
  {
   "cell_type": "code",
   "execution_count": 23,
   "id": "1297dca0",
   "metadata": {
    "execution": {
     "iopub.status.busy": "2025-05-31T21:07:37.954502Z",
     "iopub.status.idle": "2025-05-31T21:07:37.955359Z",
     "shell.execute_reply": "2025-05-31T21:07:37.954857Z",
     "shell.execute_reply.started": "2025-05-31T21:07:37.954832Z"
    },
    "trusted": true
   },
   "outputs": [
    {
     "data": {
      "application/vnd.microsoft.datawrangler.viewer.v0+json": {
       "columns": [
        {
         "name": "index",
         "rawType": "int64",
         "type": "integer"
        },
        {
         "name": "Student_ID",
         "rawType": "int64",
         "type": "integer"
        },
        {
         "name": "Age",
         "rawType": "int64",
         "type": "integer"
        },
        {
         "name": "Gender",
         "rawType": "object",
         "type": "string"
        },
        {
         "name": "Academic_Level",
         "rawType": "object",
         "type": "string"
        },
        {
         "name": "Country",
         "rawType": "object",
         "type": "string"
        },
        {
         "name": "Avg_Daily_Usage_Hours",
         "rawType": "float64",
         "type": "float"
        },
        {
         "name": "Most_Used_Platform",
         "rawType": "object",
         "type": "string"
        },
        {
         "name": "Affects_Academic_Performance",
         "rawType": "object",
         "type": "string"
        },
        {
         "name": "Sleep_Hours_Per_Night",
         "rawType": "float64",
         "type": "float"
        },
        {
         "name": "Mental_Health_Score",
         "rawType": "int64",
         "type": "integer"
        },
        {
         "name": "Relationship_Status",
         "rawType": "object",
         "type": "string"
        },
        {
         "name": "Conflicts_Over_Social_Media",
         "rawType": "int64",
         "type": "integer"
        },
        {
         "name": "Addicted_Score",
         "rawType": "int64",
         "type": "integer"
        },
        {
         "name": "Gender_Numeric",
         "rawType": "int64",
         "type": "integer"
        },
        {
         "name": "Most_Used_Platform_Numeric",
         "rawType": "int64",
         "type": "integer"
        },
        {
         "name": "Academic_Level_Numeric",
         "rawType": "int64",
         "type": "integer"
        },
        {
         "name": "Normalized_Addicted_Score",
         "rawType": "float64",
         "type": "float"
        },
        {
         "name": "Relationship_Status_Numeric",
         "rawType": "int64",
         "type": "integer"
        },
        {
         "name": "Is_Graduate",
         "rawType": "int64",
         "type": "integer"
        },
        {
         "name": "In_Relationship",
         "rawType": "int64",
         "type": "integer"
        },
        {
         "name": "Affects_Academic_Performance_Numeric",
         "rawType": "int64",
         "type": "integer"
        }
       ],
       "ref": "fd6103fd-4d4a-47cc-979a-fcfa07c2e9c0",
       "rows": [
        [
         "0",
         "1",
         "19",
         "Female",
         "Undergraduate",
         "Bangladesh",
         "5.2",
         "Instagram",
         "Yes",
         "6.5",
         "6",
         "In Relationship",
         "3",
         "8",
         "0",
         "1",
         "2",
         "0.8",
         "1",
         "0",
         "1",
         "1"
        ],
        [
         "1",
         "2",
         "22",
         "Male",
         "Graduate",
         "India",
         "2.1",
         "Twitter",
         "No",
         "7.5",
         "8",
         "Single",
         "0",
         "3",
         "1",
         "7",
         "0",
         "0.3",
         "2",
         "1",
         "0",
         "0"
        ],
        [
         "2",
         "3",
         "20",
         "Female",
         "Undergraduate",
         "USA",
         "6.0",
         "TikTok",
         "Yes",
         "5.0",
         "5",
         "Complicated",
         "4",
         "9",
         "0",
         "6",
         "2",
         "0.9",
         "0",
         "0",
         "0",
         "1"
        ],
        [
         "3",
         "4",
         "18",
         "Male",
         "High School",
         "UK",
         "3.0",
         "YouTube",
         "No",
         "7.0",
         "7",
         "Single",
         "1",
         "4",
         "1",
         "11",
         "1",
         "0.4",
         "2",
         "0",
         "0",
         "0"
        ],
        [
         "4",
         "5",
         "21",
         "Male",
         "Graduate",
         "Canada",
         "4.5",
         "Facebook",
         "Yes",
         "6.0",
         "6",
         "In Relationship",
         "2",
         "7",
         "1",
         "0",
         "0",
         "0.7",
         "1",
         "1",
         "1",
         "1"
        ]
       ],
       "shape": {
        "columns": 21,
        "rows": 5
       }
      },
      "text/html": [
       "<div>\n",
       "<style scoped>\n",
       "    .dataframe tbody tr th:only-of-type {\n",
       "        vertical-align: middle;\n",
       "    }\n",
       "\n",
       "    .dataframe tbody tr th {\n",
       "        vertical-align: top;\n",
       "    }\n",
       "\n",
       "    .dataframe thead th {\n",
       "        text-align: right;\n",
       "    }\n",
       "</style>\n",
       "<table border=\"1\" class=\"dataframe\">\n",
       "  <thead>\n",
       "    <tr style=\"text-align: right;\">\n",
       "      <th></th>\n",
       "      <th>Student_ID</th>\n",
       "      <th>Age</th>\n",
       "      <th>Gender</th>\n",
       "      <th>Academic_Level</th>\n",
       "      <th>Country</th>\n",
       "      <th>Avg_Daily_Usage_Hours</th>\n",
       "      <th>Most_Used_Platform</th>\n",
       "      <th>Affects_Academic_Performance</th>\n",
       "      <th>Sleep_Hours_Per_Night</th>\n",
       "      <th>Mental_Health_Score</th>\n",
       "      <th>...</th>\n",
       "      <th>Conflicts_Over_Social_Media</th>\n",
       "      <th>Addicted_Score</th>\n",
       "      <th>Gender_Numeric</th>\n",
       "      <th>Most_Used_Platform_Numeric</th>\n",
       "      <th>Academic_Level_Numeric</th>\n",
       "      <th>Normalized_Addicted_Score</th>\n",
       "      <th>Relationship_Status_Numeric</th>\n",
       "      <th>Is_Graduate</th>\n",
       "      <th>In_Relationship</th>\n",
       "      <th>Affects_Academic_Performance_Numeric</th>\n",
       "    </tr>\n",
       "  </thead>\n",
       "  <tbody>\n",
       "    <tr>\n",
       "      <th>0</th>\n",
       "      <td>1</td>\n",
       "      <td>19</td>\n",
       "      <td>Female</td>\n",
       "      <td>Undergraduate</td>\n",
       "      <td>Bangladesh</td>\n",
       "      <td>5.2</td>\n",
       "      <td>Instagram</td>\n",
       "      <td>Yes</td>\n",
       "      <td>6.5</td>\n",
       "      <td>6</td>\n",
       "      <td>...</td>\n",
       "      <td>3</td>\n",
       "      <td>8</td>\n",
       "      <td>0</td>\n",
       "      <td>1</td>\n",
       "      <td>2</td>\n",
       "      <td>0.8</td>\n",
       "      <td>1</td>\n",
       "      <td>0</td>\n",
       "      <td>1</td>\n",
       "      <td>1</td>\n",
       "    </tr>\n",
       "    <tr>\n",
       "      <th>1</th>\n",
       "      <td>2</td>\n",
       "      <td>22</td>\n",
       "      <td>Male</td>\n",
       "      <td>Graduate</td>\n",
       "      <td>India</td>\n",
       "      <td>2.1</td>\n",
       "      <td>Twitter</td>\n",
       "      <td>No</td>\n",
       "      <td>7.5</td>\n",
       "      <td>8</td>\n",
       "      <td>...</td>\n",
       "      <td>0</td>\n",
       "      <td>3</td>\n",
       "      <td>1</td>\n",
       "      <td>7</td>\n",
       "      <td>0</td>\n",
       "      <td>0.3</td>\n",
       "      <td>2</td>\n",
       "      <td>1</td>\n",
       "      <td>0</td>\n",
       "      <td>0</td>\n",
       "    </tr>\n",
       "    <tr>\n",
       "      <th>2</th>\n",
       "      <td>3</td>\n",
       "      <td>20</td>\n",
       "      <td>Female</td>\n",
       "      <td>Undergraduate</td>\n",
       "      <td>USA</td>\n",
       "      <td>6.0</td>\n",
       "      <td>TikTok</td>\n",
       "      <td>Yes</td>\n",
       "      <td>5.0</td>\n",
       "      <td>5</td>\n",
       "      <td>...</td>\n",
       "      <td>4</td>\n",
       "      <td>9</td>\n",
       "      <td>0</td>\n",
       "      <td>6</td>\n",
       "      <td>2</td>\n",
       "      <td>0.9</td>\n",
       "      <td>0</td>\n",
       "      <td>0</td>\n",
       "      <td>0</td>\n",
       "      <td>1</td>\n",
       "    </tr>\n",
       "    <tr>\n",
       "      <th>3</th>\n",
       "      <td>4</td>\n",
       "      <td>18</td>\n",
       "      <td>Male</td>\n",
       "      <td>High School</td>\n",
       "      <td>UK</td>\n",
       "      <td>3.0</td>\n",
       "      <td>YouTube</td>\n",
       "      <td>No</td>\n",
       "      <td>7.0</td>\n",
       "      <td>7</td>\n",
       "      <td>...</td>\n",
       "      <td>1</td>\n",
       "      <td>4</td>\n",
       "      <td>1</td>\n",
       "      <td>11</td>\n",
       "      <td>1</td>\n",
       "      <td>0.4</td>\n",
       "      <td>2</td>\n",
       "      <td>0</td>\n",
       "      <td>0</td>\n",
       "      <td>0</td>\n",
       "    </tr>\n",
       "    <tr>\n",
       "      <th>4</th>\n",
       "      <td>5</td>\n",
       "      <td>21</td>\n",
       "      <td>Male</td>\n",
       "      <td>Graduate</td>\n",
       "      <td>Canada</td>\n",
       "      <td>4.5</td>\n",
       "      <td>Facebook</td>\n",
       "      <td>Yes</td>\n",
       "      <td>6.0</td>\n",
       "      <td>6</td>\n",
       "      <td>...</td>\n",
       "      <td>2</td>\n",
       "      <td>7</td>\n",
       "      <td>1</td>\n",
       "      <td>0</td>\n",
       "      <td>0</td>\n",
       "      <td>0.7</td>\n",
       "      <td>1</td>\n",
       "      <td>1</td>\n",
       "      <td>1</td>\n",
       "      <td>1</td>\n",
       "    </tr>\n",
       "  </tbody>\n",
       "</table>\n",
       "<p>5 rows × 21 columns</p>\n",
       "</div>"
      ],
      "text/plain": [
       "   Student_ID  Age  Gender Academic_Level     Country  Avg_Daily_Usage_Hours  \\\n",
       "0           1   19  Female  Undergraduate  Bangladesh                    5.2   \n",
       "1           2   22    Male       Graduate       India                    2.1   \n",
       "2           3   20  Female  Undergraduate         USA                    6.0   \n",
       "3           4   18    Male    High School          UK                    3.0   \n",
       "4           5   21    Male       Graduate      Canada                    4.5   \n",
       "\n",
       "  Most_Used_Platform Affects_Academic_Performance  Sleep_Hours_Per_Night  \\\n",
       "0          Instagram                          Yes                    6.5   \n",
       "1            Twitter                           No                    7.5   \n",
       "2             TikTok                          Yes                    5.0   \n",
       "3            YouTube                           No                    7.0   \n",
       "4           Facebook                          Yes                    6.0   \n",
       "\n",
       "   Mental_Health_Score  ... Conflicts_Over_Social_Media  Addicted_Score  \\\n",
       "0                    6  ...                           3               8   \n",
       "1                    8  ...                           0               3   \n",
       "2                    5  ...                           4               9   \n",
       "3                    7  ...                           1               4   \n",
       "4                    6  ...                           2               7   \n",
       "\n",
       "   Gender_Numeric  Most_Used_Platform_Numeric  Academic_Level_Numeric  \\\n",
       "0               0                           1                       2   \n",
       "1               1                           7                       0   \n",
       "2               0                           6                       2   \n",
       "3               1                          11                       1   \n",
       "4               1                           0                       0   \n",
       "\n",
       "   Normalized_Addicted_Score  Relationship_Status_Numeric  Is_Graduate  \\\n",
       "0                        0.8                            1            0   \n",
       "1                        0.3                            2            1   \n",
       "2                        0.9                            0            0   \n",
       "3                        0.4                            2            0   \n",
       "4                        0.7                            1            1   \n",
       "\n",
       "   In_Relationship  Affects_Academic_Performance_Numeric  \n",
       "0                1                                     1  \n",
       "1                0                                     0  \n",
       "2                0                                     1  \n",
       "3                0                                     0  \n",
       "4                1                                     1  \n",
       "\n",
       "[5 rows x 21 columns]"
      ]
     },
     "execution_count": 23,
     "metadata": {},
     "output_type": "execute_result"
    }
   ],
   "source": [
    "encoder = LabelEncoder()\n",
    "df[\"Gender_Numeric\"] = encoder.fit_transform(df[\"Gender\"])\n",
    "df[\"Most_Used_Platform_Numeric\"] = encoder.fit_transform(df[\"Most_Used_Platform\"])\n",
    "df[\"Academic_Level_Numeric\"] = encoder.fit_transform(df[\"Academic_Level\"])\n",
    "df[\"Normalized_Addicted_Score\"] = df[\"Addicted_Score\"] / 10\n",
    "df[\"Relationship_Status_Numeric\"] = encoder.fit_transform(df[\"Relationship_Status\"])\n",
    "df[\"Is_Graduate\"] = (df[\"Academic_Level\"] == \"Graduate\").astype(int)\n",
    "df[\"In_Relationship\"] = (df[\"Relationship_Status\"] == \"In Relationship\").astype(int)\n",
    "df[\"Affects_Academic_Performance_Numeric\"] = encoder.fit_transform(df[\"Affects_Academic_Performance\"])\n",
    "\n",
    "df.head(5)"
   ]
  },
  {
   "cell_type": "markdown",
   "id": "f643c79e",
   "metadata": {},
   "source": [
    "Let's take a look at the relationships between variables. We can see that there definitely is a clear linear relationship between average daily usage hours and sleep hours per night."
   ]
  },
  {
   "cell_type": "code",
   "execution_count": 24,
   "id": "2e2b312b",
   "metadata": {
    "execution": {
     "iopub.status.busy": "2025-05-31T21:07:37.957850Z",
     "iopub.status.idle": "2025-05-31T21:07:37.958775Z",
     "shell.execute_reply": "2025-05-31T21:07:37.958273Z",
     "shell.execute_reply.started": "2025-05-31T21:07:37.958250Z"
    },
    "trusted": true
   },
   "outputs": [
    {
     "data": {
      "application/vnd.microsoft.datawrangler.viewer.v0+json": {
       "columns": [
        {
         "name": "index",
         "rawType": "object",
         "type": "string"
        },
        {
         "name": "0",
         "rawType": "float64",
         "type": "float"
        }
       ],
       "ref": "642b57d8-5089-4691-998a-87c78622aa09",
       "rows": [
        [
         "Avg_Daily_Usage_Hours",
         "-0.8144747507422089"
        ],
        [
         "Is_Graduate",
         "0.1378910369502175"
        ],
        [
         "Addicted_Score",
         "-0.7879750806654222"
        ],
        [
         "Mental_Health_Score",
         "0.7337669422997212"
        ],
        [
         "Age",
         "0.132087817924753"
        ],
        [
         "Conflicts_Over_Social_Media",
         "-0.7225237238557576"
        ],
        [
         "Affects_Academic_Performance_Numeric",
         "-0.6407100630513491"
        ],
        [
         "Gender_Numeric",
         "0.04425954179931449"
        ],
        [
         "Most_Used_Platform_Numeric",
         "-0.29184694388330806"
        ],
        [
         "Relationship_Status_Numeric",
         "0.1258924486335562"
        ]
       ],
       "shape": {
        "columns": 1,
        "rows": 10
       }
      },
      "text/plain": [
       "Avg_Daily_Usage_Hours                  -0.814475\n",
       "Is_Graduate                             0.137891\n",
       "Addicted_Score                         -0.787975\n",
       "Mental_Health_Score                     0.733767\n",
       "Age                                     0.132088\n",
       "Conflicts_Over_Social_Media            -0.722524\n",
       "Affects_Academic_Performance_Numeric   -0.640710\n",
       "Gender_Numeric                          0.044260\n",
       "Most_Used_Platform_Numeric             -0.291847\n",
       "Relationship_Status_Numeric             0.125892\n",
       "dtype: float64"
      ]
     },
     "execution_count": 24,
     "metadata": {},
     "output_type": "execute_result"
    }
   ],
   "source": [
    "correlation_values = df[[\"Avg_Daily_Usage_Hours\", \"Is_Graduate\", \"Addicted_Score\", \"Mental_Health_Score\", \"Age\", \"Conflicts_Over_Social_Media\", \"Affects_Academic_Performance_Numeric\", \"Gender_Numeric\", \"Most_Used_Platform_Numeric\", \"Relationship_Status_Numeric\"]].corrwith(df[\"Sleep_Hours_Per_Night\"], method=\"spearman\")\n",
    "correlation_values"
   ]
  },
  {
   "cell_type": "markdown",
   "id": "3ef35b67",
   "metadata": {},
   "source": [
    "Only variables with an absolute correlation score higher than 0.6 are kept."
   ]
  },
  {
   "cell_type": "code",
   "execution_count": 25,
   "id": "8a3b454e",
   "metadata": {
    "execution": {
     "iopub.status.busy": "2025-05-31T21:07:37.960226Z",
     "iopub.status.idle": "2025-05-31T21:07:37.960525Z",
     "shell.execute_reply": "2025-05-31T21:07:37.960407Z",
     "shell.execute_reply.started": "2025-05-31T21:07:37.960396Z"
    },
    "trusted": true
   },
   "outputs": [
    {
     "data": {
      "application/vnd.microsoft.datawrangler.viewer.v0+json": {
       "columns": [
        {
         "name": "index",
         "rawType": "object",
         "type": "string"
        },
        {
         "name": "0",
         "rawType": "float64",
         "type": "float"
        }
       ],
       "ref": "98dc5ec1-3851-4803-a852-ac2bd9a8ed78",
       "rows": [
        [
         "Avg_Daily_Usage_Hours",
         "-0.8144747507422089"
        ],
        [
         "Addicted_Score",
         "-0.7879750806654222"
        ],
        [
         "Mental_Health_Score",
         "0.7337669422997212"
        ],
        [
         "Conflicts_Over_Social_Media",
         "-0.7225237238557576"
        ],
        [
         "Affects_Academic_Performance_Numeric",
         "-0.6407100630513491"
        ]
       ],
       "shape": {
        "columns": 1,
        "rows": 5
       }
      },
      "text/plain": [
       "Avg_Daily_Usage_Hours                  -0.814475\n",
       "Addicted_Score                         -0.787975\n",
       "Mental_Health_Score                     0.733767\n",
       "Conflicts_Over_Social_Media            -0.722524\n",
       "Affects_Academic_Performance_Numeric   -0.640710\n",
       "dtype: float64"
      ]
     },
     "execution_count": 25,
     "metadata": {},
     "output_type": "execute_result"
    }
   ],
   "source": [
    "correlation_values = correlation_values[correlation_values.abs() > 0.6]\n",
    "correlation_values"
   ]
  },
  {
   "cell_type": "markdown",
   "id": "57b79798",
   "metadata": {},
   "source": [
    "The input for the models will be the variables from above, from which they will predict the sleep hours per night of the students. "
   ]
  },
  {
   "cell_type": "code",
   "execution_count": 26,
   "id": "9171dc9f",
   "metadata": {
    "execution": {
     "iopub.status.busy": "2025-05-31T21:07:37.962709Z",
     "iopub.status.idle": "2025-05-31T21:07:37.963192Z",
     "shell.execute_reply": "2025-05-31T21:07:37.962966Z",
     "shell.execute_reply.started": "2025-05-31T21:07:37.962945Z"
    },
    "trusted": true
   },
   "outputs": [],
   "source": [
    "x = df[correlation_values.index]\n",
    "y = df[\"Sleep_Hours_Per_Night\"]"
   ]
  },
  {
   "cell_type": "markdown",
   "id": "95a9c782",
   "metadata": {},
   "source": [
    "Data is split into a training split (80%) and test split (20%)."
   ]
  },
  {
   "cell_type": "code",
   "execution_count": 27,
   "id": "6ab39fe1",
   "metadata": {
    "execution": {
     "iopub.status.busy": "2025-05-31T21:07:37.965272Z",
     "iopub.status.idle": "2025-05-31T21:07:37.965734Z",
     "shell.execute_reply": "2025-05-31T21:07:37.965587Z",
     "shell.execute_reply.started": "2025-05-31T21:07:37.965571Z"
    },
    "trusted": true
   },
   "outputs": [],
   "source": [
    "x_train = x.iloc[:int(len(df)*0.8)].to_numpy()\n",
    "x_test = x.iloc[int(len(df)*0.8):].to_numpy()\n",
    "\n",
    "y_train = y.iloc[:int(len(df)*0.8)].to_numpy()\n",
    "y_test = y.iloc[int(len(df)*0.8):].to_numpy()"
   ]
  },
  {
   "cell_type": "code",
   "execution_count": 28,
   "id": "c61519ae",
   "metadata": {
    "execution": {
     "iopub.status.busy": "2025-05-31T21:07:37.968651Z",
     "iopub.status.idle": "2025-05-31T21:07:37.969129Z",
     "shell.execute_reply": "2025-05-31T21:07:37.968902Z",
     "shell.execute_reply.started": "2025-05-31T21:07:37.968885Z"
    },
    "trusted": true
   },
   "outputs": [
    {
     "data": {
      "text/plain": [
       "array([[5.2, 8. , 6. , 3. , 1. ],\n",
       "       [2.1, 3. , 8. , 0. , 0. ],\n",
       "       [6. , 9. , 5. , 4. , 1. ],\n",
       "       ...,\n",
       "       [3.9, 5. , 7. , 2. , 0. ],\n",
       "       [3.2, 4. , 8. , 2. , 0. ],\n",
       "       [4.1, 6. , 7. , 3. , 1. ]])"
      ]
     },
     "execution_count": 28,
     "metadata": {},
     "output_type": "execute_result"
    }
   ],
   "source": [
    "x_train"
   ]
  },
  {
   "cell_type": "code",
   "execution_count": 29,
   "id": "836a4ab4",
   "metadata": {
    "execution": {
     "iopub.status.busy": "2025-05-31T21:07:37.970719Z",
     "iopub.status.idle": "2025-05-31T21:07:37.971200Z",
     "shell.execute_reply": "2025-05-31T21:07:37.970973Z",
     "shell.execute_reply.started": "2025-05-31T21:07:37.970955Z"
    },
    "trusted": true
   },
   "outputs": [
    {
     "data": {
      "text/plain": [
       "array([[5.7, 7. , 6. , 3. , 1. ],\n",
       "       [6.1, 7. , 6. , 3. , 1. ],\n",
       "       [7.1, 8. , 5. , 4. , 1. ],\n",
       "       [3.6, 5. , 7. , 2. , 0. ],\n",
       "       [7.4, 8. , 5. , 4. , 1. ],\n",
       "       [4.2, 6. , 7. , 3. , 1. ],\n",
       "       [6.1, 7. , 5. , 4. , 1. ],\n",
       "       [3.8, 4. , 8. , 2. , 0. ],\n",
       "       [5.5, 8. , 6. , 4. , 1. ],\n",
       "       [7.2, 9. , 4. , 5. , 1. ],\n",
       "       [4.2, 5. , 7. , 2. , 0. ],\n",
       "       [6.8, 8. , 5. , 4. , 1. ],\n",
       "       [5.9, 7. , 6. , 3. , 1. ],\n",
       "       [6.5, 8. , 5. , 4. , 1. ],\n",
       "       [4.7, 5. , 7. , 2. , 0. ],\n",
       "       [5.2, 6. , 6. , 3. , 1. ],\n",
       "       [6.3, 8. , 5. , 4. , 1. ],\n",
       "       [4.9, 5. , 7. , 2. , 0. ],\n",
       "       [6.7, 8. , 5. , 4. , 1. ],\n",
       "       [5.8, 7. , 6. , 3. , 1. ],\n",
       "       [4.5, 4. , 8. , 2. , 0. ],\n",
       "       [6.4, 8. , 5. , 4. , 1. ],\n",
       "       [4.1, 5. , 7. , 2. , 0. ],\n",
       "       [6.6, 8. , 5. , 4. , 1. ],\n",
       "       [4.4, 5. , 7. , 2. , 0. ],\n",
       "       [5.7, 7. , 6. , 3. , 1. ],\n",
       "       [7. , 9. , 4. , 5. , 1. ],\n",
       "       [4.3, 5. , 7. , 2. , 0. ],\n",
       "       [6.9, 8. , 5. , 4. , 1. ],\n",
       "       [5.6, 7. , 6. , 3. , 1. ],\n",
       "       [6.2, 8. , 5. , 4. , 1. ],\n",
       "       [5.8, 7. , 6. , 3. , 1. ],\n",
       "       [4.9, 5. , 7. , 2. , 0. ],\n",
       "       [6.4, 8. , 5. , 4. , 1. ],\n",
       "       [5.1, 5. , 7. , 2. , 0. ],\n",
       "       [6.7, 8. , 4. , 4. , 1. ],\n",
       "       [5.5, 7. , 6. , 3. , 1. ],\n",
       "       [4.3, 4. , 8. , 2. , 0. ],\n",
       "       [6.2, 8. , 5. , 4. , 1. ],\n",
       "       [4.5, 5. , 7. , 2. , 0. ],\n",
       "       [6.3, 8. , 5. , 4. , 1. ],\n",
       "       [4.7, 5. , 7. , 2. , 0. ],\n",
       "       [5.9, 7. , 6. , 3. , 1. ],\n",
       "       [7.1, 9. , 4. , 5. , 1. ],\n",
       "       [4.4, 5. , 7. , 2. , 0. ],\n",
       "       [6.6, 8. , 5. , 4. , 1. ],\n",
       "       [5.4, 7. , 6. , 3. , 1. ],\n",
       "       [6.5, 8. , 5. , 4. , 1. ],\n",
       "       [4.8, 5. , 7. , 2. , 0. ],\n",
       "       [5.7, 7. , 6. , 3. , 1. ],\n",
       "       [6.1, 8. , 5. , 4. , 1. ],\n",
       "       [4.6, 5. , 7. , 2. , 0. ],\n",
       "       [6.8, 9. , 4. , 5. , 1. ],\n",
       "       [5.6, 7. , 6. , 3. , 1. ],\n",
       "       [4.2, 4. , 8. , 2. , 0. ],\n",
       "       [6.3, 8. , 5. , 4. , 1. ],\n",
       "       [4.4, 5. , 7. , 2. , 0. ],\n",
       "       [6.5, 8. , 5. , 4. , 1. ],\n",
       "       [4.6, 5. , 7. , 2. , 0. ],\n",
       "       [5.8, 7. , 6. , 3. , 1. ],\n",
       "       [7. , 9. , 4. , 5. , 1. ],\n",
       "       [4.5, 5. , 7. , 2. , 0. ],\n",
       "       [6.7, 8. , 5. , 4. , 1. ],\n",
       "       [5.5, 7. , 6. , 3. , 1. ],\n",
       "       [6.4, 8. , 5. , 4. , 1. ],\n",
       "       [4.7, 5. , 7. , 2. , 0. ],\n",
       "       [5.6, 7. , 6. , 3. , 1. ],\n",
       "       [6.2, 8. , 5. , 4. , 1. ],\n",
       "       [4.8, 5. , 7. , 2. , 0. ],\n",
       "       [6.9, 9. , 4. , 5. , 1. ],\n",
       "       [5.7, 7. , 6. , 3. , 1. ],\n",
       "       [4.4, 4. , 8. , 2. , 0. ],\n",
       "       [6.1, 8. , 5. , 4. , 1. ],\n",
       "       [4.3, 5. , 7. , 2. , 0. ],\n",
       "       [6.4, 8. , 5. , 4. , 1. ],\n",
       "       [4.5, 5. , 7. , 2. , 0. ],\n",
       "       [5.9, 7. , 6. , 3. , 1. ],\n",
       "       [7.2, 9. , 4. , 5. , 1. ],\n",
       "       [4.6, 5. , 7. , 2. , 0. ],\n",
       "       [6.8, 8. , 5. , 4. , 1. ],\n",
       "       [5.3, 7. , 6. , 3. , 1. ],\n",
       "       [6.3, 8. , 5. , 4. , 1. ],\n",
       "       [4.8, 5. , 7. , 2. , 0. ],\n",
       "       [5.7, 7. , 6. , 3. , 1. ],\n",
       "       [6.2, 8. , 5. , 4. , 1. ],\n",
       "       [4.7, 5. , 7. , 2. , 0. ],\n",
       "       [6.8, 9. , 4. , 5. , 1. ],\n",
       "       [5.6, 7. , 6. , 3. , 1. ],\n",
       "       [4.3, 4. , 8. , 2. , 0. ],\n",
       "       [6.2, 8. , 5. , 4. , 1. ],\n",
       "       [4.4, 5. , 7. , 2. , 0. ],\n",
       "       [6.5, 8. , 5. , 4. , 1. ],\n",
       "       [4.6, 5. , 7. , 2. , 0. ],\n",
       "       [5.8, 7. , 6. , 3. , 1. ],\n",
       "       [7.1, 9. , 4. , 5. , 1. ],\n",
       "       [4.5, 5. , 7. , 2. , 0. ],\n",
       "       [6.7, 8. , 5. , 4. , 1. ],\n",
       "       [5.4, 7. , 6. , 3. , 1. ],\n",
       "       [6.4, 8. , 5. , 4. , 1. ],\n",
       "       [4.7, 5. , 7. , 2. , 0. ],\n",
       "       [5.6, 7. , 6. , 3. , 1. ],\n",
       "       [6.3, 8. , 5. , 4. , 1. ],\n",
       "       [4.8, 5. , 7. , 2. , 0. ],\n",
       "       [6.9, 9. , 4. , 5. , 1. ],\n",
       "       [5.7, 7. , 6. , 3. , 1. ],\n",
       "       [4.4, 4. , 8. , 2. , 0. ],\n",
       "       [6.1, 8. , 5. , 4. , 1. ],\n",
       "       [4.3, 5. , 7. , 2. , 0. ],\n",
       "       [6.4, 8. , 5. , 4. , 1. ],\n",
       "       [4.5, 5. , 7. , 2. , 0. ],\n",
       "       [5.9, 7. , 6. , 3. , 1. ],\n",
       "       [7.2, 9. , 4. , 5. , 1. ],\n",
       "       [4.6, 5. , 7. , 2. , 0. ],\n",
       "       [6.8, 8. , 5. , 4. , 1. ],\n",
       "       [5.3, 7. , 6. , 3. , 1. ],\n",
       "       [6.2, 8. , 5. , 4. , 1. ],\n",
       "       [4.7, 5. , 7. , 2. , 0. ],\n",
       "       [5.8, 7. , 6. , 3. , 1. ],\n",
       "       [6.1, 8. , 5. , 4. , 1. ],\n",
       "       [4.8, 5. , 7. , 2. , 0. ],\n",
       "       [6.7, 9. , 4. , 5. , 1. ],\n",
       "       [5.5, 7. , 6. , 3. , 1. ],\n",
       "       [4.2, 4. , 8. , 2. , 0. ],\n",
       "       [6.3, 8. , 5. , 4. , 1. ],\n",
       "       [4.4, 5. , 7. , 2. , 0. ],\n",
       "       [6.5, 8. , 5. , 4. , 1. ],\n",
       "       [4.6, 5. , 7. , 2. , 0. ],\n",
       "       [5.9, 7. , 6. , 3. , 1. ],\n",
       "       [7. , 9. , 4. , 5. , 1. ],\n",
       "       [4.5, 5. , 7. , 2. , 0. ],\n",
       "       [6.6, 8. , 5. , 4. , 1. ],\n",
       "       [5.5, 7. , 6. , 3. , 1. ],\n",
       "       [6.3, 8. , 5. , 4. , 1. ],\n",
       "       [4.8, 5. , 7. , 2. , 0. ],\n",
       "       [5.7, 7. , 6. , 3. , 1. ],\n",
       "       [6.2, 8. , 5. , 4. , 1. ],\n",
       "       [4.7, 5. , 7. , 2. , 0. ],\n",
       "       [6.8, 9. , 4. , 5. , 1. ],\n",
       "       [5.6, 7. , 6. , 3. , 1. ],\n",
       "       [4.3, 4. , 8. , 2. , 0. ],\n",
       "       [6.2, 8. , 5. , 4. , 1. ]])"
      ]
     },
     "execution_count": 29,
     "metadata": {},
     "output_type": "execute_result"
    }
   ],
   "source": [
    "x_test"
   ]
  },
  {
   "cell_type": "markdown",
   "id": "75c8072d",
   "metadata": {},
   "source": [
    "### Running Analysis"
   ]
  },
  {
   "cell_type": "markdown",
   "id": "5870fcf2",
   "metadata": {},
   "source": [
    "### Linear Regression Analysis"
   ]
  },
  {
   "cell_type": "code",
   "execution_count": 30,
   "id": "ca13bd80",
   "metadata": {
    "execution": {
     "iopub.status.busy": "2025-05-31T21:07:37.973700Z",
     "iopub.status.idle": "2025-05-31T21:07:37.974164Z",
     "shell.execute_reply": "2025-05-31T21:07:37.973956Z",
     "shell.execute_reply.started": "2025-05-31T21:07:37.973937Z"
    },
    "trusted": true
   },
   "outputs": [
    {
     "data": {
      "text/html": [
       "<style>#sk-container-id-1 {\n",
       "  /* Definition of color scheme common for light and dark mode */\n",
       "  --sklearn-color-text: #000;\n",
       "  --sklearn-color-text-muted: #666;\n",
       "  --sklearn-color-line: gray;\n",
       "  /* Definition of color scheme for unfitted estimators */\n",
       "  --sklearn-color-unfitted-level-0: #fff5e6;\n",
       "  --sklearn-color-unfitted-level-1: #f6e4d2;\n",
       "  --sklearn-color-unfitted-level-2: #ffe0b3;\n",
       "  --sklearn-color-unfitted-level-3: chocolate;\n",
       "  /* Definition of color scheme for fitted estimators */\n",
       "  --sklearn-color-fitted-level-0: #f0f8ff;\n",
       "  --sklearn-color-fitted-level-1: #d4ebff;\n",
       "  --sklearn-color-fitted-level-2: #b3dbfd;\n",
       "  --sklearn-color-fitted-level-3: cornflowerblue;\n",
       "\n",
       "  /* Specific color for light theme */\n",
       "  --sklearn-color-text-on-default-background: var(--sg-text-color, var(--theme-code-foreground, var(--jp-content-font-color1, black)));\n",
       "  --sklearn-color-background: var(--sg-background-color, var(--theme-background, var(--jp-layout-color0, white)));\n",
       "  --sklearn-color-border-box: var(--sg-text-color, var(--theme-code-foreground, var(--jp-content-font-color1, black)));\n",
       "  --sklearn-color-icon: #696969;\n",
       "\n",
       "  @media (prefers-color-scheme: dark) {\n",
       "    /* Redefinition of color scheme for dark theme */\n",
       "    --sklearn-color-text-on-default-background: var(--sg-text-color, var(--theme-code-foreground, var(--jp-content-font-color1, white)));\n",
       "    --sklearn-color-background: var(--sg-background-color, var(--theme-background, var(--jp-layout-color0, #111)));\n",
       "    --sklearn-color-border-box: var(--sg-text-color, var(--theme-code-foreground, var(--jp-content-font-color1, white)));\n",
       "    --sklearn-color-icon: #878787;\n",
       "  }\n",
       "}\n",
       "\n",
       "#sk-container-id-1 {\n",
       "  color: var(--sklearn-color-text);\n",
       "}\n",
       "\n",
       "#sk-container-id-1 pre {\n",
       "  padding: 0;\n",
       "}\n",
       "\n",
       "#sk-container-id-1 input.sk-hidden--visually {\n",
       "  border: 0;\n",
       "  clip: rect(1px 1px 1px 1px);\n",
       "  clip: rect(1px, 1px, 1px, 1px);\n",
       "  height: 1px;\n",
       "  margin: -1px;\n",
       "  overflow: hidden;\n",
       "  padding: 0;\n",
       "  position: absolute;\n",
       "  width: 1px;\n",
       "}\n",
       "\n",
       "#sk-container-id-1 div.sk-dashed-wrapped {\n",
       "  border: 1px dashed var(--sklearn-color-line);\n",
       "  margin: 0 0.4em 0.5em 0.4em;\n",
       "  box-sizing: border-box;\n",
       "  padding-bottom: 0.4em;\n",
       "  background-color: var(--sklearn-color-background);\n",
       "}\n",
       "\n",
       "#sk-container-id-1 div.sk-container {\n",
       "  /* jupyter's `normalize.less` sets `[hidden] { display: none; }`\n",
       "     but bootstrap.min.css set `[hidden] { display: none !important; }`\n",
       "     so we also need the `!important` here to be able to override the\n",
       "     default hidden behavior on the sphinx rendered scikit-learn.org.\n",
       "     See: https://github.com/scikit-learn/scikit-learn/issues/21755 */\n",
       "  display: inline-block !important;\n",
       "  position: relative;\n",
       "}\n",
       "\n",
       "#sk-container-id-1 div.sk-text-repr-fallback {\n",
       "  display: none;\n",
       "}\n",
       "\n",
       "div.sk-parallel-item,\n",
       "div.sk-serial,\n",
       "div.sk-item {\n",
       "  /* draw centered vertical line to link estimators */\n",
       "  background-image: linear-gradient(var(--sklearn-color-text-on-default-background), var(--sklearn-color-text-on-default-background));\n",
       "  background-size: 2px 100%;\n",
       "  background-repeat: no-repeat;\n",
       "  background-position: center center;\n",
       "}\n",
       "\n",
       "/* Parallel-specific style estimator block */\n",
       "\n",
       "#sk-container-id-1 div.sk-parallel-item::after {\n",
       "  content: \"\";\n",
       "  width: 100%;\n",
       "  border-bottom: 2px solid var(--sklearn-color-text-on-default-background);\n",
       "  flex-grow: 1;\n",
       "}\n",
       "\n",
       "#sk-container-id-1 div.sk-parallel {\n",
       "  display: flex;\n",
       "  align-items: stretch;\n",
       "  justify-content: center;\n",
       "  background-color: var(--sklearn-color-background);\n",
       "  position: relative;\n",
       "}\n",
       "\n",
       "#sk-container-id-1 div.sk-parallel-item {\n",
       "  display: flex;\n",
       "  flex-direction: column;\n",
       "}\n",
       "\n",
       "#sk-container-id-1 div.sk-parallel-item:first-child::after {\n",
       "  align-self: flex-end;\n",
       "  width: 50%;\n",
       "}\n",
       "\n",
       "#sk-container-id-1 div.sk-parallel-item:last-child::after {\n",
       "  align-self: flex-start;\n",
       "  width: 50%;\n",
       "}\n",
       "\n",
       "#sk-container-id-1 div.sk-parallel-item:only-child::after {\n",
       "  width: 0;\n",
       "}\n",
       "\n",
       "/* Serial-specific style estimator block */\n",
       "\n",
       "#sk-container-id-1 div.sk-serial {\n",
       "  display: flex;\n",
       "  flex-direction: column;\n",
       "  align-items: center;\n",
       "  background-color: var(--sklearn-color-background);\n",
       "  padding-right: 1em;\n",
       "  padding-left: 1em;\n",
       "}\n",
       "\n",
       "\n",
       "/* Toggleable style: style used for estimator/Pipeline/ColumnTransformer box that is\n",
       "clickable and can be expanded/collapsed.\n",
       "- Pipeline and ColumnTransformer use this feature and define the default style\n",
       "- Estimators will overwrite some part of the style using the `sk-estimator` class\n",
       "*/\n",
       "\n",
       "/* Pipeline and ColumnTransformer style (default) */\n",
       "\n",
       "#sk-container-id-1 div.sk-toggleable {\n",
       "  /* Default theme specific background. It is overwritten whether we have a\n",
       "  specific estimator or a Pipeline/ColumnTransformer */\n",
       "  background-color: var(--sklearn-color-background);\n",
       "}\n",
       "\n",
       "/* Toggleable label */\n",
       "#sk-container-id-1 label.sk-toggleable__label {\n",
       "  cursor: pointer;\n",
       "  display: flex;\n",
       "  width: 100%;\n",
       "  margin-bottom: 0;\n",
       "  padding: 0.5em;\n",
       "  box-sizing: border-box;\n",
       "  text-align: center;\n",
       "  align-items: start;\n",
       "  justify-content: space-between;\n",
       "  gap: 0.5em;\n",
       "}\n",
       "\n",
       "#sk-container-id-1 label.sk-toggleable__label .caption {\n",
       "  font-size: 0.6rem;\n",
       "  font-weight: lighter;\n",
       "  color: var(--sklearn-color-text-muted);\n",
       "}\n",
       "\n",
       "#sk-container-id-1 label.sk-toggleable__label-arrow:before {\n",
       "  /* Arrow on the left of the label */\n",
       "  content: \"▸\";\n",
       "  float: left;\n",
       "  margin-right: 0.25em;\n",
       "  color: var(--sklearn-color-icon);\n",
       "}\n",
       "\n",
       "#sk-container-id-1 label.sk-toggleable__label-arrow:hover:before {\n",
       "  color: var(--sklearn-color-text);\n",
       "}\n",
       "\n",
       "/* Toggleable content - dropdown */\n",
       "\n",
       "#sk-container-id-1 div.sk-toggleable__content {\n",
       "  max-height: 0;\n",
       "  max-width: 0;\n",
       "  overflow: hidden;\n",
       "  text-align: left;\n",
       "  /* unfitted */\n",
       "  background-color: var(--sklearn-color-unfitted-level-0);\n",
       "}\n",
       "\n",
       "#sk-container-id-1 div.sk-toggleable__content.fitted {\n",
       "  /* fitted */\n",
       "  background-color: var(--sklearn-color-fitted-level-0);\n",
       "}\n",
       "\n",
       "#sk-container-id-1 div.sk-toggleable__content pre {\n",
       "  margin: 0.2em;\n",
       "  border-radius: 0.25em;\n",
       "  color: var(--sklearn-color-text);\n",
       "  /* unfitted */\n",
       "  background-color: var(--sklearn-color-unfitted-level-0);\n",
       "}\n",
       "\n",
       "#sk-container-id-1 div.sk-toggleable__content.fitted pre {\n",
       "  /* unfitted */\n",
       "  background-color: var(--sklearn-color-fitted-level-0);\n",
       "}\n",
       "\n",
       "#sk-container-id-1 input.sk-toggleable__control:checked~div.sk-toggleable__content {\n",
       "  /* Expand drop-down */\n",
       "  max-height: 200px;\n",
       "  max-width: 100%;\n",
       "  overflow: auto;\n",
       "}\n",
       "\n",
       "#sk-container-id-1 input.sk-toggleable__control:checked~label.sk-toggleable__label-arrow:before {\n",
       "  content: \"▾\";\n",
       "}\n",
       "\n",
       "/* Pipeline/ColumnTransformer-specific style */\n",
       "\n",
       "#sk-container-id-1 div.sk-label input.sk-toggleable__control:checked~label.sk-toggleable__label {\n",
       "  color: var(--sklearn-color-text);\n",
       "  background-color: var(--sklearn-color-unfitted-level-2);\n",
       "}\n",
       "\n",
       "#sk-container-id-1 div.sk-label.fitted input.sk-toggleable__control:checked~label.sk-toggleable__label {\n",
       "  background-color: var(--sklearn-color-fitted-level-2);\n",
       "}\n",
       "\n",
       "/* Estimator-specific style */\n",
       "\n",
       "/* Colorize estimator box */\n",
       "#sk-container-id-1 div.sk-estimator input.sk-toggleable__control:checked~label.sk-toggleable__label {\n",
       "  /* unfitted */\n",
       "  background-color: var(--sklearn-color-unfitted-level-2);\n",
       "}\n",
       "\n",
       "#sk-container-id-1 div.sk-estimator.fitted input.sk-toggleable__control:checked~label.sk-toggleable__label {\n",
       "  /* fitted */\n",
       "  background-color: var(--sklearn-color-fitted-level-2);\n",
       "}\n",
       "\n",
       "#sk-container-id-1 div.sk-label label.sk-toggleable__label,\n",
       "#sk-container-id-1 div.sk-label label {\n",
       "  /* The background is the default theme color */\n",
       "  color: var(--sklearn-color-text-on-default-background);\n",
       "}\n",
       "\n",
       "/* On hover, darken the color of the background */\n",
       "#sk-container-id-1 div.sk-label:hover label.sk-toggleable__label {\n",
       "  color: var(--sklearn-color-text);\n",
       "  background-color: var(--sklearn-color-unfitted-level-2);\n",
       "}\n",
       "\n",
       "/* Label box, darken color on hover, fitted */\n",
       "#sk-container-id-1 div.sk-label.fitted:hover label.sk-toggleable__label.fitted {\n",
       "  color: var(--sklearn-color-text);\n",
       "  background-color: var(--sklearn-color-fitted-level-2);\n",
       "}\n",
       "\n",
       "/* Estimator label */\n",
       "\n",
       "#sk-container-id-1 div.sk-label label {\n",
       "  font-family: monospace;\n",
       "  font-weight: bold;\n",
       "  display: inline-block;\n",
       "  line-height: 1.2em;\n",
       "}\n",
       "\n",
       "#sk-container-id-1 div.sk-label-container {\n",
       "  text-align: center;\n",
       "}\n",
       "\n",
       "/* Estimator-specific */\n",
       "#sk-container-id-1 div.sk-estimator {\n",
       "  font-family: monospace;\n",
       "  border: 1px dotted var(--sklearn-color-border-box);\n",
       "  border-radius: 0.25em;\n",
       "  box-sizing: border-box;\n",
       "  margin-bottom: 0.5em;\n",
       "  /* unfitted */\n",
       "  background-color: var(--sklearn-color-unfitted-level-0);\n",
       "}\n",
       "\n",
       "#sk-container-id-1 div.sk-estimator.fitted {\n",
       "  /* fitted */\n",
       "  background-color: var(--sklearn-color-fitted-level-0);\n",
       "}\n",
       "\n",
       "/* on hover */\n",
       "#sk-container-id-1 div.sk-estimator:hover {\n",
       "  /* unfitted */\n",
       "  background-color: var(--sklearn-color-unfitted-level-2);\n",
       "}\n",
       "\n",
       "#sk-container-id-1 div.sk-estimator.fitted:hover {\n",
       "  /* fitted */\n",
       "  background-color: var(--sklearn-color-fitted-level-2);\n",
       "}\n",
       "\n",
       "/* Specification for estimator info (e.g. \"i\" and \"?\") */\n",
       "\n",
       "/* Common style for \"i\" and \"?\" */\n",
       "\n",
       ".sk-estimator-doc-link,\n",
       "a:link.sk-estimator-doc-link,\n",
       "a:visited.sk-estimator-doc-link {\n",
       "  float: right;\n",
       "  font-size: smaller;\n",
       "  line-height: 1em;\n",
       "  font-family: monospace;\n",
       "  background-color: var(--sklearn-color-background);\n",
       "  border-radius: 1em;\n",
       "  height: 1em;\n",
       "  width: 1em;\n",
       "  text-decoration: none !important;\n",
       "  margin-left: 0.5em;\n",
       "  text-align: center;\n",
       "  /* unfitted */\n",
       "  border: var(--sklearn-color-unfitted-level-1) 1pt solid;\n",
       "  color: var(--sklearn-color-unfitted-level-1);\n",
       "}\n",
       "\n",
       ".sk-estimator-doc-link.fitted,\n",
       "a:link.sk-estimator-doc-link.fitted,\n",
       "a:visited.sk-estimator-doc-link.fitted {\n",
       "  /* fitted */\n",
       "  border: var(--sklearn-color-fitted-level-1) 1pt solid;\n",
       "  color: var(--sklearn-color-fitted-level-1);\n",
       "}\n",
       "\n",
       "/* On hover */\n",
       "div.sk-estimator:hover .sk-estimator-doc-link:hover,\n",
       ".sk-estimator-doc-link:hover,\n",
       "div.sk-label-container:hover .sk-estimator-doc-link:hover,\n",
       ".sk-estimator-doc-link:hover {\n",
       "  /* unfitted */\n",
       "  background-color: var(--sklearn-color-unfitted-level-3);\n",
       "  color: var(--sklearn-color-background);\n",
       "  text-decoration: none;\n",
       "}\n",
       "\n",
       "div.sk-estimator.fitted:hover .sk-estimator-doc-link.fitted:hover,\n",
       ".sk-estimator-doc-link.fitted:hover,\n",
       "div.sk-label-container:hover .sk-estimator-doc-link.fitted:hover,\n",
       ".sk-estimator-doc-link.fitted:hover {\n",
       "  /* fitted */\n",
       "  background-color: var(--sklearn-color-fitted-level-3);\n",
       "  color: var(--sklearn-color-background);\n",
       "  text-decoration: none;\n",
       "}\n",
       "\n",
       "/* Span, style for the box shown on hovering the info icon */\n",
       ".sk-estimator-doc-link span {\n",
       "  display: none;\n",
       "  z-index: 9999;\n",
       "  position: relative;\n",
       "  font-weight: normal;\n",
       "  right: .2ex;\n",
       "  padding: .5ex;\n",
       "  margin: .5ex;\n",
       "  width: min-content;\n",
       "  min-width: 20ex;\n",
       "  max-width: 50ex;\n",
       "  color: var(--sklearn-color-text);\n",
       "  box-shadow: 2pt 2pt 4pt #999;\n",
       "  /* unfitted */\n",
       "  background: var(--sklearn-color-unfitted-level-0);\n",
       "  border: .5pt solid var(--sklearn-color-unfitted-level-3);\n",
       "}\n",
       "\n",
       ".sk-estimator-doc-link.fitted span {\n",
       "  /* fitted */\n",
       "  background: var(--sklearn-color-fitted-level-0);\n",
       "  border: var(--sklearn-color-fitted-level-3);\n",
       "}\n",
       "\n",
       ".sk-estimator-doc-link:hover span {\n",
       "  display: block;\n",
       "}\n",
       "\n",
       "/* \"?\"-specific style due to the `<a>` HTML tag */\n",
       "\n",
       "#sk-container-id-1 a.estimator_doc_link {\n",
       "  float: right;\n",
       "  font-size: 1rem;\n",
       "  line-height: 1em;\n",
       "  font-family: monospace;\n",
       "  background-color: var(--sklearn-color-background);\n",
       "  border-radius: 1rem;\n",
       "  height: 1rem;\n",
       "  width: 1rem;\n",
       "  text-decoration: none;\n",
       "  /* unfitted */\n",
       "  color: var(--sklearn-color-unfitted-level-1);\n",
       "  border: var(--sklearn-color-unfitted-level-1) 1pt solid;\n",
       "}\n",
       "\n",
       "#sk-container-id-1 a.estimator_doc_link.fitted {\n",
       "  /* fitted */\n",
       "  border: var(--sklearn-color-fitted-level-1) 1pt solid;\n",
       "  color: var(--sklearn-color-fitted-level-1);\n",
       "}\n",
       "\n",
       "/* On hover */\n",
       "#sk-container-id-1 a.estimator_doc_link:hover {\n",
       "  /* unfitted */\n",
       "  background-color: var(--sklearn-color-unfitted-level-3);\n",
       "  color: var(--sklearn-color-background);\n",
       "  text-decoration: none;\n",
       "}\n",
       "\n",
       "#sk-container-id-1 a.estimator_doc_link.fitted:hover {\n",
       "  /* fitted */\n",
       "  background-color: var(--sklearn-color-fitted-level-3);\n",
       "}\n",
       "</style><div id=\"sk-container-id-1\" class=\"sk-top-container\"><div class=\"sk-text-repr-fallback\"><pre>LinearRegression()</pre><b>In a Jupyter environment, please rerun this cell to show the HTML representation or trust the notebook. <br />On GitHub, the HTML representation is unable to render, please try loading this page with nbviewer.org.</b></div><div class=\"sk-container\" hidden><div class=\"sk-item\"><div class=\"sk-estimator fitted sk-toggleable\"><input class=\"sk-toggleable__control sk-hidden--visually\" id=\"sk-estimator-id-1\" type=\"checkbox\" checked><label for=\"sk-estimator-id-1\" class=\"sk-toggleable__label fitted sk-toggleable__label-arrow\"><div><div>LinearRegression</div></div><div><a class=\"sk-estimator-doc-link fitted\" rel=\"noreferrer\" target=\"_blank\" href=\"https://scikit-learn.org/1.6/modules/generated/sklearn.linear_model.LinearRegression.html\">?<span>Documentation for LinearRegression</span></a><span class=\"sk-estimator-doc-link fitted\">i<span>Fitted</span></span></div></label><div class=\"sk-toggleable__content fitted\"><pre>LinearRegression()</pre></div> </div></div></div></div>"
      ],
      "text/plain": [
       "LinearRegression()"
      ]
     },
     "execution_count": 30,
     "metadata": {},
     "output_type": "execute_result"
    }
   ],
   "source": [
    "regr = LinearRegression()\n",
    "regr.fit(x_train, y_train)"
   ]
  },
  {
   "cell_type": "code",
   "execution_count": 31,
   "id": "50910339",
   "metadata": {
    "execution": {
     "iopub.status.busy": "2025-05-31T21:07:37.975212Z",
     "iopub.status.idle": "2025-05-31T21:07:37.975562Z",
     "shell.execute_reply": "2025-05-31T21:07:37.975432Z",
     "shell.execute_reply.started": "2025-05-31T21:07:37.975417Z"
    },
    "trusted": true
   },
   "outputs": [],
   "source": [
    "y_pred = regr.predict(x_test).flatten()"
   ]
  },
  {
   "cell_type": "markdown",
   "id": "0610d38a",
   "metadata": {},
   "source": [
    "The $r^2$-score is 0.637, which is a decently high score. "
   ]
  },
  {
   "cell_type": "code",
   "execution_count": 32,
   "id": "a8543dc6",
   "metadata": {
    "execution": {
     "iopub.status.busy": "2025-05-31T21:07:37.976496Z",
     "iopub.status.idle": "2025-05-31T21:07:37.976788Z",
     "shell.execute_reply": "2025-05-31T21:07:37.976670Z",
     "shell.execute_reply.started": "2025-05-31T21:07:37.976657Z"
    },
    "trusted": true
   },
   "outputs": [
    {
     "data": {
      "text/plain": [
       "0.6372994141351911"
      ]
     },
     "execution_count": 32,
     "metadata": {},
     "output_type": "execute_result"
    }
   ],
   "source": [
    "r2_score(y_test,y_pred)"
   ]
  },
  {
   "cell_type": "markdown",
   "id": "a2204b27",
   "metadata": {},
   "source": [
    "The linear model's predictions about sleep time are on average 4.75% higher/lower than the true value."
   ]
  },
  {
   "cell_type": "code",
   "execution_count": 33,
   "id": "d1f100be",
   "metadata": {
    "execution": {
     "iopub.status.busy": "2025-05-31T21:07:37.977564Z",
     "iopub.status.idle": "2025-05-31T21:07:37.978458Z",
     "shell.execute_reply": "2025-05-31T21:07:37.977738Z",
     "shell.execute_reply.started": "2025-05-31T21:07:37.977722Z"
    },
    "trusted": true
   },
   "outputs": [
    {
     "data": {
      "text/plain": [
       "0.047539270146008866"
      ]
     },
     "execution_count": 33,
     "metadata": {},
     "output_type": "execute_result"
    }
   ],
   "source": [
    "mean_absolute_percentage_error(y_test, y_pred)"
   ]
  },
  {
   "cell_type": "markdown",
   "id": "825fa64a",
   "metadata": {},
   "source": [
    "#### Visualizing Residuals"
   ]
  },
  {
   "cell_type": "markdown",
   "id": "85a7d38c",
   "metadata": {},
   "source": [
    "The red points represent the true x and y combinations, while the orange ones show the model's predictions."
   ]
  },
  {
   "cell_type": "code",
   "execution_count": 34,
   "id": "a7c8b78e",
   "metadata": {
    "execution": {
     "iopub.status.busy": "2025-05-31T21:07:37.980514Z",
     "iopub.status.idle": "2025-05-31T21:07:37.980819Z",
     "shell.execute_reply": "2025-05-31T21:07:37.980706Z",
     "shell.execute_reply.started": "2025-05-31T21:07:37.980694Z"
    },
    "trusted": true
   },
   "outputs": [
    {
     "data": {
      "application/vnd.plotly.v1+json": {
       "config": {
        "plotlyServerURL": "https://plot.ly"
       },
       "data": [
        {
         "marker": {
          "color": "red"
         },
         "mode": "markers",
         "type": "scatter",
         "x": {
          "bdata": "zczMzMzMFkBmZmZmZmYYQGZmZmZmZhxAzczMzMzMDECamZmZmZkdQM3MzMzMzBBAZmZmZmZmGEBmZmZmZmYOQAAAAAAAABZAzczMzMzMHEDNzMzMzMwQQDMzMzMzMxtAmpmZmZmZF0AAAAAAAAAaQM3MzMzMzBJAzczMzMzMFEAzMzMzMzMZQJqZmZmZmRNAzczMzMzMGkAzMzMzMzMXQAAAAAAAABJAmpmZmZmZGUBmZmZmZmYQQGZmZmZmZhpAmpmZmZmZEUDNzMzMzMwWQAAAAAAAABxAMzMzMzMzEUCamZmZmZkbQGZmZmZmZhZAzczMzMzMGEAzMzMzMzMXQJqZmZmZmRNAmpmZmZmZGUBmZmZmZmYUQM3MzMzMzBpAAAAAAAAAFkAzMzMzMzMRQM3MzMzMzBhAAAAAAAAAEkAzMzMzMzMZQM3MzMzMzBJAmpmZmZmZF0BmZmZmZmYcQJqZmZmZmRFAZmZmZmZmGkCamZmZmZkVQAAAAAAAABpAMzMzMzMzE0DNzMzMzMwWQGZmZmZmZhhAZmZmZmZmEkAzMzMzMzMbQGZmZmZmZhZAzczMzMzMEEAzMzMzMzMZQJqZmZmZmRFAAAAAAAAAGkBmZmZmZmYSQDMzMzMzMxdAAAAAAAAAHEAAAAAAAAASQM3MzMzMzBpAAAAAAAAAFkCamZmZmZkZQM3MzMzMzBJAZmZmZmZmFkDNzMzMzMwYQDMzMzMzMxNAmpmZmZmZG0DNzMzMzMwWQJqZmZmZmRFAZmZmZmZmGEAzMzMzMzMRQJqZmZmZmRlAAAAAAAAAEkCamZmZmZkXQM3MzMzMzBxAZmZmZmZmEkAzMzMzMzMbQDMzMzMzMxVAMzMzMzMzGUAzMzMzMzMTQM3MzMzMzBZAzczMzMzMGEDNzMzMzMwSQDMzMzMzMxtAZmZmZmZmFkAzMzMzMzMRQM3MzMzMzBhAmpmZmZmZEUAAAAAAAAAaQGZmZmZmZhJAMzMzMzMzF0BmZmZmZmYcQAAAAAAAABJAzczMzMzMGkCamZmZmZkVQJqZmZmZmRlAzczMzMzMEkBmZmZmZmYWQDMzMzMzMxlAMzMzMzMzE0CamZmZmZkbQM3MzMzMzBZAmpmZmZmZEUBmZmZmZmYYQDMzMzMzMxFAmpmZmZmZGUAAAAAAAAASQJqZmZmZmRdAzczMzMzMHEBmZmZmZmYSQDMzMzMzMxtAMzMzMzMzFUDNzMzMzMwYQM3MzMzMzBJAMzMzMzMzF0BmZmZmZmYYQDMzMzMzMxNAzczMzMzMGkAAAAAAAAAWQM3MzMzMzBBAMzMzMzMzGUCamZmZmZkRQAAAAAAAABpAZmZmZmZmEkCamZmZmZkXQAAAAAAAABxAAAAAAAAAEkBmZmZmZmYaQAAAAAAAABZAMzMzMzMzGUAzMzMzMzMTQM3MzMzMzBZAzczMzMzMGEDNzMzMzMwSQDMzMzMzMxtAZmZmZmZmFkAzMzMzMzMRQM3MzMzMzBhA",
          "dtype": "f8"
         },
         "y": {
          "bdata": "mpmZmZmZGUDNzMzMzMwYQJqZmZmZmRdAAAAAAAAAIUCamZmZmZkVQAAAAAAAACBAzczMzMzMHEAzMzMzMzMfQDMzMzMzMxtAmpmZmZmZF0AAAAAAAAAeQM3MzMzMzBhAzczMzMzMGkBmZmZmZmYYQJqZmZmZmR1AAAAAAAAAHECamZmZmZkZQDMzMzMzMx1AAAAAAAAAGEAAAAAAAAAaQGZmZmZmZh5AMzMzMzMzGUDNzMzMzMweQM3MzMzMzBhAmpmZmZmZHUAzMzMzMzMbQDMzMzMzMxdAAAAAAAAAHkBmZmZmZmYYQJqZmZmZmRtAMzMzMzMzGUDNzMzMzMwaQDMzMzMzMx1AzczMzMzMGEBmZmZmZmYcQAAAAAAAABhAMzMzMzMzG0BmZmZmZmYeQJqZmZmZmRlAmpmZmZmZHUAzMzMzMzMZQM3MzMzMzBxAZmZmZmZmGkDNzMzMzMwWQJqZmZmZmR1AzczMzMzMGECamZmZmZkbQGZmZmZmZhhAMzMzMzMzHUDNzMzMzMwaQJqZmZmZmRlAzczMzMzMHECamZmZmZkXQDMzMzMzMxtAAAAAAAAAHkAzMzMzMzMZQJqZmZmZmR1AzczMzMzMGEAzMzMzMzMdQGZmZmZmZhpAMzMzMzMzF0AzMzMzMzMdQGZmZmZmZhhAMzMzMzMzG0DNzMzMzMwYQM3MzMzMzBxAzczMzMzMGkAzMzMzMzMZQGZmZmZmZhxAmpmZmZmZF0DNzMzMzMwaQJqZmZmZmR1AmpmZmZmZGUAAAAAAAAAeQM3MzMzMzBhAMzMzMzMzHUAAAAAAAAAaQM3MzMzMzBZAzczMzMzMHEAAAAAAAAAYQDMzMzMzMxtAzczMzMzMGEBmZmZmZmYcQGZmZmZmZhpAMzMzMzMzGUDNzMzMzMwcQJqZmZmZmRdAzczMzMzMGkAAAAAAAAAeQDMzMzMzMxlAmpmZmZmZHUBmZmZmZmYYQDMzMzMzMx1AZmZmZmZmGkAzMzMzMzMXQDMzMzMzMx1AAAAAAAAAGEAzMzMzMzMbQM3MzMzMzBhAzczMzMzMHEDNzMzMzMwaQM3MzMzMzBhAZmZmZmZmHECamZmZmZkXQM3MzMzMzBpAmpmZmZmZHUCamZmZmZkZQAAAAAAAAB5AzczMzMzMGEAzMzMzMzMdQAAAAAAAABpAzczMzMzMFkDNzMzMzMwcQAAAAAAAABhAMzMzMzMzG0AzMzMzMzMZQM3MzMzMzBxAZmZmZmZmGkCamZmZmZkZQGZmZmZmZhxAAAAAAAAAGEAzMzMzMzMbQAAAAAAAAB5AzczMzMzMGECamZmZmZkdQGZmZmZmZhhAMzMzMzMzHUAAAAAAAAAaQDMzMzMzMxdAMzMzMzMzHUBmZmZmZmYYQM3MzMzMzBpAzczMzMzMGEBmZmZmZmYcQGZmZmZmZhpAMzMzMzMzGUDNzMzMzMwcQJqZmZmZmRdAzczMzMzMGkAAAAAAAAAeQDMzMzMzMxlA",
          "dtype": "f8"
         }
        },
        {
         "marker": {
          "color": "orange"
         },
         "mode": "markers",
         "type": "scatter",
         "x": {
          "bdata": "zczMzMzMFkBmZmZmZmYYQGZmZmZmZhxAzczMzMzMDECamZmZmZkdQM3MzMzMzBBAZmZmZmZmGEBmZmZmZmYOQAAAAAAAABZAzczMzMzMHEDNzMzMzMwQQDMzMzMzMxtAmpmZmZmZF0AAAAAAAAAaQM3MzMzMzBJAzczMzMzMFEAzMzMzMzMZQJqZmZmZmRNAzczMzMzMGkAzMzMzMzMXQAAAAAAAABJAmpmZmZmZGUBmZmZmZmYQQGZmZmZmZhpAmpmZmZmZEUDNzMzMzMwWQAAAAAAAABxAMzMzMzMzEUCamZmZmZkbQGZmZmZmZhZAzczMzMzMGEAzMzMzMzMXQJqZmZmZmRNAmpmZmZmZGUBmZmZmZmYUQM3MzMzMzBpAAAAAAAAAFkAzMzMzMzMRQM3MzMzMzBhAAAAAAAAAEkAzMzMzMzMZQM3MzMzMzBJAmpmZmZmZF0BmZmZmZmYcQJqZmZmZmRFAZmZmZmZmGkCamZmZmZkVQAAAAAAAABpAMzMzMzMzE0DNzMzMzMwWQGZmZmZmZhhAZmZmZmZmEkAzMzMzMzMbQGZmZmZmZhZAzczMzMzMEEAzMzMzMzMZQJqZmZmZmRFAAAAAAAAAGkBmZmZmZmYSQDMzMzMzMxdAAAAAAAAAHEAAAAAAAAASQM3MzMzMzBpAAAAAAAAAFkCamZmZmZkZQM3MzMzMzBJAZmZmZmZmFkDNzMzMzMwYQDMzMzMzMxNAmpmZmZmZG0DNzMzMzMwWQJqZmZmZmRFAZmZmZmZmGEAzMzMzMzMRQJqZmZmZmRlAAAAAAAAAEkCamZmZmZkXQM3MzMzMzBxAZmZmZmZmEkAzMzMzMzMbQDMzMzMzMxVAMzMzMzMzGUAzMzMzMzMTQM3MzMzMzBZAzczMzMzMGEDNzMzMzMwSQDMzMzMzMxtAZmZmZmZmFkAzMzMzMzMRQM3MzMzMzBhAmpmZmZmZEUAAAAAAAAAaQGZmZmZmZhJAMzMzMzMzF0BmZmZmZmYcQAAAAAAAABJAzczMzMzMGkCamZmZmZkVQJqZmZmZmRlAzczMzMzMEkBmZmZmZmYWQDMzMzMzMxlAMzMzMzMzE0CamZmZmZkbQM3MzMzMzBZAmpmZmZmZEUBmZmZmZmYYQDMzMzMzMxFAmpmZmZmZGUAAAAAAAAASQJqZmZmZmRdAzczMzMzMHEBmZmZmZmYSQDMzMzMzMxtAMzMzMzMzFUDNzMzMzMwYQM3MzMzMzBJAMzMzMzMzF0BmZmZmZmYYQDMzMzMzMxNAzczMzMzMGkAAAAAAAAAWQM3MzMzMzBBAMzMzMzMzGUCamZmZmZkRQAAAAAAAABpAZmZmZmZmEkCamZmZmZkXQAAAAAAAABxAAAAAAAAAEkBmZmZmZmYaQAAAAAAAABZAMzMzMzMzGUAzMzMzMzMTQM3MzMzMzBZAzczMzMzMGEDNzMzMzMwSQDMzMzMzMxtAZmZmZmZmFkAzMzMzMzMRQM3MzMzMzBhA",
          "dtype": "f8"
         },
         "y": {
          "bdata": "CxXJoDGwGEDvLKsN89oXQH+6DuOo7hVAdiERxOiDH0BpTLj0uU4VQFETZng4aR1A3k8duLE5GkCigjfVUlkgQK1hL/oSpxhASZJ1gyviFUBMRWTnCkQeQJMoZdGXjhZA/SA6V5JFGECnlru/hi4XQCnjfq98OR1ASUjyPazwG0C1ikoJJpkXQBvv72XdzhxAmaIsdufDFkAEmwH84XoYQBWv+ih4PR9ArxCDZNZjF0BTvyuMWnkeQKEc9Bo3+RZAPlHVnWvZHUALFcmgMbAYQFeGBM3KTBZARcucQrsOHkCLrp0sSFkWQBKPkEWB5RhAvQQSrnXOF0AEmwH84XoYQBvv72XdzhxArxCDZNZjF0AO+2AcPmQcQNebg6t3YBdAGQlY6tAaGUAjo4lyF6gfQL0EEq51zhdAN9cN+RukHUC1ikoJJpkXQCnjfq98OR1A/SA6V5JFGEBRDD0oexcWQD5R1Z1r2R1AoRz0Gjf5FkAggx+PIFAZQKeWu7+GLhdAI2m3Ci0EHUALFcmgMbAYQMN+2VLFAxhAMV1GVMxuHUBlepMWarcWQBKPkEWB5RhAKR1RF2fdH0C1ikoJJpkXQD5R1Z1r2R1Ap5a7v4YuF0AxXUZUzG4dQASbAfzhehhAV4YEzcpMFkA31w35G6QdQJmiLHbnwxZAGQlY6tAaGUCvEINk1mMXQCnjfq98OR1AEo+QRYHlGEC9BBKudc4XQCNptwotBB1AXQDMcRqCFkALFcmgMbAYQBspws3Hch9Aw37ZUsUDGEBFy5xCuw4eQK8Qg2TWYxdAN9cN+RukHUD9IDpXkkUYQEmSdYMr4hVAMV1GVMxuHUCTKGXRl44WQCf95jNwhRlAtYpKCSaZF0AjabcKLQQdQAsVyaAxsBhAvQQSrnXOF0Ap436vfDkdQGV6kxZqtxZAEo+QRYHlGEAjo4lyF6gfQL0EEq51zhdAPlHVnWvZHUCnlru/hi4XQDFdRlTMbh1ABJsB/OF6GEBRDD0oexcWQDfXDfkbpB1AmaIsdufDFkAggx+PIFAZQK8Qg2TWYxdAKeN+r3w5HUASj5BFgeUYQLWKSgkmmRdAI2m3Ci0EHUBdAMxxGoIWQAsVyaAxsBhAGynCzcdyH0DDftlSxQMYQEXLnEK7Dh5ArxCDZNZjF0A31w35G6QdQP0gOleSRRhASZJ1gyviFUAxXUZUzG4dQJMoZdGXjhZAJ/3mM3CFGUC9BBKudc4XQCnjfq98OR1ABJsB/OF6GEDDftlSxQMYQCNptwotBB1Aa/Rau7nsFkAZCVjq0BoZQCkdURdn3R9AtYpKCSaZF0A+UdWda9kdQKeWu7+GLhdAMV1GVMxuHUD9IDpXkkUYQFeGBM3KTBZAN9cN+RukHUChHPQaN/kWQBkJWOrQGhlAtYpKCSaZF0AjabcKLQQdQAsVyaAxsBhAvQQSrnXOF0Ap436vfDkdQGV6kxZqtxZAEo+QRYHlGEAjo4lyF6gfQL0EEq51zhdA",
          "dtype": "f8"
         }
        }
       ],
       "layout": {
        "template": {
         "data": {
          "bar": [
           {
            "error_x": {
             "color": "#2a3f5f"
            },
            "error_y": {
             "color": "#2a3f5f"
            },
            "marker": {
             "line": {
              "color": "#E5ECF6",
              "width": 0.5
             },
             "pattern": {
              "fillmode": "overlay",
              "size": 10,
              "solidity": 0.2
             }
            },
            "type": "bar"
           }
          ],
          "barpolar": [
           {
            "marker": {
             "line": {
              "color": "#E5ECF6",
              "width": 0.5
             },
             "pattern": {
              "fillmode": "overlay",
              "size": 10,
              "solidity": 0.2
             }
            },
            "type": "barpolar"
           }
          ],
          "carpet": [
           {
            "aaxis": {
             "endlinecolor": "#2a3f5f",
             "gridcolor": "white",
             "linecolor": "white",
             "minorgridcolor": "white",
             "startlinecolor": "#2a3f5f"
            },
            "baxis": {
             "endlinecolor": "#2a3f5f",
             "gridcolor": "white",
             "linecolor": "white",
             "minorgridcolor": "white",
             "startlinecolor": "#2a3f5f"
            },
            "type": "carpet"
           }
          ],
          "choropleth": [
           {
            "colorbar": {
             "outlinewidth": 0,
             "ticks": ""
            },
            "type": "choropleth"
           }
          ],
          "contour": [
           {
            "colorbar": {
             "outlinewidth": 0,
             "ticks": ""
            },
            "colorscale": [
             [
              0,
              "#0d0887"
             ],
             [
              0.1111111111111111,
              "#46039f"
             ],
             [
              0.2222222222222222,
              "#7201a8"
             ],
             [
              0.3333333333333333,
              "#9c179e"
             ],
             [
              0.4444444444444444,
              "#bd3786"
             ],
             [
              0.5555555555555556,
              "#d8576b"
             ],
             [
              0.6666666666666666,
              "#ed7953"
             ],
             [
              0.7777777777777778,
              "#fb9f3a"
             ],
             [
              0.8888888888888888,
              "#fdca26"
             ],
             [
              1,
              "#f0f921"
             ]
            ],
            "type": "contour"
           }
          ],
          "contourcarpet": [
           {
            "colorbar": {
             "outlinewidth": 0,
             "ticks": ""
            },
            "type": "contourcarpet"
           }
          ],
          "heatmap": [
           {
            "colorbar": {
             "outlinewidth": 0,
             "ticks": ""
            },
            "colorscale": [
             [
              0,
              "#0d0887"
             ],
             [
              0.1111111111111111,
              "#46039f"
             ],
             [
              0.2222222222222222,
              "#7201a8"
             ],
             [
              0.3333333333333333,
              "#9c179e"
             ],
             [
              0.4444444444444444,
              "#bd3786"
             ],
             [
              0.5555555555555556,
              "#d8576b"
             ],
             [
              0.6666666666666666,
              "#ed7953"
             ],
             [
              0.7777777777777778,
              "#fb9f3a"
             ],
             [
              0.8888888888888888,
              "#fdca26"
             ],
             [
              1,
              "#f0f921"
             ]
            ],
            "type": "heatmap"
           }
          ],
          "histogram": [
           {
            "marker": {
             "pattern": {
              "fillmode": "overlay",
              "size": 10,
              "solidity": 0.2
             }
            },
            "type": "histogram"
           }
          ],
          "histogram2d": [
           {
            "colorbar": {
             "outlinewidth": 0,
             "ticks": ""
            },
            "colorscale": [
             [
              0,
              "#0d0887"
             ],
             [
              0.1111111111111111,
              "#46039f"
             ],
             [
              0.2222222222222222,
              "#7201a8"
             ],
             [
              0.3333333333333333,
              "#9c179e"
             ],
             [
              0.4444444444444444,
              "#bd3786"
             ],
             [
              0.5555555555555556,
              "#d8576b"
             ],
             [
              0.6666666666666666,
              "#ed7953"
             ],
             [
              0.7777777777777778,
              "#fb9f3a"
             ],
             [
              0.8888888888888888,
              "#fdca26"
             ],
             [
              1,
              "#f0f921"
             ]
            ],
            "type": "histogram2d"
           }
          ],
          "histogram2dcontour": [
           {
            "colorbar": {
             "outlinewidth": 0,
             "ticks": ""
            },
            "colorscale": [
             [
              0,
              "#0d0887"
             ],
             [
              0.1111111111111111,
              "#46039f"
             ],
             [
              0.2222222222222222,
              "#7201a8"
             ],
             [
              0.3333333333333333,
              "#9c179e"
             ],
             [
              0.4444444444444444,
              "#bd3786"
             ],
             [
              0.5555555555555556,
              "#d8576b"
             ],
             [
              0.6666666666666666,
              "#ed7953"
             ],
             [
              0.7777777777777778,
              "#fb9f3a"
             ],
             [
              0.8888888888888888,
              "#fdca26"
             ],
             [
              1,
              "#f0f921"
             ]
            ],
            "type": "histogram2dcontour"
           }
          ],
          "mesh3d": [
           {
            "colorbar": {
             "outlinewidth": 0,
             "ticks": ""
            },
            "type": "mesh3d"
           }
          ],
          "parcoords": [
           {
            "line": {
             "colorbar": {
              "outlinewidth": 0,
              "ticks": ""
             }
            },
            "type": "parcoords"
           }
          ],
          "pie": [
           {
            "automargin": true,
            "type": "pie"
           }
          ],
          "scatter": [
           {
            "fillpattern": {
             "fillmode": "overlay",
             "size": 10,
             "solidity": 0.2
            },
            "type": "scatter"
           }
          ],
          "scatter3d": [
           {
            "line": {
             "colorbar": {
              "outlinewidth": 0,
              "ticks": ""
             }
            },
            "marker": {
             "colorbar": {
              "outlinewidth": 0,
              "ticks": ""
             }
            },
            "type": "scatter3d"
           }
          ],
          "scattercarpet": [
           {
            "marker": {
             "colorbar": {
              "outlinewidth": 0,
              "ticks": ""
             }
            },
            "type": "scattercarpet"
           }
          ],
          "scattergeo": [
           {
            "marker": {
             "colorbar": {
              "outlinewidth": 0,
              "ticks": ""
             }
            },
            "type": "scattergeo"
           }
          ],
          "scattergl": [
           {
            "marker": {
             "colorbar": {
              "outlinewidth": 0,
              "ticks": ""
             }
            },
            "type": "scattergl"
           }
          ],
          "scattermap": [
           {
            "marker": {
             "colorbar": {
              "outlinewidth": 0,
              "ticks": ""
             }
            },
            "type": "scattermap"
           }
          ],
          "scattermapbox": [
           {
            "marker": {
             "colorbar": {
              "outlinewidth": 0,
              "ticks": ""
             }
            },
            "type": "scattermapbox"
           }
          ],
          "scatterpolar": [
           {
            "marker": {
             "colorbar": {
              "outlinewidth": 0,
              "ticks": ""
             }
            },
            "type": "scatterpolar"
           }
          ],
          "scatterpolargl": [
           {
            "marker": {
             "colorbar": {
              "outlinewidth": 0,
              "ticks": ""
             }
            },
            "type": "scatterpolargl"
           }
          ],
          "scatterternary": [
           {
            "marker": {
             "colorbar": {
              "outlinewidth": 0,
              "ticks": ""
             }
            },
            "type": "scatterternary"
           }
          ],
          "surface": [
           {
            "colorbar": {
             "outlinewidth": 0,
             "ticks": ""
            },
            "colorscale": [
             [
              0,
              "#0d0887"
             ],
             [
              0.1111111111111111,
              "#46039f"
             ],
             [
              0.2222222222222222,
              "#7201a8"
             ],
             [
              0.3333333333333333,
              "#9c179e"
             ],
             [
              0.4444444444444444,
              "#bd3786"
             ],
             [
              0.5555555555555556,
              "#d8576b"
             ],
             [
              0.6666666666666666,
              "#ed7953"
             ],
             [
              0.7777777777777778,
              "#fb9f3a"
             ],
             [
              0.8888888888888888,
              "#fdca26"
             ],
             [
              1,
              "#f0f921"
             ]
            ],
            "type": "surface"
           }
          ],
          "table": [
           {
            "cells": {
             "fill": {
              "color": "#EBF0F8"
             },
             "line": {
              "color": "white"
             }
            },
            "header": {
             "fill": {
              "color": "#C8D4E3"
             },
             "line": {
              "color": "white"
             }
            },
            "type": "table"
           }
          ]
         },
         "layout": {
          "annotationdefaults": {
           "arrowcolor": "#2a3f5f",
           "arrowhead": 0,
           "arrowwidth": 1
          },
          "autotypenumbers": "strict",
          "coloraxis": {
           "colorbar": {
            "outlinewidth": 0,
            "ticks": ""
           }
          },
          "colorscale": {
           "diverging": [
            [
             0,
             "#8e0152"
            ],
            [
             0.1,
             "#c51b7d"
            ],
            [
             0.2,
             "#de77ae"
            ],
            [
             0.3,
             "#f1b6da"
            ],
            [
             0.4,
             "#fde0ef"
            ],
            [
             0.5,
             "#f7f7f7"
            ],
            [
             0.6,
             "#e6f5d0"
            ],
            [
             0.7,
             "#b8e186"
            ],
            [
             0.8,
             "#7fbc41"
            ],
            [
             0.9,
             "#4d9221"
            ],
            [
             1,
             "#276419"
            ]
           ],
           "sequential": [
            [
             0,
             "#0d0887"
            ],
            [
             0.1111111111111111,
             "#46039f"
            ],
            [
             0.2222222222222222,
             "#7201a8"
            ],
            [
             0.3333333333333333,
             "#9c179e"
            ],
            [
             0.4444444444444444,
             "#bd3786"
            ],
            [
             0.5555555555555556,
             "#d8576b"
            ],
            [
             0.6666666666666666,
             "#ed7953"
            ],
            [
             0.7777777777777778,
             "#fb9f3a"
            ],
            [
             0.8888888888888888,
             "#fdca26"
            ],
            [
             1,
             "#f0f921"
            ]
           ],
           "sequentialminus": [
            [
             0,
             "#0d0887"
            ],
            [
             0.1111111111111111,
             "#46039f"
            ],
            [
             0.2222222222222222,
             "#7201a8"
            ],
            [
             0.3333333333333333,
             "#9c179e"
            ],
            [
             0.4444444444444444,
             "#bd3786"
            ],
            [
             0.5555555555555556,
             "#d8576b"
            ],
            [
             0.6666666666666666,
             "#ed7953"
            ],
            [
             0.7777777777777778,
             "#fb9f3a"
            ],
            [
             0.8888888888888888,
             "#fdca26"
            ],
            [
             1,
             "#f0f921"
            ]
           ]
          },
          "colorway": [
           "#636efa",
           "#EF553B",
           "#00cc96",
           "#ab63fa",
           "#FFA15A",
           "#19d3f3",
           "#FF6692",
           "#B6E880",
           "#FF97FF",
           "#FECB52"
          ],
          "font": {
           "color": "#2a3f5f"
          },
          "geo": {
           "bgcolor": "white",
           "lakecolor": "white",
           "landcolor": "#E5ECF6",
           "showlakes": true,
           "showland": true,
           "subunitcolor": "white"
          },
          "hoverlabel": {
           "align": "left"
          },
          "hovermode": "closest",
          "mapbox": {
           "style": "light"
          },
          "paper_bgcolor": "white",
          "plot_bgcolor": "#E5ECF6",
          "polar": {
           "angularaxis": {
            "gridcolor": "white",
            "linecolor": "white",
            "ticks": ""
           },
           "bgcolor": "#E5ECF6",
           "radialaxis": {
            "gridcolor": "white",
            "linecolor": "white",
            "ticks": ""
           }
          },
          "scene": {
           "xaxis": {
            "backgroundcolor": "#E5ECF6",
            "gridcolor": "white",
            "gridwidth": 2,
            "linecolor": "white",
            "showbackground": true,
            "ticks": "",
            "zerolinecolor": "white"
           },
           "yaxis": {
            "backgroundcolor": "#E5ECF6",
            "gridcolor": "white",
            "gridwidth": 2,
            "linecolor": "white",
            "showbackground": true,
            "ticks": "",
            "zerolinecolor": "white"
           },
           "zaxis": {
            "backgroundcolor": "#E5ECF6",
            "gridcolor": "white",
            "gridwidth": 2,
            "linecolor": "white",
            "showbackground": true,
            "ticks": "",
            "zerolinecolor": "white"
           }
          },
          "shapedefaults": {
           "line": {
            "color": "#2a3f5f"
           }
          },
          "ternary": {
           "aaxis": {
            "gridcolor": "white",
            "linecolor": "white",
            "ticks": ""
           },
           "baxis": {
            "gridcolor": "white",
            "linecolor": "white",
            "ticks": ""
           },
           "bgcolor": "#E5ECF6",
           "caxis": {
            "gridcolor": "white",
            "linecolor": "white",
            "ticks": ""
           }
          },
          "title": {
           "x": 0.05
          },
          "xaxis": {
           "automargin": true,
           "gridcolor": "white",
           "linecolor": "white",
           "ticks": "",
           "title": {
            "standoff": 15
           },
           "zerolinecolor": "white",
           "zerolinewidth": 2
          },
          "yaxis": {
           "automargin": true,
           "gridcolor": "white",
           "linecolor": "white",
           "ticks": "",
           "title": {
            "standoff": 15
           },
           "zerolinecolor": "white",
           "zerolinewidth": 2
          }
         }
        }
       }
      }
     },
     "metadata": {},
     "output_type": "display_data"
    }
   ],
   "source": [
    "fig = go.Figure()\n",
    "\n",
    "fig.add_scatter(\n",
    "    x=x_test[:,0].flatten(),\n",
    "    y=y_test.flatten(),\n",
    "    mode=\"markers\",\n",
    "    marker=dict(color=\"red\")\n",
    ")\n",
    "\n",
    "fig.add_scatter(\n",
    "    x=x_test[:,0].flatten(),\n",
    "    y=y_pred,\n",
    "    mode=\"markers\",\n",
    "    marker=dict(color=\"orange\")\n",
    ")\n",
    "\n",
    "fig"
   ]
  },
  {
   "cell_type": "markdown",
   "id": "de722a41",
   "metadata": {},
   "source": [
    "### Random Forest"
   ]
  },
  {
   "cell_type": "markdown",
   "id": "d6ada539",
   "metadata": {},
   "source": [
    "In order to find the best combination of the max depth of the decision trees and how many trees the random forest model should use, a GridSearch is ran. It iterates through all possible given combinations, finding the combination which maximizies the $r^2$-score."
   ]
  },
  {
   "cell_type": "code",
   "execution_count": 35,
   "id": "64f63ca8",
   "metadata": {
    "execution": {
     "iopub.status.busy": "2025-05-31T21:07:37.982666Z",
     "iopub.status.idle": "2025-05-31T21:07:37.983433Z",
     "shell.execute_reply": "2025-05-31T21:07:37.982939Z",
     "shell.execute_reply.started": "2025-05-31T21:07:37.982920Z"
    },
    "trusted": true
   },
   "outputs": [
    {
     "name": "stdout",
     "output_type": "stream",
     "text": [
      "max_depth=2: Mean R² = 0.419\n",
      "max_depth=2: Mean R² = 0.420\n",
      "max_depth=3: Mean R² = 0.530\n",
      "max_depth=3: Mean R² = 0.531\n",
      "max_depth=4: Mean R² = 0.567\n",
      "max_depth=4: Mean R² = 0.570\n",
      "max_depth=5: Mean R² = 0.596\n",
      "max_depth=5: Mean R² = 0.598\n",
      "max_depth=6: Mean R² = 0.622\n",
      "max_depth=6: Mean R² = 0.622\n",
      "max_depth=7: Mean R² = 0.638\n",
      "max_depth=7: Mean R² = 0.639\n",
      "max_depth=8: Mean R² = 0.641\n",
      "max_depth=8: Mean R² = 0.643\n",
      "max_depth=9: Mean R² = 0.637\n",
      "max_depth=9: Mean R² = 0.639\n",
      "max_depth=10: Mean R² = 0.636\n",
      "max_depth=10: Mean R² = 0.637\n",
      "max_depth=11: Mean R² = 0.632\n",
      "max_depth=11: Mean R² = 0.633\n",
      "max_depth=12: Mean R² = 0.631\n",
      "max_depth=12: Mean R² = 0.632\n",
      "max_depth=13: Mean R² = 0.631\n",
      "max_depth=13: Mean R² = 0.631\n",
      "max_depth=14: Mean R² = 0.631\n",
      "max_depth=14: Mean R² = 0.631\n",
      "max_depth=15: Mean R² = 0.631\n",
      "max_depth=15: Mean R² = 0.631\n",
      "max_depth=16: Mean R² = 0.631\n",
      "max_depth=16: Mean R² = 0.631\n",
      "max_depth=17: Mean R² = 0.631\n",
      "max_depth=17: Mean R² = 0.631\n",
      "max_depth=18: Mean R² = 0.631\n",
      "max_depth=18: Mean R² = 0.631\n",
      "max_depth=19: Mean R² = 0.631\n",
      "max_depth=19: Mean R² = 0.631\n"
     ]
    }
   ],
   "source": [
    "regr = RandomForestRegressor(random_state=42)\n",
    "\n",
    "params = {\n",
    "    \"max_depth\": list(range(2,20)),\n",
    "    \"n_estimators\": [100,200]\n",
    "}\n",
    "\n",
    "grid_search = GridSearchCV(\n",
    "    estimator=regr,\n",
    "    param_grid=params,\n",
    "    cv=20,\n",
    "    scoring='r2',\n",
    "    n_jobs=-1\n",
    ")\n",
    "grid_search.fit(x_train, y_train)\n",
    "results = grid_search.cv_results_\n",
    "for depth, mean_score in zip(results['param_max_depth'], results['mean_test_score']):\n",
    "    print(f\"max_depth={depth}: Mean R² = {mean_score:.3f}\")"
   ]
  },
  {
   "cell_type": "code",
   "execution_count": 36,
   "id": "fce4bae7",
   "metadata": {
    "execution": {
     "iopub.status.busy": "2025-05-31T21:07:37.985787Z",
     "iopub.status.idle": "2025-05-31T21:07:37.986300Z",
     "shell.execute_reply": "2025-05-31T21:07:37.986062Z",
     "shell.execute_reply.started": "2025-05-31T21:07:37.986042Z"
    },
    "trusted": true
   },
   "outputs": [],
   "source": [
    "optimal_rf_regr = grid_search.best_estimator_\n"
   ]
  },
  {
   "cell_type": "code",
   "execution_count": 37,
   "id": "d6f70f01",
   "metadata": {
    "execution": {
     "iopub.status.busy": "2025-05-31T21:07:37.987858Z",
     "iopub.status.idle": "2025-05-31T21:07:37.988718Z",
     "shell.execute_reply": "2025-05-31T21:07:37.988496Z",
     "shell.execute_reply.started": "2025-05-31T21:07:37.988470Z"
    },
    "trusted": true
   },
   "outputs": [
    {
     "data": {
      "text/plain": [
       "array([6.35910454, 6.27649863, 5.51151432, 7.8517822 , 4.97913718,\n",
       "       7.78896445, 5.99369056, 8.07256704, 5.75940838, 4.77553631,\n",
       "       7.94742765, 5.91910704, 6.308611  , 6.006514  , 7.48518412,\n",
       "       6.57654941, 5.9866477 , 7.3252308 , 5.94664061, 6.30611079,\n",
       "       7.54938986, 5.99434993, 7.94977554, 5.98718998, 7.74858277,\n",
       "       6.35910454, 5.31256757, 7.84399434, 5.85607802, 6.40144817,\n",
       "       5.9807774 , 6.30611079, 7.3252308 , 5.99434993, 7.13604275,\n",
       "       5.94664061, 6.42826914, 7.73803831, 5.9807774 , 7.65483857,\n",
       "       5.9866477 , 7.48518412, 6.308611  , 4.99005925, 7.74858277,\n",
       "       5.98718998, 6.42776358, 6.006514  , 7.34917543, 6.35910454,\n",
       "       5.99066278, 7.64003675, 5.48287563, 6.40144817, 7.78917676,\n",
       "       5.9866477 , 7.74858277, 6.006514  , 7.64003675, 6.30611079,\n",
       "       5.31256757, 7.65483857, 5.94664061, 6.42826914, 5.99434993,\n",
       "       7.48518412, 6.40144817, 5.9807774 , 7.34917543, 5.40576767,\n",
       "       6.35910454, 7.65353521, 5.99066278, 7.84399434, 5.99434993,\n",
       "       7.65483857, 6.308611  , 4.77553631, 7.64003675, 5.91910704,\n",
       "       6.45852045, 5.9866477 , 7.34917543, 6.35910454, 5.9807774 ,\n",
       "       7.48518412, 5.48287563, 6.40144817, 7.73803831, 5.9807774 ,\n",
       "       7.74858277, 6.006514  , 7.64003675, 6.30611079, 4.99005925,\n",
       "       7.65483857, 5.94664061, 6.42776358, 5.99434993, 7.48518412,\n",
       "       6.40144817, 5.9866477 , 7.34917543, 5.40576767, 6.35910454,\n",
       "       7.65353521, 5.99066278, 7.84399434, 5.99434993, 7.65483857,\n",
       "       6.308611  , 4.77553631, 7.64003675, 5.91910704, 6.45852045,\n",
       "       5.9807774 , 7.48518412, 6.30611079, 5.99066278, 7.34917543,\n",
       "       5.49385847, 6.42826914, 7.78917676, 5.9866477 , 7.74858277,\n",
       "       6.006514  , 7.64003675, 6.308611  , 5.31256757, 7.65483857,\n",
       "       5.98718998, 6.42826914, 5.9866477 , 7.34917543, 6.35910454,\n",
       "       5.9807774 , 7.48518412, 5.48287563, 6.40144817, 7.73803831,\n",
       "       5.9807774 ])"
      ]
     },
     "execution_count": 37,
     "metadata": {},
     "output_type": "execute_result"
    }
   ],
   "source": [
    "optimal_rf_regr.fit(x_train, y_train)\n",
    "y_pred_rf = optimal_rf_regr.predict(x_test)\n",
    "y_pred_rf"
   ]
  },
  {
   "cell_type": "code",
   "execution_count": 38,
   "id": "c756b02e",
   "metadata": {
    "execution": {
     "iopub.status.busy": "2025-05-31T21:07:37.990187Z",
     "iopub.status.idle": "2025-05-31T21:07:37.990750Z",
     "shell.execute_reply": "2025-05-31T21:07:37.990431Z",
     "shell.execute_reply.started": "2025-05-31T21:07:37.990412Z"
    },
    "trusted": true
   },
   "outputs": [
    {
     "data": {
      "text/plain": [
       "0.6008020416035611"
      ]
     },
     "execution_count": 38,
     "metadata": {},
     "output_type": "execute_result"
    }
   ],
   "source": [
    "r2_score(y_test, y_pred_rf)"
   ]
  },
  {
   "cell_type": "code",
   "execution_count": 39,
   "id": "9552833a",
   "metadata": {
    "execution": {
     "iopub.status.busy": "2025-05-31T21:07:37.991650Z",
     "iopub.status.idle": "2025-05-31T21:07:37.992378Z",
     "shell.execute_reply": "2025-05-31T21:07:37.992025Z",
     "shell.execute_reply.started": "2025-05-31T21:07:37.992001Z"
    },
    "trusted": true
   },
   "outputs": [
    {
     "data": {
      "text/plain": [
       "0.04890926743096919"
      ]
     },
     "execution_count": 39,
     "metadata": {},
     "output_type": "execute_result"
    }
   ],
   "source": [
    "mean_absolute_percentage_error(y_test, y_pred_rf)"
   ]
  },
  {
   "cell_type": "code",
   "execution_count": 40,
   "id": "3ee52173",
   "metadata": {
    "execution": {
     "iopub.status.busy": "2025-05-31T21:07:37.993955Z",
     "iopub.status.idle": "2025-05-31T21:07:37.994564Z",
     "shell.execute_reply": "2025-05-31T21:07:37.994237Z",
     "shell.execute_reply.started": "2025-05-31T21:07:37.994215Z"
    },
    "trusted": true
   },
   "outputs": [
    {
     "data": {
      "application/vnd.plotly.v1+json": {
       "config": {
        "plotlyServerURL": "https://plot.ly"
       },
       "data": [
        {
         "marker": {
          "color": "red"
         },
         "mode": "markers",
         "type": "scatter",
         "x": {
          "bdata": "zczMzMzMFkBmZmZmZmYYQGZmZmZmZhxAzczMzMzMDECamZmZmZkdQM3MzMzMzBBAZmZmZmZmGEBmZmZmZmYOQAAAAAAAABZAzczMzMzMHEDNzMzMzMwQQDMzMzMzMxtAmpmZmZmZF0AAAAAAAAAaQM3MzMzMzBJAzczMzMzMFEAzMzMzMzMZQJqZmZmZmRNAzczMzMzMGkAzMzMzMzMXQAAAAAAAABJAmpmZmZmZGUBmZmZmZmYQQGZmZmZmZhpAmpmZmZmZEUDNzMzMzMwWQAAAAAAAABxAMzMzMzMzEUCamZmZmZkbQGZmZmZmZhZAzczMzMzMGEAzMzMzMzMXQJqZmZmZmRNAmpmZmZmZGUBmZmZmZmYUQM3MzMzMzBpAAAAAAAAAFkAzMzMzMzMRQM3MzMzMzBhAAAAAAAAAEkAzMzMzMzMZQM3MzMzMzBJAmpmZmZmZF0BmZmZmZmYcQJqZmZmZmRFAZmZmZmZmGkCamZmZmZkVQAAAAAAAABpAMzMzMzMzE0DNzMzMzMwWQGZmZmZmZhhAZmZmZmZmEkAzMzMzMzMbQGZmZmZmZhZAzczMzMzMEEAzMzMzMzMZQJqZmZmZmRFAAAAAAAAAGkBmZmZmZmYSQDMzMzMzMxdAAAAAAAAAHEAAAAAAAAASQM3MzMzMzBpAAAAAAAAAFkCamZmZmZkZQM3MzMzMzBJAZmZmZmZmFkDNzMzMzMwYQDMzMzMzMxNAmpmZmZmZG0DNzMzMzMwWQJqZmZmZmRFAZmZmZmZmGEAzMzMzMzMRQJqZmZmZmRlAAAAAAAAAEkCamZmZmZkXQM3MzMzMzBxAZmZmZmZmEkAzMzMzMzMbQDMzMzMzMxVAMzMzMzMzGUAzMzMzMzMTQM3MzMzMzBZAzczMzMzMGEDNzMzMzMwSQDMzMzMzMxtAZmZmZmZmFkAzMzMzMzMRQM3MzMzMzBhAmpmZmZmZEUAAAAAAAAAaQGZmZmZmZhJAMzMzMzMzF0BmZmZmZmYcQAAAAAAAABJAzczMzMzMGkCamZmZmZkVQJqZmZmZmRlAzczMzMzMEkBmZmZmZmYWQDMzMzMzMxlAMzMzMzMzE0CamZmZmZkbQM3MzMzMzBZAmpmZmZmZEUBmZmZmZmYYQDMzMzMzMxFAmpmZmZmZGUAAAAAAAAASQJqZmZmZmRdAzczMzMzMHEBmZmZmZmYSQDMzMzMzMxtAMzMzMzMzFUDNzMzMzMwYQM3MzMzMzBJAMzMzMzMzF0BmZmZmZmYYQDMzMzMzMxNAzczMzMzMGkAAAAAAAAAWQM3MzMzMzBBAMzMzMzMzGUCamZmZmZkRQAAAAAAAABpAZmZmZmZmEkCamZmZmZkXQAAAAAAAABxAAAAAAAAAEkBmZmZmZmYaQAAAAAAAABZAMzMzMzMzGUAzMzMzMzMTQM3MzMzMzBZAzczMzMzMGEDNzMzMzMwSQDMzMzMzMxtAZmZmZmZmFkAzMzMzMzMRQM3MzMzMzBhA",
          "dtype": "f8"
         },
         "y": {
          "bdata": "mpmZmZmZGUDNzMzMzMwYQJqZmZmZmRdAAAAAAAAAIUCamZmZmZkVQAAAAAAAACBAzczMzMzMHEAzMzMzMzMfQDMzMzMzMxtAmpmZmZmZF0AAAAAAAAAeQM3MzMzMzBhAzczMzMzMGkBmZmZmZmYYQJqZmZmZmR1AAAAAAAAAHECamZmZmZkZQDMzMzMzMx1AAAAAAAAAGEAAAAAAAAAaQGZmZmZmZh5AMzMzMzMzGUDNzMzMzMweQM3MzMzMzBhAmpmZmZmZHUAzMzMzMzMbQDMzMzMzMxdAAAAAAAAAHkBmZmZmZmYYQJqZmZmZmRtAMzMzMzMzGUDNzMzMzMwaQDMzMzMzMx1AzczMzMzMGEBmZmZmZmYcQAAAAAAAABhAMzMzMzMzG0BmZmZmZmYeQJqZmZmZmRlAmpmZmZmZHUAzMzMzMzMZQM3MzMzMzBxAZmZmZmZmGkDNzMzMzMwWQJqZmZmZmR1AzczMzMzMGECamZmZmZkbQGZmZmZmZhhAMzMzMzMzHUDNzMzMzMwaQJqZmZmZmRlAzczMzMzMHECamZmZmZkXQDMzMzMzMxtAAAAAAAAAHkAzMzMzMzMZQJqZmZmZmR1AzczMzMzMGEAzMzMzMzMdQGZmZmZmZhpAMzMzMzMzF0AzMzMzMzMdQGZmZmZmZhhAMzMzMzMzG0DNzMzMzMwYQM3MzMzMzBxAzczMzMzMGkAzMzMzMzMZQGZmZmZmZhxAmpmZmZmZF0DNzMzMzMwaQJqZmZmZmR1AmpmZmZmZGUAAAAAAAAAeQM3MzMzMzBhAMzMzMzMzHUAAAAAAAAAaQM3MzMzMzBZAzczMzMzMHEAAAAAAAAAYQDMzMzMzMxtAzczMzMzMGEBmZmZmZmYcQGZmZmZmZhpAMzMzMzMzGUDNzMzMzMwcQJqZmZmZmRdAzczMzMzMGkAAAAAAAAAeQDMzMzMzMxlAmpmZmZmZHUBmZmZmZmYYQDMzMzMzMx1AZmZmZmZmGkAzMzMzMzMXQDMzMzMzMx1AAAAAAAAAGEAzMzMzMzMbQM3MzMzMzBhAzczMzMzMHEDNzMzMzMwaQM3MzMzMzBhAZmZmZmZmHECamZmZmZkXQM3MzMzMzBpAmpmZmZmZHUCamZmZmZkZQAAAAAAAAB5AzczMzMzMGEAzMzMzMzMdQAAAAAAAABpAzczMzMzMFkDNzMzMzMwcQAAAAAAAABhAMzMzMzMzG0AzMzMzMzMZQM3MzMzMzBxAZmZmZmZmGkCamZmZmZkZQGZmZmZmZhxAAAAAAAAAGEAzMzMzMzMbQAAAAAAAAB5AzczMzMzMGECamZmZmZkdQGZmZmZmZhhAMzMzMzMzHUAAAAAAAAAaQDMzMzMzMxdAMzMzMzMzHUBmZmZmZmYYQM3MzMzMzBpAzczMzMzMGEBmZmZmZmYcQGZmZmZmZhpAMzMzMzMzGUDNzMzMzMwcQJqZmZmZmRdAzczMzMzMGkAAAAAAAAAeQDMzMzMzMxlA",
          "dtype": "f8"
         }
        },
        {
         "marker": {
          "color": "orange"
         },
         "mode": "markers",
         "type": "scatter",
         "x": {
          "bdata": "zczMzMzMFkBmZmZmZmYYQGZmZmZmZhxAzczMzMzMDECamZmZmZkdQM3MzMzMzBBAZmZmZmZmGEBmZmZmZmYOQAAAAAAAABZAzczMzMzMHEDNzMzMzMwQQDMzMzMzMxtAmpmZmZmZF0AAAAAAAAAaQM3MzMzMzBJAzczMzMzMFEAzMzMzMzMZQJqZmZmZmRNAzczMzMzMGkAzMzMzMzMXQAAAAAAAABJAmpmZmZmZGUBmZmZmZmYQQGZmZmZmZhpAmpmZmZmZEUDNzMzMzMwWQAAAAAAAABxAMzMzMzMzEUCamZmZmZkbQGZmZmZmZhZAzczMzMzMGEAzMzMzMzMXQJqZmZmZmRNAmpmZmZmZGUBmZmZmZmYUQM3MzMzMzBpAAAAAAAAAFkAzMzMzMzMRQM3MzMzMzBhAAAAAAAAAEkAzMzMzMzMZQM3MzMzMzBJAmpmZmZmZF0BmZmZmZmYcQJqZmZmZmRFAZmZmZmZmGkCamZmZmZkVQAAAAAAAABpAMzMzMzMzE0DNzMzMzMwWQGZmZmZmZhhAZmZmZmZmEkAzMzMzMzMbQGZmZmZmZhZAzczMzMzMEEAzMzMzMzMZQJqZmZmZmRFAAAAAAAAAGkBmZmZmZmYSQDMzMzMzMxdAAAAAAAAAHEAAAAAAAAASQM3MzMzMzBpAAAAAAAAAFkCamZmZmZkZQM3MzMzMzBJAZmZmZmZmFkDNzMzMzMwYQDMzMzMzMxNAmpmZmZmZG0DNzMzMzMwWQJqZmZmZmRFAZmZmZmZmGEAzMzMzMzMRQJqZmZmZmRlAAAAAAAAAEkCamZmZmZkXQM3MzMzMzBxAZmZmZmZmEkAzMzMzMzMbQDMzMzMzMxVAMzMzMzMzGUAzMzMzMzMTQM3MzMzMzBZAzczMzMzMGEDNzMzMzMwSQDMzMzMzMxtAZmZmZmZmFkAzMzMzMzMRQM3MzMzMzBhAmpmZmZmZEUAAAAAAAAAaQGZmZmZmZhJAMzMzMzMzF0BmZmZmZmYcQAAAAAAAABJAzczMzMzMGkCamZmZmZkVQJqZmZmZmRlAzczMzMzMEkBmZmZmZmYWQDMzMzMzMxlAMzMzMzMzE0CamZmZmZkbQM3MzMzMzBZAmpmZmZmZEUBmZmZmZmYYQDMzMzMzMxFAmpmZmZmZGUAAAAAAAAASQJqZmZmZmRdAzczMzMzMHEBmZmZmZmYSQDMzMzMzMxtAMzMzMzMzFUDNzMzMzMwYQM3MzMzMzBJAMzMzMzMzF0BmZmZmZmYYQDMzMzMzMxNAzczMzMzMGkAAAAAAAAAWQM3MzMzMzBBAMzMzMzMzGUCamZmZmZkRQAAAAAAAABpAZmZmZmZmEkCamZmZmZkXQAAAAAAAABxAAAAAAAAAEkBmZmZmZmYaQAAAAAAAABZAMzMzMzMzGUAzMzMzMzMTQM3MzMzMzBZAzczMzMzMGEDNzMzMzMwSQDMzMzMzMxtAZmZmZmZmFkAzMzMzMzMRQM3MzMzMzBhA",
          "dtype": "f8"
         },
         "y": {
          "bdata": "3OT0GblvGUAWCcV0IhsZQArGrGjKCxZAG8qElzloH0Cgo/bvouoTQEjA/0vmJx9AjVB8BIr5F0Afl7KBJyUgQGhouVmiCRdArA+5MCYaE0BNQWJ5KsofQHvaKWUqrRdA7yHOhQQ8GUDsPQ2bqwYYQBzgKxvU8B1Af5Xd92JOGkCavJXGU/IXQOi2kE0JTR1AxqEWKFzJF0AYkKYbdTkZQKDkl0GTMh5AyphO3jb6F0Cu3rn1kcwfQI+MTO7h8hdA1+xQe4z+HkDc5PQZuW8ZQJMXoLYRQBVAAYOEDUBgH0B2pxi3n2wXQGnurzoVmxlACJhW6VDsF0AYkKYbdTkZQOi2kE0JTR1AyphO3jb6F0Cv1lXKToscQMahFihcyRdAFrymL4y2GUBm4LdQwPMeQAiYVulQ7BdAJj9OAI6eHkCavJXGU/IXQBzgKxvU8B1A7yHOhQQ8GUAB4cgX0vUTQNfsUHuM/h5Aj4xM7uHyF0Db1AaoB7YZQOw9DZurBhhAOLwjPo5lHUDc5PQZuW8ZQJoswk1w9hdA0U42y2WPHkCcV9vydu4VQGnurzoVmxlARHoJ9B0oH0CavJXGU/IXQNfsUHuM/h5A7D0Nm6sGGEDRTjbLZY8eQBiQpht1ORlAkxegthFAFUAmP04Ajp4eQMahFihcyRdAFrymL4y2GUDKmE7eNvoXQBzgKxvU8B1Aae6vOhWbGUAImFbpUOwXQDi8Iz6OZR1AkpU3j4GfFUDc5PQZuW8ZQIDMeVU4nR5AmizCTXD2F0ABg4QNQGAfQMqYTt42+hdAJj9OAI6eHkDvIc6FBDwZQKwPuTAmGhNA0U42y2WPHkB72illKq0XQHiCrGKG1RlAmryVxlPyF0A4vCM+jmUdQNzk9Bm5bxlACJhW6VDsF0Ac4Csb1PAdQJxX2/J27hVAae6vOhWbGUBm4LdQwPMeQAiYVulQ7BdA1+xQe4z+HkDsPQ2bqwYYQNFONstljx5AGJCmG3U5GUAB4cgX0vUTQCY/TgCOnh5AxqEWKFzJF0Db1AaoB7YZQMqYTt42+hdAHOArG9TwHUBp7q86FZsZQJq8lcZT8hdAOLwjPo5lHUCSlTePgZ8VQNzk9Bm5bxlAgMx5VTidHkCaLMJNcPYXQAGDhA1AYB9AyphO3jb6F0AmP04Ajp4eQO8hzoUEPBlArA+5MCYaE0DRTjbLZY8eQHvaKWUqrRdAeIKsYobVGUAImFbpUOwXQBzgKxvU8B1AGJCmG3U5GUCaLMJNcPYXQDi8Iz6OZR1AgI4aCbb5FUAWvKYvjLYZQER6CfQdKB9AmryVxlPyF0DX7FB7jP4eQOw9DZurBhhA0U42y2WPHkDvIc6FBDwZQJMXoLYRQBVAJj9OAI6eHkCPjEzu4fIXQBa8pi+MthlAmryVxlPyF0A4vCM+jmUdQNzk9Bm5bxlACJhW6VDsF0Ac4Csb1PAdQJxX2/J27hVAae6vOhWbGUBm4LdQwPMeQAiYVulQ7BdA",
          "dtype": "f8"
         }
        }
       ],
       "layout": {
        "template": {
         "data": {
          "bar": [
           {
            "error_x": {
             "color": "#2a3f5f"
            },
            "error_y": {
             "color": "#2a3f5f"
            },
            "marker": {
             "line": {
              "color": "#E5ECF6",
              "width": 0.5
             },
             "pattern": {
              "fillmode": "overlay",
              "size": 10,
              "solidity": 0.2
             }
            },
            "type": "bar"
           }
          ],
          "barpolar": [
           {
            "marker": {
             "line": {
              "color": "#E5ECF6",
              "width": 0.5
             },
             "pattern": {
              "fillmode": "overlay",
              "size": 10,
              "solidity": 0.2
             }
            },
            "type": "barpolar"
           }
          ],
          "carpet": [
           {
            "aaxis": {
             "endlinecolor": "#2a3f5f",
             "gridcolor": "white",
             "linecolor": "white",
             "minorgridcolor": "white",
             "startlinecolor": "#2a3f5f"
            },
            "baxis": {
             "endlinecolor": "#2a3f5f",
             "gridcolor": "white",
             "linecolor": "white",
             "minorgridcolor": "white",
             "startlinecolor": "#2a3f5f"
            },
            "type": "carpet"
           }
          ],
          "choropleth": [
           {
            "colorbar": {
             "outlinewidth": 0,
             "ticks": ""
            },
            "type": "choropleth"
           }
          ],
          "contour": [
           {
            "colorbar": {
             "outlinewidth": 0,
             "ticks": ""
            },
            "colorscale": [
             [
              0,
              "#0d0887"
             ],
             [
              0.1111111111111111,
              "#46039f"
             ],
             [
              0.2222222222222222,
              "#7201a8"
             ],
             [
              0.3333333333333333,
              "#9c179e"
             ],
             [
              0.4444444444444444,
              "#bd3786"
             ],
             [
              0.5555555555555556,
              "#d8576b"
             ],
             [
              0.6666666666666666,
              "#ed7953"
             ],
             [
              0.7777777777777778,
              "#fb9f3a"
             ],
             [
              0.8888888888888888,
              "#fdca26"
             ],
             [
              1,
              "#f0f921"
             ]
            ],
            "type": "contour"
           }
          ],
          "contourcarpet": [
           {
            "colorbar": {
             "outlinewidth": 0,
             "ticks": ""
            },
            "type": "contourcarpet"
           }
          ],
          "heatmap": [
           {
            "colorbar": {
             "outlinewidth": 0,
             "ticks": ""
            },
            "colorscale": [
             [
              0,
              "#0d0887"
             ],
             [
              0.1111111111111111,
              "#46039f"
             ],
             [
              0.2222222222222222,
              "#7201a8"
             ],
             [
              0.3333333333333333,
              "#9c179e"
             ],
             [
              0.4444444444444444,
              "#bd3786"
             ],
             [
              0.5555555555555556,
              "#d8576b"
             ],
             [
              0.6666666666666666,
              "#ed7953"
             ],
             [
              0.7777777777777778,
              "#fb9f3a"
             ],
             [
              0.8888888888888888,
              "#fdca26"
             ],
             [
              1,
              "#f0f921"
             ]
            ],
            "type": "heatmap"
           }
          ],
          "histogram": [
           {
            "marker": {
             "pattern": {
              "fillmode": "overlay",
              "size": 10,
              "solidity": 0.2
             }
            },
            "type": "histogram"
           }
          ],
          "histogram2d": [
           {
            "colorbar": {
             "outlinewidth": 0,
             "ticks": ""
            },
            "colorscale": [
             [
              0,
              "#0d0887"
             ],
             [
              0.1111111111111111,
              "#46039f"
             ],
             [
              0.2222222222222222,
              "#7201a8"
             ],
             [
              0.3333333333333333,
              "#9c179e"
             ],
             [
              0.4444444444444444,
              "#bd3786"
             ],
             [
              0.5555555555555556,
              "#d8576b"
             ],
             [
              0.6666666666666666,
              "#ed7953"
             ],
             [
              0.7777777777777778,
              "#fb9f3a"
             ],
             [
              0.8888888888888888,
              "#fdca26"
             ],
             [
              1,
              "#f0f921"
             ]
            ],
            "type": "histogram2d"
           }
          ],
          "histogram2dcontour": [
           {
            "colorbar": {
             "outlinewidth": 0,
             "ticks": ""
            },
            "colorscale": [
             [
              0,
              "#0d0887"
             ],
             [
              0.1111111111111111,
              "#46039f"
             ],
             [
              0.2222222222222222,
              "#7201a8"
             ],
             [
              0.3333333333333333,
              "#9c179e"
             ],
             [
              0.4444444444444444,
              "#bd3786"
             ],
             [
              0.5555555555555556,
              "#d8576b"
             ],
             [
              0.6666666666666666,
              "#ed7953"
             ],
             [
              0.7777777777777778,
              "#fb9f3a"
             ],
             [
              0.8888888888888888,
              "#fdca26"
             ],
             [
              1,
              "#f0f921"
             ]
            ],
            "type": "histogram2dcontour"
           }
          ],
          "mesh3d": [
           {
            "colorbar": {
             "outlinewidth": 0,
             "ticks": ""
            },
            "type": "mesh3d"
           }
          ],
          "parcoords": [
           {
            "line": {
             "colorbar": {
              "outlinewidth": 0,
              "ticks": ""
             }
            },
            "type": "parcoords"
           }
          ],
          "pie": [
           {
            "automargin": true,
            "type": "pie"
           }
          ],
          "scatter": [
           {
            "fillpattern": {
             "fillmode": "overlay",
             "size": 10,
             "solidity": 0.2
            },
            "type": "scatter"
           }
          ],
          "scatter3d": [
           {
            "line": {
             "colorbar": {
              "outlinewidth": 0,
              "ticks": ""
             }
            },
            "marker": {
             "colorbar": {
              "outlinewidth": 0,
              "ticks": ""
             }
            },
            "type": "scatter3d"
           }
          ],
          "scattercarpet": [
           {
            "marker": {
             "colorbar": {
              "outlinewidth": 0,
              "ticks": ""
             }
            },
            "type": "scattercarpet"
           }
          ],
          "scattergeo": [
           {
            "marker": {
             "colorbar": {
              "outlinewidth": 0,
              "ticks": ""
             }
            },
            "type": "scattergeo"
           }
          ],
          "scattergl": [
           {
            "marker": {
             "colorbar": {
              "outlinewidth": 0,
              "ticks": ""
             }
            },
            "type": "scattergl"
           }
          ],
          "scattermap": [
           {
            "marker": {
             "colorbar": {
              "outlinewidth": 0,
              "ticks": ""
             }
            },
            "type": "scattermap"
           }
          ],
          "scattermapbox": [
           {
            "marker": {
             "colorbar": {
              "outlinewidth": 0,
              "ticks": ""
             }
            },
            "type": "scattermapbox"
           }
          ],
          "scatterpolar": [
           {
            "marker": {
             "colorbar": {
              "outlinewidth": 0,
              "ticks": ""
             }
            },
            "type": "scatterpolar"
           }
          ],
          "scatterpolargl": [
           {
            "marker": {
             "colorbar": {
              "outlinewidth": 0,
              "ticks": ""
             }
            },
            "type": "scatterpolargl"
           }
          ],
          "scatterternary": [
           {
            "marker": {
             "colorbar": {
              "outlinewidth": 0,
              "ticks": ""
             }
            },
            "type": "scatterternary"
           }
          ],
          "surface": [
           {
            "colorbar": {
             "outlinewidth": 0,
             "ticks": ""
            },
            "colorscale": [
             [
              0,
              "#0d0887"
             ],
             [
              0.1111111111111111,
              "#46039f"
             ],
             [
              0.2222222222222222,
              "#7201a8"
             ],
             [
              0.3333333333333333,
              "#9c179e"
             ],
             [
              0.4444444444444444,
              "#bd3786"
             ],
             [
              0.5555555555555556,
              "#d8576b"
             ],
             [
              0.6666666666666666,
              "#ed7953"
             ],
             [
              0.7777777777777778,
              "#fb9f3a"
             ],
             [
              0.8888888888888888,
              "#fdca26"
             ],
             [
              1,
              "#f0f921"
             ]
            ],
            "type": "surface"
           }
          ],
          "table": [
           {
            "cells": {
             "fill": {
              "color": "#EBF0F8"
             },
             "line": {
              "color": "white"
             }
            },
            "header": {
             "fill": {
              "color": "#C8D4E3"
             },
             "line": {
              "color": "white"
             }
            },
            "type": "table"
           }
          ]
         },
         "layout": {
          "annotationdefaults": {
           "arrowcolor": "#2a3f5f",
           "arrowhead": 0,
           "arrowwidth": 1
          },
          "autotypenumbers": "strict",
          "coloraxis": {
           "colorbar": {
            "outlinewidth": 0,
            "ticks": ""
           }
          },
          "colorscale": {
           "diverging": [
            [
             0,
             "#8e0152"
            ],
            [
             0.1,
             "#c51b7d"
            ],
            [
             0.2,
             "#de77ae"
            ],
            [
             0.3,
             "#f1b6da"
            ],
            [
             0.4,
             "#fde0ef"
            ],
            [
             0.5,
             "#f7f7f7"
            ],
            [
             0.6,
             "#e6f5d0"
            ],
            [
             0.7,
             "#b8e186"
            ],
            [
             0.8,
             "#7fbc41"
            ],
            [
             0.9,
             "#4d9221"
            ],
            [
             1,
             "#276419"
            ]
           ],
           "sequential": [
            [
             0,
             "#0d0887"
            ],
            [
             0.1111111111111111,
             "#46039f"
            ],
            [
             0.2222222222222222,
             "#7201a8"
            ],
            [
             0.3333333333333333,
             "#9c179e"
            ],
            [
             0.4444444444444444,
             "#bd3786"
            ],
            [
             0.5555555555555556,
             "#d8576b"
            ],
            [
             0.6666666666666666,
             "#ed7953"
            ],
            [
             0.7777777777777778,
             "#fb9f3a"
            ],
            [
             0.8888888888888888,
             "#fdca26"
            ],
            [
             1,
             "#f0f921"
            ]
           ],
           "sequentialminus": [
            [
             0,
             "#0d0887"
            ],
            [
             0.1111111111111111,
             "#46039f"
            ],
            [
             0.2222222222222222,
             "#7201a8"
            ],
            [
             0.3333333333333333,
             "#9c179e"
            ],
            [
             0.4444444444444444,
             "#bd3786"
            ],
            [
             0.5555555555555556,
             "#d8576b"
            ],
            [
             0.6666666666666666,
             "#ed7953"
            ],
            [
             0.7777777777777778,
             "#fb9f3a"
            ],
            [
             0.8888888888888888,
             "#fdca26"
            ],
            [
             1,
             "#f0f921"
            ]
           ]
          },
          "colorway": [
           "#636efa",
           "#EF553B",
           "#00cc96",
           "#ab63fa",
           "#FFA15A",
           "#19d3f3",
           "#FF6692",
           "#B6E880",
           "#FF97FF",
           "#FECB52"
          ],
          "font": {
           "color": "#2a3f5f"
          },
          "geo": {
           "bgcolor": "white",
           "lakecolor": "white",
           "landcolor": "#E5ECF6",
           "showlakes": true,
           "showland": true,
           "subunitcolor": "white"
          },
          "hoverlabel": {
           "align": "left"
          },
          "hovermode": "closest",
          "mapbox": {
           "style": "light"
          },
          "paper_bgcolor": "white",
          "plot_bgcolor": "#E5ECF6",
          "polar": {
           "angularaxis": {
            "gridcolor": "white",
            "linecolor": "white",
            "ticks": ""
           },
           "bgcolor": "#E5ECF6",
           "radialaxis": {
            "gridcolor": "white",
            "linecolor": "white",
            "ticks": ""
           }
          },
          "scene": {
           "xaxis": {
            "backgroundcolor": "#E5ECF6",
            "gridcolor": "white",
            "gridwidth": 2,
            "linecolor": "white",
            "showbackground": true,
            "ticks": "",
            "zerolinecolor": "white"
           },
           "yaxis": {
            "backgroundcolor": "#E5ECF6",
            "gridcolor": "white",
            "gridwidth": 2,
            "linecolor": "white",
            "showbackground": true,
            "ticks": "",
            "zerolinecolor": "white"
           },
           "zaxis": {
            "backgroundcolor": "#E5ECF6",
            "gridcolor": "white",
            "gridwidth": 2,
            "linecolor": "white",
            "showbackground": true,
            "ticks": "",
            "zerolinecolor": "white"
           }
          },
          "shapedefaults": {
           "line": {
            "color": "#2a3f5f"
           }
          },
          "ternary": {
           "aaxis": {
            "gridcolor": "white",
            "linecolor": "white",
            "ticks": ""
           },
           "baxis": {
            "gridcolor": "white",
            "linecolor": "white",
            "ticks": ""
           },
           "bgcolor": "#E5ECF6",
           "caxis": {
            "gridcolor": "white",
            "linecolor": "white",
            "ticks": ""
           }
          },
          "title": {
           "x": 0.05
          },
          "xaxis": {
           "automargin": true,
           "gridcolor": "white",
           "linecolor": "white",
           "ticks": "",
           "title": {
            "standoff": 15
           },
           "zerolinecolor": "white",
           "zerolinewidth": 2
          },
          "yaxis": {
           "automargin": true,
           "gridcolor": "white",
           "linecolor": "white",
           "ticks": "",
           "title": {
            "standoff": 15
           },
           "zerolinecolor": "white",
           "zerolinewidth": 2
          }
         }
        }
       }
      }
     },
     "metadata": {},
     "output_type": "display_data"
    }
   ],
   "source": [
    "fig = go.Figure()\n",
    "\n",
    "fig.add_scatter(\n",
    "    x=x_test[:,0].flatten(),\n",
    "    y=y_test.flatten(),\n",
    "    mode=\"markers\",\n",
    "    marker=dict(color=\"red\")\n",
    ")\n",
    "\n",
    "fig.add_scatter(\n",
    "    x=x_test[:,0].flatten(),\n",
    "    y=y_pred_rf,\n",
    "    mode=\"markers\",\n",
    "    marker=dict(color=\"orange\")\n",
    ")\n",
    "\n",
    "fig"
   ]
  },
  {
   "cell_type": "markdown",
   "id": "afbcc230",
   "metadata": {},
   "source": [
    "### Neural Network"
   ]
  },
  {
   "cell_type": "code",
   "execution_count": 41,
   "id": "437f63ab",
   "metadata": {
    "execution": {
     "iopub.status.busy": "2025-05-31T21:07:37.995742Z",
     "iopub.status.idle": "2025-05-31T21:07:37.996159Z",
     "shell.execute_reply": "2025-05-31T21:07:37.995977Z",
     "shell.execute_reply.started": "2025-05-31T21:07:37.995960Z"
    },
    "trusted": true
   },
   "outputs": [],
   "source": [
    "class ModelScorePair():\n",
    "    def __init__(self, model, r2, mse):\n",
    "        self.model = model\n",
    "        self.r2 = r2\n",
    "        self.mse = mse"
   ]
  },
  {
   "cell_type": "markdown",
   "id": "8b9db8b0",
   "metadata": {},
   "source": [
    "Five different instances of the same neural network model are trained, as due to their random selection of weights and the dataset being small, their performance can vary strongly."
   ]
  },
  {
   "cell_type": "code",
   "execution_count": 42,
   "id": "7181f73e",
   "metadata": {
    "execution": {
     "iopub.status.busy": "2025-05-31T21:07:37.997016Z",
     "iopub.status.idle": "2025-05-31T21:07:37.997406Z",
     "shell.execute_reply": "2025-05-31T21:07:37.997245Z",
     "shell.execute_reply.started": "2025-05-31T21:07:37.997229Z"
    },
    "trusted": true
   },
   "outputs": [
    {
     "name": "stderr",
     "output_type": "stream",
     "text": [
      "2025-05-31 23:34:30.852525: I metal_plugin/src/device/metal_device.cc:1154] Metal device set to: Apple M1\n",
      "2025-05-31 23:34:30.853136: I metal_plugin/src/device/metal_device.cc:296] systemMemory: 16.00 GB\n",
      "2025-05-31 23:34:30.853272: I metal_plugin/src/device/metal_device.cc:313] maxCacheSize: 5.33 GB\n",
      "2025-05-31 23:34:30.853654: I tensorflow/core/common_runtime/pluggable_device/pluggable_device_factory.cc:305] Could not identify NUMA node of platform GPU ID 0, defaulting to 0. Your kernel may not have been built with NUMA support.\n",
      "2025-05-31 23:34:30.853701: I tensorflow/core/common_runtime/pluggable_device/pluggable_device_factory.cc:271] Created TensorFlow device (/job:localhost/replica:0/task:0/device:GPU:0 with 0 MB memory) -> physical PluggableDevice (device: 0, name: METAL, pci bus id: <undefined>)\n"
     ]
    },
    {
     "name": "stdout",
     "output_type": "stream",
     "text": [
      "Epoch 1/400\n"
     ]
    },
    {
     "name": "stderr",
     "output_type": "stream",
     "text": [
      "2025-05-31 23:34:32.289332: I tensorflow/core/grappler/optimizers/custom_graph_optimizer_registry.cc:117] Plugin optimizer for device_type GPU is enabled.\n"
     ]
    },
    {
     "name": "stdout",
     "output_type": "stream",
     "text": [
      "\u001b[1m18/18\u001b[0m \u001b[32m━━━━━━━━━━━━━━━━━━━━\u001b[0m\u001b[37m\u001b[0m \u001b[1m3s\u001b[0m 34ms/step - loss: 6.8725 - mae: 6.8725 - r2_score: -31.1188\n",
      "Epoch 2/400\n",
      "\u001b[1m18/18\u001b[0m \u001b[32m━━━━━━━━━━━━━━━━━━━━\u001b[0m\u001b[37m\u001b[0m \u001b[1m0s\u001b[0m 13ms/step - loss: 6.7557 - mae: 6.7557 - r2_score: -33.0212\n",
      "Epoch 3/400\n",
      "\u001b[1m18/18\u001b[0m \u001b[32m━━━━━━━━━━━━━━━━━━━━\u001b[0m\u001b[37m\u001b[0m \u001b[1m0s\u001b[0m 9ms/step - loss: 6.6500 - mae: 6.6500 - r2_score: -29.4430\n",
      "Epoch 4/400\n",
      "\u001b[1m18/18\u001b[0m \u001b[32m━━━━━━━━━━━━━━━━━━━━\u001b[0m\u001b[37m\u001b[0m \u001b[1m0s\u001b[0m 12ms/step - loss: 6.4887 - mae: 6.4887 - r2_score: -26.7507\n",
      "Epoch 5/400\n",
      "\u001b[1m18/18\u001b[0m \u001b[32m━━━━━━━━━━━━━━━━━━━━\u001b[0m\u001b[37m\u001b[0m \u001b[1m0s\u001b[0m 9ms/step - loss: 6.3432 - mae: 6.3432 - r2_score: -26.2752\n",
      "Epoch 6/400\n",
      "\u001b[1m18/18\u001b[0m \u001b[32m━━━━━━━━━━━━━━━━━━━━\u001b[0m\u001b[37m\u001b[0m \u001b[1m0s\u001b[0m 9ms/step - loss: 6.2175 - mae: 6.2175 - r2_score: -24.0748\n",
      "Epoch 7/400\n",
      "\u001b[1m18/18\u001b[0m \u001b[32m━━━━━━━━━━━━━━━━━━━━\u001b[0m\u001b[37m\u001b[0m \u001b[1m0s\u001b[0m 10ms/step - loss: 5.9694 - mae: 5.9694 - r2_score: -24.0796\n",
      "Epoch 8/400\n",
      "\u001b[1m18/18\u001b[0m \u001b[32m━━━━━━━━━━━━━━━━━━━━\u001b[0m\u001b[37m\u001b[0m \u001b[1m0s\u001b[0m 9ms/step - loss: 5.7542 - mae: 5.7542 - r2_score: -21.7150\n",
      "Epoch 9/400\n",
      "\u001b[1m18/18\u001b[0m \u001b[32m━━━━━━━━━━━━━━━━━━━━\u001b[0m\u001b[37m\u001b[0m \u001b[1m0s\u001b[0m 9ms/step - loss: 5.5907 - mae: 5.5907 - r2_score: -20.1372\n",
      "Epoch 10/400\n",
      "\u001b[1m18/18\u001b[0m \u001b[32m━━━━━━━━━━━━━━━━━━━━\u001b[0m\u001b[37m\u001b[0m \u001b[1m0s\u001b[0m 9ms/step - loss: 5.3817 - mae: 5.3817 - r2_score: -20.5304\n",
      "Epoch 11/400\n",
      "\u001b[1m18/18\u001b[0m \u001b[32m━━━━━━━━━━━━━━━━━━━━\u001b[0m\u001b[37m\u001b[0m \u001b[1m0s\u001b[0m 9ms/step - loss: 5.0924 - mae: 5.0924 - r2_score: -15.9261\n",
      "Epoch 12/400\n",
      "\u001b[1m18/18\u001b[0m \u001b[32m━━━━━━━━━━━━━━━━━━━━\u001b[0m\u001b[37m\u001b[0m \u001b[1m0s\u001b[0m 10ms/step - loss: 4.7334 - mae: 4.7334 - r2_score: -14.7448\n",
      "Epoch 13/400\n",
      "\u001b[1m18/18\u001b[0m \u001b[32m━━━━━━━━━━━━━━━━━━━━\u001b[0m\u001b[37m\u001b[0m \u001b[1m0s\u001b[0m 9ms/step - loss: 4.5815 - mae: 4.5815 - r2_score: -13.6586\n",
      "Epoch 14/400\n",
      "\u001b[1m18/18\u001b[0m \u001b[32m━━━━━━━━━━━━━━━━━━━━\u001b[0m\u001b[37m\u001b[0m \u001b[1m0s\u001b[0m 9ms/step - loss: 4.2999 - mae: 4.2999 - r2_score: -12.4201\n",
      "Epoch 15/400\n",
      "\u001b[1m18/18\u001b[0m \u001b[32m━━━━━━━━━━━━━━━━━━━━\u001b[0m\u001b[37m\u001b[0m \u001b[1m0s\u001b[0m 18ms/step - loss: 3.9378 - mae: 3.9378 - r2_score: -11.5644\n",
      "Epoch 16/400\n",
      "\u001b[1m18/18\u001b[0m \u001b[32m━━━━━━━━━━━━━━━━━━━━\u001b[0m\u001b[37m\u001b[0m \u001b[1m0s\u001b[0m 11ms/step - loss: 3.7103 - mae: 3.7103 - r2_score: -11.1007\n",
      "Epoch 17/400\n",
      "\u001b[1m18/18\u001b[0m \u001b[32m━━━━━━━━━━━━━━━━━━━━\u001b[0m\u001b[37m\u001b[0m \u001b[1m0s\u001b[0m 9ms/step - loss: 3.4928 - mae: 3.4928 - r2_score: -9.3626\n",
      "Epoch 18/400\n",
      "\u001b[1m18/18\u001b[0m \u001b[32m━━━━━━━━━━━━━━━━━━━━\u001b[0m\u001b[37m\u001b[0m \u001b[1m0s\u001b[0m 10ms/step - loss: 3.1445 - mae: 3.1445 - r2_score: -6.7434\n",
      "Epoch 19/400\n",
      "\u001b[1m18/18\u001b[0m \u001b[32m━━━━━━━━━━━━━━━━━━━━\u001b[0m\u001b[37m\u001b[0m \u001b[1m0s\u001b[0m 21ms/step - loss: 2.9239 - mae: 2.9239 - r2_score: -6.1178\n",
      "Epoch 20/400\n",
      "\u001b[1m18/18\u001b[0m \u001b[32m━━━━━━━━━━━━━━━━━━━━\u001b[0m\u001b[37m\u001b[0m \u001b[1m0s\u001b[0m 10ms/step - loss: 2.6143 - mae: 2.6143 - r2_score: -4.5793\n",
      "Epoch 21/400\n",
      "\u001b[1m18/18\u001b[0m \u001b[32m━━━━━━━━━━━━━━━━━━━━\u001b[0m\u001b[37m\u001b[0m \u001b[1m0s\u001b[0m 10ms/step - loss: 2.3076 - mae: 2.3076 - r2_score: -3.2111\n",
      "Epoch 22/400\n",
      "\u001b[1m18/18\u001b[0m \u001b[32m━━━━━━━━━━━━━━━━━━━━\u001b[0m\u001b[37m\u001b[0m \u001b[1m0s\u001b[0m 10ms/step - loss: 1.9684 - mae: 1.9684 - r2_score: -2.0987\n",
      "Epoch 23/400\n",
      "\u001b[1m18/18\u001b[0m \u001b[32m━━━━━━━━━━━━━━━━━━━━\u001b[0m\u001b[37m\u001b[0m \u001b[1m0s\u001b[0m 11ms/step - loss: 1.6679 - mae: 1.6679 - r2_score: -1.4333\n",
      "Epoch 24/400\n",
      "\u001b[1m18/18\u001b[0m \u001b[32m━━━━━━━━━━━━━━━━━━━━\u001b[0m\u001b[37m\u001b[0m \u001b[1m0s\u001b[0m 11ms/step - loss: 1.3777 - mae: 1.3777 - r2_score: -0.4573\n",
      "Epoch 25/400\n",
      "\u001b[1m18/18\u001b[0m \u001b[32m━━━━━━━━━━━━━━━━━━━━\u001b[0m\u001b[37m\u001b[0m \u001b[1m0s\u001b[0m 10ms/step - loss: 1.1199 - mae: 1.1199 - r2_score: -0.0536\n",
      "Epoch 26/400\n",
      "\u001b[1m18/18\u001b[0m \u001b[32m━━━━━━━━━━━━━━━━━━━━\u001b[0m\u001b[37m\u001b[0m \u001b[1m0s\u001b[0m 9ms/step - loss: 0.8839 - mae: 0.8839 - r2_score: 0.2980\n",
      "Epoch 27/400\n",
      "\u001b[1m18/18\u001b[0m \u001b[32m━━━━━━━━━━━━━━━━━━━━\u001b[0m\u001b[37m\u001b[0m \u001b[1m0s\u001b[0m 11ms/step - loss: 0.7549 - mae: 0.7549 - r2_score: 0.4417\n",
      "Epoch 28/400\n",
      "\u001b[1m18/18\u001b[0m \u001b[32m━━━━━━━━━━━━━━━━━━━━\u001b[0m\u001b[37m\u001b[0m \u001b[1m0s\u001b[0m 10ms/step - loss: 0.6556 - mae: 0.6556 - r2_score: 0.5876\n",
      "Epoch 29/400\n",
      "\u001b[1m18/18\u001b[0m \u001b[32m━━━━━━━━━━━━━━━━━━━━\u001b[0m\u001b[37m\u001b[0m \u001b[1m0s\u001b[0m 12ms/step - loss: 0.5571 - mae: 0.5571 - r2_score: 0.6756\n",
      "Epoch 30/400\n",
      "\u001b[1m18/18\u001b[0m \u001b[32m━━━━━━━━━━━━━━━━━━━━\u001b[0m\u001b[37m\u001b[0m \u001b[1m0s\u001b[0m 9ms/step - loss: 0.5562 - mae: 0.5562 - r2_score: 0.6297\n",
      "Epoch 31/400\n",
      "\u001b[1m18/18\u001b[0m \u001b[32m━━━━━━━━━━━━━━━━━━━━\u001b[0m\u001b[37m\u001b[0m \u001b[1m0s\u001b[0m 9ms/step - loss: 0.5841 - mae: 0.5841 - r2_score: 0.6084\n",
      "Epoch 32/400\n",
      "\u001b[1m18/18\u001b[0m \u001b[32m━━━━━━━━━━━━━━━━━━━━\u001b[0m\u001b[37m\u001b[0m \u001b[1m0s\u001b[0m 9ms/step - loss: 0.5479 - mae: 0.5479 - r2_score: 0.6519\n",
      "Epoch 33/400\n",
      "\u001b[1m18/18\u001b[0m \u001b[32m━━━━━━━━━━━━━━━━━━━━\u001b[0m\u001b[37m\u001b[0m \u001b[1m0s\u001b[0m 9ms/step - loss: 0.5476 - mae: 0.5476 - r2_score: 0.6335\n",
      "Epoch 34/400\n",
      "\u001b[1m18/18\u001b[0m \u001b[32m━━━━━━━━━━━━━━━━━━━━\u001b[0m\u001b[37m\u001b[0m \u001b[1m0s\u001b[0m 11ms/step - loss: 0.5307 - mae: 0.5307 - r2_score: 0.6440\n",
      "Epoch 35/400\n",
      "\u001b[1m18/18\u001b[0m \u001b[32m━━━━━━━━━━━━━━━━━━━━\u001b[0m\u001b[37m\u001b[0m \u001b[1m0s\u001b[0m 9ms/step - loss: 0.5382 - mae: 0.5382 - r2_score: 0.6530\n",
      "Epoch 36/400\n",
      "\u001b[1m18/18\u001b[0m \u001b[32m━━━━━━━━━━━━━━━━━━━━\u001b[0m\u001b[37m\u001b[0m \u001b[1m0s\u001b[0m 9ms/step - loss: 0.5465 - mae: 0.5465 - r2_score: 0.6354\n",
      "Epoch 37/400\n",
      "\u001b[1m18/18\u001b[0m \u001b[32m━━━━━━━━━━━━━━━━━━━━\u001b[0m\u001b[37m\u001b[0m \u001b[1m0s\u001b[0m 9ms/step - loss: 0.5139 - mae: 0.5139 - r2_score: 0.6701\n",
      "Epoch 38/400\n",
      "\u001b[1m18/18\u001b[0m \u001b[32m━━━━━━━━━━━━━━━━━━━━\u001b[0m\u001b[37m\u001b[0m \u001b[1m0s\u001b[0m 9ms/step - loss: 0.5382 - mae: 0.5382 - r2_score: 0.6186\n",
      "Epoch 39/400\n",
      "\u001b[1m18/18\u001b[0m \u001b[32m━━━━━━━━━━━━━━━━━━━━\u001b[0m\u001b[37m\u001b[0m \u001b[1m0s\u001b[0m 10ms/step - loss: 0.5237 - mae: 0.5237 - r2_score: 0.6467\n",
      "Epoch 40/400\n",
      "\u001b[1m18/18\u001b[0m \u001b[32m━━━━━━━━━━━━━━━━━━━━\u001b[0m\u001b[37m\u001b[0m \u001b[1m0s\u001b[0m 11ms/step - loss: 0.5280 - mae: 0.5280 - r2_score: 0.6286\n",
      "Epoch 41/400\n",
      "\u001b[1m18/18\u001b[0m \u001b[32m━━━━━━━━━━━━━━━━━━━━\u001b[0m\u001b[37m\u001b[0m \u001b[1m0s\u001b[0m 9ms/step - loss: 0.5141 - mae: 0.5141 - r2_score: 0.6570\n",
      "Epoch 42/400\n",
      "\u001b[1m18/18\u001b[0m \u001b[32m━━━━━━━━━━━━━━━━━━━━\u001b[0m\u001b[37m\u001b[0m \u001b[1m0s\u001b[0m 15ms/step - loss: 0.4865 - mae: 0.4865 - r2_score: 0.6845\n",
      "Epoch 43/400\n",
      "\u001b[1m18/18\u001b[0m \u001b[32m━━━━━━━━━━━━━━━━━━━━\u001b[0m\u001b[37m\u001b[0m \u001b[1m0s\u001b[0m 9ms/step - loss: 0.5122 - mae: 0.5122 - r2_score: 0.6597\n",
      "Epoch 44/400\n",
      "\u001b[1m18/18\u001b[0m \u001b[32m━━━━━━━━━━━━━━━━━━━━\u001b[0m\u001b[37m\u001b[0m \u001b[1m0s\u001b[0m 9ms/step - loss: 0.5419 - mae: 0.5419 - r2_score: 0.6282\n",
      "Epoch 45/400\n",
      "\u001b[1m18/18\u001b[0m \u001b[32m━━━━━━━━━━━━━━━━━━━━\u001b[0m\u001b[37m\u001b[0m \u001b[1m0s\u001b[0m 9ms/step - loss: 0.5390 - mae: 0.5390 - r2_score: 0.6226\n",
      "Epoch 46/400\n",
      "\u001b[1m18/18\u001b[0m \u001b[32m━━━━━━━━━━━━━━━━━━━━\u001b[0m\u001b[37m\u001b[0m \u001b[1m0s\u001b[0m 9ms/step - loss: 0.5063 - mae: 0.5063 - r2_score: 0.6414\n",
      "Epoch 47/400\n",
      "\u001b[1m18/18\u001b[0m \u001b[32m━━━━━━━━━━━━━━━━━━━━\u001b[0m\u001b[37m\u001b[0m \u001b[1m0s\u001b[0m 9ms/step - loss: 0.5145 - mae: 0.5145 - r2_score: 0.6320\n",
      "Epoch 48/400\n",
      "\u001b[1m18/18\u001b[0m \u001b[32m━━━━━━━━━━━━━━━━━━━━\u001b[0m\u001b[37m\u001b[0m \u001b[1m0s\u001b[0m 9ms/step - loss: 0.5300 - mae: 0.5300 - r2_score: 0.6418\n",
      "Epoch 49/400\n",
      "\u001b[1m18/18\u001b[0m \u001b[32m━━━━━━━━━━━━━━━━━━━━\u001b[0m\u001b[37m\u001b[0m \u001b[1m0s\u001b[0m 9ms/step - loss: 0.4954 - mae: 0.4954 - r2_score: 0.6644\n",
      "Epoch 50/400\n",
      "\u001b[1m18/18\u001b[0m \u001b[32m━━━━━━━━━━━━━━━━━━━━\u001b[0m\u001b[37m\u001b[0m \u001b[1m0s\u001b[0m 9ms/step - loss: 0.5216 - mae: 0.5216 - r2_score: 0.6476\n",
      "Epoch 51/400\n",
      "\u001b[1m18/18\u001b[0m \u001b[32m━━━━━━━━━━━━━━━━━━━━\u001b[0m\u001b[37m\u001b[0m \u001b[1m0s\u001b[0m 9ms/step - loss: 0.5177 - mae: 0.5177 - r2_score: 0.6205\n",
      "Epoch 52/400\n",
      "\u001b[1m18/18\u001b[0m \u001b[32m━━━━━━━━━━━━━━━━━━━━\u001b[0m\u001b[37m\u001b[0m \u001b[1m0s\u001b[0m 9ms/step - loss: 0.5631 - mae: 0.5631 - r2_score: 0.5792\n",
      "Epoch 53/400\n",
      "\u001b[1m18/18\u001b[0m \u001b[32m━━━━━━━━━━━━━━━━━━━━\u001b[0m\u001b[37m\u001b[0m \u001b[1m0s\u001b[0m 15ms/step - loss: 0.4915 - mae: 0.4915 - r2_score: 0.6643\n",
      "Epoch 54/400\n",
      "\u001b[1m18/18\u001b[0m \u001b[32m━━━━━━━━━━━━━━━━━━━━\u001b[0m\u001b[37m\u001b[0m \u001b[1m0s\u001b[0m 9ms/step - loss: 0.4520 - mae: 0.4520 - r2_score: 0.6838\n",
      "Epoch 55/400\n",
      "\u001b[1m18/18\u001b[0m \u001b[32m━━━━━━━━━━━━━━━━━━━━\u001b[0m\u001b[37m\u001b[0m \u001b[1m0s\u001b[0m 9ms/step - loss: 0.5110 - mae: 0.5110 - r2_score: 0.6440\n",
      "Epoch 56/400\n",
      "\u001b[1m18/18\u001b[0m \u001b[32m━━━━━━━━━━━━━━━━━━━━\u001b[0m\u001b[37m\u001b[0m \u001b[1m0s\u001b[0m 9ms/step - loss: 0.5444 - mae: 0.5444 - r2_score: 0.6019\n",
      "Epoch 57/400\n",
      "\u001b[1m18/18\u001b[0m \u001b[32m━━━━━━━━━━━━━━━━━━━━\u001b[0m\u001b[37m\u001b[0m \u001b[1m0s\u001b[0m 9ms/step - loss: 0.4943 - mae: 0.4943 - r2_score: 0.6511\n",
      "Epoch 58/400\n",
      "\u001b[1m18/18\u001b[0m \u001b[32m━━━━━━━━━━━━━━━━━━━━\u001b[0m\u001b[37m\u001b[0m \u001b[1m0s\u001b[0m 10ms/step - loss: 0.5412 - mae: 0.5412 - r2_score: 0.6020\n",
      "Epoch 59/400\n",
      "\u001b[1m18/18\u001b[0m \u001b[32m━━━━━━━━━━━━━━━━━━━━\u001b[0m\u001b[37m\u001b[0m \u001b[1m0s\u001b[0m 10ms/step - loss: 0.5194 - mae: 0.5194 - r2_score: 0.6495\n",
      "Epoch 60/400\n",
      "\u001b[1m18/18\u001b[0m \u001b[32m━━━━━━━━━━━━━━━━━━━━\u001b[0m\u001b[37m\u001b[0m \u001b[1m0s\u001b[0m 9ms/step - loss: 0.5734 - mae: 0.5734 - r2_score: 0.5843\n",
      "Epoch 61/400\n",
      "\u001b[1m18/18\u001b[0m \u001b[32m━━━━━━━━━━━━━━━━━━━━\u001b[0m\u001b[37m\u001b[0m \u001b[1m0s\u001b[0m 9ms/step - loss: 0.5096 - mae: 0.5096 - r2_score: 0.6395\n",
      "\u001b[1m5/5\u001b[0m \u001b[32m━━━━━━━━━━━━━━━━━━━━\u001b[0m\u001b[37m\u001b[0m \u001b[1m0s\u001b[0m 77ms/step\n",
      "Epoch 1/400\n",
      "\u001b[1m18/18\u001b[0m \u001b[32m━━━━━━━━━━━━━━━━━━━━\u001b[0m\u001b[37m\u001b[0m \u001b[1m1s\u001b[0m 15ms/step - loss: 6.8346 - mae: 6.8346 - r2_score: -31.6321\n",
      "Epoch 2/400\n",
      "\u001b[1m18/18\u001b[0m \u001b[32m━━━━━━━━━━━━━━━━━━━━\u001b[0m\u001b[37m\u001b[0m \u001b[1m0s\u001b[0m 9ms/step - loss: 6.6901 - mae: 6.6901 - r2_score: -31.3725\n",
      "Epoch 3/400\n",
      "\u001b[1m18/18\u001b[0m \u001b[32m━━━━━━━━━━━━━━━━━━━━\u001b[0m\u001b[37m\u001b[0m \u001b[1m0s\u001b[0m 9ms/step - loss: 6.5567 - mae: 6.5567 - r2_score: -29.0331\n",
      "Epoch 4/400\n",
      "\u001b[1m18/18\u001b[0m \u001b[32m━━━━━━━━━━━━━━━━━━━━\u001b[0m\u001b[37m\u001b[0m \u001b[1m0s\u001b[0m 9ms/step - loss: 6.4237 - mae: 6.4237 - r2_score: -27.0239\n",
      "Epoch 5/400\n",
      "\u001b[1m18/18\u001b[0m \u001b[32m━━━━━━━━━━━━━━━━━━━━\u001b[0m\u001b[37m\u001b[0m \u001b[1m0s\u001b[0m 9ms/step - loss: 6.2457 - mae: 6.2457 - r2_score: -25.6141\n",
      "Epoch 6/400\n",
      "\u001b[1m18/18\u001b[0m \u001b[32m━━━━━━━━━━━━━━━━━━━━\u001b[0m\u001b[37m\u001b[0m \u001b[1m0s\u001b[0m 9ms/step - loss: 5.9267 - mae: 5.9267 - r2_score: -22.9468\n",
      "Epoch 7/400\n",
      "\u001b[1m18/18\u001b[0m \u001b[32m━━━━━━━━━━━━━━━━━━━━\u001b[0m\u001b[37m\u001b[0m \u001b[1m0s\u001b[0m 9ms/step - loss: 5.8315 - mae: 5.8315 - r2_score: -22.7492\n",
      "Epoch 8/400\n",
      "\u001b[1m18/18\u001b[0m \u001b[32m━━━━━━━━━━━━━━━━━━━━\u001b[0m\u001b[37m\u001b[0m \u001b[1m0s\u001b[0m 10ms/step - loss: 5.4846 - mae: 5.4846 - r2_score: -21.2350\n",
      "Epoch 9/400\n",
      "\u001b[1m18/18\u001b[0m \u001b[32m━━━━━━━━━━━━━━━━━━━━\u001b[0m\u001b[37m\u001b[0m \u001b[1m0s\u001b[0m 10ms/step - loss: 5.2590 - mae: 5.2590 - r2_score: -19.5722\n",
      "Epoch 10/400\n",
      "\u001b[1m18/18\u001b[0m \u001b[32m━━━━━━━━━━━━━━━━━━━━\u001b[0m\u001b[37m\u001b[0m \u001b[1m0s\u001b[0m 9ms/step - loss: 5.0066 - mae: 5.0066 - r2_score: -17.4163\n",
      "Epoch 11/400\n",
      "\u001b[1m18/18\u001b[0m \u001b[32m━━━━━━━━━━━━━━━━━━━━\u001b[0m\u001b[37m\u001b[0m \u001b[1m0s\u001b[0m 9ms/step - loss: 4.7412 - mae: 4.7412 - r2_score: -16.7378\n",
      "Epoch 12/400\n",
      "\u001b[1m18/18\u001b[0m \u001b[32m━━━━━━━━━━━━━━━━━━━━\u001b[0m\u001b[37m\u001b[0m \u001b[1m0s\u001b[0m 9ms/step - loss: 4.3696 - mae: 4.3696 - r2_score: -12.8084\n",
      "Epoch 13/400\n",
      "\u001b[1m18/18\u001b[0m \u001b[32m━━━━━━━━━━━━━━━━━━━━\u001b[0m\u001b[37m\u001b[0m \u001b[1m0s\u001b[0m 9ms/step - loss: 3.9743 - mae: 3.9743 - r2_score: -11.3300\n",
      "Epoch 14/400\n",
      "\u001b[1m18/18\u001b[0m \u001b[32m━━━━━━━━━━━━━━━━━━━━\u001b[0m\u001b[37m\u001b[0m \u001b[1m0s\u001b[0m 14ms/step - loss: 3.7611 - mae: 3.7611 - r2_score: -9.4036\n",
      "Epoch 15/400\n",
      "\u001b[1m18/18\u001b[0m \u001b[32m━━━━━━━━━━━━━━━━━━━━\u001b[0m\u001b[37m\u001b[0m \u001b[1m0s\u001b[0m 9ms/step - loss: 3.3575 - mae: 3.3575 - r2_score: -7.5921\n",
      "Epoch 16/400\n",
      "\u001b[1m18/18\u001b[0m \u001b[32m━━━━━━━━━━━━━━━━━━━━\u001b[0m\u001b[37m\u001b[0m \u001b[1m0s\u001b[0m 9ms/step - loss: 2.9662 - mae: 2.9662 - r2_score: -6.1933\n",
      "Epoch 17/400\n",
      "\u001b[1m18/18\u001b[0m \u001b[32m━━━━━━━━━━━━━━━━━━━━\u001b[0m\u001b[37m\u001b[0m \u001b[1m0s\u001b[0m 9ms/step - loss: 2.7357 - mae: 2.7357 - r2_score: -4.6493\n",
      "Epoch 18/400\n",
      "\u001b[1m18/18\u001b[0m \u001b[32m━━━━━━━━━━━━━━━━━━━━\u001b[0m\u001b[37m\u001b[0m \u001b[1m0s\u001b[0m 10ms/step - loss: 2.2106 - mae: 2.2106 - r2_score: -2.9747\n",
      "Epoch 19/400\n",
      "\u001b[1m18/18\u001b[0m \u001b[32m━━━━━━━━━━━━━━━━━━━━\u001b[0m\u001b[37m\u001b[0m \u001b[1m0s\u001b[0m 9ms/step - loss: 1.8835 - mae: 1.8835 - r2_score: -2.1023\n",
      "Epoch 20/400\n",
      "\u001b[1m18/18\u001b[0m \u001b[32m━━━━━━━━━━━━━━━━━━━━\u001b[0m\u001b[37m\u001b[0m \u001b[1m0s\u001b[0m 10ms/step - loss: 1.4649 - mae: 1.4649 - r2_score: -0.8297\n",
      "Epoch 21/400\n",
      "\u001b[1m18/18\u001b[0m \u001b[32m━━━━━━━━━━━━━━━━━━━━\u001b[0m\u001b[37m\u001b[0m \u001b[1m0s\u001b[0m 9ms/step - loss: 1.1822 - mae: 1.1822 - r2_score: -0.2824\n",
      "Epoch 22/400\n",
      "\u001b[1m18/18\u001b[0m \u001b[32m━━━━━━━━━━━━━━━━━━━━\u001b[0m\u001b[37m\u001b[0m \u001b[1m0s\u001b[0m 10ms/step - loss: 0.9642 - mae: 0.9642 - r2_score: 0.1110\n",
      "Epoch 23/400\n",
      "\u001b[1m18/18\u001b[0m \u001b[32m━━━━━━━━━━━━━━━━━━━━\u001b[0m\u001b[37m\u001b[0m \u001b[1m0s\u001b[0m 9ms/step - loss: 0.7808 - mae: 0.7808 - r2_score: 0.3217\n",
      "Epoch 24/400\n",
      "\u001b[1m18/18\u001b[0m \u001b[32m━━━━━━━━━━━━━━━━━━━━\u001b[0m\u001b[37m\u001b[0m \u001b[1m0s\u001b[0m 9ms/step - loss: 0.7106 - mae: 0.7106 - r2_score: 0.4302\n",
      "Epoch 25/400\n",
      "\u001b[1m18/18\u001b[0m \u001b[32m━━━━━━━━━━━━━━━━━━━━\u001b[0m\u001b[37m\u001b[0m \u001b[1m0s\u001b[0m 9ms/step - loss: 0.6682 - mae: 0.6682 - r2_score: 0.5126\n",
      "Epoch 26/400\n",
      "\u001b[1m18/18\u001b[0m \u001b[32m━━━━━━━━━━━━━━━━━━━━\u001b[0m\u001b[37m\u001b[0m \u001b[1m0s\u001b[0m 9ms/step - loss: 0.6798 - mae: 0.6798 - r2_score: 0.5395\n",
      "Epoch 27/400\n",
      "\u001b[1m18/18\u001b[0m \u001b[32m━━━━━━━━━━━━━━━━━━━━\u001b[0m\u001b[37m\u001b[0m \u001b[1m0s\u001b[0m 17ms/step - loss: 0.6524 - mae: 0.6524 - r2_score: 0.5204\n",
      "Epoch 28/400\n",
      "\u001b[1m18/18\u001b[0m \u001b[32m━━━━━━━━━━━━━━━━━━━━\u001b[0m\u001b[37m\u001b[0m \u001b[1m0s\u001b[0m 20ms/step - loss: 0.6133 - mae: 0.6133 - r2_score: 0.6149\n",
      "Epoch 29/400\n",
      "\u001b[1m18/18\u001b[0m \u001b[32m━━━━━━━━━━━━━━━━━━━━\u001b[0m\u001b[37m\u001b[0m \u001b[1m0s\u001b[0m 11ms/step - loss: 0.5899 - mae: 0.5899 - r2_score: 0.6212\n",
      "Epoch 30/400\n",
      "\u001b[1m18/18\u001b[0m \u001b[32m━━━━━━━━━━━━━━━━━━━━\u001b[0m\u001b[37m\u001b[0m \u001b[1m0s\u001b[0m 11ms/step - loss: 0.5803 - mae: 0.5803 - r2_score: 0.6155\n",
      "Epoch 31/400\n",
      "\u001b[1m18/18\u001b[0m \u001b[32m━━━━━━━━━━━━━━━━━━━━\u001b[0m\u001b[37m\u001b[0m \u001b[1m0s\u001b[0m 10ms/step - loss: 0.5865 - mae: 0.5865 - r2_score: 0.6207\n",
      "Epoch 32/400\n",
      "\u001b[1m18/18\u001b[0m \u001b[32m━━━━━━━━━━━━━━━━━━━━\u001b[0m\u001b[37m\u001b[0m \u001b[1m0s\u001b[0m 14ms/step - loss: 0.5353 - mae: 0.5353 - r2_score: 0.6729\n",
      "Epoch 33/400\n",
      "\u001b[1m18/18\u001b[0m \u001b[32m━━━━━━━━━━━━━━━━━━━━\u001b[0m\u001b[37m\u001b[0m \u001b[1m0s\u001b[0m 13ms/step - loss: 0.5410 - mae: 0.5410 - r2_score: 0.6376\n",
      "Epoch 34/400\n",
      "\u001b[1m18/18\u001b[0m \u001b[32m━━━━━━━━━━━━━━━━━━━━\u001b[0m\u001b[37m\u001b[0m \u001b[1m0s\u001b[0m 9ms/step - loss: 0.5257 - mae: 0.5257 - r2_score: 0.6740\n",
      "Epoch 35/400\n",
      "\u001b[1m18/18\u001b[0m \u001b[32m━━━━━━━━━━━━━━━━━━━━\u001b[0m\u001b[37m\u001b[0m \u001b[1m0s\u001b[0m 9ms/step - loss: 0.5473 - mae: 0.5473 - r2_score: 0.6071\n",
      "Epoch 36/400\n",
      "\u001b[1m18/18\u001b[0m \u001b[32m━━━━━━━━━━━━━━━━━━━━\u001b[0m\u001b[37m\u001b[0m \u001b[1m0s\u001b[0m 9ms/step - loss: 0.5026 - mae: 0.5026 - r2_score: 0.6599\n",
      "Epoch 37/400\n",
      "\u001b[1m18/18\u001b[0m \u001b[32m━━━━━━━━━━━━━━━━━━━━\u001b[0m\u001b[37m\u001b[0m \u001b[1m0s\u001b[0m 9ms/step - loss: 0.5825 - mae: 0.5825 - r2_score: 0.6006\n",
      "Epoch 38/400\n",
      "\u001b[1m18/18\u001b[0m \u001b[32m━━━━━━━━━━━━━━━━━━━━\u001b[0m\u001b[37m\u001b[0m \u001b[1m0s\u001b[0m 9ms/step - loss: 0.5109 - mae: 0.5109 - r2_score: 0.6433\n",
      "Epoch 39/400\n",
      "\u001b[1m18/18\u001b[0m \u001b[32m━━━━━━━━━━━━━━━━━━━━\u001b[0m\u001b[37m\u001b[0m \u001b[1m0s\u001b[0m 9ms/step - loss: 0.5275 - mae: 0.5275 - r2_score: 0.6404\n",
      "Epoch 40/400\n",
      "\u001b[1m18/18\u001b[0m \u001b[32m━━━━━━━━━━━━━━━━━━━━\u001b[0m\u001b[37m\u001b[0m \u001b[1m0s\u001b[0m 9ms/step - loss: 0.5264 - mae: 0.5264 - r2_score: 0.6546\n",
      "Epoch 41/400\n",
      "\u001b[1m18/18\u001b[0m \u001b[32m━━━━━━━━━━━━━━━━━━━━\u001b[0m\u001b[37m\u001b[0m \u001b[1m0s\u001b[0m 9ms/step - loss: 0.5565 - mae: 0.5565 - r2_score: 0.5835\n",
      "Epoch 42/400\n",
      "\u001b[1m18/18\u001b[0m \u001b[32m━━━━━━━━━━━━━━━━━━━━\u001b[0m\u001b[37m\u001b[0m \u001b[1m0s\u001b[0m 14ms/step - loss: 0.5405 - mae: 0.5405 - r2_score: 0.6317\n",
      "Epoch 43/400\n",
      "\u001b[1m18/18\u001b[0m \u001b[32m━━━━━━━━━━━━━━━━━━━━\u001b[0m\u001b[37m\u001b[0m \u001b[1m0s\u001b[0m 9ms/step - loss: 0.5215 - mae: 0.5215 - r2_score: 0.6505\n",
      "Epoch 44/400\n",
      "\u001b[1m18/18\u001b[0m \u001b[32m━━━━━━━━━━━━━━━━━━━━\u001b[0m\u001b[37m\u001b[0m \u001b[1m0s\u001b[0m 10ms/step - loss: 0.4989 - mae: 0.4989 - r2_score: 0.6675\n",
      "Epoch 45/400\n",
      "\u001b[1m18/18\u001b[0m \u001b[32m━━━━━━━━━━━━━━━━━━━━\u001b[0m\u001b[37m\u001b[0m \u001b[1m0s\u001b[0m 9ms/step - loss: 0.5187 - mae: 0.5187 - r2_score: 0.6131\n",
      "Epoch 46/400\n",
      "\u001b[1m18/18\u001b[0m \u001b[32m━━━━━━━━━━━━━━━━━━━━\u001b[0m\u001b[37m\u001b[0m \u001b[1m0s\u001b[0m 10ms/step - loss: 0.5232 - mae: 0.5232 - r2_score: 0.6271\n",
      "Epoch 47/400\n",
      "\u001b[1m18/18\u001b[0m \u001b[32m━━━━━━━━━━━━━━━━━━━━\u001b[0m\u001b[37m\u001b[0m \u001b[1m0s\u001b[0m 18ms/step - loss: 0.4978 - mae: 0.4978 - r2_score: 0.6754\n",
      "Epoch 48/400\n",
      "\u001b[1m18/18\u001b[0m \u001b[32m━━━━━━━━━━━━━━━━━━━━\u001b[0m\u001b[37m\u001b[0m \u001b[1m0s\u001b[0m 12ms/step - loss: 0.5123 - mae: 0.5123 - r2_score: 0.6370\n",
      "Epoch 49/400\n",
      "\u001b[1m18/18\u001b[0m \u001b[32m━━━━━━━━━━━━━━━━━━━━\u001b[0m\u001b[37m\u001b[0m \u001b[1m0s\u001b[0m 10ms/step - loss: 0.5342 - mae: 0.5342 - r2_score: 0.6202\n",
      "Epoch 50/400\n",
      "\u001b[1m18/18\u001b[0m \u001b[32m━━━━━━━━━━━━━━━━━━━━\u001b[0m\u001b[37m\u001b[0m \u001b[1m0s\u001b[0m 9ms/step - loss: 0.5181 - mae: 0.5181 - r2_score: 0.6385\n",
      "Epoch 51/400\n",
      "\u001b[1m18/18\u001b[0m \u001b[32m━━━━━━━━━━━━━━━━━━━━\u001b[0m\u001b[37m\u001b[0m \u001b[1m0s\u001b[0m 10ms/step - loss: 0.4811 - mae: 0.4811 - r2_score: 0.7034\n",
      "Epoch 52/400\n",
      "\u001b[1m18/18\u001b[0m \u001b[32m━━━━━━━━━━━━━━━━━━━━\u001b[0m\u001b[37m\u001b[0m \u001b[1m0s\u001b[0m 10ms/step - loss: 0.5403 - mae: 0.5403 - r2_score: 0.6273\n",
      "Epoch 53/400\n",
      "\u001b[1m18/18\u001b[0m \u001b[32m━━━━━━━━━━━━━━━━━━━━\u001b[0m\u001b[37m\u001b[0m \u001b[1m0s\u001b[0m 10ms/step - loss: 0.5490 - mae: 0.5490 - r2_score: 0.5806\n",
      "Epoch 54/400\n",
      "\u001b[1m18/18\u001b[0m \u001b[32m━━━━━━━━━━━━━━━━━━━━\u001b[0m\u001b[37m\u001b[0m \u001b[1m0s\u001b[0m 10ms/step - loss: 0.5044 - mae: 0.5044 - r2_score: 0.6520\n",
      "Epoch 55/400\n",
      "\u001b[1m18/18\u001b[0m \u001b[32m━━━━━━━━━━━━━━━━━━━━\u001b[0m\u001b[37m\u001b[0m \u001b[1m0s\u001b[0m 16ms/step - loss: 0.5356 - mae: 0.5356 - r2_score: 0.6125\n",
      "Epoch 56/400\n",
      "\u001b[1m18/18\u001b[0m \u001b[32m━━━━━━━━━━━━━━━━━━━━\u001b[0m\u001b[37m\u001b[0m \u001b[1m0s\u001b[0m 10ms/step - loss: 0.5163 - mae: 0.5163 - r2_score: 0.6569\n",
      "Epoch 57/400\n",
      "\u001b[1m18/18\u001b[0m \u001b[32m━━━━━━━━━━━━━━━━━━━━\u001b[0m\u001b[37m\u001b[0m \u001b[1m0s\u001b[0m 11ms/step - loss: 0.5160 - mae: 0.5160 - r2_score: 0.6307\n",
      "Epoch 58/400\n",
      "\u001b[1m18/18\u001b[0m \u001b[32m━━━━━━━━━━━━━━━━━━━━\u001b[0m\u001b[37m\u001b[0m \u001b[1m0s\u001b[0m 9ms/step - loss: 0.5428 - mae: 0.5428 - r2_score: 0.5808\n",
      "\u001b[1m5/5\u001b[0m \u001b[32m━━━━━━━━━━━━━━━━━━━━\u001b[0m\u001b[37m\u001b[0m \u001b[1m0s\u001b[0m 8ms/step \n",
      "Epoch 1/400\n",
      "\u001b[1m18/18\u001b[0m \u001b[32m━━━━━━━━━━━━━━━━━━━━\u001b[0m\u001b[37m\u001b[0m \u001b[1m1s\u001b[0m 18ms/step - loss: 6.8382 - mae: 6.8382 - r2_score: -31.7076\n",
      "Epoch 2/400\n",
      "\u001b[1m18/18\u001b[0m \u001b[32m━━━━━━━━━━━━━━━━━━━━\u001b[0m\u001b[37m\u001b[0m \u001b[1m0s\u001b[0m 10ms/step - loss: 6.7254 - mae: 6.7254 - r2_score: -29.8466\n",
      "Epoch 3/400\n",
      "\u001b[1m18/18\u001b[0m \u001b[32m━━━━━━━━━━━━━━━━━━━━\u001b[0m\u001b[37m\u001b[0m \u001b[1m0s\u001b[0m 10ms/step - loss: 6.6049 - mae: 6.6049 - r2_score: -29.4808\n",
      "Epoch 4/400\n",
      "\u001b[1m18/18\u001b[0m \u001b[32m━━━━━━━━━━━━━━━━━━━━\u001b[0m\u001b[37m\u001b[0m \u001b[1m0s\u001b[0m 10ms/step - loss: 6.4508 - mae: 6.4508 - r2_score: -29.6945\n",
      "Epoch 5/400\n",
      "\u001b[1m18/18\u001b[0m \u001b[32m━━━━━━━━━━━━━━━━━━━━\u001b[0m\u001b[37m\u001b[0m \u001b[1m0s\u001b[0m 9ms/step - loss: 6.3088 - mae: 6.3088 - r2_score: -26.5237\n",
      "Epoch 6/400\n",
      "\u001b[1m18/18\u001b[0m \u001b[32m━━━━━━━━━━━━━━━━━━━━\u001b[0m\u001b[37m\u001b[0m \u001b[1m0s\u001b[0m 9ms/step - loss: 6.1718 - mae: 6.1718 - r2_score: -25.9105\n",
      "Epoch 7/400\n",
      "\u001b[1m18/18\u001b[0m \u001b[32m━━━━━━━━━━━━━━━━━━━━\u001b[0m\u001b[37m\u001b[0m \u001b[1m0s\u001b[0m 10ms/step - loss: 5.9458 - mae: 5.9458 - r2_score: -24.3878\n",
      "Epoch 8/400\n",
      "\u001b[1m18/18\u001b[0m \u001b[32m━━━━━━━━━━━━━━━━━━━━\u001b[0m\u001b[37m\u001b[0m \u001b[1m0s\u001b[0m 10ms/step - loss: 5.6736 - mae: 5.6736 - r2_score: -21.0890\n",
      "Epoch 9/400\n",
      "\u001b[1m18/18\u001b[0m \u001b[32m━━━━━━━━━━━━━━━━━━━━\u001b[0m\u001b[37m\u001b[0m \u001b[1m0s\u001b[0m 9ms/step - loss: 5.4792 - mae: 5.4792 - r2_score: -21.1312\n",
      "Epoch 10/400\n",
      "\u001b[1m18/18\u001b[0m \u001b[32m━━━━━━━━━━━━━━━━━━━━\u001b[0m\u001b[37m\u001b[0m \u001b[1m0s\u001b[0m 11ms/step - loss: 5.2069 - mae: 5.2069 - r2_score: -18.9235\n",
      "Epoch 11/400\n",
      "\u001b[1m18/18\u001b[0m \u001b[32m━━━━━━━━━━━━━━━━━━━━\u001b[0m\u001b[37m\u001b[0m \u001b[1m0s\u001b[0m 9ms/step - loss: 4.9983 - mae: 4.9983 - r2_score: -17.7114\n",
      "Epoch 12/400\n",
      "\u001b[1m18/18\u001b[0m \u001b[32m━━━━━━━━━━━━━━━━━━━━\u001b[0m\u001b[37m\u001b[0m \u001b[1m0s\u001b[0m 10ms/step - loss: 4.7175 - mae: 4.7175 - r2_score: -15.7586\n",
      "Epoch 13/400\n",
      "\u001b[1m18/18\u001b[0m \u001b[32m━━━━━━━━━━━━━━━━━━━━\u001b[0m\u001b[37m\u001b[0m \u001b[1m0s\u001b[0m 16ms/step - loss: 4.3421 - mae: 4.3421 - r2_score: -12.7409\n",
      "Epoch 14/400\n",
      "\u001b[1m18/18\u001b[0m \u001b[32m━━━━━━━━━━━━━━━━━━━━\u001b[0m\u001b[37m\u001b[0m \u001b[1m0s\u001b[0m 10ms/step - loss: 4.0533 - mae: 4.0533 - r2_score: -10.6831\n",
      "Epoch 15/400\n",
      "\u001b[1m18/18\u001b[0m \u001b[32m━━━━━━━━━━━━━━━━━━━━\u001b[0m\u001b[37m\u001b[0m \u001b[1m0s\u001b[0m 10ms/step - loss: 3.7529 - mae: 3.7529 - r2_score: -8.9331\n",
      "Epoch 16/400\n",
      "\u001b[1m18/18\u001b[0m \u001b[32m━━━━━━━━━━━━━━━━━━━━\u001b[0m\u001b[37m\u001b[0m \u001b[1m0s\u001b[0m 12ms/step - loss: 3.3394 - mae: 3.3394 - r2_score: -7.2884\n",
      "Epoch 17/400\n",
      "\u001b[1m18/18\u001b[0m \u001b[32m━━━━━━━━━━━━━━━━━━━━\u001b[0m\u001b[37m\u001b[0m \u001b[1m0s\u001b[0m 12ms/step - loss: 3.0868 - mae: 3.0868 - r2_score: -5.7631\n",
      "Epoch 18/400\n",
      "\u001b[1m18/18\u001b[0m \u001b[32m━━━━━━━━━━━━━━━━━━━━\u001b[0m\u001b[37m\u001b[0m \u001b[1m0s\u001b[0m 23ms/step - loss: 2.6351 - mae: 2.6351 - r2_score: -4.3129\n",
      "Epoch 19/400\n",
      "\u001b[1m18/18\u001b[0m \u001b[32m━━━━━━━━━━━━━━━━━━━━\u001b[0m\u001b[37m\u001b[0m \u001b[1m0s\u001b[0m 10ms/step - loss: 2.3885 - mae: 2.3885 - r2_score: -3.5799\n",
      "Epoch 20/400\n",
      "\u001b[1m18/18\u001b[0m \u001b[32m━━━━━━━━━━━━━━━━━━━━\u001b[0m\u001b[37m\u001b[0m \u001b[1m0s\u001b[0m 10ms/step - loss: 2.0647 - mae: 2.0647 - r2_score: -2.4163\n",
      "Epoch 21/400\n",
      "\u001b[1m18/18\u001b[0m \u001b[32m━━━━━━━━━━━━━━━━━━━━\u001b[0m\u001b[37m\u001b[0m \u001b[1m0s\u001b[0m 11ms/step - loss: 1.6237 - mae: 1.6237 - r2_score: -1.2107\n",
      "Epoch 22/400\n",
      "\u001b[1m18/18\u001b[0m \u001b[32m━━━━━━━━━━━━━━━━━━━━\u001b[0m\u001b[37m\u001b[0m \u001b[1m0s\u001b[0m 10ms/step - loss: 1.3227 - mae: 1.3227 - r2_score: -0.5175\n",
      "Epoch 23/400\n",
      "\u001b[1m18/18\u001b[0m \u001b[32m━━━━━━━━━━━━━━━━━━━━\u001b[0m\u001b[37m\u001b[0m \u001b[1m0s\u001b[0m 11ms/step - loss: 1.0311 - mae: 1.0311 - r2_score: -0.0220\n",
      "Epoch 24/400\n",
      "\u001b[1m18/18\u001b[0m \u001b[32m━━━━━━━━━━━━━━━━━━━━\u001b[0m\u001b[37m\u001b[0m \u001b[1m0s\u001b[0m 10ms/step - loss: 0.8881 - mae: 0.8881 - r2_score: 0.2049\n",
      "Epoch 25/400\n",
      "\u001b[1m18/18\u001b[0m \u001b[32m━━━━━━━━━━━━━━━━━━━━\u001b[0m\u001b[37m\u001b[0m \u001b[1m0s\u001b[0m 11ms/step - loss: 0.7410 - mae: 0.7410 - r2_score: 0.4759\n",
      "Epoch 26/400\n",
      "\u001b[1m18/18\u001b[0m \u001b[32m━━━━━━━━━━━━━━━━━━━━\u001b[0m\u001b[37m\u001b[0m \u001b[1m0s\u001b[0m 12ms/step - loss: 0.6901 - mae: 0.6901 - r2_score: 0.4874\n",
      "Epoch 27/400\n",
      "\u001b[1m18/18\u001b[0m \u001b[32m━━━━━━━━━━━━━━━━━━━━\u001b[0m\u001b[37m\u001b[0m \u001b[1m0s\u001b[0m 10ms/step - loss: 0.6556 - mae: 0.6556 - r2_score: 0.5261\n",
      "Epoch 28/400\n",
      "\u001b[1m18/18\u001b[0m \u001b[32m━━━━━━━━━━━━━━━━━━━━\u001b[0m\u001b[37m\u001b[0m \u001b[1m0s\u001b[0m 9ms/step - loss: 0.6625 - mae: 0.6625 - r2_score: 0.5083\n",
      "Epoch 29/400\n",
      "\u001b[1m18/18\u001b[0m \u001b[32m━━━━━━━━━━━━━━━━━━━━\u001b[0m\u001b[37m\u001b[0m \u001b[1m0s\u001b[0m 11ms/step - loss: 0.6466 - mae: 0.6466 - r2_score: 0.5657\n",
      "Epoch 30/400\n",
      "\u001b[1m18/18\u001b[0m \u001b[32m━━━━━━━━━━━━━━━━━━━━\u001b[0m\u001b[37m\u001b[0m \u001b[1m0s\u001b[0m 9ms/step - loss: 0.6168 - mae: 0.6168 - r2_score: 0.5686\n",
      "Epoch 31/400\n",
      "\u001b[1m18/18\u001b[0m \u001b[32m━━━━━━━━━━━━━━━━━━━━\u001b[0m\u001b[37m\u001b[0m \u001b[1m0s\u001b[0m 9ms/step - loss: 0.5812 - mae: 0.5812 - r2_score: 0.5957\n",
      "Epoch 32/400\n",
      "\u001b[1m18/18\u001b[0m \u001b[32m━━━━━━━━━━━━━━━━━━━━\u001b[0m\u001b[37m\u001b[0m \u001b[1m0s\u001b[0m 9ms/step - loss: 0.5627 - mae: 0.5627 - r2_score: 0.6029\n",
      "Epoch 33/400\n",
      "\u001b[1m18/18\u001b[0m \u001b[32m━━━━━━━━━━━━━━━━━━━━\u001b[0m\u001b[37m\u001b[0m \u001b[1m0s\u001b[0m 20ms/step - loss: 0.5558 - mae: 0.5558 - r2_score: 0.6016\n",
      "Epoch 34/400\n",
      "\u001b[1m18/18\u001b[0m \u001b[32m━━━━━━━━━━━━━━━━━━━━\u001b[0m\u001b[37m\u001b[0m \u001b[1m0s\u001b[0m 9ms/step - loss: 0.5605 - mae: 0.5605 - r2_score: 0.6170\n",
      "Epoch 35/400\n",
      "\u001b[1m18/18\u001b[0m \u001b[32m━━━━━━━━━━━━━━━━━━━━\u001b[0m\u001b[37m\u001b[0m \u001b[1m0s\u001b[0m 9ms/step - loss: 0.5130 - mae: 0.5130 - r2_score: 0.6751\n",
      "Epoch 36/400\n",
      "\u001b[1m18/18\u001b[0m \u001b[32m━━━━━━━━━━━━━━━━━━━━\u001b[0m\u001b[37m\u001b[0m \u001b[1m0s\u001b[0m 10ms/step - loss: 0.5357 - mae: 0.5357 - r2_score: 0.6139\n",
      "Epoch 37/400\n",
      "\u001b[1m18/18\u001b[0m \u001b[32m━━━━━━━━━━━━━━━━━━━━\u001b[0m\u001b[37m\u001b[0m \u001b[1m0s\u001b[0m 10ms/step - loss: 0.5143 - mae: 0.5143 - r2_score: 0.6244\n",
      "Epoch 38/400\n",
      "\u001b[1m18/18\u001b[0m \u001b[32m━━━━━━━━━━━━━━━━━━━━\u001b[0m\u001b[37m\u001b[0m \u001b[1m0s\u001b[0m 15ms/step - loss: 0.5113 - mae: 0.5113 - r2_score: 0.6349\n",
      "Epoch 39/400\n",
      "\u001b[1m18/18\u001b[0m \u001b[32m━━━━━━━━━━━━━━━━━━━━\u001b[0m\u001b[37m\u001b[0m \u001b[1m0s\u001b[0m 11ms/step - loss: 0.5048 - mae: 0.5048 - r2_score: 0.6592\n",
      "Epoch 40/400\n",
      "\u001b[1m18/18\u001b[0m \u001b[32m━━━━━━━━━━━━━━━━━━━━\u001b[0m\u001b[37m\u001b[0m \u001b[1m0s\u001b[0m 21ms/step - loss: 0.5433 - mae: 0.5433 - r2_score: 0.6160\n",
      "Epoch 41/400\n",
      "\u001b[1m18/18\u001b[0m \u001b[32m━━━━━━━━━━━━━━━━━━━━\u001b[0m\u001b[37m\u001b[0m \u001b[1m0s\u001b[0m 12ms/step - loss: 0.5148 - mae: 0.5148 - r2_score: 0.6155\n",
      "Epoch 42/400\n",
      "\u001b[1m18/18\u001b[0m \u001b[32m━━━━━━━━━━━━━━━━━━━━\u001b[0m\u001b[37m\u001b[0m \u001b[1m0s\u001b[0m 12ms/step - loss: 0.5380 - mae: 0.5380 - r2_score: 0.5944\n",
      "Epoch 43/400\n",
      "\u001b[1m18/18\u001b[0m \u001b[32m━━━━━━━━━━━━━━━━━━━━\u001b[0m\u001b[37m\u001b[0m \u001b[1m0s\u001b[0m 11ms/step - loss: 0.5157 - mae: 0.5157 - r2_score: 0.6442\n",
      "Epoch 44/400\n",
      "\u001b[1m18/18\u001b[0m \u001b[32m━━━━━━━━━━━━━━━━━━━━\u001b[0m\u001b[37m\u001b[0m \u001b[1m0s\u001b[0m 12ms/step - loss: 0.5424 - mae: 0.5424 - r2_score: 0.5812\n",
      "Epoch 45/400\n",
      "\u001b[1m18/18\u001b[0m \u001b[32m━━━━━━━━━━━━━━━━━━━━\u001b[0m\u001b[37m\u001b[0m \u001b[1m0s\u001b[0m 11ms/step - loss: 0.5312 - mae: 0.5312 - r2_score: 0.6187\n",
      "Epoch 46/400\n",
      "\u001b[1m18/18\u001b[0m \u001b[32m━━━━━━━━━━━━━━━━━━━━\u001b[0m\u001b[37m\u001b[0m \u001b[1m0s\u001b[0m 10ms/step - loss: 0.5193 - mae: 0.5193 - r2_score: 0.6248\n",
      "Epoch 47/400\n",
      "\u001b[1m18/18\u001b[0m \u001b[32m━━━━━━━━━━━━━━━━━━━━\u001b[0m\u001b[37m\u001b[0m \u001b[1m0s\u001b[0m 10ms/step - loss: 0.5056 - mae: 0.5056 - r2_score: 0.6483\n",
      "Epoch 48/400\n",
      "\u001b[1m18/18\u001b[0m \u001b[32m━━━━━━━━━━━━━━━━━━━━\u001b[0m\u001b[37m\u001b[0m \u001b[1m0s\u001b[0m 10ms/step - loss: 0.4995 - mae: 0.4995 - r2_score: 0.6236\n",
      "Epoch 49/400\n",
      "\u001b[1m18/18\u001b[0m \u001b[32m━━━━━━━━━━━━━━━━━━━━\u001b[0m\u001b[37m\u001b[0m \u001b[1m0s\u001b[0m 10ms/step - loss: 0.5306 - mae: 0.5306 - r2_score: 0.6273\n",
      "Epoch 50/400\n",
      "\u001b[1m18/18\u001b[0m \u001b[32m━━━━━━━━━━━━━━━━━━━━\u001b[0m\u001b[37m\u001b[0m \u001b[1m0s\u001b[0m 9ms/step - loss: 0.5081 - mae: 0.5081 - r2_score: 0.6489\n",
      "Epoch 51/400\n",
      "\u001b[1m18/18\u001b[0m \u001b[32m━━━━━━━━━━━━━━━━━━━━\u001b[0m\u001b[37m\u001b[0m \u001b[1m0s\u001b[0m 10ms/step - loss: 0.5191 - mae: 0.5191 - r2_score: 0.5885\n",
      "Epoch 52/400\n",
      "\u001b[1m18/18\u001b[0m \u001b[32m━━━━━━━━━━━━━━━━━━━━\u001b[0m\u001b[37m\u001b[0m \u001b[1m0s\u001b[0m 10ms/step - loss: 0.5197 - mae: 0.5197 - r2_score: 0.5863\n",
      "Epoch 53/400\n",
      "\u001b[1m18/18\u001b[0m \u001b[32m━━━━━━━━━━━━━━━━━━━━\u001b[0m\u001b[37m\u001b[0m \u001b[1m0s\u001b[0m 9ms/step - loss: 0.5085 - mae: 0.5085 - r2_score: 0.6386\n",
      "Epoch 54/400\n",
      "\u001b[1m18/18\u001b[0m \u001b[32m━━━━━━━━━━━━━━━━━━━━\u001b[0m\u001b[37m\u001b[0m \u001b[1m0s\u001b[0m 9ms/step - loss: 0.5050 - mae: 0.5050 - r2_score: 0.6252\n",
      "Epoch 55/400\n",
      "\u001b[1m18/18\u001b[0m \u001b[32m━━━━━━━━━━━━━━━━━━━━\u001b[0m\u001b[37m\u001b[0m \u001b[1m0s\u001b[0m 18ms/step - loss: 0.5086 - mae: 0.5086 - r2_score: 0.6306\n",
      "Epoch 56/400\n",
      "\u001b[1m18/18\u001b[0m \u001b[32m━━━━━━━━━━━━━━━━━━━━\u001b[0m\u001b[37m\u001b[0m \u001b[1m0s\u001b[0m 9ms/step - loss: 0.5299 - mae: 0.5299 - r2_score: 0.6012\n",
      "Epoch 57/400\n",
      "\u001b[1m18/18\u001b[0m \u001b[32m━━━━━━━━━━━━━━━━━━━━\u001b[0m\u001b[37m\u001b[0m \u001b[1m0s\u001b[0m 9ms/step - loss: 0.5302 - mae: 0.5302 - r2_score: 0.6234\n",
      "Epoch 58/400\n",
      "\u001b[1m18/18\u001b[0m \u001b[32m━━━━━━━━━━━━━━━━━━━━\u001b[0m\u001b[37m\u001b[0m \u001b[1m0s\u001b[0m 10ms/step - loss: 0.5106 - mae: 0.5106 - r2_score: 0.6316\n",
      "WARNING:tensorflow:5 out of the last 11 calls to <function TensorFlowTrainer.make_predict_function.<locals>.one_step_on_data_distributed at 0x1739fda80> triggered tf.function retracing. Tracing is expensive and the excessive number of tracings could be due to (1) creating @tf.function repeatedly in a loop, (2) passing tensors with different shapes, (3) passing Python objects instead of tensors. For (1), please define your @tf.function outside of the loop. For (2), @tf.function has reduce_retracing=True option that can avoid unnecessary retracing. For (3), please refer to https://www.tensorflow.org/guide/function#controlling_retracing and https://www.tensorflow.org/api_docs/python/tf/function for  more details.\n",
      "\u001b[1m1/5\u001b[0m \u001b[32m━━━━\u001b[0m\u001b[37m━━━━━━━━━━━━━━━━\u001b[0m \u001b[1m0s\u001b[0m 28ms/stepWARNING:tensorflow:5 out of the last 11 calls to <function TensorFlowTrainer.make_predict_function.<locals>.one_step_on_data_distributed at 0x1739fda80> triggered tf.function retracing. Tracing is expensive and the excessive number of tracings could be due to (1) creating @tf.function repeatedly in a loop, (2) passing tensors with different shapes, (3) passing Python objects instead of tensors. For (1), please define your @tf.function outside of the loop. For (2), @tf.function has reduce_retracing=True option that can avoid unnecessary retracing. For (3), please refer to https://www.tensorflow.org/guide/function#controlling_retracing and https://www.tensorflow.org/api_docs/python/tf/function for  more details.\n",
      "\u001b[1m5/5\u001b[0m \u001b[32m━━━━━━━━━━━━━━━━━━━━\u001b[0m\u001b[37m\u001b[0m \u001b[1m0s\u001b[0m 8ms/step \n",
      "Epoch 1/400\n",
      "\u001b[1m18/18\u001b[0m \u001b[32m━━━━━━━━━━━━━━━━━━━━\u001b[0m\u001b[37m\u001b[0m \u001b[1m1s\u001b[0m 15ms/step - loss: 6.7933 - mae: 6.7933 - r2_score: -34.1824\n",
      "Epoch 2/400\n",
      "\u001b[1m18/18\u001b[0m \u001b[32m━━━━━━━━━━━━━━━━━━━━\u001b[0m\u001b[37m\u001b[0m \u001b[1m0s\u001b[0m 12ms/step - loss: 6.7684 - mae: 6.7684 - r2_score: -30.6323\n",
      "Epoch 3/400\n",
      "\u001b[1m18/18\u001b[0m \u001b[32m━━━━━━━━━━━━━━━━━━━━\u001b[0m\u001b[37m\u001b[0m \u001b[1m0s\u001b[0m 14ms/step - loss: 6.6664 - mae: 6.6664 - r2_score: -28.8908\n",
      "Epoch 4/400\n",
      "\u001b[1m18/18\u001b[0m \u001b[32m━━━━━━━━━━━━━━━━━━━━\u001b[0m\u001b[37m\u001b[0m \u001b[1m0s\u001b[0m 11ms/step - loss: 6.5854 - mae: 6.5854 - r2_score: -29.0813\n",
      "Epoch 5/400\n",
      "\u001b[1m18/18\u001b[0m \u001b[32m━━━━━━━━━━━━━━━━━━━━\u001b[0m\u001b[37m\u001b[0m \u001b[1m0s\u001b[0m 10ms/step - loss: 6.2632 - mae: 6.2632 - r2_score: -27.9807\n",
      "Epoch 6/400\n",
      "\u001b[1m18/18\u001b[0m \u001b[32m━━━━━━━━━━━━━━━━━━━━\u001b[0m\u001b[37m\u001b[0m \u001b[1m0s\u001b[0m 20ms/step - loss: 6.2009 - mae: 6.2009 - r2_score: -27.6976\n",
      "Epoch 7/400\n",
      "\u001b[1m18/18\u001b[0m \u001b[32m━━━━━━━━━━━━━━━━━━━━\u001b[0m\u001b[37m\u001b[0m \u001b[1m0s\u001b[0m 11ms/step - loss: 5.9618 - mae: 5.9618 - r2_score: -26.2653\n",
      "Epoch 8/400\n",
      "\u001b[1m18/18\u001b[0m \u001b[32m━━━━━━━━━━━━━━━━━━━━\u001b[0m\u001b[37m\u001b[0m \u001b[1m0s\u001b[0m 10ms/step - loss: 5.6947 - mae: 5.6947 - r2_score: -23.9246\n",
      "Epoch 9/400\n",
      "\u001b[1m18/18\u001b[0m \u001b[32m━━━━━━━━━━━━━━━━━━━━\u001b[0m\u001b[37m\u001b[0m \u001b[1m0s\u001b[0m 10ms/step - loss: 5.4900 - mae: 5.4900 - r2_score: -22.1023\n",
      "Epoch 10/400\n",
      "\u001b[1m18/18\u001b[0m \u001b[32m━━━━━━━━━━━━━━━━━━━━\u001b[0m\u001b[37m\u001b[0m \u001b[1m0s\u001b[0m 14ms/step - loss: 5.1554 - mae: 5.1554 - r2_score: -21.0187\n",
      "Epoch 11/400\n",
      "\u001b[1m18/18\u001b[0m \u001b[32m━━━━━━━━━━━━━━━━━━━━\u001b[0m\u001b[37m\u001b[0m \u001b[1m0s\u001b[0m 10ms/step - loss: 5.1759 - mae: 5.1759 - r2_score: -23.4950\n",
      "Epoch 12/400\n",
      "\u001b[1m18/18\u001b[0m \u001b[32m━━━━━━━━━━━━━━━━━━━━\u001b[0m\u001b[37m\u001b[0m \u001b[1m0s\u001b[0m 10ms/step - loss: 4.8807 - mae: 4.8807 - r2_score: -21.2815\n",
      "Epoch 13/400\n",
      "\u001b[1m18/18\u001b[0m \u001b[32m━━━━━━━━━━━━━━━━━━━━\u001b[0m\u001b[37m\u001b[0m \u001b[1m0s\u001b[0m 9ms/step - loss: 4.3574 - mae: 4.3574 - r2_score: -16.8684\n",
      "Epoch 14/400\n",
      "\u001b[1m18/18\u001b[0m \u001b[32m━━━━━━━━━━━━━━━━━━━━\u001b[0m\u001b[37m\u001b[0m \u001b[1m0s\u001b[0m 10ms/step - loss: 4.2263 - mae: 4.2263 - r2_score: -17.1852\n",
      "Epoch 15/400\n",
      "\u001b[1m18/18\u001b[0m \u001b[32m━━━━━━━━━━━━━━━━━━━━\u001b[0m\u001b[37m\u001b[0m \u001b[1m0s\u001b[0m 9ms/step - loss: 3.9258 - mae: 3.9258 - r2_score: -14.7936\n",
      "Epoch 16/400\n",
      "\u001b[1m18/18\u001b[0m \u001b[32m━━━━━━━━━━━━━━━━━━━━\u001b[0m\u001b[37m\u001b[0m \u001b[1m0s\u001b[0m 9ms/step - loss: 3.6221 - mae: 3.6221 - r2_score: -13.1849\n",
      "Epoch 17/400\n",
      "\u001b[1m18/18\u001b[0m \u001b[32m━━━━━━━━━━━━━━━━━━━━\u001b[0m\u001b[37m\u001b[0m \u001b[1m0s\u001b[0m 10ms/step - loss: 3.4507 - mae: 3.4507 - r2_score: -10.2061\n",
      "Epoch 18/400\n",
      "\u001b[1m18/18\u001b[0m \u001b[32m━━━━━━━━━━━━━━━━━━━━\u001b[0m\u001b[37m\u001b[0m \u001b[1m0s\u001b[0m 9ms/step - loss: 2.9818 - mae: 2.9818 - r2_score: -8.4737\n",
      "Epoch 19/400\n",
      "\u001b[1m18/18\u001b[0m \u001b[32m━━━━━━━━━━━━━━━━━━━━\u001b[0m\u001b[37m\u001b[0m \u001b[1m0s\u001b[0m 9ms/step - loss: 2.7335 - mae: 2.7335 - r2_score: -6.6878\n",
      "Epoch 20/400\n",
      "\u001b[1m18/18\u001b[0m \u001b[32m━━━━━━━━━━━━━━━━━━━━\u001b[0m\u001b[37m\u001b[0m \u001b[1m0s\u001b[0m 9ms/step - loss: 2.6126 - mae: 2.6126 - r2_score: -6.3679\n",
      "Epoch 21/400\n",
      "\u001b[1m18/18\u001b[0m \u001b[32m━━━━━━━━━━━━━━━━━━━━\u001b[0m\u001b[37m\u001b[0m \u001b[1m0s\u001b[0m 9ms/step - loss: 2.3112 - mae: 2.3112 - r2_score: -4.2665\n",
      "Epoch 22/400\n",
      "\u001b[1m18/18\u001b[0m \u001b[32m━━━━━━━━━━━━━━━━━━━━\u001b[0m\u001b[37m\u001b[0m \u001b[1m0s\u001b[0m 9ms/step - loss: 1.9840 - mae: 1.9840 - r2_score: -3.2151\n",
      "Epoch 23/400\n",
      "\u001b[1m18/18\u001b[0m \u001b[32m━━━━━━━━━━━━━━━━━━━━\u001b[0m\u001b[37m\u001b[0m \u001b[1m0s\u001b[0m 9ms/step - loss: 1.7523 - mae: 1.7523 - r2_score: -2.2432\n",
      "Epoch 24/400\n",
      "\u001b[1m18/18\u001b[0m \u001b[32m━━━━━━━━━━━━━━━━━━━━\u001b[0m\u001b[37m\u001b[0m \u001b[1m0s\u001b[0m 9ms/step - loss: 1.5532 - mae: 1.5532 - r2_score: -1.5716\n",
      "Epoch 25/400\n",
      "\u001b[1m18/18\u001b[0m \u001b[32m━━━━━━━━━━━━━━━━━━━━\u001b[0m\u001b[37m\u001b[0m \u001b[1m0s\u001b[0m 16ms/step - loss: 1.2711 - mae: 1.2711 - r2_score: -0.5116\n",
      "Epoch 26/400\n",
      "\u001b[1m18/18\u001b[0m \u001b[32m━━━━━━━━━━━━━━━━━━━━\u001b[0m\u001b[37m\u001b[0m \u001b[1m0s\u001b[0m 10ms/step - loss: 1.0189 - mae: 1.0189 - r2_score: -0.0406\n",
      "Epoch 27/400\n",
      "\u001b[1m18/18\u001b[0m \u001b[32m━━━━━━━━━━━━━━━━━━━━\u001b[0m\u001b[37m\u001b[0m \u001b[1m0s\u001b[0m 9ms/step - loss: 0.8663 - mae: 0.8663 - r2_score: 0.2399\n",
      "Epoch 28/400\n",
      "\u001b[1m18/18\u001b[0m \u001b[32m━━━━━━━━━━━━━━━━━━━━\u001b[0m\u001b[37m\u001b[0m \u001b[1m0s\u001b[0m 9ms/step - loss: 0.7557 - mae: 0.7557 - r2_score: 0.4300\n",
      "Epoch 29/400\n",
      "\u001b[1m18/18\u001b[0m \u001b[32m━━━━━━━━━━━━━━━━━━━━\u001b[0m\u001b[37m\u001b[0m \u001b[1m0s\u001b[0m 14ms/step - loss: 0.6720 - mae: 0.6720 - r2_score: 0.5285\n",
      "Epoch 30/400\n",
      "\u001b[1m18/18\u001b[0m \u001b[32m━━━━━━━━━━━━━━━━━━━━\u001b[0m\u001b[37m\u001b[0m \u001b[1m0s\u001b[0m 9ms/step - loss: 0.6591 - mae: 0.6591 - r2_score: 0.5400\n",
      "Epoch 31/400\n",
      "\u001b[1m18/18\u001b[0m \u001b[32m━━━━━━━━━━━━━━━━━━━━\u001b[0m\u001b[37m\u001b[0m \u001b[1m0s\u001b[0m 10ms/step - loss: 0.6258 - mae: 0.6258 - r2_score: 0.5442\n",
      "Epoch 32/400\n",
      "\u001b[1m18/18\u001b[0m \u001b[32m━━━━━━━━━━━━━━━━━━━━\u001b[0m\u001b[37m\u001b[0m \u001b[1m0s\u001b[0m 10ms/step - loss: 0.5763 - mae: 0.5763 - r2_score: 0.6184\n",
      "Epoch 33/400\n",
      "\u001b[1m18/18\u001b[0m \u001b[32m━━━━━━━━━━━━━━━━━━━━\u001b[0m\u001b[37m\u001b[0m \u001b[1m0s\u001b[0m 10ms/step - loss: 0.5781 - mae: 0.5781 - r2_score: 0.6040\n",
      "Epoch 34/400\n",
      "\u001b[1m18/18\u001b[0m \u001b[32m━━━━━━━━━━━━━━━━━━━━\u001b[0m\u001b[37m\u001b[0m \u001b[1m0s\u001b[0m 9ms/step - loss: 0.5786 - mae: 0.5786 - r2_score: 0.6040\n",
      "Epoch 35/400\n",
      "\u001b[1m18/18\u001b[0m \u001b[32m━━━━━━━━━━━━━━━━━━━━\u001b[0m\u001b[37m\u001b[0m \u001b[1m0s\u001b[0m 9ms/step - loss: 0.5550 - mae: 0.5550 - r2_score: 0.5883\n",
      "Epoch 36/400\n",
      "\u001b[1m18/18\u001b[0m \u001b[32m━━━━━━━━━━━━━━━━━━━━\u001b[0m\u001b[37m\u001b[0m \u001b[1m0s\u001b[0m 10ms/step - loss: 0.5354 - mae: 0.5354 - r2_score: 0.6564\n",
      "Epoch 37/400\n",
      "\u001b[1m18/18\u001b[0m \u001b[32m━━━━━━━━━━━━━━━━━━━━\u001b[0m\u001b[37m\u001b[0m \u001b[1m0s\u001b[0m 9ms/step - loss: 0.5904 - mae: 0.5904 - r2_score: 0.5768\n",
      "Epoch 38/400\n",
      "\u001b[1m18/18\u001b[0m \u001b[32m━━━━━━━━━━━━━━━━━━━━\u001b[0m\u001b[37m\u001b[0m \u001b[1m0s\u001b[0m 9ms/step - loss: 0.5348 - mae: 0.5348 - r2_score: 0.6356\n",
      "Epoch 39/400\n",
      "\u001b[1m18/18\u001b[0m \u001b[32m━━━━━━━━━━━━━━━━━━━━\u001b[0m\u001b[37m\u001b[0m \u001b[1m0s\u001b[0m 15ms/step - loss: 0.4969 - mae: 0.4969 - r2_score: 0.6635\n",
      "Epoch 40/400\n",
      "\u001b[1m18/18\u001b[0m \u001b[32m━━━━━━━━━━━━━━━━━━━━\u001b[0m\u001b[37m\u001b[0m \u001b[1m0s\u001b[0m 9ms/step - loss: 0.5169 - mae: 0.5169 - r2_score: 0.6533\n",
      "Epoch 41/400\n",
      "\u001b[1m18/18\u001b[0m \u001b[32m━━━━━━━━━━━━━━━━━━━━\u001b[0m\u001b[37m\u001b[0m \u001b[1m0s\u001b[0m 9ms/step - loss: 0.5574 - mae: 0.5574 - r2_score: 0.5816\n",
      "Epoch 42/400\n",
      "\u001b[1m18/18\u001b[0m \u001b[32m━━━━━━━━━━━━━━━━━━━━\u001b[0m\u001b[37m\u001b[0m \u001b[1m0s\u001b[0m 9ms/step - loss: 0.5338 - mae: 0.5338 - r2_score: 0.6051\n",
      "Epoch 43/400\n",
      "\u001b[1m18/18\u001b[0m \u001b[32m━━━━━━━━━━━━━━━━━━━━\u001b[0m\u001b[37m\u001b[0m \u001b[1m0s\u001b[0m 9ms/step - loss: 0.5235 - mae: 0.5235 - r2_score: 0.6494\n",
      "Epoch 44/400\n",
      "\u001b[1m18/18\u001b[0m \u001b[32m━━━━━━━━━━━━━━━━━━━━\u001b[0m\u001b[37m\u001b[0m \u001b[1m0s\u001b[0m 10ms/step - loss: 0.4997 - mae: 0.4997 - r2_score: 0.6455\n",
      "Epoch 45/400\n",
      "\u001b[1m18/18\u001b[0m \u001b[32m━━━━━━━━━━━━━━━━━━━━\u001b[0m\u001b[37m\u001b[0m \u001b[1m0s\u001b[0m 11ms/step - loss: 0.5221 - mae: 0.5221 - r2_score: 0.6387\n",
      "Epoch 46/400\n",
      "\u001b[1m18/18\u001b[0m \u001b[32m━━━━━━━━━━━━━━━━━━━━\u001b[0m\u001b[37m\u001b[0m \u001b[1m0s\u001b[0m 15ms/step - loss: 0.5056 - mae: 0.5056 - r2_score: 0.6502\n",
      "Epoch 47/400\n",
      "\u001b[1m18/18\u001b[0m \u001b[32m━━━━━━━━━━━━━━━━━━━━\u001b[0m\u001b[37m\u001b[0m \u001b[1m0s\u001b[0m 9ms/step - loss: 0.5116 - mae: 0.5116 - r2_score: 0.6227\n",
      "Epoch 48/400\n",
      "\u001b[1m18/18\u001b[0m \u001b[32m━━━━━━━━━━━━━━━━━━━━\u001b[0m\u001b[37m\u001b[0m \u001b[1m0s\u001b[0m 9ms/step - loss: 0.5120 - mae: 0.5120 - r2_score: 0.6481\n",
      "Epoch 49/400\n",
      "\u001b[1m18/18\u001b[0m \u001b[32m━━━━━━━━━━━━━━━━━━━━\u001b[0m\u001b[37m\u001b[0m \u001b[1m0s\u001b[0m 9ms/step - loss: 0.5142 - mae: 0.5142 - r2_score: 0.6261\n",
      "Epoch 50/400\n",
      "\u001b[1m18/18\u001b[0m \u001b[32m━━━━━━━━━━━━━━━━━━━━\u001b[0m\u001b[37m\u001b[0m \u001b[1m0s\u001b[0m 10ms/step - loss: 0.5250 - mae: 0.5250 - r2_score: 0.6115\n",
      "Epoch 51/400\n",
      "\u001b[1m18/18\u001b[0m \u001b[32m━━━━━━━━━━━━━━━━━━━━\u001b[0m\u001b[37m\u001b[0m \u001b[1m0s\u001b[0m 27ms/step - loss: 0.5103 - mae: 0.5103 - r2_score: 0.6098\n",
      "Epoch 52/400\n",
      "\u001b[1m18/18\u001b[0m \u001b[32m━━━━━━━━━━━━━━━━━━━━\u001b[0m\u001b[37m\u001b[0m \u001b[1m0s\u001b[0m 17ms/step - loss: 0.4990 - mae: 0.4990 - r2_score: 0.6412\n",
      "Epoch 53/400\n",
      "\u001b[1m18/18\u001b[0m \u001b[32m━━━━━━━━━━━━━━━━━━━━\u001b[0m\u001b[37m\u001b[0m \u001b[1m0s\u001b[0m 9ms/step - loss: 0.5505 - mae: 0.5505 - r2_score: 0.6066\n",
      "Epoch 54/400\n",
      "\u001b[1m18/18\u001b[0m \u001b[32m━━━━━━━━━━━━━━━━━━━━\u001b[0m\u001b[37m\u001b[0m \u001b[1m0s\u001b[0m 10ms/step - loss: 0.5239 - mae: 0.5239 - r2_score: 0.6257\n",
      "Epoch 55/400\n",
      "\u001b[1m18/18\u001b[0m \u001b[32m━━━━━━━━━━━━━━━━━━━━\u001b[0m\u001b[37m\u001b[0m \u001b[1m0s\u001b[0m 10ms/step - loss: 0.5211 - mae: 0.5211 - r2_score: 0.6292\n",
      "Epoch 56/400\n",
      "\u001b[1m18/18\u001b[0m \u001b[32m━━━━━━━━━━━━━━━━━━━━\u001b[0m\u001b[37m\u001b[0m \u001b[1m0s\u001b[0m 9ms/step - loss: 0.5057 - mae: 0.5057 - r2_score: 0.6529\n",
      "Epoch 57/400\n",
      "\u001b[1m18/18\u001b[0m \u001b[32m━━━━━━━━━━━━━━━━━━━━\u001b[0m\u001b[37m\u001b[0m \u001b[1m0s\u001b[0m 9ms/step - loss: 0.5543 - mae: 0.5543 - r2_score: 0.6142\n",
      "Epoch 58/400\n",
      "\u001b[1m18/18\u001b[0m \u001b[32m━━━━━━━━━━━━━━━━━━━━\u001b[0m\u001b[37m\u001b[0m \u001b[1m0s\u001b[0m 10ms/step - loss: 0.5181 - mae: 0.5181 - r2_score: 0.6536\n",
      "\u001b[1m5/5\u001b[0m \u001b[32m━━━━━━━━━━━━━━━━━━━━\u001b[0m\u001b[37m\u001b[0m \u001b[1m0s\u001b[0m 8ms/step \n",
      "Epoch 1/400\n",
      "\u001b[1m18/18\u001b[0m \u001b[32m━━━━━━━━━━━━━━━━━━━━\u001b[0m\u001b[37m\u001b[0m \u001b[1m1s\u001b[0m 14ms/step - loss: 6.8726 - mae: 6.8726 - r2_score: -30.3487\n",
      "Epoch 2/400\n",
      "\u001b[1m18/18\u001b[0m \u001b[32m━━━━━━━━━━━━━━━━━━━━\u001b[0m\u001b[37m\u001b[0m \u001b[1m0s\u001b[0m 9ms/step - loss: 6.7045 - mae: 6.7045 - r2_score: -29.5906\n",
      "Epoch 3/400\n",
      "\u001b[1m18/18\u001b[0m \u001b[32m━━━━━━━━━━━━━━━━━━━━\u001b[0m\u001b[37m\u001b[0m \u001b[1m0s\u001b[0m 9ms/step - loss: 6.4718 - mae: 6.4718 - r2_score: -31.5260\n",
      "Epoch 4/400\n",
      "\u001b[1m18/18\u001b[0m \u001b[32m━━━━━━━━━━━━━━━━━━━━\u001b[0m\u001b[37m\u001b[0m \u001b[1m0s\u001b[0m 9ms/step - loss: 6.4006 - mae: 6.4006 - r2_score: -28.3092\n",
      "Epoch 5/400\n",
      "\u001b[1m18/18\u001b[0m \u001b[32m━━━━━━━━━━━━━━━━━━━━\u001b[0m\u001b[37m\u001b[0m \u001b[1m0s\u001b[0m 9ms/step - loss: 6.4462 - mae: 6.4462 - r2_score: -29.6103\n",
      "Epoch 6/400\n",
      "\u001b[1m18/18\u001b[0m \u001b[32m━━━━━━━━━━━━━━━━━━━━\u001b[0m\u001b[37m\u001b[0m \u001b[1m0s\u001b[0m 10ms/step - loss: 6.0169 - mae: 6.0169 - r2_score: -27.5600\n",
      "Epoch 7/400\n",
      "\u001b[1m18/18\u001b[0m \u001b[32m━━━━━━━━━━━━━━━━━━━━\u001b[0m\u001b[37m\u001b[0m \u001b[1m0s\u001b[0m 9ms/step - loss: 5.9320 - mae: 5.9320 - r2_score: -27.9353\n",
      "Epoch 8/400\n",
      "\u001b[1m18/18\u001b[0m \u001b[32m━━━━━━━━━━━━━━━━━━━━\u001b[0m\u001b[37m\u001b[0m \u001b[1m0s\u001b[0m 10ms/step - loss: 5.7895 - mae: 5.7895 - r2_score: -26.7593\n",
      "Epoch 9/400\n",
      "\u001b[1m18/18\u001b[0m \u001b[32m━━━━━━━━━━━━━━━━━━━━\u001b[0m\u001b[37m\u001b[0m \u001b[1m0s\u001b[0m 10ms/step - loss: 5.5526 - mae: 5.5526 - r2_score: -27.7722\n",
      "Epoch 10/400\n",
      "\u001b[1m18/18\u001b[0m \u001b[32m━━━━━━━━━━━━━━━━━━━━\u001b[0m\u001b[37m\u001b[0m \u001b[1m0s\u001b[0m 11ms/step - loss: 5.4069 - mae: 5.4069 - r2_score: -25.3258\n",
      "Epoch 11/400\n",
      "\u001b[1m18/18\u001b[0m \u001b[32m━━━━━━━━━━━━━━━━━━━━\u001b[0m\u001b[37m\u001b[0m \u001b[1m0s\u001b[0m 10ms/step - loss: 5.4840 - mae: 5.4840 - r2_score: -28.0428\n",
      "Epoch 12/400\n",
      "\u001b[1m18/18\u001b[0m \u001b[32m━━━━━━━━━━━━━━━━━━━━\u001b[0m\u001b[37m\u001b[0m \u001b[1m0s\u001b[0m 10ms/step - loss: 4.9119 - mae: 4.9119 - r2_score: -21.3807\n",
      "Epoch 13/400\n",
      "\u001b[1m18/18\u001b[0m \u001b[32m━━━━━━━━━━━━━━━━━━━━\u001b[0m\u001b[37m\u001b[0m \u001b[1m0s\u001b[0m 17ms/step - loss: 4.5370 - mae: 4.5370 - r2_score: -19.1922\n",
      "Epoch 14/400\n",
      "\u001b[1m18/18\u001b[0m \u001b[32m━━━━━━━━━━━━━━━━━━━━\u001b[0m\u001b[37m\u001b[0m \u001b[1m0s\u001b[0m 10ms/step - loss: 4.4522 - mae: 4.4522 - r2_score: -18.1948\n",
      "Epoch 15/400\n",
      "\u001b[1m18/18\u001b[0m \u001b[32m━━━━━━━━━━━━━━━━━━━━\u001b[0m\u001b[37m\u001b[0m \u001b[1m0s\u001b[0m 10ms/step - loss: 4.0469 - mae: 4.0469 - r2_score: -15.6014\n",
      "Epoch 16/400\n",
      "\u001b[1m18/18\u001b[0m \u001b[32m━━━━━━━━━━━━━━━━━━━━\u001b[0m\u001b[37m\u001b[0m \u001b[1m0s\u001b[0m 10ms/step - loss: 3.9395 - mae: 3.9395 - r2_score: -14.3102\n",
      "Epoch 17/400\n",
      "\u001b[1m18/18\u001b[0m \u001b[32m━━━━━━━━━━━━━━━━━━━━\u001b[0m\u001b[37m\u001b[0m \u001b[1m0s\u001b[0m 9ms/step - loss: 3.4981 - mae: 3.4981 - r2_score: -10.6080\n",
      "Epoch 18/400\n",
      "\u001b[1m18/18\u001b[0m \u001b[32m━━━━━━━━━━━━━━━━━━━━\u001b[0m\u001b[37m\u001b[0m \u001b[1m0s\u001b[0m 12ms/step - loss: 3.2900 - mae: 3.2900 - r2_score: -10.1200\n",
      "Epoch 19/400\n",
      "\u001b[1m18/18\u001b[0m \u001b[32m━━━━━━━━━━━━━━━━━━━━\u001b[0m\u001b[37m\u001b[0m \u001b[1m0s\u001b[0m 9ms/step - loss: 2.9706 - mae: 2.9706 - r2_score: -7.8643\n",
      "Epoch 20/400\n",
      "\u001b[1m18/18\u001b[0m \u001b[32m━━━━━━━━━━━━━━━━━━━━\u001b[0m\u001b[37m\u001b[0m \u001b[1m0s\u001b[0m 10ms/step - loss: 2.5914 - mae: 2.5914 - r2_score: -5.8692\n",
      "Epoch 21/400\n",
      "\u001b[1m18/18\u001b[0m \u001b[32m━━━━━━━━━━━━━━━━━━━━\u001b[0m\u001b[37m\u001b[0m \u001b[1m0s\u001b[0m 10ms/step - loss: 2.3241 - mae: 2.3241 - r2_score: -4.7151\n",
      "Epoch 22/400\n",
      "\u001b[1m18/18\u001b[0m \u001b[32m━━━━━━━━━━━━━━━━━━━━\u001b[0m\u001b[37m\u001b[0m \u001b[1m0s\u001b[0m 10ms/step - loss: 1.9374 - mae: 1.9374 - r2_score: -2.7580\n",
      "Epoch 23/400\n",
      "\u001b[1m18/18\u001b[0m \u001b[32m━━━━━━━━━━━━━━━━━━━━\u001b[0m\u001b[37m\u001b[0m \u001b[1m0s\u001b[0m 11ms/step - loss: 1.6455 - mae: 1.6455 - r2_score: -1.6599\n",
      "Epoch 24/400\n",
      "\u001b[1m18/18\u001b[0m \u001b[32m━━━━━━━━━━━━━━━━━━━━\u001b[0m\u001b[37m\u001b[0m \u001b[1m0s\u001b[0m 10ms/step - loss: 1.3033 - mae: 1.3033 - r2_score: -0.6188\n",
      "Epoch 25/400\n",
      "\u001b[1m18/18\u001b[0m \u001b[32m━━━━━━━━━━━━━━━━━━━━\u001b[0m\u001b[37m\u001b[0m \u001b[1m0s\u001b[0m 10ms/step - loss: 0.9549 - mae: 0.9549 - r2_score: 0.0047\n",
      "Epoch 26/400\n",
      "\u001b[1m18/18\u001b[0m \u001b[32m━━━━━━━━━━━━━━━━━━━━\u001b[0m\u001b[37m\u001b[0m \u001b[1m0s\u001b[0m 9ms/step - loss: 0.8290 - mae: 0.8290 - r2_score: 0.3229\n",
      "Epoch 27/400\n",
      "\u001b[1m18/18\u001b[0m \u001b[32m━━━━━━━━━━━━━━━━━━━━\u001b[0m\u001b[37m\u001b[0m \u001b[1m0s\u001b[0m 9ms/step - loss: 0.7125 - mae: 0.7125 - r2_score: 0.4954\n",
      "Epoch 28/400\n",
      "\u001b[1m18/18\u001b[0m \u001b[32m━━━━━━━━━━━━━━━━━━━━\u001b[0m\u001b[37m\u001b[0m \u001b[1m0s\u001b[0m 9ms/step - loss: 0.6162 - mae: 0.6162 - r2_score: 0.5918\n",
      "Epoch 29/400\n",
      "\u001b[1m18/18\u001b[0m \u001b[32m━━━━━━━━━━━━━━━━━━━━\u001b[0m\u001b[37m\u001b[0m \u001b[1m0s\u001b[0m 15ms/step - loss: 0.6212 - mae: 0.6212 - r2_score: 0.5920\n",
      "Epoch 30/400\n",
      "\u001b[1m18/18\u001b[0m \u001b[32m━━━━━━━━━━━━━━━━━━━━\u001b[0m\u001b[37m\u001b[0m \u001b[1m0s\u001b[0m 9ms/step - loss: 0.5820 - mae: 0.5820 - r2_score: 0.6031\n",
      "Epoch 31/400\n",
      "\u001b[1m18/18\u001b[0m \u001b[32m━━━━━━━━━━━━━━━━━━━━\u001b[0m\u001b[37m\u001b[0m \u001b[1m0s\u001b[0m 9ms/step - loss: 0.5960 - mae: 0.5960 - r2_score: 0.6041\n",
      "Epoch 32/400\n",
      "\u001b[1m18/18\u001b[0m \u001b[32m━━━━━━━━━━━━━━━━━━━━\u001b[0m\u001b[37m\u001b[0m \u001b[1m0s\u001b[0m 9ms/step - loss: 0.5669 - mae: 0.5669 - r2_score: 0.6266\n",
      "Epoch 33/400\n",
      "\u001b[1m18/18\u001b[0m \u001b[32m━━━━━━━━━━━━━━━━━━━━\u001b[0m\u001b[37m\u001b[0m \u001b[1m0s\u001b[0m 14ms/step - loss: 0.5640 - mae: 0.5640 - r2_score: 0.6429\n",
      "Epoch 34/400\n",
      "\u001b[1m18/18\u001b[0m \u001b[32m━━━━━━━━━━━━━━━━━━━━\u001b[0m\u001b[37m\u001b[0m \u001b[1m0s\u001b[0m 9ms/step - loss: 0.5631 - mae: 0.5631 - r2_score: 0.6486\n",
      "Epoch 35/400\n",
      "\u001b[1m18/18\u001b[0m \u001b[32m━━━━━━━━━━━━━━━━━━━━\u001b[0m\u001b[37m\u001b[0m \u001b[1m0s\u001b[0m 9ms/step - loss: 0.5323 - mae: 0.5323 - r2_score: 0.6848\n",
      "Epoch 36/400\n",
      "\u001b[1m18/18\u001b[0m \u001b[32m━━━━━━━━━━━━━━━━━━━━\u001b[0m\u001b[37m\u001b[0m \u001b[1m0s\u001b[0m 9ms/step - loss: 0.5398 - mae: 0.5398 - r2_score: 0.6592\n",
      "Epoch 37/400\n",
      "\u001b[1m18/18\u001b[0m \u001b[32m━━━━━━━━━━━━━━━━━━━━\u001b[0m\u001b[37m\u001b[0m \u001b[1m0s\u001b[0m 9ms/step - loss: 0.5608 - mae: 0.5608 - r2_score: 0.6495\n",
      "Epoch 38/400\n",
      "\u001b[1m18/18\u001b[0m \u001b[32m━━━━━━━━━━━━━━━━━━━━\u001b[0m\u001b[37m\u001b[0m \u001b[1m0s\u001b[0m 9ms/step - loss: 0.5390 - mae: 0.5390 - r2_score: 0.6719\n",
      "Epoch 39/400\n",
      "\u001b[1m18/18\u001b[0m \u001b[32m━━━━━━━━━━━━━━━━━━━━\u001b[0m\u001b[37m\u001b[0m \u001b[1m0s\u001b[0m 9ms/step - loss: 0.5485 - mae: 0.5485 - r2_score: 0.6685\n",
      "Epoch 40/400\n",
      "\u001b[1m18/18\u001b[0m \u001b[32m━━━━━━━━━━━━━━━━━━━━\u001b[0m\u001b[37m\u001b[0m \u001b[1m0s\u001b[0m 9ms/step - loss: 0.5826 - mae: 0.5826 - r2_score: 0.6131\n",
      "Epoch 41/400\n",
      "\u001b[1m18/18\u001b[0m \u001b[32m━━━━━━━━━━━━━━━━━━━━\u001b[0m\u001b[37m\u001b[0m \u001b[1m0s\u001b[0m 16ms/step - loss: 0.5556 - mae: 0.5556 - r2_score: 0.6211\n",
      "Epoch 42/400\n",
      "\u001b[1m18/18\u001b[0m \u001b[32m━━━━━━━━━━━━━━━━━━━━\u001b[0m\u001b[37m\u001b[0m \u001b[1m0s\u001b[0m 10ms/step - loss: 0.5286 - mae: 0.5286 - r2_score: 0.6631\n",
      "Epoch 43/400\n",
      "\u001b[1m18/18\u001b[0m \u001b[32m━━━━━━━━━━━━━━━━━━━━\u001b[0m\u001b[37m\u001b[0m \u001b[1m0s\u001b[0m 9ms/step - loss: 0.5532 - mae: 0.5532 - r2_score: 0.6711\n",
      "Epoch 44/400\n",
      "\u001b[1m18/18\u001b[0m \u001b[32m━━━━━━━━━━━━━━━━━━━━\u001b[0m\u001b[37m\u001b[0m \u001b[1m0s\u001b[0m 9ms/step - loss: 0.5100 - mae: 0.5100 - r2_score: 0.6759\n",
      "Epoch 45/400\n",
      "\u001b[1m18/18\u001b[0m \u001b[32m━━━━━━━━━━━━━━━━━━━━\u001b[0m\u001b[37m\u001b[0m \u001b[1m0s\u001b[0m 9ms/step - loss: 0.5278 - mae: 0.5278 - r2_score: 0.6577\n",
      "Epoch 46/400\n",
      "\u001b[1m18/18\u001b[0m \u001b[32m━━━━━━━━━━━━━━━━━━━━\u001b[0m\u001b[37m\u001b[0m \u001b[1m0s\u001b[0m 9ms/step - loss: 0.5318 - mae: 0.5318 - r2_score: 0.6501\n",
      "Epoch 47/400\n",
      "\u001b[1m18/18\u001b[0m \u001b[32m━━━━━━━━━━━━━━━━━━━━\u001b[0m\u001b[37m\u001b[0m \u001b[1m0s\u001b[0m 9ms/step - loss: 0.5288 - mae: 0.5288 - r2_score: 0.6252\n",
      "Epoch 48/400\n",
      "\u001b[1m18/18\u001b[0m \u001b[32m━━━━━━━━━━━━━━━━━━━━\u001b[0m\u001b[37m\u001b[0m \u001b[1m0s\u001b[0m 9ms/step - loss: 0.5174 - mae: 0.5174 - r2_score: 0.6552\n",
      "Epoch 49/400\n",
      "\u001b[1m18/18\u001b[0m \u001b[32m━━━━━━━━━━━━━━━━━━━━\u001b[0m\u001b[37m\u001b[0m \u001b[1m0s\u001b[0m 9ms/step - loss: 0.5541 - mae: 0.5541 - r2_score: 0.6529\n",
      "Epoch 50/400\n",
      "\u001b[1m18/18\u001b[0m \u001b[32m━━━━━━━━━━━━━━━━━━━━\u001b[0m\u001b[37m\u001b[0m \u001b[1m0s\u001b[0m 9ms/step - loss: 0.5384 - mae: 0.5384 - r2_score: 0.6540\n",
      "Epoch 51/400\n",
      "\u001b[1m18/18\u001b[0m \u001b[32m━━━━━━━━━━━━━━━━━━━━\u001b[0m\u001b[37m\u001b[0m \u001b[1m0s\u001b[0m 9ms/step - loss: 0.5235 - mae: 0.5235 - r2_score: 0.6361\n",
      "Epoch 52/400\n",
      "\u001b[1m18/18\u001b[0m \u001b[32m━━━━━━━━━━━━━━━━━━━━\u001b[0m\u001b[37m\u001b[0m \u001b[1m0s\u001b[0m 14ms/step - loss: 0.5436 - mae: 0.5436 - r2_score: 0.6493\n",
      "Epoch 53/400\n",
      "\u001b[1m18/18\u001b[0m \u001b[32m━━━━━━━━━━━━━━━━━━━━\u001b[0m\u001b[37m\u001b[0m \u001b[1m0s\u001b[0m 10ms/step - loss: 0.5242 - mae: 0.5242 - r2_score: 0.6426\n",
      "Epoch 54/400\n",
      "\u001b[1m18/18\u001b[0m \u001b[32m━━━━━━━━━━━━━━━━━━━━\u001b[0m\u001b[37m\u001b[0m \u001b[1m0s\u001b[0m 10ms/step - loss: 0.5525 - mae: 0.5525 - r2_score: 0.6367\n",
      "Epoch 55/400\n",
      "\u001b[1m18/18\u001b[0m \u001b[32m━━━━━━━━━━━━━━━━━━━━\u001b[0m\u001b[37m\u001b[0m \u001b[1m0s\u001b[0m 9ms/step - loss: 0.4935 - mae: 0.4935 - r2_score: 0.6906\n",
      "Epoch 56/400\n",
      "\u001b[1m18/18\u001b[0m \u001b[32m━━━━━━━━━━━━━━━━━━━━\u001b[0m\u001b[37m\u001b[0m \u001b[1m0s\u001b[0m 9ms/step - loss: 0.5253 - mae: 0.5253 - r2_score: 0.6555\n",
      "Epoch 57/400\n",
      "\u001b[1m18/18\u001b[0m \u001b[32m━━━━━━━━━━━━━━━━━━━━\u001b[0m\u001b[37m\u001b[0m \u001b[1m0s\u001b[0m 9ms/step - loss: 0.5302 - mae: 0.5302 - r2_score: 0.6457\n",
      "Epoch 58/400\n",
      "\u001b[1m18/18\u001b[0m \u001b[32m━━━━━━━━━━━━━━━━━━━━\u001b[0m\u001b[37m\u001b[0m \u001b[1m0s\u001b[0m 9ms/step - loss: 0.5286 - mae: 0.5286 - r2_score: 0.6807\n",
      "Epoch 59/400\n",
      "\u001b[1m18/18\u001b[0m \u001b[32m━━━━━━━━━━━━━━━━━━━━\u001b[0m\u001b[37m\u001b[0m \u001b[1m0s\u001b[0m 9ms/step - loss: 0.5202 - mae: 0.5202 - r2_score: 0.6525\n",
      "Epoch 60/400\n",
      "\u001b[1m18/18\u001b[0m \u001b[32m━━━━━━━━━━━━━━━━━━━━\u001b[0m\u001b[37m\u001b[0m \u001b[1m0s\u001b[0m 9ms/step - loss: 0.5317 - mae: 0.5317 - r2_score: 0.6377\n",
      "Epoch 61/400\n",
      "\u001b[1m18/18\u001b[0m \u001b[32m━━━━━━━━━━━━━━━━━━━━\u001b[0m\u001b[37m\u001b[0m \u001b[1m0s\u001b[0m 9ms/step - loss: 0.5113 - mae: 0.5113 - r2_score: 0.6601\n",
      "Epoch 62/400\n",
      "\u001b[1m18/18\u001b[0m \u001b[32m━━━━━━━━━━━━━━━━━━━━\u001b[0m\u001b[37m\u001b[0m \u001b[1m0s\u001b[0m 9ms/step - loss: 0.5308 - mae: 0.5308 - r2_score: 0.6392\n",
      "Epoch 63/400\n",
      "\u001b[1m18/18\u001b[0m \u001b[32m━━━━━━━━━━━━━━━━━━━━\u001b[0m\u001b[37m\u001b[0m \u001b[1m0s\u001b[0m 10ms/step - loss: 0.5534 - mae: 0.5534 - r2_score: 0.6162\n",
      "Epoch 64/400\n",
      "\u001b[1m18/18\u001b[0m \u001b[32m━━━━━━━━━━━━━━━━━━━━\u001b[0m\u001b[37m\u001b[0m \u001b[1m0s\u001b[0m 9ms/step - loss: 0.5090 - mae: 0.5090 - r2_score: 0.6615\n",
      "Epoch 65/400\n",
      "\u001b[1m18/18\u001b[0m \u001b[32m━━━━━━━━━━━━━━━━━━━━\u001b[0m\u001b[37m\u001b[0m \u001b[1m0s\u001b[0m 9ms/step - loss: 0.5328 - mae: 0.5328 - r2_score: 0.6395\n",
      "Epoch 66/400\n",
      "\u001b[1m18/18\u001b[0m \u001b[32m━━━━━━━━━━━━━━━━━━━━\u001b[0m\u001b[37m\u001b[0m \u001b[1m0s\u001b[0m 9ms/step - loss: 0.4839 - mae: 0.4839 - r2_score: 0.6710\n",
      "Epoch 67/400\n",
      "\u001b[1m18/18\u001b[0m \u001b[32m━━━━━━━━━━━━━━━━━━━━\u001b[0m\u001b[37m\u001b[0m \u001b[1m0s\u001b[0m 9ms/step - loss: 0.5318 - mae: 0.5318 - r2_score: 0.6331\n",
      "Epoch 68/400\n",
      "\u001b[1m18/18\u001b[0m \u001b[32m━━━━━━━━━━━━━━━━━━━━\u001b[0m\u001b[37m\u001b[0m \u001b[1m0s\u001b[0m 17ms/step - loss: 0.5277 - mae: 0.5277 - r2_score: 0.6604\n",
      "Epoch 69/400\n",
      "\u001b[1m18/18\u001b[0m \u001b[32m━━━━━━━━━━━━━━━━━━━━\u001b[0m\u001b[37m\u001b[0m \u001b[1m0s\u001b[0m 10ms/step - loss: 0.5332 - mae: 0.5332 - r2_score: 0.6459\n",
      "Epoch 70/400\n",
      "\u001b[1m18/18\u001b[0m \u001b[32m━━━━━━━━━━━━━━━━━━━━\u001b[0m\u001b[37m\u001b[0m \u001b[1m0s\u001b[0m 11ms/step - loss: 0.5099 - mae: 0.5099 - r2_score: 0.6495\n",
      "Epoch 71/400\n",
      "\u001b[1m18/18\u001b[0m \u001b[32m━━━━━━━━━━━━━━━━━━━━\u001b[0m\u001b[37m\u001b[0m \u001b[1m0s\u001b[0m 12ms/step - loss: 0.5646 - mae: 0.5646 - r2_score: 0.5892\n",
      "Epoch 72/400\n",
      "\u001b[1m18/18\u001b[0m \u001b[32m━━━━━━━━━━━━━━━━━━━━\u001b[0m\u001b[37m\u001b[0m \u001b[1m0s\u001b[0m 16ms/step - loss: 0.5036 - mae: 0.5036 - r2_score: 0.6549\n",
      "Epoch 73/400\n",
      "\u001b[1m18/18\u001b[0m \u001b[32m━━━━━━━━━━━━━━━━━━━━\u001b[0m\u001b[37m\u001b[0m \u001b[1m0s\u001b[0m 10ms/step - loss: 0.5231 - mae: 0.5231 - r2_score: 0.6183\n",
      "Epoch 74/400\n",
      "\u001b[1m18/18\u001b[0m \u001b[32m━━━━━━━━━━━━━━━━━━━━\u001b[0m\u001b[37m\u001b[0m \u001b[1m0s\u001b[0m 9ms/step - loss: 0.5276 - mae: 0.5276 - r2_score: 0.6237\n",
      "Epoch 75/400\n",
      "\u001b[1m18/18\u001b[0m \u001b[32m━━━━━━━━━━━━━━━━━━━━\u001b[0m\u001b[37m\u001b[0m \u001b[1m0s\u001b[0m 10ms/step - loss: 0.5389 - mae: 0.5389 - r2_score: 0.6182\n",
      "Epoch 76/400\n",
      "\u001b[1m18/18\u001b[0m \u001b[32m━━━━━━━━━━━━━━━━━━━━\u001b[0m\u001b[37m\u001b[0m \u001b[1m0s\u001b[0m 10ms/step - loss: 0.5066 - mae: 0.5066 - r2_score: 0.6658\n",
      "Epoch 77/400\n",
      "\u001b[1m18/18\u001b[0m \u001b[32m━━━━━━━━━━━━━━━━━━━━\u001b[0m\u001b[37m\u001b[0m \u001b[1m0s\u001b[0m 10ms/step - loss: 0.5512 - mae: 0.5512 - r2_score: 0.6136\n",
      "Epoch 78/400\n",
      "\u001b[1m18/18\u001b[0m \u001b[32m━━━━━━━━━━━━━━━━━━━━\u001b[0m\u001b[37m\u001b[0m \u001b[1m0s\u001b[0m 9ms/step - loss: 0.5211 - mae: 0.5211 - r2_score: 0.6445\n",
      "Epoch 79/400\n",
      "\u001b[1m18/18\u001b[0m \u001b[32m━━━━━━━━━━━━━━━━━━━━\u001b[0m\u001b[37m\u001b[0m \u001b[1m0s\u001b[0m 9ms/step - loss: 0.5195 - mae: 0.5195 - r2_score: 0.6359\n",
      "Epoch 80/400\n",
      "\u001b[1m18/18\u001b[0m \u001b[32m━━━━━━━━━━━━━━━━━━━━\u001b[0m\u001b[37m\u001b[0m \u001b[1m0s\u001b[0m 9ms/step - loss: 0.5034 - mae: 0.5034 - r2_score: 0.6792\n",
      "Epoch 81/400\n",
      "\u001b[1m18/18\u001b[0m \u001b[32m━━━━━━━━━━━━━━━━━━━━\u001b[0m\u001b[37m\u001b[0m \u001b[1m0s\u001b[0m 12ms/step - loss: 0.4919 - mae: 0.4919 - r2_score: 0.6426\n",
      "Epoch 82/400\n",
      "\u001b[1m18/18\u001b[0m \u001b[32m━━━━━━━━━━━━━━━━━━━━\u001b[0m\u001b[37m\u001b[0m \u001b[1m0s\u001b[0m 15ms/step - loss: 0.5343 - mae: 0.5343 - r2_score: 0.6291\n",
      "Epoch 83/400\n",
      "\u001b[1m18/18\u001b[0m \u001b[32m━━━━━━━━━━━━━━━━━━━━\u001b[0m\u001b[37m\u001b[0m \u001b[1m0s\u001b[0m 9ms/step - loss: 0.5433 - mae: 0.5433 - r2_score: 0.6164\n",
      "Epoch 84/400\n",
      "\u001b[1m18/18\u001b[0m \u001b[32m━━━━━━━━━━━━━━━━━━━━\u001b[0m\u001b[37m\u001b[0m \u001b[1m0s\u001b[0m 9ms/step - loss: 0.5135 - mae: 0.5135 - r2_score: 0.6293\n",
      "Epoch 85/400\n",
      "\u001b[1m18/18\u001b[0m \u001b[32m━━━━━━━━━━━━━━━━━━━━\u001b[0m\u001b[37m\u001b[0m \u001b[1m0s\u001b[0m 9ms/step - loss: 0.5011 - mae: 0.5011 - r2_score: 0.6670\n",
      "Epoch 86/400\n",
      "\u001b[1m18/18\u001b[0m \u001b[32m━━━━━━━━━━━━━━━━━━━━\u001b[0m\u001b[37m\u001b[0m \u001b[1m0s\u001b[0m 9ms/step - loss: 0.4859 - mae: 0.4859 - r2_score: 0.6624\n",
      "Epoch 87/400\n",
      "\u001b[1m18/18\u001b[0m \u001b[32m━━━━━━━━━━━━━━━━━━━━\u001b[0m\u001b[37m\u001b[0m \u001b[1m0s\u001b[0m 10ms/step - loss: 0.5809 - mae: 0.5809 - r2_score: 0.5838\n",
      "Epoch 88/400\n",
      "\u001b[1m18/18\u001b[0m \u001b[32m━━━━━━━━━━━━━━━━━━━━\u001b[0m\u001b[37m\u001b[0m \u001b[1m0s\u001b[0m 9ms/step - loss: 0.5078 - mae: 0.5078 - r2_score: 0.6535\n",
      "Epoch 89/400\n",
      "\u001b[1m18/18\u001b[0m \u001b[32m━━━━━━━━━━━━━━━━━━━━\u001b[0m\u001b[37m\u001b[0m \u001b[1m0s\u001b[0m 14ms/step - loss: 0.5023 - mae: 0.5023 - r2_score: 0.6693\n",
      "Epoch 90/400\n",
      "\u001b[1m18/18\u001b[0m \u001b[32m━━━━━━━━━━━━━━━━━━━━\u001b[0m\u001b[37m\u001b[0m \u001b[1m0s\u001b[0m 9ms/step - loss: 0.5463 - mae: 0.5463 - r2_score: 0.5749\n",
      "Epoch 91/400\n",
      "\u001b[1m18/18\u001b[0m \u001b[32m━━━━━━━━━━━━━━━━━━━━\u001b[0m\u001b[37m\u001b[0m \u001b[1m0s\u001b[0m 15ms/step - loss: 0.5270 - mae: 0.5270 - r2_score: 0.6098\n",
      "Epoch 92/400\n",
      "\u001b[1m18/18\u001b[0m \u001b[32m━━━━━━━━━━━━━━━━━━━━\u001b[0m\u001b[37m\u001b[0m \u001b[1m0s\u001b[0m 9ms/step - loss: 0.5123 - mae: 0.5123 - r2_score: 0.6454\n",
      "Epoch 93/400\n",
      "\u001b[1m18/18\u001b[0m \u001b[32m━━━━━━━━━━━━━━━━━━━━\u001b[0m\u001b[37m\u001b[0m \u001b[1m0s\u001b[0m 9ms/step - loss: 0.5069 - mae: 0.5069 - r2_score: 0.6598\n",
      "Epoch 94/400\n",
      "\u001b[1m18/18\u001b[0m \u001b[32m━━━━━━━━━━━━━━━━━━━━\u001b[0m\u001b[37m\u001b[0m \u001b[1m0s\u001b[0m 9ms/step - loss: 0.4876 - mae: 0.4876 - r2_score: 0.6524\n",
      "Epoch 95/400\n",
      "\u001b[1m18/18\u001b[0m \u001b[32m━━━━━━━━━━━━━━━━━━━━\u001b[0m\u001b[37m\u001b[0m \u001b[1m0s\u001b[0m 9ms/step - loss: 0.5258 - mae: 0.5258 - r2_score: 0.6199\n",
      "Epoch 96/400\n",
      "\u001b[1m18/18\u001b[0m \u001b[32m━━━━━━━━━━━━━━━━━━━━\u001b[0m\u001b[37m\u001b[0m \u001b[1m0s\u001b[0m 9ms/step - loss: 0.5299 - mae: 0.5299 - r2_score: 0.6407\n",
      "Epoch 97/400\n",
      "\u001b[1m18/18\u001b[0m \u001b[32m━━━━━━━━━━━━━━━━━━━━\u001b[0m\u001b[37m\u001b[0m \u001b[1m0s\u001b[0m 9ms/step - loss: 0.5307 - mae: 0.5307 - r2_score: 0.6371\n",
      "\u001b[1m5/5\u001b[0m \u001b[32m━━━━━━━━━━━━━━━━━━━━\u001b[0m\u001b[37m\u001b[0m \u001b[1m0s\u001b[0m 8ms/step \n"
     ]
    }
   ],
   "source": [
    "models = []\n",
    "\n",
    "scaler = StandardScaler()\n",
    "\n",
    "X_train_scaled = scaler.fit_transform(x_train)\n",
    "X_test_scaled = scaler.transform(x_test)\n",
    "\n",
    "early_stop = EarlyStopping(\n",
    "    monitor='loss',      # or 'val_mae', 'val_mse', etc.\n",
    "    patience=7,             # Stop after 10 epochs of no improvement\n",
    "    restore_best_weights=True\n",
    ")\n",
    "\n",
    "for i in range(5):\n",
    "    model = Sequential([\n",
    "        Input(shape=(x_train.shape[1],)),\n",
    "        Dense(25, activation='relu'),\n",
    "        Dense(1)  # Output layer for regression\n",
    "    ])\n",
    "\n",
    "\n",
    "    model.compile(optimizer=Adam(learning_rate=0.001), loss=\"mae\", metrics=[\"mae\", R2Score()])\n",
    "    model.fit(X_train_scaled, y_train, epochs=400, callbacks=[early_stop])\n",
    "    prediction = model.predict(X_test_scaled)\n",
    "    models.append(ModelScorePair(model, r2_score(y_test, prediction), mean_squared_error(y_test, prediction)))"
   ]
  },
  {
   "cell_type": "code",
   "execution_count": 43,
   "id": "90eeeab7",
   "metadata": {
    "execution": {
     "iopub.status.busy": "2025-05-31T21:07:37.998753Z",
     "iopub.status.idle": "2025-05-31T21:07:37.999176Z",
     "shell.execute_reply": "2025-05-31T21:07:37.998967Z",
     "shell.execute_reply.started": "2025-05-31T21:07:37.998950Z"
    },
    "trusted": true
   },
   "outputs": [
    {
     "data": {
      "text/plain": [
       "[0.7395487216144917,\n",
       " 0.7512474892866927,\n",
       " 0.525894058545221,\n",
       " 0.6208599790144953,\n",
       " 0.553436151266067]"
      ]
     },
     "execution_count": 43,
     "metadata": {},
     "output_type": "execute_result"
    }
   ],
   "source": [
    "r2_scores = list(map(lambda x: x.r2, models))\n",
    "r2_scores"
   ]
  },
  {
   "cell_type": "code",
   "execution_count": 44,
   "id": "27b46ac9",
   "metadata": {
    "execution": {
     "iopub.status.busy": "2025-05-31T21:07:38.000845Z",
     "iopub.status.idle": "2025-05-31T21:07:38.001661Z",
     "shell.execute_reply": "2025-05-31T21:07:38.001446Z",
     "shell.execute_reply.started": "2025-05-31T21:07:38.001419Z"
    },
    "trusted": true
   },
   "outputs": [
    {
     "data": {
      "text/plain": [
       "0.7512474892866927"
      ]
     },
     "execution_count": 44,
     "metadata": {},
     "output_type": "execute_result"
    }
   ],
   "source": [
    "np.max(r2_scores)"
   ]
  },
  {
   "cell_type": "markdown",
   "id": "5ff5f5cb",
   "metadata": {},
   "source": [
    "We use the best model to test its predictions on the test dataset."
   ]
  },
  {
   "cell_type": "code",
   "execution_count": 45,
   "id": "0e052588",
   "metadata": {
    "execution": {
     "iopub.status.busy": "2025-05-31T21:07:38.003189Z",
     "iopub.status.idle": "2025-05-31T21:07:38.003526Z",
     "shell.execute_reply": "2025-05-31T21:07:38.003401Z",
     "shell.execute_reply.started": "2025-05-31T21:07:38.003388Z"
    },
    "trusted": true
   },
   "outputs": [],
   "source": [
    "best_model = models[np.where(r2_scores == np.max(r2_scores))[0][0]].model"
   ]
  },
  {
   "cell_type": "code",
   "execution_count": 46,
   "id": "b3c21f7b",
   "metadata": {
    "execution": {
     "iopub.status.busy": "2025-05-31T21:07:38.006509Z",
     "iopub.status.idle": "2025-05-31T21:07:38.006912Z",
     "shell.execute_reply": "2025-05-31T21:07:38.006766Z",
     "shell.execute_reply.started": "2025-05-31T21:07:38.006752Z"
    },
    "trusted": true
   },
   "outputs": [
    {
     "name": "stdout",
     "output_type": "stream",
     "text": [
      "\u001b[1m5/5\u001b[0m \u001b[32m━━━━━━━━━━━━━━━━━━━━\u001b[0m\u001b[37m\u001b[0m \u001b[1m0s\u001b[0m 5ms/step \n"
     ]
    }
   ],
   "source": [
    "y_pred_nn = best_model.predict(X_test_scaled).flatten()"
   ]
  },
  {
   "cell_type": "code",
   "execution_count": 47,
   "id": "c1da8508",
   "metadata": {
    "execution": {
     "iopub.status.busy": "2025-05-31T21:07:38.010060Z",
     "iopub.status.idle": "2025-05-31T21:07:38.010515Z",
     "shell.execute_reply": "2025-05-31T21:07:38.010364Z",
     "shell.execute_reply.started": "2025-05-31T21:07:38.010342Z"
    },
    "trusted": true
   },
   "outputs": [
    {
     "data": {
      "text/plain": [
       "0.04056073888670524"
      ]
     },
     "execution_count": 47,
     "metadata": {},
     "output_type": "execute_result"
    }
   ],
   "source": [
    "mean_absolute_percentage_error(y_test, y_pred_nn)"
   ]
  },
  {
   "cell_type": "code",
   "execution_count": 48,
   "id": "d0840594",
   "metadata": {
    "execution": {
     "iopub.status.busy": "2025-05-31T21:07:38.011951Z",
     "iopub.status.idle": "2025-05-31T21:07:38.012275Z",
     "shell.execute_reply": "2025-05-31T21:07:38.012155Z",
     "shell.execute_reply.started": "2025-05-31T21:07:38.012141Z"
    },
    "trusted": true
   },
   "outputs": [
    {
     "data": {
      "application/vnd.plotly.v1+json": {
       "config": {
        "plotlyServerURL": "https://plot.ly"
       },
       "data": [
        {
         "marker": {
          "color": "red"
         },
         "mode": "markers",
         "type": "scatter",
         "x": {
          "bdata": "zczMzMzMFkBmZmZmZmYYQGZmZmZmZhxAzczMzMzMDECamZmZmZkdQM3MzMzMzBBAZmZmZmZmGEBmZmZmZmYOQAAAAAAAABZAzczMzMzMHEDNzMzMzMwQQDMzMzMzMxtAmpmZmZmZF0AAAAAAAAAaQM3MzMzMzBJAzczMzMzMFEAzMzMzMzMZQJqZmZmZmRNAzczMzMzMGkAzMzMzMzMXQAAAAAAAABJAmpmZmZmZGUBmZmZmZmYQQGZmZmZmZhpAmpmZmZmZEUDNzMzMzMwWQAAAAAAAABxAMzMzMzMzEUCamZmZmZkbQGZmZmZmZhZAzczMzMzMGEAzMzMzMzMXQJqZmZmZmRNAmpmZmZmZGUBmZmZmZmYUQM3MzMzMzBpAAAAAAAAAFkAzMzMzMzMRQM3MzMzMzBhAAAAAAAAAEkAzMzMzMzMZQM3MzMzMzBJAmpmZmZmZF0BmZmZmZmYcQJqZmZmZmRFAZmZmZmZmGkCamZmZmZkVQAAAAAAAABpAMzMzMzMzE0DNzMzMzMwWQGZmZmZmZhhAZmZmZmZmEkAzMzMzMzMbQGZmZmZmZhZAzczMzMzMEEAzMzMzMzMZQJqZmZmZmRFAAAAAAAAAGkBmZmZmZmYSQDMzMzMzMxdAAAAAAAAAHEAAAAAAAAASQM3MzMzMzBpAAAAAAAAAFkCamZmZmZkZQM3MzMzMzBJAZmZmZmZmFkDNzMzMzMwYQDMzMzMzMxNAmpmZmZmZG0DNzMzMzMwWQJqZmZmZmRFAZmZmZmZmGEAzMzMzMzMRQJqZmZmZmRlAAAAAAAAAEkCamZmZmZkXQM3MzMzMzBxAZmZmZmZmEkAzMzMzMzMbQDMzMzMzMxVAMzMzMzMzGUAzMzMzMzMTQM3MzMzMzBZAzczMzMzMGEDNzMzMzMwSQDMzMzMzMxtAZmZmZmZmFkAzMzMzMzMRQM3MzMzMzBhAmpmZmZmZEUAAAAAAAAAaQGZmZmZmZhJAMzMzMzMzF0BmZmZmZmYcQAAAAAAAABJAzczMzMzMGkCamZmZmZkVQJqZmZmZmRlAzczMzMzMEkBmZmZmZmYWQDMzMzMzMxlAMzMzMzMzE0CamZmZmZkbQM3MzMzMzBZAmpmZmZmZEUBmZmZmZmYYQDMzMzMzMxFAmpmZmZmZGUAAAAAAAAASQJqZmZmZmRdAzczMzMzMHEBmZmZmZmYSQDMzMzMzMxtAMzMzMzMzFUDNzMzMzMwYQM3MzMzMzBJAMzMzMzMzF0BmZmZmZmYYQDMzMzMzMxNAzczMzMzMGkAAAAAAAAAWQM3MzMzMzBBAMzMzMzMzGUCamZmZmZkRQAAAAAAAABpAZmZmZmZmEkCamZmZmZkXQAAAAAAAABxAAAAAAAAAEkBmZmZmZmYaQAAAAAAAABZAMzMzMzMzGUAzMzMzMzMTQM3MzMzMzBZAzczMzMzMGEDNzMzMzMwSQDMzMzMzMxtAZmZmZmZmFkAzMzMzMzMRQM3MzMzMzBhA",
          "dtype": "f8"
         },
         "y": {
          "bdata": "mpmZmZmZGUDNzMzMzMwYQJqZmZmZmRdAAAAAAAAAIUCamZmZmZkVQAAAAAAAACBAzczMzMzMHEAzMzMzMzMfQDMzMzMzMxtAmpmZmZmZF0AAAAAAAAAeQM3MzMzMzBhAzczMzMzMGkBmZmZmZmYYQJqZmZmZmR1AAAAAAAAAHECamZmZmZkZQDMzMzMzMx1AAAAAAAAAGEAAAAAAAAAaQGZmZmZmZh5AMzMzMzMzGUDNzMzMzMweQM3MzMzMzBhAmpmZmZmZHUAzMzMzMzMbQDMzMzMzMxdAAAAAAAAAHkBmZmZmZmYYQJqZmZmZmRtAMzMzMzMzGUDNzMzMzMwaQDMzMzMzMx1AzczMzMzMGEBmZmZmZmYcQAAAAAAAABhAMzMzMzMzG0BmZmZmZmYeQJqZmZmZmRlAmpmZmZmZHUAzMzMzMzMZQM3MzMzMzBxAZmZmZmZmGkDNzMzMzMwWQJqZmZmZmR1AzczMzMzMGECamZmZmZkbQGZmZmZmZhhAMzMzMzMzHUDNzMzMzMwaQJqZmZmZmRlAzczMzMzMHECamZmZmZkXQDMzMzMzMxtAAAAAAAAAHkAzMzMzMzMZQJqZmZmZmR1AzczMzMzMGEAzMzMzMzMdQGZmZmZmZhpAMzMzMzMzF0AzMzMzMzMdQGZmZmZmZhhAMzMzMzMzG0DNzMzMzMwYQM3MzMzMzBxAzczMzMzMGkAzMzMzMzMZQGZmZmZmZhxAmpmZmZmZF0DNzMzMzMwaQJqZmZmZmR1AmpmZmZmZGUAAAAAAAAAeQM3MzMzMzBhAMzMzMzMzHUAAAAAAAAAaQM3MzMzMzBZAzczMzMzMHEAAAAAAAAAYQDMzMzMzMxtAzczMzMzMGEBmZmZmZmYcQGZmZmZmZhpAMzMzMzMzGUDNzMzMzMwcQJqZmZmZmRdAzczMzMzMGkAAAAAAAAAeQDMzMzMzMxlAmpmZmZmZHUBmZmZmZmYYQDMzMzMzMx1AZmZmZmZmGkAzMzMzMzMXQDMzMzMzMx1AAAAAAAAAGEAzMzMzMzMbQM3MzMzMzBhAzczMzMzMHEDNzMzMzMwaQM3MzMzMzBhAZmZmZmZmHECamZmZmZkXQM3MzMzMzBpAmpmZmZmZHUCamZmZmZkZQAAAAAAAAB5AzczMzMzMGEAzMzMzMzMdQAAAAAAAABpAzczMzMzMFkDNzMzMzMwcQAAAAAAAABhAMzMzMzMzG0AzMzMzMzMZQM3MzMzMzBxAZmZmZmZmGkCamZmZmZkZQGZmZmZmZhxAAAAAAAAAGEAzMzMzMzMbQAAAAAAAAB5AzczMzMzMGECamZmZmZkdQGZmZmZmZhhAMzMzMzMzHUAAAAAAAAAaQDMzMzMzMxdAMzMzMzMzHUBmZmZmZmYYQM3MzMzMzBpAzczMzMzMGEBmZmZmZmYcQGZmZmZmZhpAMzMzMzMzGUDNzMzMzMwcQJqZmZmZmRdAzczMzMzMGkAAAAAAAAAeQDMzMzMzMxlA",
          "dtype": "f8"
         }
        },
        {
         "marker": {
          "color": "orange"
         },
         "mode": "markers",
         "type": "scatter",
         "x": {
          "bdata": "zczMzMzMFkBmZmZmZmYYQGZmZmZmZhxAzczMzMzMDECamZmZmZkdQM3MzMzMzBBAZmZmZmZmGEBmZmZmZmYOQAAAAAAAABZAzczMzMzMHEDNzMzMzMwQQDMzMzMzMxtAmpmZmZmZF0AAAAAAAAAaQM3MzMzMzBJAzczMzMzMFEAzMzMzMzMZQJqZmZmZmRNAzczMzMzMGkAzMzMzMzMXQAAAAAAAABJAmpmZmZmZGUBmZmZmZmYQQGZmZmZmZhpAmpmZmZmZEUDNzMzMzMwWQAAAAAAAABxAMzMzMzMzEUCamZmZmZkbQGZmZmZmZhZAzczMzMzMGEAzMzMzMzMXQJqZmZmZmRNAmpmZmZmZGUBmZmZmZmYUQM3MzMzMzBpAAAAAAAAAFkAzMzMzMzMRQM3MzMzMzBhAAAAAAAAAEkAzMzMzMzMZQM3MzMzMzBJAmpmZmZmZF0BmZmZmZmYcQJqZmZmZmRFAZmZmZmZmGkCamZmZmZkVQAAAAAAAABpAMzMzMzMzE0DNzMzMzMwWQGZmZmZmZhhAZmZmZmZmEkAzMzMzMzMbQGZmZmZmZhZAzczMzMzMEEAzMzMzMzMZQJqZmZmZmRFAAAAAAAAAGkBmZmZmZmYSQDMzMzMzMxdAAAAAAAAAHEAAAAAAAAASQM3MzMzMzBpAAAAAAAAAFkCamZmZmZkZQM3MzMzMzBJAZmZmZmZmFkDNzMzMzMwYQDMzMzMzMxNAmpmZmZmZG0DNzMzMzMwWQJqZmZmZmRFAZmZmZmZmGEAzMzMzMzMRQJqZmZmZmRlAAAAAAAAAEkCamZmZmZkXQM3MzMzMzBxAZmZmZmZmEkAzMzMzMzMbQDMzMzMzMxVAMzMzMzMzGUAzMzMzMzMTQM3MzMzMzBZAzczMzMzMGEDNzMzMzMwSQDMzMzMzMxtAZmZmZmZmFkAzMzMzMzMRQM3MzMzMzBhAmpmZmZmZEUAAAAAAAAAaQGZmZmZmZhJAMzMzMzMzF0BmZmZmZmYcQAAAAAAAABJAzczMzMzMGkCamZmZmZkVQJqZmZmZmRlAzczMzMzMEkBmZmZmZmYWQDMzMzMzMxlAMzMzMzMzE0CamZmZmZkbQM3MzMzMzBZAmpmZmZmZEUBmZmZmZmYYQDMzMzMzMxFAmpmZmZmZGUAAAAAAAAASQJqZmZmZmRdAzczMzMzMHEBmZmZmZmYSQDMzMzMzMxtAMzMzMzMzFUDNzMzMzMwYQM3MzMzMzBJAMzMzMzMzF0BmZmZmZmYYQDMzMzMzMxNAzczMzMzMGkAAAAAAAAAWQM3MzMzMzBBAMzMzMzMzGUCamZmZmZkRQAAAAAAAABpAZmZmZmZmEkCamZmZmZkXQAAAAAAAABxAAAAAAAAAEkBmZmZmZmYaQAAAAAAAABZAMzMzMzMzGUAzMzMzMzMTQM3MzMzMzBZAzczMzMzMGEDNzMzMzMwSQDMzMzMzMxtAZmZmZmZmFkAzMzMzMzMRQM3MzMzMzBhA",
          "dtype": "f8"
         },
         "y": {
          "bdata": "s/vJQGwpwUAOcK1ANPoAQVjSpkBFWfRA3vnMQCJqA0EThtBAz4+tQPq49EDDDbRAkJLFQHirukAgsulAq37eQJ4Uv0D7SOVAVkK2QCLHx0BEZPdACuC8QIzt9kDodrhA1U/wQLP7yUD0+LFAZ4TyQDDZsUBGMMxAL0nBQCLHx0D7SOVACuC8QNbf4EBudbZA2WTOQGvN+0AvScFAQxvuQJ4Uv0AgsulAkJLFQGPEr0DVT/BA6Ha4QGqZ0EB4q7pAjn3nQLP7yUDBfcNAsObrQBlitkBGMMxA/AH+QJ4Uv0DVT/BAeKu6QLDm60Aix8dA9PixQEMb7kBWQrZA2WTOQArgvEAgsulARjDMQC9JwUCOfedAhi20QLP7yUDYmPlAwX3DQGeE8kAK4LxAQxvuQJCSxUDPj61AsObrQMMNtED9zdJAnhS/QI5950Cz+8lAL0nBQCCy6UAZYrZARjDMQGvN+0AvScFA1U/wQHirukCw5utAIsfHQGPEr0BDG+5AVkK2QGqZ0EAK4LxAILLpQEYwzECeFL9Ajn3nQIYttECz+8lA2Jj5QMF9w0BnhPJACuC8QEMb7kCQksVAz4+tQLDm60DDDbRA/c3SQC9JwUAgsulAIsfHQMF9w0COfedAq5a4QNlkzkD8Af5AnhS/QNVP8EB4q7pAsObrQJCSxUD0+LFAQxvuQOh2uEDZZM5AnhS/QI5950Cz+8lAL0nBQCCy6UAZYrZARjDMQGvN+0AvScFA",
          "dtype": "f4"
         }
        }
       ],
       "layout": {
        "template": {
         "data": {
          "bar": [
           {
            "error_x": {
             "color": "#2a3f5f"
            },
            "error_y": {
             "color": "#2a3f5f"
            },
            "marker": {
             "line": {
              "color": "#E5ECF6",
              "width": 0.5
             },
             "pattern": {
              "fillmode": "overlay",
              "size": 10,
              "solidity": 0.2
             }
            },
            "type": "bar"
           }
          ],
          "barpolar": [
           {
            "marker": {
             "line": {
              "color": "#E5ECF6",
              "width": 0.5
             },
             "pattern": {
              "fillmode": "overlay",
              "size": 10,
              "solidity": 0.2
             }
            },
            "type": "barpolar"
           }
          ],
          "carpet": [
           {
            "aaxis": {
             "endlinecolor": "#2a3f5f",
             "gridcolor": "white",
             "linecolor": "white",
             "minorgridcolor": "white",
             "startlinecolor": "#2a3f5f"
            },
            "baxis": {
             "endlinecolor": "#2a3f5f",
             "gridcolor": "white",
             "linecolor": "white",
             "minorgridcolor": "white",
             "startlinecolor": "#2a3f5f"
            },
            "type": "carpet"
           }
          ],
          "choropleth": [
           {
            "colorbar": {
             "outlinewidth": 0,
             "ticks": ""
            },
            "type": "choropleth"
           }
          ],
          "contour": [
           {
            "colorbar": {
             "outlinewidth": 0,
             "ticks": ""
            },
            "colorscale": [
             [
              0,
              "#0d0887"
             ],
             [
              0.1111111111111111,
              "#46039f"
             ],
             [
              0.2222222222222222,
              "#7201a8"
             ],
             [
              0.3333333333333333,
              "#9c179e"
             ],
             [
              0.4444444444444444,
              "#bd3786"
             ],
             [
              0.5555555555555556,
              "#d8576b"
             ],
             [
              0.6666666666666666,
              "#ed7953"
             ],
             [
              0.7777777777777778,
              "#fb9f3a"
             ],
             [
              0.8888888888888888,
              "#fdca26"
             ],
             [
              1,
              "#f0f921"
             ]
            ],
            "type": "contour"
           }
          ],
          "contourcarpet": [
           {
            "colorbar": {
             "outlinewidth": 0,
             "ticks": ""
            },
            "type": "contourcarpet"
           }
          ],
          "heatmap": [
           {
            "colorbar": {
             "outlinewidth": 0,
             "ticks": ""
            },
            "colorscale": [
             [
              0,
              "#0d0887"
             ],
             [
              0.1111111111111111,
              "#46039f"
             ],
             [
              0.2222222222222222,
              "#7201a8"
             ],
             [
              0.3333333333333333,
              "#9c179e"
             ],
             [
              0.4444444444444444,
              "#bd3786"
             ],
             [
              0.5555555555555556,
              "#d8576b"
             ],
             [
              0.6666666666666666,
              "#ed7953"
             ],
             [
              0.7777777777777778,
              "#fb9f3a"
             ],
             [
              0.8888888888888888,
              "#fdca26"
             ],
             [
              1,
              "#f0f921"
             ]
            ],
            "type": "heatmap"
           }
          ],
          "histogram": [
           {
            "marker": {
             "pattern": {
              "fillmode": "overlay",
              "size": 10,
              "solidity": 0.2
             }
            },
            "type": "histogram"
           }
          ],
          "histogram2d": [
           {
            "colorbar": {
             "outlinewidth": 0,
             "ticks": ""
            },
            "colorscale": [
             [
              0,
              "#0d0887"
             ],
             [
              0.1111111111111111,
              "#46039f"
             ],
             [
              0.2222222222222222,
              "#7201a8"
             ],
             [
              0.3333333333333333,
              "#9c179e"
             ],
             [
              0.4444444444444444,
              "#bd3786"
             ],
             [
              0.5555555555555556,
              "#d8576b"
             ],
             [
              0.6666666666666666,
              "#ed7953"
             ],
             [
              0.7777777777777778,
              "#fb9f3a"
             ],
             [
              0.8888888888888888,
              "#fdca26"
             ],
             [
              1,
              "#f0f921"
             ]
            ],
            "type": "histogram2d"
           }
          ],
          "histogram2dcontour": [
           {
            "colorbar": {
             "outlinewidth": 0,
             "ticks": ""
            },
            "colorscale": [
             [
              0,
              "#0d0887"
             ],
             [
              0.1111111111111111,
              "#46039f"
             ],
             [
              0.2222222222222222,
              "#7201a8"
             ],
             [
              0.3333333333333333,
              "#9c179e"
             ],
             [
              0.4444444444444444,
              "#bd3786"
             ],
             [
              0.5555555555555556,
              "#d8576b"
             ],
             [
              0.6666666666666666,
              "#ed7953"
             ],
             [
              0.7777777777777778,
              "#fb9f3a"
             ],
             [
              0.8888888888888888,
              "#fdca26"
             ],
             [
              1,
              "#f0f921"
             ]
            ],
            "type": "histogram2dcontour"
           }
          ],
          "mesh3d": [
           {
            "colorbar": {
             "outlinewidth": 0,
             "ticks": ""
            },
            "type": "mesh3d"
           }
          ],
          "parcoords": [
           {
            "line": {
             "colorbar": {
              "outlinewidth": 0,
              "ticks": ""
             }
            },
            "type": "parcoords"
           }
          ],
          "pie": [
           {
            "automargin": true,
            "type": "pie"
           }
          ],
          "scatter": [
           {
            "fillpattern": {
             "fillmode": "overlay",
             "size": 10,
             "solidity": 0.2
            },
            "type": "scatter"
           }
          ],
          "scatter3d": [
           {
            "line": {
             "colorbar": {
              "outlinewidth": 0,
              "ticks": ""
             }
            },
            "marker": {
             "colorbar": {
              "outlinewidth": 0,
              "ticks": ""
             }
            },
            "type": "scatter3d"
           }
          ],
          "scattercarpet": [
           {
            "marker": {
             "colorbar": {
              "outlinewidth": 0,
              "ticks": ""
             }
            },
            "type": "scattercarpet"
           }
          ],
          "scattergeo": [
           {
            "marker": {
             "colorbar": {
              "outlinewidth": 0,
              "ticks": ""
             }
            },
            "type": "scattergeo"
           }
          ],
          "scattergl": [
           {
            "marker": {
             "colorbar": {
              "outlinewidth": 0,
              "ticks": ""
             }
            },
            "type": "scattergl"
           }
          ],
          "scattermap": [
           {
            "marker": {
             "colorbar": {
              "outlinewidth": 0,
              "ticks": ""
             }
            },
            "type": "scattermap"
           }
          ],
          "scattermapbox": [
           {
            "marker": {
             "colorbar": {
              "outlinewidth": 0,
              "ticks": ""
             }
            },
            "type": "scattermapbox"
           }
          ],
          "scatterpolar": [
           {
            "marker": {
             "colorbar": {
              "outlinewidth": 0,
              "ticks": ""
             }
            },
            "type": "scatterpolar"
           }
          ],
          "scatterpolargl": [
           {
            "marker": {
             "colorbar": {
              "outlinewidth": 0,
              "ticks": ""
             }
            },
            "type": "scatterpolargl"
           }
          ],
          "scatterternary": [
           {
            "marker": {
             "colorbar": {
              "outlinewidth": 0,
              "ticks": ""
             }
            },
            "type": "scatterternary"
           }
          ],
          "surface": [
           {
            "colorbar": {
             "outlinewidth": 0,
             "ticks": ""
            },
            "colorscale": [
             [
              0,
              "#0d0887"
             ],
             [
              0.1111111111111111,
              "#46039f"
             ],
             [
              0.2222222222222222,
              "#7201a8"
             ],
             [
              0.3333333333333333,
              "#9c179e"
             ],
             [
              0.4444444444444444,
              "#bd3786"
             ],
             [
              0.5555555555555556,
              "#d8576b"
             ],
             [
              0.6666666666666666,
              "#ed7953"
             ],
             [
              0.7777777777777778,
              "#fb9f3a"
             ],
             [
              0.8888888888888888,
              "#fdca26"
             ],
             [
              1,
              "#f0f921"
             ]
            ],
            "type": "surface"
           }
          ],
          "table": [
           {
            "cells": {
             "fill": {
              "color": "#EBF0F8"
             },
             "line": {
              "color": "white"
             }
            },
            "header": {
             "fill": {
              "color": "#C8D4E3"
             },
             "line": {
              "color": "white"
             }
            },
            "type": "table"
           }
          ]
         },
         "layout": {
          "annotationdefaults": {
           "arrowcolor": "#2a3f5f",
           "arrowhead": 0,
           "arrowwidth": 1
          },
          "autotypenumbers": "strict",
          "coloraxis": {
           "colorbar": {
            "outlinewidth": 0,
            "ticks": ""
           }
          },
          "colorscale": {
           "diverging": [
            [
             0,
             "#8e0152"
            ],
            [
             0.1,
             "#c51b7d"
            ],
            [
             0.2,
             "#de77ae"
            ],
            [
             0.3,
             "#f1b6da"
            ],
            [
             0.4,
             "#fde0ef"
            ],
            [
             0.5,
             "#f7f7f7"
            ],
            [
             0.6,
             "#e6f5d0"
            ],
            [
             0.7,
             "#b8e186"
            ],
            [
             0.8,
             "#7fbc41"
            ],
            [
             0.9,
             "#4d9221"
            ],
            [
             1,
             "#276419"
            ]
           ],
           "sequential": [
            [
             0,
             "#0d0887"
            ],
            [
             0.1111111111111111,
             "#46039f"
            ],
            [
             0.2222222222222222,
             "#7201a8"
            ],
            [
             0.3333333333333333,
             "#9c179e"
            ],
            [
             0.4444444444444444,
             "#bd3786"
            ],
            [
             0.5555555555555556,
             "#d8576b"
            ],
            [
             0.6666666666666666,
             "#ed7953"
            ],
            [
             0.7777777777777778,
             "#fb9f3a"
            ],
            [
             0.8888888888888888,
             "#fdca26"
            ],
            [
             1,
             "#f0f921"
            ]
           ],
           "sequentialminus": [
            [
             0,
             "#0d0887"
            ],
            [
             0.1111111111111111,
             "#46039f"
            ],
            [
             0.2222222222222222,
             "#7201a8"
            ],
            [
             0.3333333333333333,
             "#9c179e"
            ],
            [
             0.4444444444444444,
             "#bd3786"
            ],
            [
             0.5555555555555556,
             "#d8576b"
            ],
            [
             0.6666666666666666,
             "#ed7953"
            ],
            [
             0.7777777777777778,
             "#fb9f3a"
            ],
            [
             0.8888888888888888,
             "#fdca26"
            ],
            [
             1,
             "#f0f921"
            ]
           ]
          },
          "colorway": [
           "#636efa",
           "#EF553B",
           "#00cc96",
           "#ab63fa",
           "#FFA15A",
           "#19d3f3",
           "#FF6692",
           "#B6E880",
           "#FF97FF",
           "#FECB52"
          ],
          "font": {
           "color": "#2a3f5f"
          },
          "geo": {
           "bgcolor": "white",
           "lakecolor": "white",
           "landcolor": "#E5ECF6",
           "showlakes": true,
           "showland": true,
           "subunitcolor": "white"
          },
          "hoverlabel": {
           "align": "left"
          },
          "hovermode": "closest",
          "mapbox": {
           "style": "light"
          },
          "paper_bgcolor": "white",
          "plot_bgcolor": "#E5ECF6",
          "polar": {
           "angularaxis": {
            "gridcolor": "white",
            "linecolor": "white",
            "ticks": ""
           },
           "bgcolor": "#E5ECF6",
           "radialaxis": {
            "gridcolor": "white",
            "linecolor": "white",
            "ticks": ""
           }
          },
          "scene": {
           "xaxis": {
            "backgroundcolor": "#E5ECF6",
            "gridcolor": "white",
            "gridwidth": 2,
            "linecolor": "white",
            "showbackground": true,
            "ticks": "",
            "zerolinecolor": "white"
           },
           "yaxis": {
            "backgroundcolor": "#E5ECF6",
            "gridcolor": "white",
            "gridwidth": 2,
            "linecolor": "white",
            "showbackground": true,
            "ticks": "",
            "zerolinecolor": "white"
           },
           "zaxis": {
            "backgroundcolor": "#E5ECF6",
            "gridcolor": "white",
            "gridwidth": 2,
            "linecolor": "white",
            "showbackground": true,
            "ticks": "",
            "zerolinecolor": "white"
           }
          },
          "shapedefaults": {
           "line": {
            "color": "#2a3f5f"
           }
          },
          "ternary": {
           "aaxis": {
            "gridcolor": "white",
            "linecolor": "white",
            "ticks": ""
           },
           "baxis": {
            "gridcolor": "white",
            "linecolor": "white",
            "ticks": ""
           },
           "bgcolor": "#E5ECF6",
           "caxis": {
            "gridcolor": "white",
            "linecolor": "white",
            "ticks": ""
           }
          },
          "title": {
           "x": 0.05
          },
          "xaxis": {
           "automargin": true,
           "gridcolor": "white",
           "linecolor": "white",
           "ticks": "",
           "title": {
            "standoff": 15
           },
           "zerolinecolor": "white",
           "zerolinewidth": 2
          },
          "yaxis": {
           "automargin": true,
           "gridcolor": "white",
           "linecolor": "white",
           "ticks": "",
           "title": {
            "standoff": 15
           },
           "zerolinecolor": "white",
           "zerolinewidth": 2
          }
         }
        }
       }
      }
     },
     "metadata": {},
     "output_type": "display_data"
    }
   ],
   "source": [
    "fig = go.Figure()\n",
    "\n",
    "fig.add_scatter(\n",
    "    x=scaler.inverse_transform(X_test_scaled)[:,0].flatten(),\n",
    "    y=y_test,\n",
    "    mode=\"markers\",\n",
    "    marker=dict(color=\"red\")\n",
    ")\n",
    "\n",
    "fig.add_scatter(\n",
    "    x=scaler.inverse_transform(X_test_scaled)[:,0].flatten(),\n",
    "    y=y_pred_nn,\n",
    "    mode=\"markers\",\n",
    "    marker=dict(color=\"orange\")\n",
    ")\n",
    "\n",
    "fig"
   ]
  },
  {
   "cell_type": "markdown",
   "id": "15643c5c",
   "metadata": {},
   "source": [
    "### Clustering Anaylsis"
   ]
  },
  {
   "cell_type": "markdown",
   "id": "b637d0f0",
   "metadata": {},
   "source": [
    "### DBSCAN"
   ]
  },
  {
   "cell_type": "markdown",
   "id": "dcaa0917",
   "metadata": {},
   "source": [
    "DBSCAN is used to create clusters of students based on the variables used as inputs for the models before."
   ]
  },
  {
   "cell_type": "code",
   "execution_count": 49,
   "id": "fa483686",
   "metadata": {
    "execution": {
     "iopub.status.busy": "2025-05-31T21:07:38.022873Z",
     "iopub.status.idle": "2025-05-31T21:07:38.023366Z",
     "shell.execute_reply": "2025-05-31T21:07:38.023159Z",
     "shell.execute_reply.started": "2025-05-31T21:07:38.023136Z"
    },
    "trusted": true
   },
   "outputs": [
    {
     "data": {
      "text/plain": [
       "array([-1, -1,  0, -1, -1,  1, -1, -1,  7, -1,  2, -1,  3,  0,  4,  5, -1,\n",
       "        6,  7,  5,  8,  3,  5,  8,  4,  0,  7,  5, -1,  8,  7,  5,  8,  3,\n",
       "        5,  8,  7,  0,  9,  5,  3,  8,  4,  5,  8,  3,  5,  8,  4,  0,  9,\n",
       "        5,  3,  8,  4,  5,  8,  3,  5,  8,  7,  6,  5, 15, 13,  5,  9,  8,\n",
       "        3,  5,  8,  4,  5,  8,  3,  5,  8,  4,  5,  0,  3,  5,  9,  3,  8,\n",
       "        5,  8,  3,  5,  0,  4,  5,  9,  8,  3,  5,  8,  3,  5,  8,  0,  3,\n",
       "        5,  8,  4,  5,  9,  8,  3,  5,  8,  5,  4,  8,  5, 10,  8,  5,  4,\n",
       "        8,  5, 10,  8,  5,  4,  8,  5, 10,  8,  5,  4,  8,  5, 10,  8,  5,\n",
       "        4,  8,  5, 10,  8,  5,  4,  8,  5, 10,  8,  5,  4,  8,  5, 10,  8,\n",
       "        5,  4,  8,  5, 10,  8,  5,  2, 11, 12,  2,  4, 12,  2, 11, 12,  2,\n",
       "        4, 12,  2, 11, 12,  2,  4, 12,  2, 11, 12,  2,  4, 12,  2, 11, 12,\n",
       "        2,  4, 12,  2, 11, 12,  2,  4, 12,  2, 11, 12,  2,  4, 12,  2, 11,\n",
       "       12,  2,  4, 12,  2, 11, 12,  2,  4, 12,  2, 11, 12,  2,  4, 12,  0,\n",
       "        5, 10, -1, 13,  5, 14,  4, 15,  5,  4,  3, 13,  6, 14,  4, 15,  5,\n",
       "        4, 16, 13,  2, 14,  4, 15,  5,  4,  3, 13,  6, 14,  4, 15,  5,  4,\n",
       "       16, 13,  2, 14,  4, 15,  5,  4,  3, 13,  6, 14,  4, 15,  5,  4,  3,\n",
       "       13,  2, 14,  4, 15,  5,  4,  3, 13,  6, 14,  4, 15,  5,  4,  3, 13,\n",
       "        2, 14,  4, 15,  5,  4,  3, 13,  6, 14,  4, 15,  5,  4,  3, 13,  2,\n",
       "       14,  4, 15,  5,  4,  3, 13,  6, 14,  4, 15,  5,  4,  3,  5, 16, 17,\n",
       "        8, 16,  5,  0,  5,  4,  5,  5, 16, 17,  8, 16,  5,  0,  5,  4,  5,\n",
       "        5, 16, 17,  8, 16,  5,  0,  5,  4,  5,  5, 16, 17,  8, 16,  5,  0,\n",
       "        5,  4,  5,  5, 16, 17,  8, 16,  5,  0,  5,  4,  5,  5, 16, 17,  8,\n",
       "       16,  5,  0,  5,  4,  5,  5, 16, 17,  8, 16,  5,  0,  5,  4,  5,  5,\n",
       "       16, 17,  8, 16,  5,  0,  5,  4,  5,  5, 16, 17,  8, 16,  5,  0,  5,\n",
       "        4,  5,  5, 16, 17,  8, 16,  5,  0,  5,  4,  5,  5, 16, 17,  8, 16,\n",
       "        5,  0,  5,  4,  5,  5, 16, 17,  8, 16,  5,  0,  5,  4,  5,  5, 16,\n",
       "       17,  8, 16,  5,  0,  5,  4,  5,  5, 16, 17,  8, 16,  5,  0,  5,  4,\n",
       "        5,  5, 16, 17,  8, 16,  5,  0,  5,  4,  5,  5, 16, 17,  8, 16,  5,\n",
       "        0,  5,  4,  5,  5, 16, 17,  8, 16,  5,  0,  5,  4,  5,  5, 16, 17,\n",
       "        8, 16,  5,  0,  5,  4,  5,  5,  4, 16, 17,  5,  5,  8,  4,  8, 17,\n",
       "        5,  4, 16, 17,  5,  5,  8,  4,  8, 17,  5,  4, 16, 17,  5,  5,  8,\n",
       "        4,  8, 17,  5,  4, 16, 17,  5,  5,  8,  4,  8, 17,  5,  4, 16, 17,\n",
       "        5,  5,  8,  4,  8, 17,  5,  4, 16, 17,  5,  5,  8,  4,  8, 17,  5,\n",
       "        4, 16, 17,  5,  5,  8,  4,  8, 17, -1, 16, 12,  1,  4,  8,  5,  8,\n",
       "        4, 14,  8,  4,  8,  5, 16,  8,  4,  8,  4,  5,  1,  4,  8,  5,  8,\n",
       "        5,  4,  8,  4, -1,  5, 16,  8,  4,  8,  4,  5,  1,  4,  8,  5,  8,\n",
       "        4,  5,  8,  4,  1,  5, 16,  8,  4,  8,  4,  5,  1,  4,  8,  5,  8,\n",
       "        4,  5,  8,  4,  1,  5, 16,  8,  4,  8,  4,  5,  1,  4,  8,  5,  8,\n",
       "        4,  5,  8,  4,  1,  5, 16,  8,  4,  8,  4,  5,  1,  4,  8,  5,  8,\n",
       "        4,  5,  8,  4,  1,  5, 16,  8,  4,  8,  4,  5,  1,  4,  8,  5,  8,\n",
       "        4,  5,  8,  4,  1,  5, 16,  8,  4,  8,  4,  5,  1,  4,  8,  5,  8,\n",
       "        4,  5,  8,  4,  1,  5, 16,  8])"
      ]
     },
     "execution_count": 49,
     "metadata": {},
     "output_type": "execute_result"
    }
   ],
   "source": [
    "from sklearn.cluster import DBSCAN\n",
    "import numpy as np\n",
    "\n",
    "model = DBSCAN(eps=0.5, min_samples=5)\n",
    "labels = model.fit_predict(x)  # X = your data\n",
    "labels"
   ]
  },
  {
   "cell_type": "code",
   "execution_count": 50,
   "id": "569b8b21",
   "metadata": {
    "execution": {
     "iopub.status.busy": "2025-05-31T21:07:38.025741Z",
     "iopub.status.idle": "2025-05-31T21:07:38.026397Z",
     "shell.execute_reply": "2025-05-31T21:07:38.025982Z",
     "shell.execute_reply.started": "2025-05-31T21:07:38.025969Z"
    },
    "trusted": true
   },
   "outputs": [],
   "source": [
    "df[\"label\"] = labels"
   ]
  },
  {
   "cell_type": "code",
   "execution_count": 51,
   "id": "6416dd0a",
   "metadata": {
    "execution": {
     "iopub.status.busy": "2025-05-31T21:07:38.028771Z",
     "iopub.status.idle": "2025-05-31T21:07:38.029243Z",
     "shell.execute_reply": "2025-05-31T21:07:38.028987Z",
     "shell.execute_reply.started": "2025-05-31T21:07:38.028972Z"
    },
    "trusted": true
   },
   "outputs": [
    {
     "data": {
      "application/vnd.microsoft.datawrangler.viewer.v0+json": {
       "columns": [
        {
         "name": "index",
         "rawType": "int64",
         "type": "integer"
        },
        {
         "name": "Student_ID",
         "rawType": "int64",
         "type": "integer"
        },
        {
         "name": "Age",
         "rawType": "int64",
         "type": "integer"
        },
        {
         "name": "Gender",
         "rawType": "object",
         "type": "string"
        },
        {
         "name": "Academic_Level",
         "rawType": "object",
         "type": "string"
        },
        {
         "name": "Country",
         "rawType": "object",
         "type": "string"
        },
        {
         "name": "Avg_Daily_Usage_Hours",
         "rawType": "float64",
         "type": "float"
        },
        {
         "name": "Most_Used_Platform",
         "rawType": "object",
         "type": "string"
        },
        {
         "name": "Affects_Academic_Performance",
         "rawType": "object",
         "type": "string"
        },
        {
         "name": "Sleep_Hours_Per_Night",
         "rawType": "float64",
         "type": "float"
        },
        {
         "name": "Mental_Health_Score",
         "rawType": "int64",
         "type": "integer"
        },
        {
         "name": "Relationship_Status",
         "rawType": "object",
         "type": "string"
        },
        {
         "name": "Conflicts_Over_Social_Media",
         "rawType": "int64",
         "type": "integer"
        },
        {
         "name": "Addicted_Score",
         "rawType": "int64",
         "type": "integer"
        },
        {
         "name": "Gender_Numeric",
         "rawType": "int64",
         "type": "integer"
        },
        {
         "name": "Most_Used_Platform_Numeric",
         "rawType": "int64",
         "type": "integer"
        },
        {
         "name": "Academic_Level_Numeric",
         "rawType": "int64",
         "type": "integer"
        },
        {
         "name": "Normalized_Addicted_Score",
         "rawType": "float64",
         "type": "float"
        },
        {
         "name": "Relationship_Status_Numeric",
         "rawType": "int64",
         "type": "integer"
        },
        {
         "name": "Is_Graduate",
         "rawType": "int64",
         "type": "integer"
        },
        {
         "name": "In_Relationship",
         "rawType": "int64",
         "type": "integer"
        },
        {
         "name": "Affects_Academic_Performance_Numeric",
         "rawType": "int64",
         "type": "integer"
        },
        {
         "name": "label",
         "rawType": "int64",
         "type": "integer"
        }
       ],
       "ref": "68328d70-18b4-49b8-ab9f-3428207e2772",
       "rows": [
        [
         "2",
         "3",
         "20",
         "Female",
         "Undergraduate",
         "USA",
         "6.0",
         "TikTok",
         "Yes",
         "5.0",
         "5",
         "Complicated",
         "4",
         "9",
         "0",
         "6",
         "2",
         "0.9",
         "0",
         "0",
         "0",
         "1",
         "0"
        ],
        [
         "13",
         "14",
         "18",
         "Female",
         "High School",
         "Mexico",
         "6.5",
         "Instagram",
         "Yes",
         "5.5",
         "5",
         "Single",
         "4",
         "9",
         "0",
         "1",
         "1",
         "0.9",
         "2",
         "0",
         "0",
         "1",
         "0"
        ],
        [
         "25",
         "26",
         "19",
         "Female",
         "High School",
         "Ireland",
         "6.1",
         "Instagram",
         "Yes",
         "5.2",
         "5",
         "Complicated",
         "4",
         "9",
         "0",
         "1",
         "1",
         "0.9",
         "0",
         "0",
         "0",
         "1",
         "0"
        ],
        [
         "37",
         "38",
         "19",
         "Female",
         "High School",
         "UAE",
         "6.2",
         "Instagram",
         "Yes",
         "5.1",
         "5",
         "In Relationship",
         "4",
         "9",
         "0",
         "1",
         "1",
         "0.9",
         "1",
         "0",
         "1",
         "1",
         "0"
        ],
        [
         "49",
         "50",
         "19",
         "Female",
         "High School",
         "Ecuador",
         "6.3",
         "Instagram",
         "Yes",
         "5.2",
         "5",
         "Complicated",
         "4",
         "9",
         "0",
         "1",
         "1",
         "0.9",
         "0",
         "0",
         "0",
         "1",
         "0"
        ],
        [
         "79",
         "80",
         "18",
         "Female",
         "High School",
         "Armenia",
         "5.9",
         "Instagram",
         "Yes",
         "5.2",
         "5",
         "Complicated",
         "4",
         "9",
         "0",
         "1",
         "1",
         "0.9",
         "0",
         "0",
         "0",
         "1",
         "0"
        ],
        [
         "89",
         "90",
         "18",
         "Female",
         "High School",
         "Liechtenstein",
         "5.8",
         "Instagram",
         "Yes",
         "5.2",
         "5",
         "Single",
         "4",
         "9",
         "0",
         "1",
         "1",
         "0.9",
         "2",
         "0",
         "0",
         "1",
         "0"
        ],
        [
         "100",
         "101",
         "19",
         "Male",
         "High School",
         "Lebanon",
         "5.8",
         "YouTube",
         "Yes",
         "5.2",
         "5",
         "Complicated",
         "4",
         "9",
         "1",
         "11",
         "1",
         "0.9",
         "0",
         "0",
         "0",
         "1",
         "0"
        ],
        [
         "220",
         "221",
         "19",
         "Female",
         "Undergraduate",
         "USA",
         "6.5",
         "Instagram",
         "Yes",
         "6.0",
         "5",
         "Single",
         "4",
         "9",
         "0",
         "1",
         "2",
         "0.9",
         "2",
         "0",
         "0",
         "1",
         "0"
        ],
        [
         "326",
         "327",
         "20",
         "Female",
         "Undergraduate",
         "USA",
         "6.8",
         "TikTok",
         "Yes",
         "5.5",
         "5",
         "In Relationship",
         "4",
         "9",
         "0",
         "6",
         "2",
         "0.9",
         "1",
         "0",
         "1",
         "1",
         "0"
        ],
        [
         "336",
         "337",
         "19",
         "Female",
         "Undergraduate",
         "USA",
         "6.9",
         "Instagram",
         "Yes",
         "5.4",
         "5",
         "In Relationship",
         "4",
         "9",
         "0",
         "1",
         "2",
         "0.9",
         "1",
         "0",
         "1",
         "1",
         "0"
        ],
        [
         "346",
         "347",
         "20",
         "Female",
         "Undergraduate",
         "USA",
         "7.0",
         "TikTok",
         "Yes",
         "5.3",
         "5",
         "In Relationship",
         "4",
         "9",
         "0",
         "6",
         "2",
         "0.9",
         "1",
         "0",
         "1",
         "1",
         "0"
        ],
        [
         "356",
         "357",
         "19",
         "Female",
         "Undergraduate",
         "USA",
         "7.1",
         "Instagram",
         "Yes",
         "5.2",
         "5",
         "In Relationship",
         "4",
         "9",
         "0",
         "1",
         "2",
         "0.9",
         "1",
         "0",
         "1",
         "1",
         "0"
        ],
        [
         "366",
         "367",
         "20",
         "Female",
         "Undergraduate",
         "USA",
         "7.2",
         "TikTok",
         "Yes",
         "5.1",
         "5",
         "In Relationship",
         "4",
         "9",
         "0",
         "6",
         "2",
         "0.9",
         "1",
         "0",
         "1",
         "1",
         "0"
        ],
        [
         "376",
         "377",
         "19",
         "Female",
         "Undergraduate",
         "USA",
         "7.3",
         "Instagram",
         "Yes",
         "5.0",
         "5",
         "In Relationship",
         "4",
         "9",
         "0",
         "1",
         "2",
         "0.9",
         "1",
         "0",
         "1",
         "1",
         "0"
        ],
        [
         "386",
         "387",
         "20",
         "Female",
         "Undergraduate",
         "USA",
         "7.4",
         "TikTok",
         "Yes",
         "4.9",
         "5",
         "In Relationship",
         "4",
         "9",
         "0",
         "6",
         "2",
         "0.9",
         "1",
         "0",
         "1",
         "1",
         "0"
        ],
        [
         "396",
         "397",
         "19",
         "Female",
         "Undergraduate",
         "USA",
         "7.5",
         "Instagram",
         "Yes",
         "4.8",
         "5",
         "In Relationship",
         "4",
         "9",
         "0",
         "1",
         "2",
         "0.9",
         "1",
         "0",
         "1",
         "1",
         "0"
        ],
        [
         "406",
         "407",
         "20",
         "Female",
         "Undergraduate",
         "USA",
         "7.6",
         "TikTok",
         "Yes",
         "4.7",
         "5",
         "In Relationship",
         "4",
         "9",
         "0",
         "6",
         "2",
         "0.9",
         "1",
         "0",
         "1",
         "1",
         "0"
        ],
        [
         "416",
         "417",
         "19",
         "Female",
         "Undergraduate",
         "USA",
         "7.7",
         "Instagram",
         "Yes",
         "4.6",
         "5",
         "In Relationship",
         "4",
         "9",
         "0",
         "1",
         "2",
         "0.9",
         "1",
         "0",
         "1",
         "1",
         "0"
        ],
        [
         "426",
         "427",
         "20",
         "Female",
         "Undergraduate",
         "USA",
         "7.8",
         "TikTok",
         "Yes",
         "4.5",
         "5",
         "In Relationship",
         "4",
         "9",
         "0",
         "6",
         "2",
         "0.9",
         "1",
         "0",
         "1",
         "1",
         "0"
        ],
        [
         "436",
         "437",
         "19",
         "Female",
         "Undergraduate",
         "USA",
         "7.9",
         "Instagram",
         "Yes",
         "4.4",
         "5",
         "In Relationship",
         "4",
         "9",
         "0",
         "1",
         "2",
         "0.9",
         "1",
         "0",
         "1",
         "1",
         "0"
        ],
        [
         "446",
         "447",
         "20",
         "Female",
         "Undergraduate",
         "USA",
         "8.0",
         "TikTok",
         "Yes",
         "4.3",
         "5",
         "In Relationship",
         "4",
         "9",
         "0",
         "6",
         "2",
         "0.9",
         "1",
         "0",
         "1",
         "1",
         "0"
        ],
        [
         "456",
         "457",
         "19",
         "Female",
         "Undergraduate",
         "USA",
         "8.1",
         "Instagram",
         "Yes",
         "4.2",
         "5",
         "In Relationship",
         "4",
         "9",
         "0",
         "1",
         "2",
         "0.9",
         "1",
         "0",
         "1",
         "1",
         "0"
        ],
        [
         "466",
         "467",
         "20",
         "Female",
         "Undergraduate",
         "USA",
         "8.2",
         "TikTok",
         "Yes",
         "4.1",
         "5",
         "In Relationship",
         "4",
         "9",
         "0",
         "6",
         "2",
         "0.9",
         "1",
         "0",
         "1",
         "1",
         "0"
        ],
        [
         "476",
         "477",
         "19",
         "Female",
         "Undergraduate",
         "USA",
         "8.3",
         "Instagram",
         "Yes",
         "4.0",
         "5",
         "In Relationship",
         "4",
         "9",
         "0",
         "1",
         "2",
         "0.9",
         "1",
         "0",
         "1",
         "1",
         "0"
        ],
        [
         "486",
         "487",
         "20",
         "Female",
         "Undergraduate",
         "USA",
         "8.4",
         "TikTok",
         "Yes",
         "3.9",
         "5",
         "In Relationship",
         "4",
         "9",
         "0",
         "6",
         "2",
         "0.9",
         "1",
         "0",
         "1",
         "1",
         "0"
        ],
        [
         "496",
         "497",
         "19",
         "Female",
         "Undergraduate",
         "USA",
         "8.5",
         "Instagram",
         "Yes",
         "3.8",
         "5",
         "In Relationship",
         "4",
         "9",
         "0",
         "1",
         "2",
         "0.9",
         "1",
         "0",
         "1",
         "1",
         "0"
        ]
       ],
       "shape": {
        "columns": 22,
        "rows": 27
       }
      },
      "text/html": [
       "<div>\n",
       "<style scoped>\n",
       "    .dataframe tbody tr th:only-of-type {\n",
       "        vertical-align: middle;\n",
       "    }\n",
       "\n",
       "    .dataframe tbody tr th {\n",
       "        vertical-align: top;\n",
       "    }\n",
       "\n",
       "    .dataframe thead th {\n",
       "        text-align: right;\n",
       "    }\n",
       "</style>\n",
       "<table border=\"1\" class=\"dataframe\">\n",
       "  <thead>\n",
       "    <tr style=\"text-align: right;\">\n",
       "      <th></th>\n",
       "      <th>Student_ID</th>\n",
       "      <th>Age</th>\n",
       "      <th>Gender</th>\n",
       "      <th>Academic_Level</th>\n",
       "      <th>Country</th>\n",
       "      <th>Avg_Daily_Usage_Hours</th>\n",
       "      <th>Most_Used_Platform</th>\n",
       "      <th>Affects_Academic_Performance</th>\n",
       "      <th>Sleep_Hours_Per_Night</th>\n",
       "      <th>Mental_Health_Score</th>\n",
       "      <th>...</th>\n",
       "      <th>Addicted_Score</th>\n",
       "      <th>Gender_Numeric</th>\n",
       "      <th>Most_Used_Platform_Numeric</th>\n",
       "      <th>Academic_Level_Numeric</th>\n",
       "      <th>Normalized_Addicted_Score</th>\n",
       "      <th>Relationship_Status_Numeric</th>\n",
       "      <th>Is_Graduate</th>\n",
       "      <th>In_Relationship</th>\n",
       "      <th>Affects_Academic_Performance_Numeric</th>\n",
       "      <th>label</th>\n",
       "    </tr>\n",
       "  </thead>\n",
       "  <tbody>\n",
       "    <tr>\n",
       "      <th>2</th>\n",
       "      <td>3</td>\n",
       "      <td>20</td>\n",
       "      <td>Female</td>\n",
       "      <td>Undergraduate</td>\n",
       "      <td>USA</td>\n",
       "      <td>6.0</td>\n",
       "      <td>TikTok</td>\n",
       "      <td>Yes</td>\n",
       "      <td>5.0</td>\n",
       "      <td>5</td>\n",
       "      <td>...</td>\n",
       "      <td>9</td>\n",
       "      <td>0</td>\n",
       "      <td>6</td>\n",
       "      <td>2</td>\n",
       "      <td>0.9</td>\n",
       "      <td>0</td>\n",
       "      <td>0</td>\n",
       "      <td>0</td>\n",
       "      <td>1</td>\n",
       "      <td>0</td>\n",
       "    </tr>\n",
       "    <tr>\n",
       "      <th>13</th>\n",
       "      <td>14</td>\n",
       "      <td>18</td>\n",
       "      <td>Female</td>\n",
       "      <td>High School</td>\n",
       "      <td>Mexico</td>\n",
       "      <td>6.5</td>\n",
       "      <td>Instagram</td>\n",
       "      <td>Yes</td>\n",
       "      <td>5.5</td>\n",
       "      <td>5</td>\n",
       "      <td>...</td>\n",
       "      <td>9</td>\n",
       "      <td>0</td>\n",
       "      <td>1</td>\n",
       "      <td>1</td>\n",
       "      <td>0.9</td>\n",
       "      <td>2</td>\n",
       "      <td>0</td>\n",
       "      <td>0</td>\n",
       "      <td>1</td>\n",
       "      <td>0</td>\n",
       "    </tr>\n",
       "    <tr>\n",
       "      <th>25</th>\n",
       "      <td>26</td>\n",
       "      <td>19</td>\n",
       "      <td>Female</td>\n",
       "      <td>High School</td>\n",
       "      <td>Ireland</td>\n",
       "      <td>6.1</td>\n",
       "      <td>Instagram</td>\n",
       "      <td>Yes</td>\n",
       "      <td>5.2</td>\n",
       "      <td>5</td>\n",
       "      <td>...</td>\n",
       "      <td>9</td>\n",
       "      <td>0</td>\n",
       "      <td>1</td>\n",
       "      <td>1</td>\n",
       "      <td>0.9</td>\n",
       "      <td>0</td>\n",
       "      <td>0</td>\n",
       "      <td>0</td>\n",
       "      <td>1</td>\n",
       "      <td>0</td>\n",
       "    </tr>\n",
       "    <tr>\n",
       "      <th>37</th>\n",
       "      <td>38</td>\n",
       "      <td>19</td>\n",
       "      <td>Female</td>\n",
       "      <td>High School</td>\n",
       "      <td>UAE</td>\n",
       "      <td>6.2</td>\n",
       "      <td>Instagram</td>\n",
       "      <td>Yes</td>\n",
       "      <td>5.1</td>\n",
       "      <td>5</td>\n",
       "      <td>...</td>\n",
       "      <td>9</td>\n",
       "      <td>0</td>\n",
       "      <td>1</td>\n",
       "      <td>1</td>\n",
       "      <td>0.9</td>\n",
       "      <td>1</td>\n",
       "      <td>0</td>\n",
       "      <td>1</td>\n",
       "      <td>1</td>\n",
       "      <td>0</td>\n",
       "    </tr>\n",
       "    <tr>\n",
       "      <th>49</th>\n",
       "      <td>50</td>\n",
       "      <td>19</td>\n",
       "      <td>Female</td>\n",
       "      <td>High School</td>\n",
       "      <td>Ecuador</td>\n",
       "      <td>6.3</td>\n",
       "      <td>Instagram</td>\n",
       "      <td>Yes</td>\n",
       "      <td>5.2</td>\n",
       "      <td>5</td>\n",
       "      <td>...</td>\n",
       "      <td>9</td>\n",
       "      <td>0</td>\n",
       "      <td>1</td>\n",
       "      <td>1</td>\n",
       "      <td>0.9</td>\n",
       "      <td>0</td>\n",
       "      <td>0</td>\n",
       "      <td>0</td>\n",
       "      <td>1</td>\n",
       "      <td>0</td>\n",
       "    </tr>\n",
       "    <tr>\n",
       "      <th>79</th>\n",
       "      <td>80</td>\n",
       "      <td>18</td>\n",
       "      <td>Female</td>\n",
       "      <td>High School</td>\n",
       "      <td>Armenia</td>\n",
       "      <td>5.9</td>\n",
       "      <td>Instagram</td>\n",
       "      <td>Yes</td>\n",
       "      <td>5.2</td>\n",
       "      <td>5</td>\n",
       "      <td>...</td>\n",
       "      <td>9</td>\n",
       "      <td>0</td>\n",
       "      <td>1</td>\n",
       "      <td>1</td>\n",
       "      <td>0.9</td>\n",
       "      <td>0</td>\n",
       "      <td>0</td>\n",
       "      <td>0</td>\n",
       "      <td>1</td>\n",
       "      <td>0</td>\n",
       "    </tr>\n",
       "    <tr>\n",
       "      <th>89</th>\n",
       "      <td>90</td>\n",
       "      <td>18</td>\n",
       "      <td>Female</td>\n",
       "      <td>High School</td>\n",
       "      <td>Liechtenstein</td>\n",
       "      <td>5.8</td>\n",
       "      <td>Instagram</td>\n",
       "      <td>Yes</td>\n",
       "      <td>5.2</td>\n",
       "      <td>5</td>\n",
       "      <td>...</td>\n",
       "      <td>9</td>\n",
       "      <td>0</td>\n",
       "      <td>1</td>\n",
       "      <td>1</td>\n",
       "      <td>0.9</td>\n",
       "      <td>2</td>\n",
       "      <td>0</td>\n",
       "      <td>0</td>\n",
       "      <td>1</td>\n",
       "      <td>0</td>\n",
       "    </tr>\n",
       "    <tr>\n",
       "      <th>100</th>\n",
       "      <td>101</td>\n",
       "      <td>19</td>\n",
       "      <td>Male</td>\n",
       "      <td>High School</td>\n",
       "      <td>Lebanon</td>\n",
       "      <td>5.8</td>\n",
       "      <td>YouTube</td>\n",
       "      <td>Yes</td>\n",
       "      <td>5.2</td>\n",
       "      <td>5</td>\n",
       "      <td>...</td>\n",
       "      <td>9</td>\n",
       "      <td>1</td>\n",
       "      <td>11</td>\n",
       "      <td>1</td>\n",
       "      <td>0.9</td>\n",
       "      <td>0</td>\n",
       "      <td>0</td>\n",
       "      <td>0</td>\n",
       "      <td>1</td>\n",
       "      <td>0</td>\n",
       "    </tr>\n",
       "    <tr>\n",
       "      <th>220</th>\n",
       "      <td>221</td>\n",
       "      <td>19</td>\n",
       "      <td>Female</td>\n",
       "      <td>Undergraduate</td>\n",
       "      <td>USA</td>\n",
       "      <td>6.5</td>\n",
       "      <td>Instagram</td>\n",
       "      <td>Yes</td>\n",
       "      <td>6.0</td>\n",
       "      <td>5</td>\n",
       "      <td>...</td>\n",
       "      <td>9</td>\n",
       "      <td>0</td>\n",
       "      <td>1</td>\n",
       "      <td>2</td>\n",
       "      <td>0.9</td>\n",
       "      <td>2</td>\n",
       "      <td>0</td>\n",
       "      <td>0</td>\n",
       "      <td>1</td>\n",
       "      <td>0</td>\n",
       "    </tr>\n",
       "    <tr>\n",
       "      <th>326</th>\n",
       "      <td>327</td>\n",
       "      <td>20</td>\n",
       "      <td>Female</td>\n",
       "      <td>Undergraduate</td>\n",
       "      <td>USA</td>\n",
       "      <td>6.8</td>\n",
       "      <td>TikTok</td>\n",
       "      <td>Yes</td>\n",
       "      <td>5.5</td>\n",
       "      <td>5</td>\n",
       "      <td>...</td>\n",
       "      <td>9</td>\n",
       "      <td>0</td>\n",
       "      <td>6</td>\n",
       "      <td>2</td>\n",
       "      <td>0.9</td>\n",
       "      <td>1</td>\n",
       "      <td>0</td>\n",
       "      <td>1</td>\n",
       "      <td>1</td>\n",
       "      <td>0</td>\n",
       "    </tr>\n",
       "    <tr>\n",
       "      <th>336</th>\n",
       "      <td>337</td>\n",
       "      <td>19</td>\n",
       "      <td>Female</td>\n",
       "      <td>Undergraduate</td>\n",
       "      <td>USA</td>\n",
       "      <td>6.9</td>\n",
       "      <td>Instagram</td>\n",
       "      <td>Yes</td>\n",
       "      <td>5.4</td>\n",
       "      <td>5</td>\n",
       "      <td>...</td>\n",
       "      <td>9</td>\n",
       "      <td>0</td>\n",
       "      <td>1</td>\n",
       "      <td>2</td>\n",
       "      <td>0.9</td>\n",
       "      <td>1</td>\n",
       "      <td>0</td>\n",
       "      <td>1</td>\n",
       "      <td>1</td>\n",
       "      <td>0</td>\n",
       "    </tr>\n",
       "    <tr>\n",
       "      <th>346</th>\n",
       "      <td>347</td>\n",
       "      <td>20</td>\n",
       "      <td>Female</td>\n",
       "      <td>Undergraduate</td>\n",
       "      <td>USA</td>\n",
       "      <td>7.0</td>\n",
       "      <td>TikTok</td>\n",
       "      <td>Yes</td>\n",
       "      <td>5.3</td>\n",
       "      <td>5</td>\n",
       "      <td>...</td>\n",
       "      <td>9</td>\n",
       "      <td>0</td>\n",
       "      <td>6</td>\n",
       "      <td>2</td>\n",
       "      <td>0.9</td>\n",
       "      <td>1</td>\n",
       "      <td>0</td>\n",
       "      <td>1</td>\n",
       "      <td>1</td>\n",
       "      <td>0</td>\n",
       "    </tr>\n",
       "    <tr>\n",
       "      <th>356</th>\n",
       "      <td>357</td>\n",
       "      <td>19</td>\n",
       "      <td>Female</td>\n",
       "      <td>Undergraduate</td>\n",
       "      <td>USA</td>\n",
       "      <td>7.1</td>\n",
       "      <td>Instagram</td>\n",
       "      <td>Yes</td>\n",
       "      <td>5.2</td>\n",
       "      <td>5</td>\n",
       "      <td>...</td>\n",
       "      <td>9</td>\n",
       "      <td>0</td>\n",
       "      <td>1</td>\n",
       "      <td>2</td>\n",
       "      <td>0.9</td>\n",
       "      <td>1</td>\n",
       "      <td>0</td>\n",
       "      <td>1</td>\n",
       "      <td>1</td>\n",
       "      <td>0</td>\n",
       "    </tr>\n",
       "    <tr>\n",
       "      <th>366</th>\n",
       "      <td>367</td>\n",
       "      <td>20</td>\n",
       "      <td>Female</td>\n",
       "      <td>Undergraduate</td>\n",
       "      <td>USA</td>\n",
       "      <td>7.2</td>\n",
       "      <td>TikTok</td>\n",
       "      <td>Yes</td>\n",
       "      <td>5.1</td>\n",
       "      <td>5</td>\n",
       "      <td>...</td>\n",
       "      <td>9</td>\n",
       "      <td>0</td>\n",
       "      <td>6</td>\n",
       "      <td>2</td>\n",
       "      <td>0.9</td>\n",
       "      <td>1</td>\n",
       "      <td>0</td>\n",
       "      <td>1</td>\n",
       "      <td>1</td>\n",
       "      <td>0</td>\n",
       "    </tr>\n",
       "    <tr>\n",
       "      <th>376</th>\n",
       "      <td>377</td>\n",
       "      <td>19</td>\n",
       "      <td>Female</td>\n",
       "      <td>Undergraduate</td>\n",
       "      <td>USA</td>\n",
       "      <td>7.3</td>\n",
       "      <td>Instagram</td>\n",
       "      <td>Yes</td>\n",
       "      <td>5.0</td>\n",
       "      <td>5</td>\n",
       "      <td>...</td>\n",
       "      <td>9</td>\n",
       "      <td>0</td>\n",
       "      <td>1</td>\n",
       "      <td>2</td>\n",
       "      <td>0.9</td>\n",
       "      <td>1</td>\n",
       "      <td>0</td>\n",
       "      <td>1</td>\n",
       "      <td>1</td>\n",
       "      <td>0</td>\n",
       "    </tr>\n",
       "    <tr>\n",
       "      <th>386</th>\n",
       "      <td>387</td>\n",
       "      <td>20</td>\n",
       "      <td>Female</td>\n",
       "      <td>Undergraduate</td>\n",
       "      <td>USA</td>\n",
       "      <td>7.4</td>\n",
       "      <td>TikTok</td>\n",
       "      <td>Yes</td>\n",
       "      <td>4.9</td>\n",
       "      <td>5</td>\n",
       "      <td>...</td>\n",
       "      <td>9</td>\n",
       "      <td>0</td>\n",
       "      <td>6</td>\n",
       "      <td>2</td>\n",
       "      <td>0.9</td>\n",
       "      <td>1</td>\n",
       "      <td>0</td>\n",
       "      <td>1</td>\n",
       "      <td>1</td>\n",
       "      <td>0</td>\n",
       "    </tr>\n",
       "    <tr>\n",
       "      <th>396</th>\n",
       "      <td>397</td>\n",
       "      <td>19</td>\n",
       "      <td>Female</td>\n",
       "      <td>Undergraduate</td>\n",
       "      <td>USA</td>\n",
       "      <td>7.5</td>\n",
       "      <td>Instagram</td>\n",
       "      <td>Yes</td>\n",
       "      <td>4.8</td>\n",
       "      <td>5</td>\n",
       "      <td>...</td>\n",
       "      <td>9</td>\n",
       "      <td>0</td>\n",
       "      <td>1</td>\n",
       "      <td>2</td>\n",
       "      <td>0.9</td>\n",
       "      <td>1</td>\n",
       "      <td>0</td>\n",
       "      <td>1</td>\n",
       "      <td>1</td>\n",
       "      <td>0</td>\n",
       "    </tr>\n",
       "    <tr>\n",
       "      <th>406</th>\n",
       "      <td>407</td>\n",
       "      <td>20</td>\n",
       "      <td>Female</td>\n",
       "      <td>Undergraduate</td>\n",
       "      <td>USA</td>\n",
       "      <td>7.6</td>\n",
       "      <td>TikTok</td>\n",
       "      <td>Yes</td>\n",
       "      <td>4.7</td>\n",
       "      <td>5</td>\n",
       "      <td>...</td>\n",
       "      <td>9</td>\n",
       "      <td>0</td>\n",
       "      <td>6</td>\n",
       "      <td>2</td>\n",
       "      <td>0.9</td>\n",
       "      <td>1</td>\n",
       "      <td>0</td>\n",
       "      <td>1</td>\n",
       "      <td>1</td>\n",
       "      <td>0</td>\n",
       "    </tr>\n",
       "    <tr>\n",
       "      <th>416</th>\n",
       "      <td>417</td>\n",
       "      <td>19</td>\n",
       "      <td>Female</td>\n",
       "      <td>Undergraduate</td>\n",
       "      <td>USA</td>\n",
       "      <td>7.7</td>\n",
       "      <td>Instagram</td>\n",
       "      <td>Yes</td>\n",
       "      <td>4.6</td>\n",
       "      <td>5</td>\n",
       "      <td>...</td>\n",
       "      <td>9</td>\n",
       "      <td>0</td>\n",
       "      <td>1</td>\n",
       "      <td>2</td>\n",
       "      <td>0.9</td>\n",
       "      <td>1</td>\n",
       "      <td>0</td>\n",
       "      <td>1</td>\n",
       "      <td>1</td>\n",
       "      <td>0</td>\n",
       "    </tr>\n",
       "    <tr>\n",
       "      <th>426</th>\n",
       "      <td>427</td>\n",
       "      <td>20</td>\n",
       "      <td>Female</td>\n",
       "      <td>Undergraduate</td>\n",
       "      <td>USA</td>\n",
       "      <td>7.8</td>\n",
       "      <td>TikTok</td>\n",
       "      <td>Yes</td>\n",
       "      <td>4.5</td>\n",
       "      <td>5</td>\n",
       "      <td>...</td>\n",
       "      <td>9</td>\n",
       "      <td>0</td>\n",
       "      <td>6</td>\n",
       "      <td>2</td>\n",
       "      <td>0.9</td>\n",
       "      <td>1</td>\n",
       "      <td>0</td>\n",
       "      <td>1</td>\n",
       "      <td>1</td>\n",
       "      <td>0</td>\n",
       "    </tr>\n",
       "    <tr>\n",
       "      <th>436</th>\n",
       "      <td>437</td>\n",
       "      <td>19</td>\n",
       "      <td>Female</td>\n",
       "      <td>Undergraduate</td>\n",
       "      <td>USA</td>\n",
       "      <td>7.9</td>\n",
       "      <td>Instagram</td>\n",
       "      <td>Yes</td>\n",
       "      <td>4.4</td>\n",
       "      <td>5</td>\n",
       "      <td>...</td>\n",
       "      <td>9</td>\n",
       "      <td>0</td>\n",
       "      <td>1</td>\n",
       "      <td>2</td>\n",
       "      <td>0.9</td>\n",
       "      <td>1</td>\n",
       "      <td>0</td>\n",
       "      <td>1</td>\n",
       "      <td>1</td>\n",
       "      <td>0</td>\n",
       "    </tr>\n",
       "    <tr>\n",
       "      <th>446</th>\n",
       "      <td>447</td>\n",
       "      <td>20</td>\n",
       "      <td>Female</td>\n",
       "      <td>Undergraduate</td>\n",
       "      <td>USA</td>\n",
       "      <td>8.0</td>\n",
       "      <td>TikTok</td>\n",
       "      <td>Yes</td>\n",
       "      <td>4.3</td>\n",
       "      <td>5</td>\n",
       "      <td>...</td>\n",
       "      <td>9</td>\n",
       "      <td>0</td>\n",
       "      <td>6</td>\n",
       "      <td>2</td>\n",
       "      <td>0.9</td>\n",
       "      <td>1</td>\n",
       "      <td>0</td>\n",
       "      <td>1</td>\n",
       "      <td>1</td>\n",
       "      <td>0</td>\n",
       "    </tr>\n",
       "    <tr>\n",
       "      <th>456</th>\n",
       "      <td>457</td>\n",
       "      <td>19</td>\n",
       "      <td>Female</td>\n",
       "      <td>Undergraduate</td>\n",
       "      <td>USA</td>\n",
       "      <td>8.1</td>\n",
       "      <td>Instagram</td>\n",
       "      <td>Yes</td>\n",
       "      <td>4.2</td>\n",
       "      <td>5</td>\n",
       "      <td>...</td>\n",
       "      <td>9</td>\n",
       "      <td>0</td>\n",
       "      <td>1</td>\n",
       "      <td>2</td>\n",
       "      <td>0.9</td>\n",
       "      <td>1</td>\n",
       "      <td>0</td>\n",
       "      <td>1</td>\n",
       "      <td>1</td>\n",
       "      <td>0</td>\n",
       "    </tr>\n",
       "    <tr>\n",
       "      <th>466</th>\n",
       "      <td>467</td>\n",
       "      <td>20</td>\n",
       "      <td>Female</td>\n",
       "      <td>Undergraduate</td>\n",
       "      <td>USA</td>\n",
       "      <td>8.2</td>\n",
       "      <td>TikTok</td>\n",
       "      <td>Yes</td>\n",
       "      <td>4.1</td>\n",
       "      <td>5</td>\n",
       "      <td>...</td>\n",
       "      <td>9</td>\n",
       "      <td>0</td>\n",
       "      <td>6</td>\n",
       "      <td>2</td>\n",
       "      <td>0.9</td>\n",
       "      <td>1</td>\n",
       "      <td>0</td>\n",
       "      <td>1</td>\n",
       "      <td>1</td>\n",
       "      <td>0</td>\n",
       "    </tr>\n",
       "    <tr>\n",
       "      <th>476</th>\n",
       "      <td>477</td>\n",
       "      <td>19</td>\n",
       "      <td>Female</td>\n",
       "      <td>Undergraduate</td>\n",
       "      <td>USA</td>\n",
       "      <td>8.3</td>\n",
       "      <td>Instagram</td>\n",
       "      <td>Yes</td>\n",
       "      <td>4.0</td>\n",
       "      <td>5</td>\n",
       "      <td>...</td>\n",
       "      <td>9</td>\n",
       "      <td>0</td>\n",
       "      <td>1</td>\n",
       "      <td>2</td>\n",
       "      <td>0.9</td>\n",
       "      <td>1</td>\n",
       "      <td>0</td>\n",
       "      <td>1</td>\n",
       "      <td>1</td>\n",
       "      <td>0</td>\n",
       "    </tr>\n",
       "    <tr>\n",
       "      <th>486</th>\n",
       "      <td>487</td>\n",
       "      <td>20</td>\n",
       "      <td>Female</td>\n",
       "      <td>Undergraduate</td>\n",
       "      <td>USA</td>\n",
       "      <td>8.4</td>\n",
       "      <td>TikTok</td>\n",
       "      <td>Yes</td>\n",
       "      <td>3.9</td>\n",
       "      <td>5</td>\n",
       "      <td>...</td>\n",
       "      <td>9</td>\n",
       "      <td>0</td>\n",
       "      <td>6</td>\n",
       "      <td>2</td>\n",
       "      <td>0.9</td>\n",
       "      <td>1</td>\n",
       "      <td>0</td>\n",
       "      <td>1</td>\n",
       "      <td>1</td>\n",
       "      <td>0</td>\n",
       "    </tr>\n",
       "    <tr>\n",
       "      <th>496</th>\n",
       "      <td>497</td>\n",
       "      <td>19</td>\n",
       "      <td>Female</td>\n",
       "      <td>Undergraduate</td>\n",
       "      <td>USA</td>\n",
       "      <td>8.5</td>\n",
       "      <td>Instagram</td>\n",
       "      <td>Yes</td>\n",
       "      <td>3.8</td>\n",
       "      <td>5</td>\n",
       "      <td>...</td>\n",
       "      <td>9</td>\n",
       "      <td>0</td>\n",
       "      <td>1</td>\n",
       "      <td>2</td>\n",
       "      <td>0.9</td>\n",
       "      <td>1</td>\n",
       "      <td>0</td>\n",
       "      <td>1</td>\n",
       "      <td>1</td>\n",
       "      <td>0</td>\n",
       "    </tr>\n",
       "  </tbody>\n",
       "</table>\n",
       "<p>27 rows × 22 columns</p>\n",
       "</div>"
      ],
      "text/plain": [
       "     Student_ID  Age  Gender Academic_Level        Country  \\\n",
       "2             3   20  Female  Undergraduate            USA   \n",
       "13           14   18  Female    High School         Mexico   \n",
       "25           26   19  Female    High School        Ireland   \n",
       "37           38   19  Female    High School            UAE   \n",
       "49           50   19  Female    High School        Ecuador   \n",
       "79           80   18  Female    High School        Armenia   \n",
       "89           90   18  Female    High School  Liechtenstein   \n",
       "100         101   19    Male    High School        Lebanon   \n",
       "220         221   19  Female  Undergraduate            USA   \n",
       "326         327   20  Female  Undergraduate            USA   \n",
       "336         337   19  Female  Undergraduate            USA   \n",
       "346         347   20  Female  Undergraduate            USA   \n",
       "356         357   19  Female  Undergraduate            USA   \n",
       "366         367   20  Female  Undergraduate            USA   \n",
       "376         377   19  Female  Undergraduate            USA   \n",
       "386         387   20  Female  Undergraduate            USA   \n",
       "396         397   19  Female  Undergraduate            USA   \n",
       "406         407   20  Female  Undergraduate            USA   \n",
       "416         417   19  Female  Undergraduate            USA   \n",
       "426         427   20  Female  Undergraduate            USA   \n",
       "436         437   19  Female  Undergraduate            USA   \n",
       "446         447   20  Female  Undergraduate            USA   \n",
       "456         457   19  Female  Undergraduate            USA   \n",
       "466         467   20  Female  Undergraduate            USA   \n",
       "476         477   19  Female  Undergraduate            USA   \n",
       "486         487   20  Female  Undergraduate            USA   \n",
       "496         497   19  Female  Undergraduate            USA   \n",
       "\n",
       "     Avg_Daily_Usage_Hours Most_Used_Platform Affects_Academic_Performance  \\\n",
       "2                      6.0             TikTok                          Yes   \n",
       "13                     6.5          Instagram                          Yes   \n",
       "25                     6.1          Instagram                          Yes   \n",
       "37                     6.2          Instagram                          Yes   \n",
       "49                     6.3          Instagram                          Yes   \n",
       "79                     5.9          Instagram                          Yes   \n",
       "89                     5.8          Instagram                          Yes   \n",
       "100                    5.8            YouTube                          Yes   \n",
       "220                    6.5          Instagram                          Yes   \n",
       "326                    6.8             TikTok                          Yes   \n",
       "336                    6.9          Instagram                          Yes   \n",
       "346                    7.0             TikTok                          Yes   \n",
       "356                    7.1          Instagram                          Yes   \n",
       "366                    7.2             TikTok                          Yes   \n",
       "376                    7.3          Instagram                          Yes   \n",
       "386                    7.4             TikTok                          Yes   \n",
       "396                    7.5          Instagram                          Yes   \n",
       "406                    7.6             TikTok                          Yes   \n",
       "416                    7.7          Instagram                          Yes   \n",
       "426                    7.8             TikTok                          Yes   \n",
       "436                    7.9          Instagram                          Yes   \n",
       "446                    8.0             TikTok                          Yes   \n",
       "456                    8.1          Instagram                          Yes   \n",
       "466                    8.2             TikTok                          Yes   \n",
       "476                    8.3          Instagram                          Yes   \n",
       "486                    8.4             TikTok                          Yes   \n",
       "496                    8.5          Instagram                          Yes   \n",
       "\n",
       "     Sleep_Hours_Per_Night  Mental_Health_Score  ... Addicted_Score  \\\n",
       "2                      5.0                    5  ...              9   \n",
       "13                     5.5                    5  ...              9   \n",
       "25                     5.2                    5  ...              9   \n",
       "37                     5.1                    5  ...              9   \n",
       "49                     5.2                    5  ...              9   \n",
       "79                     5.2                    5  ...              9   \n",
       "89                     5.2                    5  ...              9   \n",
       "100                    5.2                    5  ...              9   \n",
       "220                    6.0                    5  ...              9   \n",
       "326                    5.5                    5  ...              9   \n",
       "336                    5.4                    5  ...              9   \n",
       "346                    5.3                    5  ...              9   \n",
       "356                    5.2                    5  ...              9   \n",
       "366                    5.1                    5  ...              9   \n",
       "376                    5.0                    5  ...              9   \n",
       "386                    4.9                    5  ...              9   \n",
       "396                    4.8                    5  ...              9   \n",
       "406                    4.7                    5  ...              9   \n",
       "416                    4.6                    5  ...              9   \n",
       "426                    4.5                    5  ...              9   \n",
       "436                    4.4                    5  ...              9   \n",
       "446                    4.3                    5  ...              9   \n",
       "456                    4.2                    5  ...              9   \n",
       "466                    4.1                    5  ...              9   \n",
       "476                    4.0                    5  ...              9   \n",
       "486                    3.9                    5  ...              9   \n",
       "496                    3.8                    5  ...              9   \n",
       "\n",
       "     Gender_Numeric  Most_Used_Platform_Numeric  Academic_Level_Numeric  \\\n",
       "2                 0                           6                       2   \n",
       "13                0                           1                       1   \n",
       "25                0                           1                       1   \n",
       "37                0                           1                       1   \n",
       "49                0                           1                       1   \n",
       "79                0                           1                       1   \n",
       "89                0                           1                       1   \n",
       "100               1                          11                       1   \n",
       "220               0                           1                       2   \n",
       "326               0                           6                       2   \n",
       "336               0                           1                       2   \n",
       "346               0                           6                       2   \n",
       "356               0                           1                       2   \n",
       "366               0                           6                       2   \n",
       "376               0                           1                       2   \n",
       "386               0                           6                       2   \n",
       "396               0                           1                       2   \n",
       "406               0                           6                       2   \n",
       "416               0                           1                       2   \n",
       "426               0                           6                       2   \n",
       "436               0                           1                       2   \n",
       "446               0                           6                       2   \n",
       "456               0                           1                       2   \n",
       "466               0                           6                       2   \n",
       "476               0                           1                       2   \n",
       "486               0                           6                       2   \n",
       "496               0                           1                       2   \n",
       "\n",
       "     Normalized_Addicted_Score  Relationship_Status_Numeric  Is_Graduate  \\\n",
       "2                          0.9                            0            0   \n",
       "13                         0.9                            2            0   \n",
       "25                         0.9                            0            0   \n",
       "37                         0.9                            1            0   \n",
       "49                         0.9                            0            0   \n",
       "79                         0.9                            0            0   \n",
       "89                         0.9                            2            0   \n",
       "100                        0.9                            0            0   \n",
       "220                        0.9                            2            0   \n",
       "326                        0.9                            1            0   \n",
       "336                        0.9                            1            0   \n",
       "346                        0.9                            1            0   \n",
       "356                        0.9                            1            0   \n",
       "366                        0.9                            1            0   \n",
       "376                        0.9                            1            0   \n",
       "386                        0.9                            1            0   \n",
       "396                        0.9                            1            0   \n",
       "406                        0.9                            1            0   \n",
       "416                        0.9                            1            0   \n",
       "426                        0.9                            1            0   \n",
       "436                        0.9                            1            0   \n",
       "446                        0.9                            1            0   \n",
       "456                        0.9                            1            0   \n",
       "466                        0.9                            1            0   \n",
       "476                        0.9                            1            0   \n",
       "486                        0.9                            1            0   \n",
       "496                        0.9                            1            0   \n",
       "\n",
       "     In_Relationship  Affects_Academic_Performance_Numeric  label  \n",
       "2                  0                                     1      0  \n",
       "13                 0                                     1      0  \n",
       "25                 0                                     1      0  \n",
       "37                 1                                     1      0  \n",
       "49                 0                                     1      0  \n",
       "79                 0                                     1      0  \n",
       "89                 0                                     1      0  \n",
       "100                0                                     1      0  \n",
       "220                0                                     1      0  \n",
       "326                1                                     1      0  \n",
       "336                1                                     1      0  \n",
       "346                1                                     1      0  \n",
       "356                1                                     1      0  \n",
       "366                1                                     1      0  \n",
       "376                1                                     1      0  \n",
       "386                1                                     1      0  \n",
       "396                1                                     1      0  \n",
       "406                1                                     1      0  \n",
       "416                1                                     1      0  \n",
       "426                1                                     1      0  \n",
       "436                1                                     1      0  \n",
       "446                1                                     1      0  \n",
       "456                1                                     1      0  \n",
       "466                1                                     1      0  \n",
       "476                1                                     1      0  \n",
       "486                1                                     1      0  \n",
       "496                1                                     1      0  \n",
       "\n",
       "[27 rows x 22 columns]"
      ]
     },
     "execution_count": 51,
     "metadata": {},
     "output_type": "execute_result"
    }
   ],
   "source": [
    "df[df[\"label\"] == 0]"
   ]
  },
  {
   "cell_type": "code",
   "execution_count": 52,
   "id": "a6b51847",
   "metadata": {
    "execution": {
     "iopub.status.busy": "2025-05-31T21:07:38.030119Z",
     "iopub.status.idle": "2025-05-31T21:07:38.030433Z",
     "shell.execute_reply": "2025-05-31T21:07:38.030295Z",
     "shell.execute_reply.started": "2025-05-31T21:07:38.030282Z"
    },
    "trusted": true
   },
   "outputs": [
    {
     "data": {
      "text/plain": [
       "Index(['Avg_Daily_Usage_Hours', 'Addicted_Score', 'Mental_Health_Score',\n",
       "       'Conflicts_Over_Social_Media', 'Affects_Academic_Performance_Numeric'],\n",
       "      dtype='object')"
      ]
     },
     "execution_count": 52,
     "metadata": {},
     "output_type": "execute_result"
    }
   ],
   "source": [
    "x.columns"
   ]
  },
  {
   "cell_type": "code",
   "execution_count": 53,
   "id": "49ef9566",
   "metadata": {
    "execution": {
     "iopub.status.busy": "2025-05-31T21:07:38.031765Z",
     "iopub.status.idle": "2025-05-31T21:07:38.032496Z",
     "shell.execute_reply": "2025-05-31T21:07:38.032171Z",
     "shell.execute_reply.started": "2025-05-31T21:07:38.032007Z"
    },
    "trusted": true
   },
   "outputs": [
    {
     "name": "stderr",
     "output_type": "stream",
     "text": [
      "/Library/Frameworks/Python.framework/Versions/3.11/lib/python3.11/site-packages/tqdm/auto.py:21: TqdmWarning:\n",
      "\n",
      "IProgress not found. Please update jupyter and ipywidgets. See https://ipywidgets.readthedocs.io/en/stable/user_install.html\n",
      "\n",
      "/Library/Frameworks/Python.framework/Versions/3.11/lib/python3.11/site-packages/sklearn/utils/deprecation.py:151: FutureWarning:\n",
      "\n",
      "'force_all_finite' was renamed to 'ensure_all_finite' in 1.6 and will be removed in 1.8.\n",
      "\n",
      "/Library/Frameworks/Python.framework/Versions/3.11/lib/python3.11/site-packages/umap/umap_.py:1952: UserWarning:\n",
      "\n",
      "n_jobs value 1 overridden to 1 by setting random_state. Use no seed for parallelism.\n",
      "\n"
     ]
    },
    {
     "data": {
      "image/png": "[encoded data removed]",
      "text/plain": [
       "<Figure size 1000x600 with 1 Axes>"
      ]
     },
     "metadata": {},
     "output_type": "display_data"
    }
   ],
   "source": [
    "import matplotlib.pyplot as plt\n",
    "import seaborn as sns\n",
    "import umap.umap_ as umap\n",
    "\n",
    "# Same as above\n",
    "X_umap = umap.UMAP(n_components=2, random_state=42).fit_transform(x)\n",
    "\n",
    "# Plot\n",
    "plt.figure(figsize=(10, 6))\n",
    "sns.scatterplot(x=X_umap[:, 0], y=X_umap[:, 1], hue=df[\"label\"], palette=\"tab10\")\n",
    "plt.title(\"UMAP Projection of Clusters\")\n",
    "plt.xlabel(\"UMAP1\")\n",
    "plt.ylabel(\"UMAP2\")\n",
    "plt.legend(title=\"Cluster\")\n",
    "plt.tight_layout()"
   ]
  },
  {
   "cell_type": "markdown",
   "id": "cd1c11d4",
   "metadata": {},
   "source": [
    "Looking at the first label found by unsupervised learning, it is visible that all students are female, except one. They are mostly undergraduates, however some of them are also in high school. Their ages range from 18 to 20. The majority of them use either Instagram or Tiktok. All of them have stated that their academic performance has suffered. Additionally, most of them get 3.8 to 6 hours of sleep per night. They all have an addiction score of 9.\n",
    "\n",
    " As there is a significant amount of labels, this study will not resume covering all of them."
   ]
  },
  {
   "cell_type": "code",
   "execution_count": 54,
   "id": "a67f660c",
   "metadata": {
    "execution": {
     "iopub.status.busy": "2025-05-31T21:07:38.036653Z",
     "iopub.status.idle": "2025-05-31T21:07:38.036965Z",
     "shell.execute_reply": "2025-05-31T21:07:38.036850Z",
     "shell.execute_reply.started": "2025-05-31T21:07:38.036837Z"
    },
    "trusted": true
   },
   "outputs": [
    {
     "data": {
      "application/vnd.microsoft.datawrangler.viewer.v0+json": {
       "columns": [
        {
         "name": "index",
         "rawType": "int64",
         "type": "integer"
        },
        {
         "name": "Student_ID",
         "rawType": "int64",
         "type": "integer"
        },
        {
         "name": "Age",
         "rawType": "int64",
         "type": "integer"
        },
        {
         "name": "Gender",
         "rawType": "object",
         "type": "string"
        },
        {
         "name": "Academic_Level",
         "rawType": "object",
         "type": "string"
        },
        {
         "name": "Country",
         "rawType": "object",
         "type": "string"
        },
        {
         "name": "Avg_Daily_Usage_Hours",
         "rawType": "float64",
         "type": "float"
        },
        {
         "name": "Most_Used_Platform",
         "rawType": "object",
         "type": "string"
        },
        {
         "name": "Affects_Academic_Performance",
         "rawType": "object",
         "type": "string"
        },
        {
         "name": "Sleep_Hours_Per_Night",
         "rawType": "float64",
         "type": "float"
        },
        {
         "name": "Mental_Health_Score",
         "rawType": "int64",
         "type": "integer"
        },
        {
         "name": "Relationship_Status",
         "rawType": "object",
         "type": "string"
        },
        {
         "name": "Conflicts_Over_Social_Media",
         "rawType": "int64",
         "type": "integer"
        },
        {
         "name": "Addicted_Score",
         "rawType": "int64",
         "type": "integer"
        },
        {
         "name": "Gender_Numeric",
         "rawType": "int64",
         "type": "integer"
        },
        {
         "name": "Most_Used_Platform_Numeric",
         "rawType": "int64",
         "type": "integer"
        },
        {
         "name": "Academic_Level_Numeric",
         "rawType": "int64",
         "type": "integer"
        },
        {
         "name": "Normalized_Addicted_Score",
         "rawType": "float64",
         "type": "float"
        },
        {
         "name": "Relationship_Status_Numeric",
         "rawType": "int64",
         "type": "integer"
        },
        {
         "name": "Is_Graduate",
         "rawType": "int64",
         "type": "integer"
        },
        {
         "name": "In_Relationship",
         "rawType": "int64",
         "type": "integer"
        },
        {
         "name": "Affects_Academic_Performance_Numeric",
         "rawType": "int64",
         "type": "integer"
        },
        {
         "name": "label",
         "rawType": "int64",
         "type": "integer"
        }
       ],
       "ref": "bea226e3-9895-4ff3-a858-f1fe00346080",
       "rows": [
        [
         "2",
         "3",
         "20",
         "Female",
         "Undergraduate",
         "USA",
         "6.0",
         "TikTok",
         "Yes",
         "5.0",
         "5",
         "Complicated",
         "4",
         "9",
         "0",
         "6",
         "2",
         "0.9",
         "0",
         "0",
         "0",
         "1",
         "0"
        ],
        [
         "13",
         "14",
         "18",
         "Female",
         "High School",
         "Mexico",
         "6.5",
         "Instagram",
         "Yes",
         "5.5",
         "5",
         "Single",
         "4",
         "9",
         "0",
         "1",
         "1",
         "0.9",
         "2",
         "0",
         "0",
         "1",
         "0"
        ],
        [
         "25",
         "26",
         "19",
         "Female",
         "High School",
         "Ireland",
         "6.1",
         "Instagram",
         "Yes",
         "5.2",
         "5",
         "Complicated",
         "4",
         "9",
         "0",
         "1",
         "1",
         "0.9",
         "0",
         "0",
         "0",
         "1",
         "0"
        ],
        [
         "37",
         "38",
         "19",
         "Female",
         "High School",
         "UAE",
         "6.2",
         "Instagram",
         "Yes",
         "5.1",
         "5",
         "In Relationship",
         "4",
         "9",
         "0",
         "1",
         "1",
         "0.9",
         "1",
         "0",
         "1",
         "1",
         "0"
        ],
        [
         "49",
         "50",
         "19",
         "Female",
         "High School",
         "Ecuador",
         "6.3",
         "Instagram",
         "Yes",
         "5.2",
         "5",
         "Complicated",
         "4",
         "9",
         "0",
         "1",
         "1",
         "0.9",
         "0",
         "0",
         "0",
         "1",
         "0"
        ],
        [
         "79",
         "80",
         "18",
         "Female",
         "High School",
         "Armenia",
         "5.9",
         "Instagram",
         "Yes",
         "5.2",
         "5",
         "Complicated",
         "4",
         "9",
         "0",
         "1",
         "1",
         "0.9",
         "0",
         "0",
         "0",
         "1",
         "0"
        ],
        [
         "89",
         "90",
         "18",
         "Female",
         "High School",
         "Liechtenstein",
         "5.8",
         "Instagram",
         "Yes",
         "5.2",
         "5",
         "Single",
         "4",
         "9",
         "0",
         "1",
         "1",
         "0.9",
         "2",
         "0",
         "0",
         "1",
         "0"
        ],
        [
         "100",
         "101",
         "19",
         "Male",
         "High School",
         "Lebanon",
         "5.8",
         "YouTube",
         "Yes",
         "5.2",
         "5",
         "Complicated",
         "4",
         "9",
         "1",
         "11",
         "1",
         "0.9",
         "0",
         "0",
         "0",
         "1",
         "0"
        ],
        [
         "220",
         "221",
         "19",
         "Female",
         "Undergraduate",
         "USA",
         "6.5",
         "Instagram",
         "Yes",
         "6.0",
         "5",
         "Single",
         "4",
         "9",
         "0",
         "1",
         "2",
         "0.9",
         "2",
         "0",
         "0",
         "1",
         "0"
        ],
        [
         "326",
         "327",
         "20",
         "Female",
         "Undergraduate",
         "USA",
         "6.8",
         "TikTok",
         "Yes",
         "5.5",
         "5",
         "In Relationship",
         "4",
         "9",
         "0",
         "6",
         "2",
         "0.9",
         "1",
         "0",
         "1",
         "1",
         "0"
        ],
        [
         "336",
         "337",
         "19",
         "Female",
         "Undergraduate",
         "USA",
         "6.9",
         "Instagram",
         "Yes",
         "5.4",
         "5",
         "In Relationship",
         "4",
         "9",
         "0",
         "1",
         "2",
         "0.9",
         "1",
         "0",
         "1",
         "1",
         "0"
        ],
        [
         "346",
         "347",
         "20",
         "Female",
         "Undergraduate",
         "USA",
         "7.0",
         "TikTok",
         "Yes",
         "5.3",
         "5",
         "In Relationship",
         "4",
         "9",
         "0",
         "6",
         "2",
         "0.9",
         "1",
         "0",
         "1",
         "1",
         "0"
        ],
        [
         "356",
         "357",
         "19",
         "Female",
         "Undergraduate",
         "USA",
         "7.1",
         "Instagram",
         "Yes",
         "5.2",
         "5",
         "In Relationship",
         "4",
         "9",
         "0",
         "1",
         "2",
         "0.9",
         "1",
         "0",
         "1",
         "1",
         "0"
        ],
        [
         "366",
         "367",
         "20",
         "Female",
         "Undergraduate",
         "USA",
         "7.2",
         "TikTok",
         "Yes",
         "5.1",
         "5",
         "In Relationship",
         "4",
         "9",
         "0",
         "6",
         "2",
         "0.9",
         "1",
         "0",
         "1",
         "1",
         "0"
        ],
        [
         "376",
         "377",
         "19",
         "Female",
         "Undergraduate",
         "USA",
         "7.3",
         "Instagram",
         "Yes",
         "5.0",
         "5",
         "In Relationship",
         "4",
         "9",
         "0",
         "1",
         "2",
         "0.9",
         "1",
         "0",
         "1",
         "1",
         "0"
        ],
        [
         "386",
         "387",
         "20",
         "Female",
         "Undergraduate",
         "USA",
         "7.4",
         "TikTok",
         "Yes",
         "4.9",
         "5",
         "In Relationship",
         "4",
         "9",
         "0",
         "6",
         "2",
         "0.9",
         "1",
         "0",
         "1",
         "1",
         "0"
        ],
        [
         "396",
         "397",
         "19",
         "Female",
         "Undergraduate",
         "USA",
         "7.5",
         "Instagram",
         "Yes",
         "4.8",
         "5",
         "In Relationship",
         "4",
         "9",
         "0",
         "1",
         "2",
         "0.9",
         "1",
         "0",
         "1",
         "1",
         "0"
        ],
        [
         "406",
         "407",
         "20",
         "Female",
         "Undergraduate",
         "USA",
         "7.6",
         "TikTok",
         "Yes",
         "4.7",
         "5",
         "In Relationship",
         "4",
         "9",
         "0",
         "6",
         "2",
         "0.9",
         "1",
         "0",
         "1",
         "1",
         "0"
        ],
        [
         "416",
         "417",
         "19",
         "Female",
         "Undergraduate",
         "USA",
         "7.7",
         "Instagram",
         "Yes",
         "4.6",
         "5",
         "In Relationship",
         "4",
         "9",
         "0",
         "1",
         "2",
         "0.9",
         "1",
         "0",
         "1",
         "1",
         "0"
        ],
        [
         "426",
         "427",
         "20",
         "Female",
         "Undergraduate",
         "USA",
         "7.8",
         "TikTok",
         "Yes",
         "4.5",
         "5",
         "In Relationship",
         "4",
         "9",
         "0",
         "6",
         "2",
         "0.9",
         "1",
         "0",
         "1",
         "1",
         "0"
        ],
        [
         "436",
         "437",
         "19",
         "Female",
         "Undergraduate",
         "USA",
         "7.9",
         "Instagram",
         "Yes",
         "4.4",
         "5",
         "In Relationship",
         "4",
         "9",
         "0",
         "1",
         "2",
         "0.9",
         "1",
         "0",
         "1",
         "1",
         "0"
        ],
        [
         "446",
         "447",
         "20",
         "Female",
         "Undergraduate",
         "USA",
         "8.0",
         "TikTok",
         "Yes",
         "4.3",
         "5",
         "In Relationship",
         "4",
         "9",
         "0",
         "6",
         "2",
         "0.9",
         "1",
         "0",
         "1",
         "1",
         "0"
        ],
        [
         "456",
         "457",
         "19",
         "Female",
         "Undergraduate",
         "USA",
         "8.1",
         "Instagram",
         "Yes",
         "4.2",
         "5",
         "In Relationship",
         "4",
         "9",
         "0",
         "1",
         "2",
         "0.9",
         "1",
         "0",
         "1",
         "1",
         "0"
        ],
        [
         "466",
         "467",
         "20",
         "Female",
         "Undergraduate",
         "USA",
         "8.2",
         "TikTok",
         "Yes",
         "4.1",
         "5",
         "In Relationship",
         "4",
         "9",
         "0",
         "6",
         "2",
         "0.9",
         "1",
         "0",
         "1",
         "1",
         "0"
        ],
        [
         "476",
         "477",
         "19",
         "Female",
         "Undergraduate",
         "USA",
         "8.3",
         "Instagram",
         "Yes",
         "4.0",
         "5",
         "In Relationship",
         "4",
         "9",
         "0",
         "1",
         "2",
         "0.9",
         "1",
         "0",
         "1",
         "1",
         "0"
        ],
        [
         "486",
         "487",
         "20",
         "Female",
         "Undergraduate",
         "USA",
         "8.4",
         "TikTok",
         "Yes",
         "3.9",
         "5",
         "In Relationship",
         "4",
         "9",
         "0",
         "6",
         "2",
         "0.9",
         "1",
         "0",
         "1",
         "1",
         "0"
        ],
        [
         "496",
         "497",
         "19",
         "Female",
         "Undergraduate",
         "USA",
         "8.5",
         "Instagram",
         "Yes",
         "3.8",
         "5",
         "In Relationship",
         "4",
         "9",
         "0",
         "1",
         "2",
         "0.9",
         "1",
         "0",
         "1",
         "1",
         "0"
        ]
       ],
       "shape": {
        "columns": 22,
        "rows": 27
       }
      },
      "text/html": [
       "<div>\n",
       "<style scoped>\n",
       "    .dataframe tbody tr th:only-of-type {\n",
       "        vertical-align: middle;\n",
       "    }\n",
       "\n",
       "    .dataframe tbody tr th {\n",
       "        vertical-align: top;\n",
       "    }\n",
       "\n",
       "    .dataframe thead th {\n",
       "        text-align: right;\n",
       "    }\n",
       "</style>\n",
       "<table border=\"1\" class=\"dataframe\">\n",
       "  <thead>\n",
       "    <tr style=\"text-align: right;\">\n",
       "      <th></th>\n",
       "      <th>Student_ID</th>\n",
       "      <th>Age</th>\n",
       "      <th>Gender</th>\n",
       "      <th>Academic_Level</th>\n",
       "      <th>Country</th>\n",
       "      <th>Avg_Daily_Usage_Hours</th>\n",
       "      <th>Most_Used_Platform</th>\n",
       "      <th>Affects_Academic_Performance</th>\n",
       "      <th>Sleep_Hours_Per_Night</th>\n",
       "      <th>Mental_Health_Score</th>\n",
       "      <th>...</th>\n",
       "      <th>Addicted_Score</th>\n",
       "      <th>Gender_Numeric</th>\n",
       "      <th>Most_Used_Platform_Numeric</th>\n",
       "      <th>Academic_Level_Numeric</th>\n",
       "      <th>Normalized_Addicted_Score</th>\n",
       "      <th>Relationship_Status_Numeric</th>\n",
       "      <th>Is_Graduate</th>\n",
       "      <th>In_Relationship</th>\n",
       "      <th>Affects_Academic_Performance_Numeric</th>\n",
       "      <th>label</th>\n",
       "    </tr>\n",
       "  </thead>\n",
       "  <tbody>\n",
       "    <tr>\n",
       "      <th>2</th>\n",
       "      <td>3</td>\n",
       "      <td>20</td>\n",
       "      <td>Female</td>\n",
       "      <td>Undergraduate</td>\n",
       "      <td>USA</td>\n",
       "      <td>6.0</td>\n",
       "      <td>TikTok</td>\n",
       "      <td>Yes</td>\n",
       "      <td>5.0</td>\n",
       "      <td>5</td>\n",
       "      <td>...</td>\n",
       "      <td>9</td>\n",
       "      <td>0</td>\n",
       "      <td>6</td>\n",
       "      <td>2</td>\n",
       "      <td>0.9</td>\n",
       "      <td>0</td>\n",
       "      <td>0</td>\n",
       "      <td>0</td>\n",
       "      <td>1</td>\n",
       "      <td>0</td>\n",
       "    </tr>\n",
       "    <tr>\n",
       "      <th>13</th>\n",
       "      <td>14</td>\n",
       "      <td>18</td>\n",
       "      <td>Female</td>\n",
       "      <td>High School</td>\n",
       "      <td>Mexico</td>\n",
       "      <td>6.5</td>\n",
       "      <td>Instagram</td>\n",
       "      <td>Yes</td>\n",
       "      <td>5.5</td>\n",
       "      <td>5</td>\n",
       "      <td>...</td>\n",
       "      <td>9</td>\n",
       "      <td>0</td>\n",
       "      <td>1</td>\n",
       "      <td>1</td>\n",
       "      <td>0.9</td>\n",
       "      <td>2</td>\n",
       "      <td>0</td>\n",
       "      <td>0</td>\n",
       "      <td>1</td>\n",
       "      <td>0</td>\n",
       "    </tr>\n",
       "    <tr>\n",
       "      <th>25</th>\n",
       "      <td>26</td>\n",
       "      <td>19</td>\n",
       "      <td>Female</td>\n",
       "      <td>High School</td>\n",
       "      <td>Ireland</td>\n",
       "      <td>6.1</td>\n",
       "      <td>Instagram</td>\n",
       "      <td>Yes</td>\n",
       "      <td>5.2</td>\n",
       "      <td>5</td>\n",
       "      <td>...</td>\n",
       "      <td>9</td>\n",
       "      <td>0</td>\n",
       "      <td>1</td>\n",
       "      <td>1</td>\n",
       "      <td>0.9</td>\n",
       "      <td>0</td>\n",
       "      <td>0</td>\n",
       "      <td>0</td>\n",
       "      <td>1</td>\n",
       "      <td>0</td>\n",
       "    </tr>\n",
       "    <tr>\n",
       "      <th>37</th>\n",
       "      <td>38</td>\n",
       "      <td>19</td>\n",
       "      <td>Female</td>\n",
       "      <td>High School</td>\n",
       "      <td>UAE</td>\n",
       "      <td>6.2</td>\n",
       "      <td>Instagram</td>\n",
       "      <td>Yes</td>\n",
       "      <td>5.1</td>\n",
       "      <td>5</td>\n",
       "      <td>...</td>\n",
       "      <td>9</td>\n",
       "      <td>0</td>\n",
       "      <td>1</td>\n",
       "      <td>1</td>\n",
       "      <td>0.9</td>\n",
       "      <td>1</td>\n",
       "      <td>0</td>\n",
       "      <td>1</td>\n",
       "      <td>1</td>\n",
       "      <td>0</td>\n",
       "    </tr>\n",
       "    <tr>\n",
       "      <th>49</th>\n",
       "      <td>50</td>\n",
       "      <td>19</td>\n",
       "      <td>Female</td>\n",
       "      <td>High School</td>\n",
       "      <td>Ecuador</td>\n",
       "      <td>6.3</td>\n",
       "      <td>Instagram</td>\n",
       "      <td>Yes</td>\n",
       "      <td>5.2</td>\n",
       "      <td>5</td>\n",
       "      <td>...</td>\n",
       "      <td>9</td>\n",
       "      <td>0</td>\n",
       "      <td>1</td>\n",
       "      <td>1</td>\n",
       "      <td>0.9</td>\n",
       "      <td>0</td>\n",
       "      <td>0</td>\n",
       "      <td>0</td>\n",
       "      <td>1</td>\n",
       "      <td>0</td>\n",
       "    </tr>\n",
       "    <tr>\n",
       "      <th>79</th>\n",
       "      <td>80</td>\n",
       "      <td>18</td>\n",
       "      <td>Female</td>\n",
       "      <td>High School</td>\n",
       "      <td>Armenia</td>\n",
       "      <td>5.9</td>\n",
       "      <td>Instagram</td>\n",
       "      <td>Yes</td>\n",
       "      <td>5.2</td>\n",
       "      <td>5</td>\n",
       "      <td>...</td>\n",
       "      <td>9</td>\n",
       "      <td>0</td>\n",
       "      <td>1</td>\n",
       "      <td>1</td>\n",
       "      <td>0.9</td>\n",
       "      <td>0</td>\n",
       "      <td>0</td>\n",
       "      <td>0</td>\n",
       "      <td>1</td>\n",
       "      <td>0</td>\n",
       "    </tr>\n",
       "    <tr>\n",
       "      <th>89</th>\n",
       "      <td>90</td>\n",
       "      <td>18</td>\n",
       "      <td>Female</td>\n",
       "      <td>High School</td>\n",
       "      <td>Liechtenstein</td>\n",
       "      <td>5.8</td>\n",
       "      <td>Instagram</td>\n",
       "      <td>Yes</td>\n",
       "      <td>5.2</td>\n",
       "      <td>5</td>\n",
       "      <td>...</td>\n",
       "      <td>9</td>\n",
       "      <td>0</td>\n",
       "      <td>1</td>\n",
       "      <td>1</td>\n",
       "      <td>0.9</td>\n",
       "      <td>2</td>\n",
       "      <td>0</td>\n",
       "      <td>0</td>\n",
       "      <td>1</td>\n",
       "      <td>0</td>\n",
       "    </tr>\n",
       "    <tr>\n",
       "      <th>100</th>\n",
       "      <td>101</td>\n",
       "      <td>19</td>\n",
       "      <td>Male</td>\n",
       "      <td>High School</td>\n",
       "      <td>Lebanon</td>\n",
       "      <td>5.8</td>\n",
       "      <td>YouTube</td>\n",
       "      <td>Yes</td>\n",
       "      <td>5.2</td>\n",
       "      <td>5</td>\n",
       "      <td>...</td>\n",
       "      <td>9</td>\n",
       "      <td>1</td>\n",
       "      <td>11</td>\n",
       "      <td>1</td>\n",
       "      <td>0.9</td>\n",
       "      <td>0</td>\n",
       "      <td>0</td>\n",
       "      <td>0</td>\n",
       "      <td>1</td>\n",
       "      <td>0</td>\n",
       "    </tr>\n",
       "    <tr>\n",
       "      <th>220</th>\n",
       "      <td>221</td>\n",
       "      <td>19</td>\n",
       "      <td>Female</td>\n",
       "      <td>Undergraduate</td>\n",
       "      <td>USA</td>\n",
       "      <td>6.5</td>\n",
       "      <td>Instagram</td>\n",
       "      <td>Yes</td>\n",
       "      <td>6.0</td>\n",
       "      <td>5</td>\n",
       "      <td>...</td>\n",
       "      <td>9</td>\n",
       "      <td>0</td>\n",
       "      <td>1</td>\n",
       "      <td>2</td>\n",
       "      <td>0.9</td>\n",
       "      <td>2</td>\n",
       "      <td>0</td>\n",
       "      <td>0</td>\n",
       "      <td>1</td>\n",
       "      <td>0</td>\n",
       "    </tr>\n",
       "    <tr>\n",
       "      <th>326</th>\n",
       "      <td>327</td>\n",
       "      <td>20</td>\n",
       "      <td>Female</td>\n",
       "      <td>Undergraduate</td>\n",
       "      <td>USA</td>\n",
       "      <td>6.8</td>\n",
       "      <td>TikTok</td>\n",
       "      <td>Yes</td>\n",
       "      <td>5.5</td>\n",
       "      <td>5</td>\n",
       "      <td>...</td>\n",
       "      <td>9</td>\n",
       "      <td>0</td>\n",
       "      <td>6</td>\n",
       "      <td>2</td>\n",
       "      <td>0.9</td>\n",
       "      <td>1</td>\n",
       "      <td>0</td>\n",
       "      <td>1</td>\n",
       "      <td>1</td>\n",
       "      <td>0</td>\n",
       "    </tr>\n",
       "    <tr>\n",
       "      <th>336</th>\n",
       "      <td>337</td>\n",
       "      <td>19</td>\n",
       "      <td>Female</td>\n",
       "      <td>Undergraduate</td>\n",
       "      <td>USA</td>\n",
       "      <td>6.9</td>\n",
       "      <td>Instagram</td>\n",
       "      <td>Yes</td>\n",
       "      <td>5.4</td>\n",
       "      <td>5</td>\n",
       "      <td>...</td>\n",
       "      <td>9</td>\n",
       "      <td>0</td>\n",
       "      <td>1</td>\n",
       "      <td>2</td>\n",
       "      <td>0.9</td>\n",
       "      <td>1</td>\n",
       "      <td>0</td>\n",
       "      <td>1</td>\n",
       "      <td>1</td>\n",
       "      <td>0</td>\n",
       "    </tr>\n",
       "    <tr>\n",
       "      <th>346</th>\n",
       "      <td>347</td>\n",
       "      <td>20</td>\n",
       "      <td>Female</td>\n",
       "      <td>Undergraduate</td>\n",
       "      <td>USA</td>\n",
       "      <td>7.0</td>\n",
       "      <td>TikTok</td>\n",
       "      <td>Yes</td>\n",
       "      <td>5.3</td>\n",
       "      <td>5</td>\n",
       "      <td>...</td>\n",
       "      <td>9</td>\n",
       "      <td>0</td>\n",
       "      <td>6</td>\n",
       "      <td>2</td>\n",
       "      <td>0.9</td>\n",
       "      <td>1</td>\n",
       "      <td>0</td>\n",
       "      <td>1</td>\n",
       "      <td>1</td>\n",
       "      <td>0</td>\n",
       "    </tr>\n",
       "    <tr>\n",
       "      <th>356</th>\n",
       "      <td>357</td>\n",
       "      <td>19</td>\n",
       "      <td>Female</td>\n",
       "      <td>Undergraduate</td>\n",
       "      <td>USA</td>\n",
       "      <td>7.1</td>\n",
       "      <td>Instagram</td>\n",
       "      <td>Yes</td>\n",
       "      <td>5.2</td>\n",
       "      <td>5</td>\n",
       "      <td>...</td>\n",
       "      <td>9</td>\n",
       "      <td>0</td>\n",
       "      <td>1</td>\n",
       "      <td>2</td>\n",
       "      <td>0.9</td>\n",
       "      <td>1</td>\n",
       "      <td>0</td>\n",
       "      <td>1</td>\n",
       "      <td>1</td>\n",
       "      <td>0</td>\n",
       "    </tr>\n",
       "    <tr>\n",
       "      <th>366</th>\n",
       "      <td>367</td>\n",
       "      <td>20</td>\n",
       "      <td>Female</td>\n",
       "      <td>Undergraduate</td>\n",
       "      <td>USA</td>\n",
       "      <td>7.2</td>\n",
       "      <td>TikTok</td>\n",
       "      <td>Yes</td>\n",
       "      <td>5.1</td>\n",
       "      <td>5</td>\n",
       "      <td>...</td>\n",
       "      <td>9</td>\n",
       "      <td>0</td>\n",
       "      <td>6</td>\n",
       "      <td>2</td>\n",
       "      <td>0.9</td>\n",
       "      <td>1</td>\n",
       "      <td>0</td>\n",
       "      <td>1</td>\n",
       "      <td>1</td>\n",
       "      <td>0</td>\n",
       "    </tr>\n",
       "    <tr>\n",
       "      <th>376</th>\n",
       "      <td>377</td>\n",
       "      <td>19</td>\n",
       "      <td>Female</td>\n",
       "      <td>Undergraduate</td>\n",
       "      <td>USA</td>\n",
       "      <td>7.3</td>\n",
       "      <td>Instagram</td>\n",
       "      <td>Yes</td>\n",
       "      <td>5.0</td>\n",
       "      <td>5</td>\n",
       "      <td>...</td>\n",
       "      <td>9</td>\n",
       "      <td>0</td>\n",
       "      <td>1</td>\n",
       "      <td>2</td>\n",
       "      <td>0.9</td>\n",
       "      <td>1</td>\n",
       "      <td>0</td>\n",
       "      <td>1</td>\n",
       "      <td>1</td>\n",
       "      <td>0</td>\n",
       "    </tr>\n",
       "    <tr>\n",
       "      <th>386</th>\n",
       "      <td>387</td>\n",
       "      <td>20</td>\n",
       "      <td>Female</td>\n",
       "      <td>Undergraduate</td>\n",
       "      <td>USA</td>\n",
       "      <td>7.4</td>\n",
       "      <td>TikTok</td>\n",
       "      <td>Yes</td>\n",
       "      <td>4.9</td>\n",
       "      <td>5</td>\n",
       "      <td>...</td>\n",
       "      <td>9</td>\n",
       "      <td>0</td>\n",
       "      <td>6</td>\n",
       "      <td>2</td>\n",
       "      <td>0.9</td>\n",
       "      <td>1</td>\n",
       "      <td>0</td>\n",
       "      <td>1</td>\n",
       "      <td>1</td>\n",
       "      <td>0</td>\n",
       "    </tr>\n",
       "    <tr>\n",
       "      <th>396</th>\n",
       "      <td>397</td>\n",
       "      <td>19</td>\n",
       "      <td>Female</td>\n",
       "      <td>Undergraduate</td>\n",
       "      <td>USA</td>\n",
       "      <td>7.5</td>\n",
       "      <td>Instagram</td>\n",
       "      <td>Yes</td>\n",
       "      <td>4.8</td>\n",
       "      <td>5</td>\n",
       "      <td>...</td>\n",
       "      <td>9</td>\n",
       "      <td>0</td>\n",
       "      <td>1</td>\n",
       "      <td>2</td>\n",
       "      <td>0.9</td>\n",
       "      <td>1</td>\n",
       "      <td>0</td>\n",
       "      <td>1</td>\n",
       "      <td>1</td>\n",
       "      <td>0</td>\n",
       "    </tr>\n",
       "    <tr>\n",
       "      <th>406</th>\n",
       "      <td>407</td>\n",
       "      <td>20</td>\n",
       "      <td>Female</td>\n",
       "      <td>Undergraduate</td>\n",
       "      <td>USA</td>\n",
       "      <td>7.6</td>\n",
       "      <td>TikTok</td>\n",
       "      <td>Yes</td>\n",
       "      <td>4.7</td>\n",
       "      <td>5</td>\n",
       "      <td>...</td>\n",
       "      <td>9</td>\n",
       "      <td>0</td>\n",
       "      <td>6</td>\n",
       "      <td>2</td>\n",
       "      <td>0.9</td>\n",
       "      <td>1</td>\n",
       "      <td>0</td>\n",
       "      <td>1</td>\n",
       "      <td>1</td>\n",
       "      <td>0</td>\n",
       "    </tr>\n",
       "    <tr>\n",
       "      <th>416</th>\n",
       "      <td>417</td>\n",
       "      <td>19</td>\n",
       "      <td>Female</td>\n",
       "      <td>Undergraduate</td>\n",
       "      <td>USA</td>\n",
       "      <td>7.7</td>\n",
       "      <td>Instagram</td>\n",
       "      <td>Yes</td>\n",
       "      <td>4.6</td>\n",
       "      <td>5</td>\n",
       "      <td>...</td>\n",
       "      <td>9</td>\n",
       "      <td>0</td>\n",
       "      <td>1</td>\n",
       "      <td>2</td>\n",
       "      <td>0.9</td>\n",
       "      <td>1</td>\n",
       "      <td>0</td>\n",
       "      <td>1</td>\n",
       "      <td>1</td>\n",
       "      <td>0</td>\n",
       "    </tr>\n",
       "    <tr>\n",
       "      <th>426</th>\n",
       "      <td>427</td>\n",
       "      <td>20</td>\n",
       "      <td>Female</td>\n",
       "      <td>Undergraduate</td>\n",
       "      <td>USA</td>\n",
       "      <td>7.8</td>\n",
       "      <td>TikTok</td>\n",
       "      <td>Yes</td>\n",
       "      <td>4.5</td>\n",
       "      <td>5</td>\n",
       "      <td>...</td>\n",
       "      <td>9</td>\n",
       "      <td>0</td>\n",
       "      <td>6</td>\n",
       "      <td>2</td>\n",
       "      <td>0.9</td>\n",
       "      <td>1</td>\n",
       "      <td>0</td>\n",
       "      <td>1</td>\n",
       "      <td>1</td>\n",
       "      <td>0</td>\n",
       "    </tr>\n",
       "    <tr>\n",
       "      <th>436</th>\n",
       "      <td>437</td>\n",
       "      <td>19</td>\n",
       "      <td>Female</td>\n",
       "      <td>Undergraduate</td>\n",
       "      <td>USA</td>\n",
       "      <td>7.9</td>\n",
       "      <td>Instagram</td>\n",
       "      <td>Yes</td>\n",
       "      <td>4.4</td>\n",
       "      <td>5</td>\n",
       "      <td>...</td>\n",
       "      <td>9</td>\n",
       "      <td>0</td>\n",
       "      <td>1</td>\n",
       "      <td>2</td>\n",
       "      <td>0.9</td>\n",
       "      <td>1</td>\n",
       "      <td>0</td>\n",
       "      <td>1</td>\n",
       "      <td>1</td>\n",
       "      <td>0</td>\n",
       "    </tr>\n",
       "    <tr>\n",
       "      <th>446</th>\n",
       "      <td>447</td>\n",
       "      <td>20</td>\n",
       "      <td>Female</td>\n",
       "      <td>Undergraduate</td>\n",
       "      <td>USA</td>\n",
       "      <td>8.0</td>\n",
       "      <td>TikTok</td>\n",
       "      <td>Yes</td>\n",
       "      <td>4.3</td>\n",
       "      <td>5</td>\n",
       "      <td>...</td>\n",
       "      <td>9</td>\n",
       "      <td>0</td>\n",
       "      <td>6</td>\n",
       "      <td>2</td>\n",
       "      <td>0.9</td>\n",
       "      <td>1</td>\n",
       "      <td>0</td>\n",
       "      <td>1</td>\n",
       "      <td>1</td>\n",
       "      <td>0</td>\n",
       "    </tr>\n",
       "    <tr>\n",
       "      <th>456</th>\n",
       "      <td>457</td>\n",
       "      <td>19</td>\n",
       "      <td>Female</td>\n",
       "      <td>Undergraduate</td>\n",
       "      <td>USA</td>\n",
       "      <td>8.1</td>\n",
       "      <td>Instagram</td>\n",
       "      <td>Yes</td>\n",
       "      <td>4.2</td>\n",
       "      <td>5</td>\n",
       "      <td>...</td>\n",
       "      <td>9</td>\n",
       "      <td>0</td>\n",
       "      <td>1</td>\n",
       "      <td>2</td>\n",
       "      <td>0.9</td>\n",
       "      <td>1</td>\n",
       "      <td>0</td>\n",
       "      <td>1</td>\n",
       "      <td>1</td>\n",
       "      <td>0</td>\n",
       "    </tr>\n",
       "    <tr>\n",
       "      <th>466</th>\n",
       "      <td>467</td>\n",
       "      <td>20</td>\n",
       "      <td>Female</td>\n",
       "      <td>Undergraduate</td>\n",
       "      <td>USA</td>\n",
       "      <td>8.2</td>\n",
       "      <td>TikTok</td>\n",
       "      <td>Yes</td>\n",
       "      <td>4.1</td>\n",
       "      <td>5</td>\n",
       "      <td>...</td>\n",
       "      <td>9</td>\n",
       "      <td>0</td>\n",
       "      <td>6</td>\n",
       "      <td>2</td>\n",
       "      <td>0.9</td>\n",
       "      <td>1</td>\n",
       "      <td>0</td>\n",
       "      <td>1</td>\n",
       "      <td>1</td>\n",
       "      <td>0</td>\n",
       "    </tr>\n",
       "    <tr>\n",
       "      <th>476</th>\n",
       "      <td>477</td>\n",
       "      <td>19</td>\n",
       "      <td>Female</td>\n",
       "      <td>Undergraduate</td>\n",
       "      <td>USA</td>\n",
       "      <td>8.3</td>\n",
       "      <td>Instagram</td>\n",
       "      <td>Yes</td>\n",
       "      <td>4.0</td>\n",
       "      <td>5</td>\n",
       "      <td>...</td>\n",
       "      <td>9</td>\n",
       "      <td>0</td>\n",
       "      <td>1</td>\n",
       "      <td>2</td>\n",
       "      <td>0.9</td>\n",
       "      <td>1</td>\n",
       "      <td>0</td>\n",
       "      <td>1</td>\n",
       "      <td>1</td>\n",
       "      <td>0</td>\n",
       "    </tr>\n",
       "    <tr>\n",
       "      <th>486</th>\n",
       "      <td>487</td>\n",
       "      <td>20</td>\n",
       "      <td>Female</td>\n",
       "      <td>Undergraduate</td>\n",
       "      <td>USA</td>\n",
       "      <td>8.4</td>\n",
       "      <td>TikTok</td>\n",
       "      <td>Yes</td>\n",
       "      <td>3.9</td>\n",
       "      <td>5</td>\n",
       "      <td>...</td>\n",
       "      <td>9</td>\n",
       "      <td>0</td>\n",
       "      <td>6</td>\n",
       "      <td>2</td>\n",
       "      <td>0.9</td>\n",
       "      <td>1</td>\n",
       "      <td>0</td>\n",
       "      <td>1</td>\n",
       "      <td>1</td>\n",
       "      <td>0</td>\n",
       "    </tr>\n",
       "    <tr>\n",
       "      <th>496</th>\n",
       "      <td>497</td>\n",
       "      <td>19</td>\n",
       "      <td>Female</td>\n",
       "      <td>Undergraduate</td>\n",
       "      <td>USA</td>\n",
       "      <td>8.5</td>\n",
       "      <td>Instagram</td>\n",
       "      <td>Yes</td>\n",
       "      <td>3.8</td>\n",
       "      <td>5</td>\n",
       "      <td>...</td>\n",
       "      <td>9</td>\n",
       "      <td>0</td>\n",
       "      <td>1</td>\n",
       "      <td>2</td>\n",
       "      <td>0.9</td>\n",
       "      <td>1</td>\n",
       "      <td>0</td>\n",
       "      <td>1</td>\n",
       "      <td>1</td>\n",
       "      <td>0</td>\n",
       "    </tr>\n",
       "  </tbody>\n",
       "</table>\n",
       "<p>27 rows × 22 columns</p>\n",
       "</div>"
      ],
      "text/plain": [
       "     Student_ID  Age  Gender Academic_Level        Country  \\\n",
       "2             3   20  Female  Undergraduate            USA   \n",
       "13           14   18  Female    High School         Mexico   \n",
       "25           26   19  Female    High School        Ireland   \n",
       "37           38   19  Female    High School            UAE   \n",
       "49           50   19  Female    High School        Ecuador   \n",
       "79           80   18  Female    High School        Armenia   \n",
       "89           90   18  Female    High School  Liechtenstein   \n",
       "100         101   19    Male    High School        Lebanon   \n",
       "220         221   19  Female  Undergraduate            USA   \n",
       "326         327   20  Female  Undergraduate            USA   \n",
       "336         337   19  Female  Undergraduate            USA   \n",
       "346         347   20  Female  Undergraduate            USA   \n",
       "356         357   19  Female  Undergraduate            USA   \n",
       "366         367   20  Female  Undergraduate            USA   \n",
       "376         377   19  Female  Undergraduate            USA   \n",
       "386         387   20  Female  Undergraduate            USA   \n",
       "396         397   19  Female  Undergraduate            USA   \n",
       "406         407   20  Female  Undergraduate            USA   \n",
       "416         417   19  Female  Undergraduate            USA   \n",
       "426         427   20  Female  Undergraduate            USA   \n",
       "436         437   19  Female  Undergraduate            USA   \n",
       "446         447   20  Female  Undergraduate            USA   \n",
       "456         457   19  Female  Undergraduate            USA   \n",
       "466         467   20  Female  Undergraduate            USA   \n",
       "476         477   19  Female  Undergraduate            USA   \n",
       "486         487   20  Female  Undergraduate            USA   \n",
       "496         497   19  Female  Undergraduate            USA   \n",
       "\n",
       "     Avg_Daily_Usage_Hours Most_Used_Platform Affects_Academic_Performance  \\\n",
       "2                      6.0             TikTok                          Yes   \n",
       "13                     6.5          Instagram                          Yes   \n",
       "25                     6.1          Instagram                          Yes   \n",
       "37                     6.2          Instagram                          Yes   \n",
       "49                     6.3          Instagram                          Yes   \n",
       "79                     5.9          Instagram                          Yes   \n",
       "89                     5.8          Instagram                          Yes   \n",
       "100                    5.8            YouTube                          Yes   \n",
       "220                    6.5          Instagram                          Yes   \n",
       "326                    6.8             TikTok                          Yes   \n",
       "336                    6.9          Instagram                          Yes   \n",
       "346                    7.0             TikTok                          Yes   \n",
       "356                    7.1          Instagram                          Yes   \n",
       "366                    7.2             TikTok                          Yes   \n",
       "376                    7.3          Instagram                          Yes   \n",
       "386                    7.4             TikTok                          Yes   \n",
       "396                    7.5          Instagram                          Yes   \n",
       "406                    7.6             TikTok                          Yes   \n",
       "416                    7.7          Instagram                          Yes   \n",
       "426                    7.8             TikTok                          Yes   \n",
       "436                    7.9          Instagram                          Yes   \n",
       "446                    8.0             TikTok                          Yes   \n",
       "456                    8.1          Instagram                          Yes   \n",
       "466                    8.2             TikTok                          Yes   \n",
       "476                    8.3          Instagram                          Yes   \n",
       "486                    8.4             TikTok                          Yes   \n",
       "496                    8.5          Instagram                          Yes   \n",
       "\n",
       "     Sleep_Hours_Per_Night  Mental_Health_Score  ... Addicted_Score  \\\n",
       "2                      5.0                    5  ...              9   \n",
       "13                     5.5                    5  ...              9   \n",
       "25                     5.2                    5  ...              9   \n",
       "37                     5.1                    5  ...              9   \n",
       "49                     5.2                    5  ...              9   \n",
       "79                     5.2                    5  ...              9   \n",
       "89                     5.2                    5  ...              9   \n",
       "100                    5.2                    5  ...              9   \n",
       "220                    6.0                    5  ...              9   \n",
       "326                    5.5                    5  ...              9   \n",
       "336                    5.4                    5  ...              9   \n",
       "346                    5.3                    5  ...              9   \n",
       "356                    5.2                    5  ...              9   \n",
       "366                    5.1                    5  ...              9   \n",
       "376                    5.0                    5  ...              9   \n",
       "386                    4.9                    5  ...              9   \n",
       "396                    4.8                    5  ...              9   \n",
       "406                    4.7                    5  ...              9   \n",
       "416                    4.6                    5  ...              9   \n",
       "426                    4.5                    5  ...              9   \n",
       "436                    4.4                    5  ...              9   \n",
       "446                    4.3                    5  ...              9   \n",
       "456                    4.2                    5  ...              9   \n",
       "466                    4.1                    5  ...              9   \n",
       "476                    4.0                    5  ...              9   \n",
       "486                    3.9                    5  ...              9   \n",
       "496                    3.8                    5  ...              9   \n",
       "\n",
       "     Gender_Numeric  Most_Used_Platform_Numeric  Academic_Level_Numeric  \\\n",
       "2                 0                           6                       2   \n",
       "13                0                           1                       1   \n",
       "25                0                           1                       1   \n",
       "37                0                           1                       1   \n",
       "49                0                           1                       1   \n",
       "79                0                           1                       1   \n",
       "89                0                           1                       1   \n",
       "100               1                          11                       1   \n",
       "220               0                           1                       2   \n",
       "326               0                           6                       2   \n",
       "336               0                           1                       2   \n",
       "346               0                           6                       2   \n",
       "356               0                           1                       2   \n",
       "366               0                           6                       2   \n",
       "376               0                           1                       2   \n",
       "386               0                           6                       2   \n",
       "396               0                           1                       2   \n",
       "406               0                           6                       2   \n",
       "416               0                           1                       2   \n",
       "426               0                           6                       2   \n",
       "436               0                           1                       2   \n",
       "446               0                           6                       2   \n",
       "456               0                           1                       2   \n",
       "466               0                           6                       2   \n",
       "476               0                           1                       2   \n",
       "486               0                           6                       2   \n",
       "496               0                           1                       2   \n",
       "\n",
       "     Normalized_Addicted_Score  Relationship_Status_Numeric  Is_Graduate  \\\n",
       "2                          0.9                            0            0   \n",
       "13                         0.9                            2            0   \n",
       "25                         0.9                            0            0   \n",
       "37                         0.9                            1            0   \n",
       "49                         0.9                            0            0   \n",
       "79                         0.9                            0            0   \n",
       "89                         0.9                            2            0   \n",
       "100                        0.9                            0            0   \n",
       "220                        0.9                            2            0   \n",
       "326                        0.9                            1            0   \n",
       "336                        0.9                            1            0   \n",
       "346                        0.9                            1            0   \n",
       "356                        0.9                            1            0   \n",
       "366                        0.9                            1            0   \n",
       "376                        0.9                            1            0   \n",
       "386                        0.9                            1            0   \n",
       "396                        0.9                            1            0   \n",
       "406                        0.9                            1            0   \n",
       "416                        0.9                            1            0   \n",
       "426                        0.9                            1            0   \n",
       "436                        0.9                            1            0   \n",
       "446                        0.9                            1            0   \n",
       "456                        0.9                            1            0   \n",
       "466                        0.9                            1            0   \n",
       "476                        0.9                            1            0   \n",
       "486                        0.9                            1            0   \n",
       "496                        0.9                            1            0   \n",
       "\n",
       "     In_Relationship  Affects_Academic_Performance_Numeric  label  \n",
       "2                  0                                     1      0  \n",
       "13                 0                                     1      0  \n",
       "25                 0                                     1      0  \n",
       "37                 1                                     1      0  \n",
       "49                 0                                     1      0  \n",
       "79                 0                                     1      0  \n",
       "89                 0                                     1      0  \n",
       "100                0                                     1      0  \n",
       "220                0                                     1      0  \n",
       "326                1                                     1      0  \n",
       "336                1                                     1      0  \n",
       "346                1                                     1      0  \n",
       "356                1                                     1      0  \n",
       "366                1                                     1      0  \n",
       "376                1                                     1      0  \n",
       "386                1                                     1      0  \n",
       "396                1                                     1      0  \n",
       "406                1                                     1      0  \n",
       "416                1                                     1      0  \n",
       "426                1                                     1      0  \n",
       "436                1                                     1      0  \n",
       "446                1                                     1      0  \n",
       "456                1                                     1      0  \n",
       "466                1                                     1      0  \n",
       "476                1                                     1      0  \n",
       "486                1                                     1      0  \n",
       "496                1                                     1      0  \n",
       "\n",
       "[27 rows x 22 columns]"
      ]
     },
     "execution_count": 54,
     "metadata": {},
     "output_type": "execute_result"
    }
   ],
   "source": [
    "df[df[\"label\"] == 0]"
   ]
  },
  {
   "cell_type": "markdown",
   "id": "e7a81e3c",
   "metadata": {},
   "source": [
    "## [](http://)Conclusion"
   ]
  },
  {
   "cell_type": "markdown",
   "id": "36134332",
   "metadata": {},
   "source": [
    "In this project, the relationship between social media usage and sleep time among students at differing academic levels has been investigated. By means of descriptive statistics, regression analysis and clustering methods, several insight have been gained:\n",
    "* **Use of social media differs significantly across academic levels, with high schools students reporting the highest addiction scores**\n",
    "* **Addiction scores and sleep time per night are negatively correlated, suggesting that excessive social media use is connected to less sleep duration**\n",
    "* **Machine Learning models such as regression analysis provided a limited predictive power. This shows that sleep time may be impacted by other factors beyond social media use**\n",
    "* **Unsupervised clustering has found 18 distinct student profiles, which can be further analyzed in future investigations**"
   ]
  }
 ],
 "metadata": {
  "kaggle": {
   "accelerator": "none",
   "dataSources": [
    {
     "datasetId": 7381156,
     "sourceId": 11760664,
     "sourceType": "datasetVersion"
    }
   ],
   "dockerImageVersionId": 31040,
   "isGpuEnabled": false,
   "isInternetEnabled": false,
   "language": "python",
   "sourceType": "notebook"
  },
  "kernelspec": {
   "display_name": "Python 3",
   "language": "python",
   "name": "python3"
  },
  "language_info": {
   "codemirror_mode": {
    "name": "ipython",
    "version": 3
   },
   "file_extension": ".py",
   "mimetype": "text/x-python",
   "name": "python",
   "nbconvert_exporter": "python",
   "pygments_lexer": "ipython3",
   "version": "3.11.6"
  }
 },
 "nbformat": 4,
 "nbformat_minor": 5
}
